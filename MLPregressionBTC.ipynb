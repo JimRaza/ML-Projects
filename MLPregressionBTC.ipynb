{
 "cells": [
  {
   "cell_type": "markdown",
   "metadata": {},
   "source": [
    "# Bitcoin Time Series Forecasting - Part Two: Neural Network Regression"
   ]
  },
  {
   "cell_type": "markdown",
   "metadata": {},
   "source": [
    "## Introduction"
   ]
  },
  {
   "cell_type": "markdown",
   "metadata": {},
   "source": [
    "In the second part of the project I attempt one-step ahead forecasts of the Bitcoin time series using a multilayer perception as a regressor. The Bitcoin time series can clearly been seen to nonstationary. In the hope of improving forecasts I therefore remove the stationarity with first differencing and then use the MLP to also regress on the time series of returns."
   ]
  },
  {
   "cell_type": "markdown",
   "metadata": {},
   "source": [
    "## Data Loading and Analysis"
   ]
  },
  {
   "cell_type": "markdown",
   "metadata": {},
   "source": [
    "Loading some of the needed packages."
   ]
  },
  {
   "cell_type": "code",
   "execution_count": 1546,
   "metadata": {},
   "outputs": [
    {
     "data": {
      "text/plain": [
       "<Figure size 432x288 with 0 Axes>"
      ]
     },
     "metadata": {},
     "output_type": "display_data"
    }
   ],
   "source": [
    "import pandas as pd\n",
    "import numpy as np\n",
    "import matplotlib.pyplot as plt\n",
    "import numpy.ma as ma\n",
    "import matplotlib.pylab as plt\n",
    "import seaborn as sns\n",
    "sns.despine()\n",
    "import statsmodels.api as sm\n",
    "from statsmodels.graphics.gofplots import qqplot\n",
    "from scipy.stats import normaltest\n",
    "from statsmodels.tsa.stattools import adfuller\n",
    "\n",
    "\n",
    "\n",
    "from sklearn.preprocessing import MinMaxScaler\n",
    "from sklearn.preprocessing import StandardScaler\n",
    "from sklearn.metrics import confusion_matrix"
   ]
  },
  {
   "cell_type": "markdown",
   "metadata": {},
   "source": [
    "Loading the keras package modules needed to build the neural network and assess its performance."
   ]
  },
  {
   "cell_type": "code",
   "execution_count": 1547,
   "metadata": {},
   "outputs": [],
   "source": [
    "import keras\n",
    "from keras.models import Sequential\n",
    "from keras.layers.core import Dense, Dropout, Activation, Flatten\n",
    "from keras.layers.normalization import BatchNormalization\n",
    "from keras.callbacks import ModelCheckpoint, ReduceLROnPlateau, CSVLogger, EarlyStopping\n",
    "from keras.optimizers import RMSprop, Adam, SGD, Nadam\n",
    "from keras.layers.advanced_activations import *\n",
    "from keras import regularizers"
   ]
  },
  {
   "cell_type": "markdown",
   "metadata": {},
   "source": [
    " Reading in the data into pandas dataframe."
   ]
  },
  {
   "cell_type": "code",
   "execution_count": 1548,
   "metadata": {},
   "outputs": [
    {
     "data": {
      "text/html": [
       "<div>\n",
       "<style scoped>\n",
       "    .dataframe tbody tr th:only-of-type {\n",
       "        vertical-align: middle;\n",
       "    }\n",
       "\n",
       "    .dataframe tbody tr th {\n",
       "        vertical-align: top;\n",
       "    }\n",
       "\n",
       "    .dataframe thead th {\n",
       "        text-align: right;\n",
       "    }\n",
       "</style>\n",
       "<table border=\"1\" class=\"dataframe\">\n",
       "  <thead>\n",
       "    <tr style=\"text-align: right;\">\n",
       "      <th></th>\n",
       "      <th>Symbol</th>\n",
       "      <th>Open</th>\n",
       "      <th>High</th>\n",
       "      <th>Low</th>\n",
       "      <th>Close</th>\n",
       "      <th>Volume BTC</th>\n",
       "      <th>Volume USD</th>\n",
       "    </tr>\n",
       "    <tr>\n",
       "      <th>Date</th>\n",
       "      <th></th>\n",
       "      <th></th>\n",
       "      <th></th>\n",
       "      <th></th>\n",
       "      <th></th>\n",
       "      <th></th>\n",
       "      <th></th>\n",
       "    </tr>\n",
       "  </thead>\n",
       "  <tbody>\n",
       "    <tr>\n",
       "      <th>2019-06-28 01-AM</th>\n",
       "      <td>BTCUSD</td>\n",
       "      <td>11468.6</td>\n",
       "      <td>11533.0</td>\n",
       "      <td>11200.9</td>\n",
       "      <td>11478.4</td>\n",
       "      <td>365.78</td>\n",
       "      <td>4184793.31</td>\n",
       "    </tr>\n",
       "    <tr>\n",
       "      <th>2019-06-28 12-AM</th>\n",
       "      <td>BTCUSD</td>\n",
       "      <td>11148.0</td>\n",
       "      <td>11468.6</td>\n",
       "      <td>11002.6</td>\n",
       "      <td>11468.6</td>\n",
       "      <td>814.75</td>\n",
       "      <td>9215735.83</td>\n",
       "    </tr>\n",
       "    <tr>\n",
       "      <th>2019-06-27 11-PM</th>\n",
       "      <td>BTCUSD</td>\n",
       "      <td>11089.4</td>\n",
       "      <td>11335.0</td>\n",
       "      <td>10905.9</td>\n",
       "      <td>11148.0</td>\n",
       "      <td>971.72</td>\n",
       "      <td>10836698.04</td>\n",
       "    </tr>\n",
       "    <tr>\n",
       "      <th>2019-06-27 10-PM</th>\n",
       "      <td>BTCUSD</td>\n",
       "      <td>10729.0</td>\n",
       "      <td>11144.0</td>\n",
       "      <td>10665.6</td>\n",
       "      <td>11089.4</td>\n",
       "      <td>896.88</td>\n",
       "      <td>9785079.35</td>\n",
       "    </tr>\n",
       "    <tr>\n",
       "      <th>2019-06-27 09-PM</th>\n",
       "      <td>BTCUSD</td>\n",
       "      <td>10678.8</td>\n",
       "      <td>10837.1</td>\n",
       "      <td>10456.4</td>\n",
       "      <td>10729.0</td>\n",
       "      <td>672.38</td>\n",
       "      <td>7177959.51</td>\n",
       "    </tr>\n",
       "  </tbody>\n",
       "</table>\n",
       "</div>"
      ],
      "text/plain": [
       "                  Symbol     Open     High      Low    Close  Volume BTC  \\\n",
       "Date                                                                       \n",
       "2019-06-28 01-AM  BTCUSD  11468.6  11533.0  11200.9  11478.4      365.78   \n",
       "2019-06-28 12-AM  BTCUSD  11148.0  11468.6  11002.6  11468.6      814.75   \n",
       "2019-06-27 11-PM  BTCUSD  11089.4  11335.0  10905.9  11148.0      971.72   \n",
       "2019-06-27 10-PM  BTCUSD  10729.0  11144.0  10665.6  11089.4      896.88   \n",
       "2019-06-27 09-PM  BTCUSD  10678.8  10837.1  10456.4  10729.0      672.38   \n",
       "\n",
       "                   Volume USD  \n",
       "Date                           \n",
       "2019-06-28 01-AM   4184793.31  \n",
       "2019-06-28 12-AM   9215735.83  \n",
       "2019-06-27 11-PM  10836698.04  \n",
       "2019-06-27 10-PM   9785079.35  \n",
       "2019-06-27 09-PM   7177959.51  "
      ]
     },
     "execution_count": 1548,
     "metadata": {},
     "output_type": "execute_result"
    }
   ],
   "source": [
    "#data are upside down\n",
    "data = pd.read_csv('c:\\\\users\\jamil\\AnacondaProjects\\Mariani_Prado\\Kraken_BTCUSD_1h.csv', index_col= 0)\n",
    "data.head()"
   ]
  },
  {
   "cell_type": "code",
   "execution_count": 1549,
   "metadata": {},
   "outputs": [
    {
     "data": {
      "text/html": [
       "<div>\n",
       "<style scoped>\n",
       "    .dataframe tbody tr th:only-of-type {\n",
       "        vertical-align: middle;\n",
       "    }\n",
       "\n",
       "    .dataframe tbody tr th {\n",
       "        vertical-align: top;\n",
       "    }\n",
       "\n",
       "    .dataframe thead th {\n",
       "        text-align: right;\n",
       "    }\n",
       "</style>\n",
       "<table border=\"1\" class=\"dataframe\">\n",
       "  <thead>\n",
       "    <tr style=\"text-align: right;\">\n",
       "      <th></th>\n",
       "      <th>Symbol</th>\n",
       "      <th>Open</th>\n",
       "      <th>High</th>\n",
       "      <th>Low</th>\n",
       "      <th>Close</th>\n",
       "      <th>Volume BTC</th>\n",
       "      <th>Volume USD</th>\n",
       "    </tr>\n",
       "    <tr>\n",
       "      <th>Date</th>\n",
       "      <th></th>\n",
       "      <th></th>\n",
       "      <th></th>\n",
       "      <th></th>\n",
       "      <th></th>\n",
       "      <th></th>\n",
       "      <th></th>\n",
       "    </tr>\n",
       "  </thead>\n",
       "  <tbody>\n",
       "    <tr>\n",
       "      <th>2019-06-28 01:00:00</th>\n",
       "      <td>BTCUSD</td>\n",
       "      <td>11468.6</td>\n",
       "      <td>11533.0</td>\n",
       "      <td>11200.9</td>\n",
       "      <td>11478.4</td>\n",
       "      <td>365.78</td>\n",
       "      <td>4184793.31</td>\n",
       "    </tr>\n",
       "    <tr>\n",
       "      <th>2019-06-28 00:00:00</th>\n",
       "      <td>BTCUSD</td>\n",
       "      <td>11148.0</td>\n",
       "      <td>11468.6</td>\n",
       "      <td>11002.6</td>\n",
       "      <td>11468.6</td>\n",
       "      <td>814.75</td>\n",
       "      <td>9215735.83</td>\n",
       "    </tr>\n",
       "    <tr>\n",
       "      <th>2019-06-27 23:00:00</th>\n",
       "      <td>BTCUSD</td>\n",
       "      <td>11089.4</td>\n",
       "      <td>11335.0</td>\n",
       "      <td>10905.9</td>\n",
       "      <td>11148.0</td>\n",
       "      <td>971.72</td>\n",
       "      <td>10836698.04</td>\n",
       "    </tr>\n",
       "    <tr>\n",
       "      <th>2019-06-27 22:00:00</th>\n",
       "      <td>BTCUSD</td>\n",
       "      <td>10729.0</td>\n",
       "      <td>11144.0</td>\n",
       "      <td>10665.6</td>\n",
       "      <td>11089.4</td>\n",
       "      <td>896.88</td>\n",
       "      <td>9785079.35</td>\n",
       "    </tr>\n",
       "    <tr>\n",
       "      <th>2019-06-27 21:00:00</th>\n",
       "      <td>BTCUSD</td>\n",
       "      <td>10678.8</td>\n",
       "      <td>10837.1</td>\n",
       "      <td>10456.4</td>\n",
       "      <td>10729.0</td>\n",
       "      <td>672.38</td>\n",
       "      <td>7177959.51</td>\n",
       "    </tr>\n",
       "    <tr>\n",
       "      <th>2019-06-27 20:00:00</th>\n",
       "      <td>BTCUSD</td>\n",
       "      <td>10830.9</td>\n",
       "      <td>10899.8</td>\n",
       "      <td>10300.0</td>\n",
       "      <td>10678.8</td>\n",
       "      <td>1489.22</td>\n",
       "      <td>15715577.13</td>\n",
       "    </tr>\n",
       "    <tr>\n",
       "      <th>2019-06-27 19:00:00</th>\n",
       "      <td>BTCUSD</td>\n",
       "      <td>10995.4</td>\n",
       "      <td>10995.4</td>\n",
       "      <td>10520.4</td>\n",
       "      <td>10830.9</td>\n",
       "      <td>1191.77</td>\n",
       "      <td>12846614.99</td>\n",
       "    </tr>\n",
       "    <tr>\n",
       "      <th>2019-06-27 18:00:00</th>\n",
       "      <td>BTCUSD</td>\n",
       "      <td>10805.5</td>\n",
       "      <td>11097.5</td>\n",
       "      <td>10638.6</td>\n",
       "      <td>10995.4</td>\n",
       "      <td>971.41</td>\n",
       "      <td>10603374.74</td>\n",
       "    </tr>\n",
       "    <tr>\n",
       "      <th>2019-06-27 17:00:00</th>\n",
       "      <td>BTCUSD</td>\n",
       "      <td>10887.6</td>\n",
       "      <td>10920.0</td>\n",
       "      <td>10355.2</td>\n",
       "      <td>10805.5</td>\n",
       "      <td>2331.37</td>\n",
       "      <td>24900968.86</td>\n",
       "    </tr>\n",
       "    <tr>\n",
       "      <th>2019-06-27 16:00:00</th>\n",
       "      <td>BTCUSD</td>\n",
       "      <td>11646.6</td>\n",
       "      <td>11777.0</td>\n",
       "      <td>10801.1</td>\n",
       "      <td>10887.6</td>\n",
       "      <td>2603.47</td>\n",
       "      <td>28913045.29</td>\n",
       "    </tr>\n",
       "  </tbody>\n",
       "</table>\n",
       "</div>"
      ],
      "text/plain": [
       "                     Symbol     Open     High      Low    Close  Volume BTC  \\\n",
       "Date                                                                          \n",
       "2019-06-28 01:00:00  BTCUSD  11468.6  11533.0  11200.9  11478.4      365.78   \n",
       "2019-06-28 00:00:00  BTCUSD  11148.0  11468.6  11002.6  11468.6      814.75   \n",
       "2019-06-27 23:00:00  BTCUSD  11089.4  11335.0  10905.9  11148.0      971.72   \n",
       "2019-06-27 22:00:00  BTCUSD  10729.0  11144.0  10665.6  11089.4      896.88   \n",
       "2019-06-27 21:00:00  BTCUSD  10678.8  10837.1  10456.4  10729.0      672.38   \n",
       "2019-06-27 20:00:00  BTCUSD  10830.9  10899.8  10300.0  10678.8     1489.22   \n",
       "2019-06-27 19:00:00  BTCUSD  10995.4  10995.4  10520.4  10830.9     1191.77   \n",
       "2019-06-27 18:00:00  BTCUSD  10805.5  11097.5  10638.6  10995.4      971.41   \n",
       "2019-06-27 17:00:00  BTCUSD  10887.6  10920.0  10355.2  10805.5     2331.37   \n",
       "2019-06-27 16:00:00  BTCUSD  11646.6  11777.0  10801.1  10887.6     2603.47   \n",
       "\n",
       "                      Volume USD  \n",
       "Date                              \n",
       "2019-06-28 01:00:00   4184793.31  \n",
       "2019-06-28 00:00:00   9215735.83  \n",
       "2019-06-27 23:00:00  10836698.04  \n",
       "2019-06-27 22:00:00   9785079.35  \n",
       "2019-06-27 21:00:00   7177959.51  \n",
       "2019-06-27 20:00:00  15715577.13  \n",
       "2019-06-27 19:00:00  12846614.99  \n",
       "2019-06-27 18:00:00  10603374.74  \n",
       "2019-06-27 17:00:00  24900968.86  \n",
       "2019-06-27 16:00:00  28913045.29  "
      ]
     },
     "execution_count": 1549,
     "metadata": {},
     "output_type": "execute_result"
    }
   ],
   "source": [
    "data.index = pd.to_datetime(data.index, format='%Y-%m-%d %I-%p')\n",
    "data.head(10)"
   ]
  },
  {
   "cell_type": "markdown",
   "metadata": {},
   "source": [
    "The data are in the reverse order for some reason. This needs to be corrected."
   ]
  },
  {
   "cell_type": "code",
   "execution_count": 1550,
   "metadata": {},
   "outputs": [
    {
     "data": {
      "text/html": [
       "<div>\n",
       "<style scoped>\n",
       "    .dataframe tbody tr th:only-of-type {\n",
       "        vertical-align: middle;\n",
       "    }\n",
       "\n",
       "    .dataframe tbody tr th {\n",
       "        vertical-align: top;\n",
       "    }\n",
       "\n",
       "    .dataframe thead th {\n",
       "        text-align: right;\n",
       "    }\n",
       "</style>\n",
       "<table border=\"1\" class=\"dataframe\">\n",
       "  <thead>\n",
       "    <tr style=\"text-align: right;\">\n",
       "      <th></th>\n",
       "      <th>Symbol</th>\n",
       "      <th>Open</th>\n",
       "      <th>High</th>\n",
       "      <th>Low</th>\n",
       "      <th>Close</th>\n",
       "      <th>Volume BTC</th>\n",
       "      <th>Volume USD</th>\n",
       "    </tr>\n",
       "    <tr>\n",
       "      <th>Date</th>\n",
       "      <th></th>\n",
       "      <th></th>\n",
       "      <th></th>\n",
       "      <th></th>\n",
       "      <th></th>\n",
       "      <th></th>\n",
       "      <th></th>\n",
       "    </tr>\n",
       "  </thead>\n",
       "  <tbody>\n",
       "    <tr>\n",
       "      <th>2017-07-01 11:00:00</th>\n",
       "      <td>BTCUSD</td>\n",
       "      <td>2491.97</td>\n",
       "      <td>2494.93</td>\n",
       "      <td>2483.32</td>\n",
       "      <td>2494.87</td>\n",
       "      <td>163.92</td>\n",
       "      <td>407837.90</td>\n",
       "    </tr>\n",
       "    <tr>\n",
       "      <th>2017-07-01 12:00:00</th>\n",
       "      <td>BTCUSD</td>\n",
       "      <td>2494.87</td>\n",
       "      <td>2494.87</td>\n",
       "      <td>2470.86</td>\n",
       "      <td>2477.97</td>\n",
       "      <td>80.93</td>\n",
       "      <td>200771.78</td>\n",
       "    </tr>\n",
       "    <tr>\n",
       "      <th>2017-07-01 13:00:00</th>\n",
       "      <td>BTCUSD</td>\n",
       "      <td>2477.97</td>\n",
       "      <td>2478.96</td>\n",
       "      <td>2444.44</td>\n",
       "      <td>2444.44</td>\n",
       "      <td>168.69</td>\n",
       "      <td>415839.42</td>\n",
       "    </tr>\n",
       "    <tr>\n",
       "      <th>2017-07-01 14:00:00</th>\n",
       "      <td>BTCUSD</td>\n",
       "      <td>2444.44</td>\n",
       "      <td>2463.60</td>\n",
       "      <td>2437.26</td>\n",
       "      <td>2448.99</td>\n",
       "      <td>119.59</td>\n",
       "      <td>292801.90</td>\n",
       "    </tr>\n",
       "    <tr>\n",
       "      <th>2017-07-01 15:00:00</th>\n",
       "      <td>BTCUSD</td>\n",
       "      <td>2448.99</td>\n",
       "      <td>2465.95</td>\n",
       "      <td>2438.99</td>\n",
       "      <td>2457.84</td>\n",
       "      <td>109.53</td>\n",
       "      <td>268333.15</td>\n",
       "    </tr>\n",
       "  </tbody>\n",
       "</table>\n",
       "</div>"
      ],
      "text/plain": [
       "                     Symbol     Open     High      Low    Close  Volume BTC  \\\n",
       "Date                                                                          \n",
       "2017-07-01 11:00:00  BTCUSD  2491.97  2494.93  2483.32  2494.87      163.92   \n",
       "2017-07-01 12:00:00  BTCUSD  2494.87  2494.87  2470.86  2477.97       80.93   \n",
       "2017-07-01 13:00:00  BTCUSD  2477.97  2478.96  2444.44  2444.44      168.69   \n",
       "2017-07-01 14:00:00  BTCUSD  2444.44  2463.60  2437.26  2448.99      119.59   \n",
       "2017-07-01 15:00:00  BTCUSD  2448.99  2465.95  2438.99  2457.84      109.53   \n",
       "\n",
       "                     Volume USD  \n",
       "Date                             \n",
       "2017-07-01 11:00:00   407837.90  \n",
       "2017-07-01 12:00:00   200771.78  \n",
       "2017-07-01 13:00:00   415839.42  \n",
       "2017-07-01 14:00:00   292801.90  \n",
       "2017-07-01 15:00:00   268333.15  "
      ]
     },
     "execution_count": 1550,
     "metadata": {},
     "output_type": "execute_result"
    }
   ],
   "source": [
    "data=data.reindex(index=data.index[::-1])\n",
    "data.head()"
   ]
  },
  {
   "cell_type": "markdown",
   "metadata": {},
   "source": [
    "Extracting the daily closing prices."
   ]
  },
  {
   "cell_type": "code",
   "execution_count": 1551,
   "metadata": {},
   "outputs": [],
   "source": [
    "data = (data['Close'])"
   ]
  },
  {
   "cell_type": "code",
   "execution_count": 1552,
   "metadata": {},
   "outputs": [
    {
     "data": {
      "text/plain": [
       "Date\n",
       "2017-07-01 11:00:00    2494.87\n",
       "2017-07-01 12:00:00    2477.97\n",
       "2017-07-01 13:00:00    2444.44\n",
       "2017-07-01 14:00:00    2448.99\n",
       "2017-07-01 15:00:00    2457.84\n",
       "Name: Close, dtype: float64"
      ]
     },
     "execution_count": 1552,
     "metadata": {},
     "output_type": "execute_result"
    }
   ],
   "source": [
    "data.head()"
   ]
  },
  {
   "cell_type": "markdown",
   "metadata": {},
   "source": [
    "Plotting the closing price series."
   ]
  },
  {
   "cell_type": "code",
   "execution_count": 1553,
   "metadata": {},
   "outputs": [
    {
     "data": {
      "text/plain": [
       "<AxesSubplot:xlabel='Date'>"
      ]
     },
     "execution_count": 1553,
     "metadata": {},
     "output_type": "execute_result"
    },
    {
     "data": {
      "image/png": "[encoded data removed]",
      "text/plain": [
       "<Figure size 432x288 with 1 Axes>"
      ]
     },
     "metadata": {
      "needs_background": "light"
     },
     "output_type": "display_data"
    }
   ],
   "source": [
    "data.plot()"
   ]
  },
  {
   "cell_type": "markdown",
   "metadata": {},
   "source": [
    "The price time series seems consist of several different regions dominated by a trend and smaller stochastic component superimposed on it."
   ]
  },
  {
   "cell_type": "markdown",
   "metadata": {},
   "source": [
    "Generating a month-based box plot of the time seres:"
   ]
  },
  {
   "cell_type": "code",
   "execution_count": 1554,
   "metadata": {},
   "outputs": [
    {
     "name": "stderr",
     "output_type": "stream",
     "text": [
      "C:\\Users\\jamil\\anaconda3\\lib\\site-packages\\seaborn\\_decorators.py:36: FutureWarning: Pass the following variables as keyword args: x, y. From version 0.12, the only valid positional argument will be `data`, and passing other arguments without an explicit keyword will result in an error or misinterpretation.\n",
      "  warnings.warn(\n"
     ]
    },
    {
     "data": {
      "text/plain": [
       "<AxesSubplot:xlabel='Date', ylabel='Close'>"
      ]
     },
     "execution_count": 1554,
     "metadata": {},
     "output_type": "execute_result"
    },
    {
     "data": {
      "image/png": "[encoded data removed]",
      "text/plain": [
       "<Figure size 864x360 with 1 Axes>"
      ]
     },
     "metadata": {
      "needs_background": "light"
     },
     "output_type": "display_data"
    }
   ],
   "source": [
    "fig, ax = plt.subplots(figsize=(12,5))\n",
    "sns.boxplot(data.index.to_series().apply(lambda x: x.strftime('%m')), data, ax=ax)"
   ]
  },
  {
   "cell_type": "markdown",
   "metadata": {},
   "source": [
    "The boxplot illustrates the nonstationairies of the price time series. Applying the augmented Dickey-Fuller test for stationarity:"
   ]
  },
  {
   "cell_type": "code",
   "execution_count": 1555,
   "metadata": {},
   "outputs": [
    {
     "name": "stdout",
     "output_type": "stream",
     "text": [
      "ADF Statistic: -1.649257\n",
      "p-value: 0.457428\n",
      "Critical Values:\n",
      "\t1%: -3.431\n",
      "\t5%: -2.862\n",
      "\t10%: -2.567\n"
     ]
    }
   ],
   "source": [
    "result = adfuller(data)\n",
    "print('ADF Statistic: %f' % result[0])\n",
    "print('p-value: %f' % result[1])\n",
    "print('Critical Values:')\n",
    "for key, value in result[4].items():\n",
    "\tprint('\\t%s: %.3f' % (key, value))"
   ]
  },
  {
   "cell_type": "markdown",
   "metadata": {},
   "source": [
    "The null hypothesis of a nonstationary time series is accepted."
   ]
  },
  {
   "cell_type": "code",
   "execution_count": 1556,
   "metadata": {},
   "outputs": [
    {
     "data": {
      "text/plain": [
       "<AxesSubplot:ylabel='Frequency'>"
      ]
     },
     "execution_count": 1556,
     "metadata": {},
     "output_type": "execute_result"
    },
    {
     "data": {
      "image/png": "[encoded data removed]",
      "text/plain": [
       "<Figure size 432x288 with 1 Axes>"
      ]
     },
     "metadata": {
      "needs_background": "light"
     },
     "output_type": "display_data"
    }
   ],
   "source": [
    "data.plot.hist(bins=25, alpha=0.5)"
   ]
  },
  {
   "cell_type": "markdown",
   "metadata": {},
   "source": [
    "The distribution of the values of the raw time series is obviously not Gaussian."
   ]
  },
  {
   "cell_type": "code",
   "execution_count": 1557,
   "metadata": {},
   "outputs": [
    {
     "name": "stdout",
     "output_type": "stream",
     "text": [
      "Statistics=3526.430, p=0.000\n",
      "Sample does not look Gaussian (reject H0)\n"
     ]
    }
   ],
   "source": [
    "stat, p = normaltest(data)\n",
    "print('Statistics=%.3f, p=%.3f' % (stat, p))\n",
    "# interpret\n",
    "alpha = 0.05\n",
    "if p > alpha:\n",
    "\tprint('Sample looks Gaussian (fail to reject H0)')\n",
    "else:\n",
    "\tprint('Sample does not look Gaussian (reject H0)')"
   ]
  },
  {
   "cell_type": "markdown",
   "metadata": {},
   "source": [
    "The nonGaussainty is confirmed by the applicaton of the D'Agostini $K^2$ test."
   ]
  },
  {
   "cell_type": "code",
   "execution_count": 1558,
   "metadata": {},
   "outputs": [
    {
     "data": {
      "image/png": "[encoded data removed]",
      "text/plain": [
       "<Figure size 432x288 with 1 Axes>"
      ]
     },
     "execution_count": 1558,
     "metadata": {},
     "output_type": "execute_result"
    },
    {
     "data": {
      "image/png": "[encoded data removed]",
      "text/plain": [
       "<Figure size 432x288 with 1 Axes>"
      ]
     },
     "metadata": {
      "needs_background": "light"
     },
     "output_type": "display_data"
    }
   ],
   "source": [
    "from statsmodels.graphics.gofplots import qqplot\n",
    "qqplot(data, line='s')"
   ]
  },
  {
   "cell_type": "markdown",
   "metadata": {},
   "source": [
    "The autocorrelation function of the price time series looks more like one of a determinstic time series than a stochastic one."
   ]
  },
  {
   "cell_type": "code",
   "execution_count": 1559,
   "metadata": {},
   "outputs": [
    {
     "data": {
      "image/png": "[encoded data removed]",
      "text/plain": [
       "<Figure size 432x288 with 1 Axes>"
      ]
     },
     "execution_count": 1559,
     "metadata": {},
     "output_type": "execute_result"
    },
    {
     "data": {
      "image/png": "[encoded data removed]",
      "text/plain": [
       "<Figure size 432x288 with 1 Axes>"
      ]
     },
     "metadata": {
      "needs_background": "light"
     },
     "output_type": "display_data"
    }
   ],
   "source": [
    "import statsmodels.api as sm\n",
    "sm.graphics.tsa.plot_acf(data, lags=1750)"
   ]
  },
  {
   "cell_type": "markdown",
   "metadata": {},
   "source": [
    "### Data Analysis of the Returns Time Series"
   ]
  },
  {
   "cell_type": "markdown",
   "metadata": {},
   "source": [
    "Now taking the first difference of the raw Bitcoin time series to generate a stationary time series"
   ]
  },
  {
   "cell_type": "code",
   "execution_count": 1560,
   "metadata": {},
   "outputs": [],
   "source": [
    "shiftdata = data.shift(1)"
   ]
  },
  {
   "cell_type": "code",
   "execution_count": 1561,
   "metadata": {},
   "outputs": [
    {
     "data": {
      "text/plain": [
       "<AxesSubplot:xlabel='Date'>"
      ]
     },
     "execution_count": 1561,
     "metadata": {},
     "output_type": "execute_result"
    },
    {
     "data": {
      "image/png": "[encoded data removed]",
      "text/plain": [
       "<Figure size 432x288 with 1 Axes>"
      ]
     },
     "metadata": {
      "needs_background": "light"
     },
     "output_type": "display_data"
    }
   ],
   "source": [
    "diff = data - shiftdata\n",
    "diff.dropna()\n",
    "diff.plot()"
   ]
  },
  {
   "cell_type": "markdown",
   "metadata": {},
   "source": [
    "The trends in all the regions of the price time series have been removed by the first differencing but the variance seems to be still nonstarionary. This is corrobrated by a boxplot of the returns time series."
   ]
  },
  {
   "cell_type": "code",
   "execution_count": 1562,
   "metadata": {},
   "outputs": [
    {
     "data": {
      "text/plain": [
       "17439"
      ]
     },
     "execution_count": 1562,
     "metadata": {},
     "output_type": "execute_result"
    }
   ],
   "source": [
    "len(diff)"
   ]
  },
  {
   "cell_type": "code",
   "execution_count": 1563,
   "metadata": {},
   "outputs": [
    {
     "name": "stderr",
     "output_type": "stream",
     "text": [
      "C:\\Users\\jamil\\anaconda3\\lib\\site-packages\\seaborn\\_decorators.py:36: FutureWarning: Pass the following variables as keyword args: x, y. From version 0.12, the only valid positional argument will be `data`, and passing other arguments without an explicit keyword will result in an error or misinterpretation.\n",
      "  warnings.warn(\n"
     ]
    },
    {
     "data": {
      "text/plain": [
       "<AxesSubplot:xlabel='Date', ylabel='Close'>"
      ]
     },
     "execution_count": 1563,
     "metadata": {},
     "output_type": "execute_result"
    },
    {
     "data": {
      "image/png": "[encoded data removed]",
      "text/plain": [
       "<Figure size 864x360 with 1 Axes>"
      ]
     },
     "metadata": {
      "needs_background": "light"
     },
     "output_type": "display_data"
    }
   ],
   "source": [
    "fig, ax = plt.subplots(figsize=(12,5))\n",
    "sns.boxplot(diff.index.to_series().apply(lambda x: x.strftime('%m')), diff, ax=ax)"
   ]
  },
  {
   "cell_type": "code",
   "execution_count": 1564,
   "metadata": {},
   "outputs": [
    {
     "data": {
      "text/plain": [
       "Date\n",
       "2017-07-01 11:00:00      NaN\n",
       "2017-07-01 12:00:00   -16.90\n",
       "2017-07-01 13:00:00   -33.53\n",
       "2017-07-01 14:00:00     4.55\n",
       "2017-07-01 15:00:00     8.85\n",
       "Name: Close, dtype: float64"
      ]
     },
     "execution_count": 1564,
     "metadata": {},
     "output_type": "execute_result"
    }
   ],
   "source": [
    "diff.head()"
   ]
  },
  {
   "cell_type": "markdown",
   "metadata": {},
   "source": [
    "Removing NaN values from the time series"
   ]
  },
  {
   "cell_type": "code",
   "execution_count": 1565,
   "metadata": {},
   "outputs": [],
   "source": [
    "diff = diff.dropna()"
   ]
  },
  {
   "cell_type": "code",
   "execution_count": 1566,
   "metadata": {},
   "outputs": [
    {
     "data": {
      "text/plain": [
       "Date\n",
       "2017-07-01 12:00:00   -16.90\n",
       "2017-07-01 13:00:00   -33.53\n",
       "2017-07-01 14:00:00     4.55\n",
       "2017-07-01 15:00:00     8.85\n",
       "2017-07-01 16:00:00    -1.39\n",
       "Name: Close, dtype: float64"
      ]
     },
     "execution_count": 1566,
     "metadata": {},
     "output_type": "execute_result"
    }
   ],
   "source": [
    "diff.head()"
   ]
  },
  {
   "cell_type": "code",
   "execution_count": 1568,
   "metadata": {},
   "outputs": [
    {
     "name": "stdout",
     "output_type": "stream",
     "text": [
      "ADF Statistic: -19.372550\n",
      "p-value: 0.000000\n",
      "Critical Values:\n",
      "\t1%: -3.431\n",
      "\t5%: -2.862\n",
      "\t10%: -2.567\n"
     ]
    }
   ],
   "source": [
    "result = adfuller(diff)\n",
    "print('ADF Statistic: %f' % result[0])\n",
    "print('p-value: %f' % result[1])\n",
    "print('Critical Values:')\n",
    "for key, value in result[4].items():\n",
    "\tprint('\\t%s: %.3f' % (key, value))"
   ]
  },
  {
   "cell_type": "markdown",
   "metadata": {},
   "source": [
    "We reject the null hypothesis of a nonstationarity time series but this is a unit-root test that only detects the prescence of trends not time varying variances. We can clearly see the variance is not constant."
   ]
  },
  {
   "cell_type": "markdown",
   "metadata": {},
   "source": [
    "The time series of returns now has a unimodal histogram but is still far from Gaussian."
   ]
  },
  {
   "cell_type": "code",
   "execution_count": 1569,
   "metadata": {},
   "outputs": [
    {
     "data": {
      "text/plain": [
       "<AxesSubplot:ylabel='Frequency'>"
      ]
     },
     "execution_count": 1569,
     "metadata": {},
     "output_type": "execute_result"
    },
    {
     "data": {
      "image/png": "[encoded data removed]",
      "text/plain": [
       "<Figure size 432x288 with 1 Axes>"
      ]
     },
     "metadata": {
      "needs_background": "light"
     },
     "output_type": "display_data"
    }
   ],
   "source": [
    "diff.plot.hist(bins=25, alpha=0.5)"
   ]
  },
  {
   "cell_type": "code",
   "execution_count": 1570,
   "metadata": {},
   "outputs": [
    {
     "data": {
      "image/png": "[encoded data removed]",
      "text/plain": [
       "<Figure size 432x288 with 1 Axes>"
      ]
     },
     "execution_count": 1570,
     "metadata": {},
     "output_type": "execute_result"
    },
    {
     "data": {
      "image/png": "[encoded data removed]",
      "text/plain": [
       "<Figure size 432x288 with 1 Axes>"
      ]
     },
     "metadata": {
      "needs_background": "light"
     },
     "output_type": "display_data"
    }
   ],
   "source": [
    "qqplot(diff, line='s')"
   ]
  },
  {
   "cell_type": "code",
   "execution_count": 1571,
   "metadata": {},
   "outputs": [
    {
     "name": "stdout",
     "output_type": "stream",
     "text": [
      "Statistics=3526.430, p=0.000\n",
      "Sample does not look Gaussian (reject H0)\n"
     ]
    }
   ],
   "source": [
    "stat, p = normaltest(data)\n",
    "print('Statistics=%.3f, p=%.3f' % (stat, p))\n",
    "# interpret\n",
    "alpha = 0.05\n",
    "if p > alpha:\n",
    "\tprint('Sample looks Gaussian (fail to reject H0)')\n",
    "else:\n",
    "\tprint('Sample does not look Gaussian (reject H0)')\n"
   ]
  },
  {
   "cell_type": "markdown",
   "metadata": {},
   "source": [
    "Aplying the D'Agostoni $K^2$ test confirms its nonGaussanity."
   ]
  },
  {
   "cell_type": "code",
   "execution_count": 1572,
   "metadata": {},
   "outputs": [
    {
     "data": {
      "image/png": "[encoded data removed]",
      "text/plain": [
       "<Figure size 432x288 with 1 Axes>"
      ]
     },
     "execution_count": 1572,
     "metadata": {},
     "output_type": "execute_result"
    },
    {
     "data": {
      "image/png": "[encoded data removed]",
      "text/plain": [
       "<Figure size 432x288 with 1 Axes>"
      ]
     },
     "metadata": {
      "needs_background": "light"
     },
     "output_type": "display_data"
    }
   ],
   "source": [
    "sm.graphics.tsa.plot_acf(diff, lags=50)"
   ]
  },
  {
   "cell_type": "markdown",
   "metadata": {},
   "source": [
    "It seems as though all correlaton has been removed by the first differencing operation. This bodes ill for forecasting."
   ]
  },
  {
   "cell_type": "markdown",
   "metadata": {},
   "source": [
    "## Neural Network Forecasting "
   ]
  },
  {
   "cell_type": "markdown",
   "metadata": {},
   "source": [
    "I now train a neural network to model and carry out one-step ahead predictions of the raw and the first differenced Bitcoin data."
   ]
  },
  {
   "cell_type": "markdown",
   "metadata": {},
   "source": [
    "## Neural Network Modelliing of the Raw Data"
   ]
  },
  {
   "cell_type": "code",
   "execution_count": 1573,
   "metadata": {},
   "outputs": [
    {
     "data": {
      "text/plain": [
       "Date\n",
       "2017-07-01 11:00:00    2494.87\n",
       "2017-07-01 12:00:00    2477.97\n",
       "2017-07-01 13:00:00    2444.44\n",
       "2017-07-01 14:00:00    2448.99\n",
       "2017-07-01 15:00:00    2457.84\n",
       "Name: Close, dtype: float64"
      ]
     },
     "execution_count": 1573,
     "metadata": {},
     "output_type": "execute_result"
    }
   ],
   "source": [
    "data.head()"
   ]
  },
  {
   "cell_type": "code",
   "execution_count": 1574,
   "metadata": {},
   "outputs": [
    {
     "data": {
      "text/plain": [
       "[<matplotlib.lines.Line2D at 0x29f2a0431f0>]"
      ]
     },
     "execution_count": 1574,
     "metadata": {},
     "output_type": "execute_result"
    },
    {
     "data": {
      "image/png": "[encoded data removed]",
      "text/plain": [
       "<Figure size 432x288 with 1 Axes>"
      ]
     },
     "metadata": {
      "needs_background": "light"
     },
     "output_type": "display_data"
    }
   ],
   "source": [
    "plt.plot(data)"
   ]
  },
  {
   "cell_type": "markdown",
   "metadata": {},
   "source": [
    "Preparing the time series data for supervising learning of a neural network."
   ]
  },
  {
   "cell_type": "code",
   "execution_count": 1576,
   "metadata": {},
   "outputs": [],
   "source": [
    "WINDOW = 31 # WINDOW has a different meaning in this notebook - it is the length of the data window + the predicted label\n",
    "STEP = 1\n",
    "FORECAST = 1"
   ]
  },
  {
   "cell_type": "code",
   "execution_count": 1577,
   "metadata": {
    "scrolled": true
   },
   "outputs": [],
   "source": [
    "# transform list into supervised learning format\n",
    "def series_to_supervised(data, n_in, n_out=1):\n",
    "    df = pd.DataFrame(data)\n",
    "    cols = list()\n",
    "    # input sequence (t-n, ... t-1)\n",
    "    for i in range(n_in, 0, -1):\n",
    "        cols.append(df.shift(i))\n",
    "    # forecast sequence (t, t+1, ... t+n)\n",
    "    for i in range(0, n_out):\n",
    "        cols.append(df.shift(-i))\n",
    "    # put it all together\n",
    "    agg = pd.concat(cols, axis=1)\n",
    "    # drop rows with NaN values\n",
    "    agg.dropna(inplace=True)\n",
    "    return agg.values\n",
    "\n"
   ]
  },
  {
   "cell_type": "markdown",
   "metadata": {},
   "source": [
    "Extract the training and test data for the supervised learning algorithm."
   ]
  },
  {
   "cell_type": "code",
   "execution_count": 1578,
   "metadata": {},
   "outputs": [
    {
     "name": "stdout",
     "output_type": "stream",
     "text": [
      "[[ 2494.87  2477.97  2444.44 ...  2406.26  2433.    2448.  ]\n",
      " [ 2477.97  2444.44  2448.99 ...  2433.    2448.    2470.01]\n",
      " [ 2444.44  2448.99  2457.84 ...  2448.    2470.01  2475.  ]\n",
      " ...\n",
      " [13580.   13456.4  13800.   ... 10830.9  10678.8  10729.  ]\n",
      " [13456.4  13800.   13839.   ... 10678.8  10729.   11089.4 ]\n",
      " [13800.   13839.   12751.3  ... 10729.   11089.4  11148.  ]]\n",
      "(17408, 30)\n"
     ]
    }
   ],
   "source": [
    "data2 = series_to_supervised(data, WINDOW)\n",
    "X= data2[:,:WINDOW-1]\n",
    "\n",
    "print(X)\n",
    "print(X.shape)"
   ]
  },
  {
   "cell_type": "markdown",
   "metadata": {},
   "source": [
    "Extract the labels for the supervised learing algorithm."
   ]
  },
  {
   "cell_type": "code",
   "execution_count": 1579,
   "metadata": {},
   "outputs": [
    {
     "name": "stdout",
     "output_type": "stream",
     "text": [
      "[[ 2475.  ]\n",
      " [ 2482.94]\n",
      " [ 2488.59]\n",
      " ...\n",
      " [11148.  ]\n",
      " [11468.6 ]\n",
      " [11478.4 ]]\n",
      "(17408, 1)\n"
     ]
    }
   ],
   "source": [
    "Y= data2[:,WINDOW]\n",
    "Y= Y[:,None]\n",
    "print(Y)\n",
    "print(Y.shape)"
   ]
  },
  {
   "cell_type": "code",
   "execution_count": 1580,
   "metadata": {},
   "outputs": [],
   "source": [
    "import numpy.ma as ma"
   ]
  },
  {
   "cell_type": "code",
   "execution_count": 1581,
   "metadata": {},
   "outputs": [],
   "source": [
    "X = np.where(np.isnan(X), ma.array(X, mask=np.isnan(X)).mean(axis=0), X)"
   ]
  },
  {
   "cell_type": "code",
   "execution_count": 1582,
   "metadata": {},
   "outputs": [],
   "source": [
    "Y = np.where(np.isnan(Y), ma.array(Y, mask=np.isnan(Y)).mean(axis=0), Y)"
   ]
  },
  {
   "cell_type": "markdown",
   "metadata": {},
   "source": [
    "Seperate the training and test data."
   ]
  },
  {
   "cell_type": "code",
   "execution_count": 1583,
   "metadata": {},
   "outputs": [],
   "source": [
    "train_X = X[:int((len(X)+1)*.66)] \n",
    "test_X = X[int(len(X)*.66+1):] "
   ]
  },
  {
   "cell_type": "code",
   "execution_count": 1584,
   "metadata": {},
   "outputs": [
    {
     "data": {
      "text/plain": [
       "11489"
      ]
     },
     "execution_count": 1584,
     "metadata": {},
     "output_type": "execute_result"
    }
   ],
   "source": [
    "len(train_X)"
   ]
  },
  {
   "cell_type": "code",
   "execution_count": 1585,
   "metadata": {},
   "outputs": [
    {
     "data": {
      "text/plain": [
       "5918"
      ]
     },
     "execution_count": 1585,
     "metadata": {},
     "output_type": "execute_result"
    }
   ],
   "source": [
    "len(test_X)"
   ]
  },
  {
   "cell_type": "markdown",
   "metadata": {},
   "source": [
    "Seperate the labels for the supervised learning algorithm."
   ]
  },
  {
   "cell_type": "code",
   "execution_count": 1586,
   "metadata": {},
   "outputs": [],
   "source": [
    "train_Y = Y[:int((len(Y)+1)*.66)] \n",
    "test_Y = Y[int(len(Y)*.66+1):] "
   ]
  },
  {
   "cell_type": "code",
   "execution_count": 1587,
   "metadata": {},
   "outputs": [
    {
     "data": {
      "text/plain": [
       "5918"
      ]
     },
     "execution_count": 1587,
     "metadata": {},
     "output_type": "execute_result"
    }
   ],
   "source": [
    "len(test_Y)"
   ]
  },
  {
   "cell_type": "code",
   "execution_count": 1588,
   "metadata": {},
   "outputs": [
    {
     "data": {
      "text/plain": [
       "11489"
      ]
     },
     "execution_count": 1588,
     "metadata": {},
     "output_type": "execute_result"
    }
   ],
   "source": [
    "len(train_Y)"
   ]
  },
  {
   "cell_type": "markdown",
   "metadata": {},
   "source": [
    "In order to obtain convergence with an optimizer it is necessary to normalise neural network training data. The scalar is obtained only from the training data and then applied to the test data in order to avoid data leakage."
   ]
  },
  {
   "cell_type": "markdown",
   "metadata": {},
   "source": [
    "Fit the scaler on the training data\n"
   ]
  },
  {
   "cell_type": "code",
   "execution_count": 1589,
   "metadata": {},
   "outputs": [],
   "source": [
    "#norm = MinMaxScaler().fit(train_X)\n",
    "norm = StandardScaler().fit(train_X)"
   ]
  },
  {
   "cell_type": "markdown",
   "metadata": {},
   "source": [
    "Transform training data and the test data.\n"
   ]
  },
  {
   "cell_type": "code",
   "execution_count": 1590,
   "metadata": {},
   "outputs": [],
   "source": [
    "X_train = norm.transform(train_X)\n",
    "\n",
    "X_test = norm.transform(test_X)"
   ]
  },
  {
   "cell_type": "code",
   "execution_count": 1591,
   "metadata": {},
   "outputs": [],
   "source": [
    "Y_train = train_Y\n",
    "Y_test =  test_Y"
   ]
  },
  {
   "cell_type": "code",
   "execution_count": 1592,
   "metadata": {},
   "outputs": [
    {
     "data": {
      "text/plain": [
       "array([[-1.53642481, -1.54186412, -1.55240828, ..., -1.5707812 ,\n",
       "        -1.56282408, -1.55847485],\n",
       "       [-1.54160896, -1.5521506 , -1.55101228, ..., -1.56255606,\n",
       "        -1.55820965, -1.55170326],\n",
       "       [-1.55189444, -1.55075473, -1.54829697, ..., -1.55794211,\n",
       "        -1.55143875, -1.55016804],\n",
       "       ...,\n",
       "       [-0.33473589, -0.33496504, -0.34099366, ..., -0.32364878,\n",
       "        -0.33089593, -0.3311904 ],\n",
       "       [-0.33482791, -0.3408553 , -0.33758802, ..., -0.33075427,\n",
       "        -0.33104975, -0.33337478],\n",
       "       [-0.3407176 , -0.33744999, -0.33823233, ..., -0.33090807,\n",
       "        -0.33323391, -0.33312866]])"
      ]
     },
     "execution_count": 1592,
     "metadata": {},
     "output_type": "execute_result"
    }
   ],
   "source": [
    "X_train.shape, X_test.shape\n",
    "X_train"
   ]
  },
  {
   "cell_type": "code",
   "execution_count": 1593,
   "metadata": {},
   "outputs": [
    {
     "data": {
      "text/plain": [
       "array([[-0.33795681, -0.3384317 , -0.33939823, ..., -0.33284593,\n",
       "        -0.33360306, -0.33192878],\n",
       "       [-0.33829424, -0.33926002, -0.33884596, ..., -0.33346112,\n",
       "        -0.33178806, -0.33494385],\n",
       "       [-0.33912247, -0.33870781, -0.34378568, ..., -0.3316463 ,\n",
       "        -0.33480281, -0.33112887],\n",
       "       ...,\n",
       "       [ 1.8639877 ,  1.82614707,  1.93164368, ...,  1.02061037,\n",
       "         0.97381706,  0.98925334],\n",
       "       [ 1.82607285,  1.93155819,  1.94360945, ...,  0.97382491,\n",
       "         0.98926   ,  1.10013382],\n",
       "       [ 1.93147367,  1.94352278,  1.60988717, ...,  0.98926626,\n",
       "         1.10012922,  1.11816266]])"
      ]
     },
     "execution_count": 1593,
     "metadata": {},
     "output_type": "execute_result"
    }
   ],
   "source": [
    "X_test"
   ]
  },
  {
   "cell_type": "code",
   "execution_count": 1594,
   "metadata": {},
   "outputs": [
    {
     "data": {
      "text/plain": [
       "((11489, 1), (5918, 1))"
      ]
     },
     "execution_count": 1594,
     "metadata": {},
     "output_type": "execute_result"
    }
   ],
   "source": [
    "Y_train.shape, Y_test.shape"
   ]
  },
  {
   "cell_type": "markdown",
   "metadata": {},
   "source": [
    "Specifiying the topology of the neural network and related learning parameters. This topology and parameters were obtained through extensive trial and error to obtain the best performance."
   ]
  },
  {
   "cell_type": "code",
   "execution_count": 1595,
   "metadata": {},
   "outputs": [],
   "source": [
    "model = Sequential()\n",
    "\n",
    "\n",
    "model.add(Dense(32, input_dim= WINDOW-1, #again note WINDOW has a slightly different meaning in this notebook\n",
    "                activity_regularizer=regularizers.l2(0.01)))\n",
    "model.add(BatchNormalization())\n",
    "model.add(LeakyReLU())\n",
    "model.add(Dropout(0.5))\n",
    "\n",
    "model.add(Dense(32,\n",
    "                activity_regularizer=regularizers.l2(0.01)))\n",
    "model.add(BatchNormalization())\n",
    "model.add(LeakyReLU())\n",
    "\n",
    "model.add(Dense(1))\n",
    "model.add(Activation('linear'))\n",
    "\n",
    "opt =  Nadam(lr=0.0001)\n",
    "reduce_lr = ReduceLROnPlateau(monitor='val_loss', factor=0.9, patience=25, min_lr=0.000001, verbose=1)\n",
    "checkpointer = ModelCheckpoint(filepath=\"test.hdf5\", verbose=1, save_best_only=True)\n",
    "model.compile( loss ='mse', metrics=['mse', 'mae', 'mape'])"
   ]
  },
  {
   "cell_type": "code",
   "execution_count": 1596,
   "metadata": {},
   "outputs": [
    {
     "name": "stdout",
     "output_type": "stream",
     "text": [
      "Model: \"sequential_41\"\n",
      "_________________________________________________________________\n",
      "Layer (type)                 Output Shape              Param #   \n",
      "=================================================================\n",
      "dense_123 (Dense)            (None, 32)                992       \n",
      "_________________________________________________________________\n",
      "batch_normalization_82 (Batc (None, 32)                128       \n",
      "_________________________________________________________________\n",
      "leaky_re_lu_82 (LeakyReLU)   (None, 32)                0         \n",
      "_________________________________________________________________\n",
      "dropout_45 (Dropout)         (None, 32)                0         \n",
      "_________________________________________________________________\n",
      "dense_124 (Dense)            (None, 32)                1056      \n",
      "_________________________________________________________________\n",
      "batch_normalization_83 (Batc (None, 32)                128       \n",
      "_________________________________________________________________\n",
      "leaky_re_lu_83 (LeakyReLU)   (None, 32)                0         \n",
      "_________________________________________________________________\n",
      "dense_125 (Dense)            (None, 1)                 33        \n",
      "_________________________________________________________________\n",
      "activation_41 (Activation)   (None, 1)                 0         \n",
      "=================================================================\n",
      "Total params: 2,337\n",
      "Trainable params: 2,209\n",
      "Non-trainable params: 128\n",
      "_________________________________________________________________\n",
      "None\n"
     ]
    }
   ],
   "source": [
    "print(model.summary())"
   ]
  },
  {
   "cell_type": "markdown",
   "metadata": {},
   "source": [
    "Fit the model to the data."
   ]
  },
  {
   "cell_type": "code",
   "execution_count": 1597,
   "metadata": {},
   "outputs": [
    {
     "name": "stdout",
     "output_type": "stream",
     "text": [
      "\n",
      "Epoch 00001: val_loss improved from inf to 31021060.00000, saving model to test.hdf5\n",
      "\n",
      "Epoch 00002: val_loss improved from 31021060.00000 to 31018966.00000, saving model to test.hdf5\n",
      "\n",
      "Epoch 00003: val_loss improved from 31018966.00000 to 31005170.00000, saving model to test.hdf5\n",
      "\n",
      "Epoch 00004: val_loss improved from 31005170.00000 to 30995212.00000, saving model to test.hdf5\n",
      "\n",
      "Epoch 00005: val_loss improved from 30995212.00000 to 30983868.00000, saving model to test.hdf5\n",
      "\n",
      "Epoch 00006: val_loss improved from 30983868.00000 to 30969096.00000, saving model to test.hdf5\n",
      "\n",
      "Epoch 00007: val_loss improved from 30969096.00000 to 30960450.00000, saving model to test.hdf5\n",
      "\n",
      "Epoch 00008: val_loss improved from 30960450.00000 to 30941112.00000, saving model to test.hdf5\n",
      "\n",
      "Epoch 00009: val_loss improved from 30941112.00000 to 30922064.00000, saving model to test.hdf5\n",
      "\n",
      "Epoch 00010: val_loss improved from 30922064.00000 to 30891206.00000, saving model to test.hdf5\n",
      "\n",
      "Epoch 00011: val_loss improved from 30891206.00000 to 30880986.00000, saving model to test.hdf5\n",
      "\n",
      "Epoch 00012: val_loss improved from 30880986.00000 to 30848154.00000, saving model to test.hdf5\n",
      "\n",
      "Epoch 00013: val_loss improved from 30848154.00000 to 30827238.00000, saving model to test.hdf5\n",
      "\n",
      "Epoch 00014: val_loss improved from 30827238.00000 to 30791640.00000, saving model to test.hdf5\n",
      "\n",
      "Epoch 00015: val_loss improved from 30791640.00000 to 30741240.00000, saving model to test.hdf5\n",
      "\n",
      "Epoch 00016: val_loss improved from 30741240.00000 to 30726166.00000, saving model to test.hdf5\n",
      "\n",
      "Epoch 00017: val_loss improved from 30726166.00000 to 30707802.00000, saving model to test.hdf5\n",
      "\n",
      "Epoch 00018: val_loss improved from 30707802.00000 to 30660948.00000, saving model to test.hdf5\n",
      "\n",
      "Epoch 00019: val_loss improved from 30660948.00000 to 30610678.00000, saving model to test.hdf5\n",
      "\n",
      "Epoch 00020: val_loss improved from 30610678.00000 to 30559084.00000, saving model to test.hdf5\n",
      "\n",
      "Epoch 00021: val_loss improved from 30559084.00000 to 30528276.00000, saving model to test.hdf5\n",
      "\n",
      "Epoch 00022: val_loss did not improve from 30528276.00000\n",
      "\n",
      "Epoch 00023: val_loss improved from 30528276.00000 to 30413392.00000, saving model to test.hdf5\n",
      "\n",
      "Epoch 00024: val_loss improved from 30413392.00000 to 30397722.00000, saving model to test.hdf5\n",
      "\n",
      "Epoch 00025: val_loss improved from 30397722.00000 to 30316678.00000, saving model to test.hdf5\n",
      "\n",
      "Epoch 00026: val_loss improved from 30316678.00000 to 30295566.00000, saving model to test.hdf5\n",
      "\n",
      "Epoch 00027: val_loss improved from 30295566.00000 to 30285674.00000, saving model to test.hdf5\n",
      "\n",
      "Epoch 00028: val_loss improved from 30285674.00000 to 30173458.00000, saving model to test.hdf5\n",
      "\n",
      "Epoch 00029: val_loss improved from 30173458.00000 to 30121250.00000, saving model to test.hdf5\n",
      "\n",
      "Epoch 00030: val_loss improved from 30121250.00000 to 30085426.00000, saving model to test.hdf5\n",
      "\n",
      "Epoch 00031: val_loss improved from 30085426.00000 to 29967872.00000, saving model to test.hdf5\n",
      "\n",
      "Epoch 00032: val_loss improved from 29967872.00000 to 29922294.00000, saving model to test.hdf5\n",
      "\n",
      "Epoch 00033: val_loss improved from 29922294.00000 to 29822942.00000, saving model to test.hdf5\n",
      "\n",
      "Epoch 00034: val_loss improved from 29822942.00000 to 29720448.00000, saving model to test.hdf5\n",
      "\n",
      "Epoch 00035: val_loss improved from 29720448.00000 to 29657408.00000, saving model to test.hdf5\n",
      "\n",
      "Epoch 00036: val_loss did not improve from 29657408.00000\n",
      "\n",
      "Epoch 00037: val_loss improved from 29657408.00000 to 29533774.00000, saving model to test.hdf5\n",
      "\n",
      "Epoch 00038: val_loss did not improve from 29533774.00000\n",
      "\n",
      "Epoch 00039: val_loss improved from 29533774.00000 to 29415498.00000, saving model to test.hdf5\n",
      "\n",
      "Epoch 00040: val_loss improved from 29415498.00000 to 29396406.00000, saving model to test.hdf5\n",
      "\n",
      "Epoch 00041: val_loss improved from 29396406.00000 to 29283116.00000, saving model to test.hdf5\n",
      "\n",
      "Epoch 00042: val_loss improved from 29283116.00000 to 29185878.00000, saving model to test.hdf5\n",
      "\n",
      "Epoch 00043: val_loss improved from 29185878.00000 to 29067394.00000, saving model to test.hdf5\n",
      "\n",
      "Epoch 00044: val_loss improved from 29067394.00000 to 29044298.00000, saving model to test.hdf5\n",
      "\n",
      "Epoch 00045: val_loss improved from 29044298.00000 to 28878052.00000, saving model to test.hdf5\n",
      "\n",
      "Epoch 00046: val_loss did not improve from 28878052.00000\n",
      "\n",
      "Epoch 00047: val_loss improved from 28878052.00000 to 28668038.00000, saving model to test.hdf5\n",
      "\n",
      "Epoch 00048: val_loss improved from 28668038.00000 to 28569380.00000, saving model to test.hdf5\n",
      "\n",
      "Epoch 00049: val_loss improved from 28569380.00000 to 28391096.00000, saving model to test.hdf5\n",
      "\n",
      "Epoch 00050: val_loss did not improve from 28391096.00000\n",
      "\n",
      "Epoch 00051: val_loss improved from 28391096.00000 to 28275002.00000, saving model to test.hdf5\n",
      "\n",
      "Epoch 00052: val_loss improved from 28275002.00000 to 28244782.00000, saving model to test.hdf5\n",
      "\n",
      "Epoch 00053: val_loss improved from 28244782.00000 to 28159090.00000, saving model to test.hdf5\n",
      "\n",
      "Epoch 00054: val_loss improved from 28159090.00000 to 27859724.00000, saving model to test.hdf5\n",
      "\n",
      "Epoch 00055: val_loss improved from 27859724.00000 to 27578986.00000, saving model to test.hdf5\n",
      "\n",
      "Epoch 00056: val_loss did not improve from 27578986.00000\n",
      "\n",
      "Epoch 00057: val_loss did not improve from 27578986.00000\n",
      "\n",
      "Epoch 00058: val_loss improved from 27578986.00000 to 27429518.00000, saving model to test.hdf5\n",
      "\n",
      "Epoch 00059: val_loss improved from 27429518.00000 to 27319074.00000, saving model to test.hdf5\n",
      "\n",
      "Epoch 00060: val_loss did not improve from 27319074.00000\n",
      "\n",
      "Epoch 00061: val_loss improved from 27319074.00000 to 27236440.00000, saving model to test.hdf5\n",
      "\n",
      "Epoch 00062: val_loss improved from 27236440.00000 to 27013544.00000, saving model to test.hdf5\n",
      "\n",
      "Epoch 00063: val_loss improved from 27013544.00000 to 26792314.00000, saving model to test.hdf5\n",
      "\n",
      "Epoch 00064: val_loss did not improve from 26792314.00000\n",
      "\n",
      "Epoch 00065: val_loss did not improve from 26792314.00000\n",
      "\n",
      "Epoch 00066: val_loss did not improve from 26792314.00000\n",
      "\n",
      "Epoch 00067: val_loss improved from 26792314.00000 to 26432090.00000, saving model to test.hdf5\n",
      "\n",
      "Epoch 00068: val_loss improved from 26432090.00000 to 26364940.00000, saving model to test.hdf5\n",
      "\n",
      "Epoch 00069: val_loss improved from 26364940.00000 to 26329096.00000, saving model to test.hdf5\n",
      "\n",
      "Epoch 00070: val_loss improved from 26329096.00000 to 25927426.00000, saving model to test.hdf5\n",
      "\n",
      "Epoch 00071: val_loss did not improve from 25927426.00000\n",
      "\n",
      "Epoch 00072: val_loss improved from 25927426.00000 to 25857170.00000, saving model to test.hdf5\n",
      "\n",
      "Epoch 00073: val_loss improved from 25857170.00000 to 25805818.00000, saving model to test.hdf5\n",
      "\n",
      "Epoch 00074: val_loss improved from 25805818.00000 to 25674170.00000, saving model to test.hdf5\n",
      "\n",
      "Epoch 00075: val_loss improved from 25674170.00000 to 25360010.00000, saving model to test.hdf5\n",
      "\n",
      "Epoch 00076: val_loss improved from 25360010.00000 to 25151804.00000, saving model to test.hdf5\n",
      "\n",
      "Epoch 00077: val_loss did not improve from 25151804.00000\n",
      "\n",
      "Epoch 00078: val_loss improved from 25151804.00000 to 24794452.00000, saving model to test.hdf5\n",
      "\n",
      "Epoch 00079: val_loss did not improve from 24794452.00000\n",
      "\n",
      "Epoch 00080: val_loss improved from 24794452.00000 to 24778468.00000, saving model to test.hdf5\n",
      "\n",
      "Epoch 00081: val_loss improved from 24778468.00000 to 24364536.00000, saving model to test.hdf5\n",
      "\n",
      "Epoch 00082: val_loss did not improve from 24364536.00000\n",
      "\n",
      "Epoch 00083: val_loss improved from 24364536.00000 to 23821880.00000, saving model to test.hdf5\n",
      "\n",
      "Epoch 00084: val_loss did not improve from 23821880.00000\n",
      "\n",
      "Epoch 00085: val_loss did not improve from 23821880.00000\n",
      "\n",
      "Epoch 00086: val_loss improved from 23821880.00000 to 23716522.00000, saving model to test.hdf5\n",
      "\n",
      "Epoch 00087: val_loss improved from 23716522.00000 to 23676940.00000, saving model to test.hdf5\n",
      "\n",
      "Epoch 00088: val_loss did not improve from 23676940.00000\n",
      "\n",
      "Epoch 00089: val_loss improved from 23676940.00000 to 23160092.00000, saving model to test.hdf5\n",
      "\n",
      "Epoch 00090: val_loss did not improve from 23160092.00000\n",
      "\n",
      "Epoch 00091: val_loss improved from 23160092.00000 to 22948758.00000, saving model to test.hdf5\n",
      "\n",
      "Epoch 00092: val_loss improved from 22948758.00000 to 22849102.00000, saving model to test.hdf5\n",
      "\n",
      "Epoch 00093: val_loss improved from 22849102.00000 to 22838368.00000, saving model to test.hdf5\n"
     ]
    },
    {
     "name": "stdout",
     "output_type": "stream",
     "text": [
      "\n",
      "Epoch 00094: val_loss improved from 22838368.00000 to 22140752.00000, saving model to test.hdf5\n",
      "\n",
      "Epoch 00095: val_loss did not improve from 22140752.00000\n",
      "\n",
      "Epoch 00096: val_loss improved from 22140752.00000 to 21953340.00000, saving model to test.hdf5\n",
      "\n",
      "Epoch 00097: val_loss improved from 21953340.00000 to 21866082.00000, saving model to test.hdf5\n",
      "\n",
      "Epoch 00098: val_loss improved from 21866082.00000 to 21793686.00000, saving model to test.hdf5\n",
      "\n",
      "Epoch 00099: val_loss improved from 21793686.00000 to 21745004.00000, saving model to test.hdf5\n",
      "\n",
      "Epoch 00100: val_loss improved from 21745004.00000 to 21465354.00000, saving model to test.hdf5\n",
      "\n",
      "Epoch 00101: val_loss did not improve from 21465354.00000\n",
      "\n",
      "Epoch 00102: val_loss improved from 21465354.00000 to 20994852.00000, saving model to test.hdf5\n",
      "\n",
      "Epoch 00103: val_loss did not improve from 20994852.00000\n",
      "\n",
      "Epoch 00104: val_loss improved from 20994852.00000 to 20792126.00000, saving model to test.hdf5\n",
      "\n",
      "Epoch 00105: val_loss did not improve from 20792126.00000\n",
      "\n",
      "Epoch 00106: val_loss did not improve from 20792126.00000\n",
      "\n",
      "Epoch 00107: val_loss improved from 20792126.00000 to 20646414.00000, saving model to test.hdf5\n",
      "\n",
      "Epoch 00108: val_loss improved from 20646414.00000 to 20300840.00000, saving model to test.hdf5\n",
      "\n",
      "Epoch 00109: val_loss improved from 20300840.00000 to 19512444.00000, saving model to test.hdf5\n",
      "\n",
      "Epoch 00110: val_loss did not improve from 19512444.00000\n",
      "\n",
      "Epoch 00111: val_loss did not improve from 19512444.00000\n",
      "\n",
      "Epoch 00112: val_loss did not improve from 19512444.00000\n",
      "\n",
      "Epoch 00113: val_loss improved from 19512444.00000 to 19365280.00000, saving model to test.hdf5\n",
      "\n",
      "Epoch 00114: val_loss improved from 19365280.00000 to 18336862.00000, saving model to test.hdf5\n",
      "\n",
      "Epoch 00115: val_loss did not improve from 18336862.00000\n",
      "\n",
      "Epoch 00116: val_loss did not improve from 18336862.00000\n",
      "\n",
      "Epoch 00117: val_loss did not improve from 18336862.00000\n",
      "\n",
      "Epoch 00118: val_loss did not improve from 18336862.00000\n",
      "\n",
      "Epoch 00119: val_loss did not improve from 18336862.00000\n",
      "\n",
      "Epoch 00120: val_loss improved from 18336862.00000 to 18169276.00000, saving model to test.hdf5\n",
      "\n",
      "Epoch 00121: val_loss improved from 18169276.00000 to 17955766.00000, saving model to test.hdf5\n",
      "\n",
      "Epoch 00122: val_loss improved from 17955766.00000 to 17654662.00000, saving model to test.hdf5\n",
      "\n",
      "Epoch 00123: val_loss did not improve from 17654662.00000\n",
      "\n",
      "Epoch 00124: val_loss did not improve from 17654662.00000\n",
      "\n",
      "Epoch 00125: val_loss did not improve from 17654662.00000\n",
      "\n",
      "Epoch 00126: val_loss improved from 17654662.00000 to 16593576.00000, saving model to test.hdf5\n",
      "\n",
      "Epoch 00127: val_loss did not improve from 16593576.00000\n",
      "\n",
      "Epoch 00128: val_loss did not improve from 16593576.00000\n",
      "\n",
      "Epoch 00129: val_loss improved from 16593576.00000 to 16269153.00000, saving model to test.hdf5\n",
      "\n",
      "Epoch 00130: val_loss did not improve from 16269153.00000\n",
      "\n",
      "Epoch 00131: val_loss did not improve from 16269153.00000\n",
      "\n",
      "Epoch 00132: val_loss improved from 16269153.00000 to 15711524.00000, saving model to test.hdf5\n",
      "\n",
      "Epoch 00133: val_loss improved from 15711524.00000 to 15526417.00000, saving model to test.hdf5\n",
      "\n",
      "Epoch 00134: val_loss improved from 15526417.00000 to 14772615.00000, saving model to test.hdf5\n",
      "\n",
      "Epoch 00135: val_loss did not improve from 14772615.00000\n",
      "\n",
      "Epoch 00136: val_loss improved from 14772615.00000 to 14452132.00000, saving model to test.hdf5\n",
      "\n",
      "Epoch 00137: val_loss improved from 14452132.00000 to 14246058.00000, saving model to test.hdf5\n",
      "\n",
      "Epoch 00138: val_loss improved from 14246058.00000 to 13800955.00000, saving model to test.hdf5\n",
      "\n",
      "Epoch 00139: val_loss did not improve from 13800955.00000\n",
      "\n",
      "Epoch 00140: val_loss did not improve from 13800955.00000\n",
      "\n",
      "Epoch 00141: val_loss did not improve from 13800955.00000\n",
      "\n",
      "Epoch 00142: val_loss improved from 13800955.00000 to 13094951.00000, saving model to test.hdf5\n",
      "\n",
      "Epoch 00143: val_loss improved from 13094951.00000 to 12399913.00000, saving model to test.hdf5\n",
      "\n",
      "Epoch 00144: val_loss did not improve from 12399913.00000\n",
      "\n",
      "Epoch 00145: val_loss improved from 12399913.00000 to 12253543.00000, saving model to test.hdf5\n",
      "\n",
      "Epoch 00146: val_loss improved from 12253543.00000 to 12248266.00000, saving model to test.hdf5\n",
      "\n",
      "Epoch 00147: val_loss improved from 12248266.00000 to 11585831.00000, saving model to test.hdf5\n",
      "\n",
      "Epoch 00148: val_loss did not improve from 11585831.00000\n",
      "\n",
      "Epoch 00149: val_loss improved from 11585831.00000 to 11108565.00000, saving model to test.hdf5\n",
      "\n",
      "Epoch 00150: val_loss improved from 11108565.00000 to 11057387.00000, saving model to test.hdf5\n",
      "\n",
      "Epoch 00151: val_loss improved from 11057387.00000 to 10072504.00000, saving model to test.hdf5\n",
      "\n",
      "Epoch 00152: val_loss did not improve from 10072504.00000\n",
      "\n",
      "Epoch 00153: val_loss improved from 10072504.00000 to 9440497.00000, saving model to test.hdf5\n",
      "\n",
      "Epoch 00154: val_loss improved from 9440497.00000 to 9141309.00000, saving model to test.hdf5\n",
      "\n",
      "Epoch 00155: val_loss did not improve from 9141309.00000\n",
      "\n",
      "Epoch 00156: val_loss improved from 9141309.00000 to 8614622.00000, saving model to test.hdf5\n",
      "\n",
      "Epoch 00157: val_loss did not improve from 8614622.00000\n",
      "\n",
      "Epoch 00158: val_loss improved from 8614622.00000 to 8184430.00000, saving model to test.hdf5\n",
      "\n",
      "Epoch 00159: val_loss did not improve from 8184430.00000\n",
      "\n",
      "Epoch 00160: val_loss improved from 8184430.00000 to 7675255.50000, saving model to test.hdf5\n",
      "\n",
      "Epoch 00161: val_loss improved from 7675255.50000 to 7186702.50000, saving model to test.hdf5\n",
      "\n",
      "Epoch 00162: val_loss improved from 7186702.50000 to 7104476.00000, saving model to test.hdf5\n",
      "\n",
      "Epoch 00163: val_loss improved from 7104476.00000 to 6915273.00000, saving model to test.hdf5\n",
      "\n",
      "Epoch 00164: val_loss improved from 6915273.00000 to 6440595.00000, saving model to test.hdf5\n",
      "\n",
      "Epoch 00165: val_loss improved from 6440595.00000 to 6349277.50000, saving model to test.hdf5\n",
      "\n",
      "Epoch 00166: val_loss improved from 6349277.50000 to 6202621.50000, saving model to test.hdf5\n",
      "\n",
      "Epoch 00167: val_loss did not improve from 6202621.50000\n",
      "\n",
      "Epoch 00168: val_loss improved from 6202621.50000 to 5783484.00000, saving model to test.hdf5\n",
      "\n",
      "Epoch 00169: val_loss improved from 5783484.00000 to 4984111.50000, saving model to test.hdf5\n",
      "\n",
      "Epoch 00170: val_loss did not improve from 4984111.50000\n",
      "\n",
      "Epoch 00171: val_loss improved from 4984111.50000 to 4769902.00000, saving model to test.hdf5\n",
      "\n",
      "Epoch 00172: val_loss did not improve from 4769902.00000\n",
      "\n",
      "Epoch 00173: val_loss improved from 4769902.00000 to 4427275.00000, saving model to test.hdf5\n",
      "\n",
      "Epoch 00174: val_loss improved from 4427275.00000 to 3917382.75000, saving model to test.hdf5\n",
      "\n",
      "Epoch 00175: val_loss improved from 3917382.75000 to 3878876.00000, saving model to test.hdf5\n",
      "\n",
      "Epoch 00176: val_loss did not improve from 3878876.00000\n",
      "\n",
      "Epoch 00177: val_loss improved from 3878876.00000 to 3592018.25000, saving model to test.hdf5\n",
      "\n",
      "Epoch 00178: val_loss improved from 3592018.25000 to 3149818.75000, saving model to test.hdf5\n",
      "\n",
      "Epoch 00179: val_loss did not improve from 3149818.75000\n",
      "\n",
      "Epoch 00180: val_loss improved from 3149818.75000 to 2935004.50000, saving model to test.hdf5\n",
      "\n",
      "Epoch 00181: val_loss did not improve from 2935004.50000\n",
      "\n",
      "Epoch 00182: val_loss improved from 2935004.50000 to 2706413.75000, saving model to test.hdf5\n",
      "\n",
      "Epoch 00183: val_loss improved from 2706413.75000 to 2476514.00000, saving model to test.hdf5\n",
      "\n",
      "Epoch 00184: val_loss did not improve from 2476514.00000\n",
      "\n",
      "Epoch 00185: val_loss improved from 2476514.00000 to 2264026.75000, saving model to test.hdf5\n",
      "\n",
      "Epoch 00186: val_loss improved from 2264026.75000 to 2115477.00000, saving model to test.hdf5\n",
      "\n",
      "Epoch 00187: val_loss improved from 2115477.00000 to 1860744.00000, saving model to test.hdf5\n",
      "\n",
      "Epoch 00188: val_loss did not improve from 1860744.00000\n",
      "\n",
      "Epoch 00189: val_loss improved from 1860744.00000 to 1843444.50000, saving model to test.hdf5\n",
      "\n",
      "Epoch 00190: val_loss improved from 1843444.50000 to 1546166.62500, saving model to test.hdf5\n",
      "\n",
      "Epoch 00191: val_loss improved from 1546166.62500 to 1430594.50000, saving model to test.hdf5\n",
      "\n",
      "Epoch 00192: val_loss did not improve from 1430594.50000\n",
      "\n",
      "Epoch 00193: val_loss improved from 1430594.50000 to 1380938.37500, saving model to test.hdf5\n",
      "\n",
      "Epoch 00194: val_loss improved from 1380938.37500 to 1176314.62500, saving model to test.hdf5\n"
     ]
    },
    {
     "name": "stdout",
     "output_type": "stream",
     "text": [
      "\n",
      "Epoch 00195: val_loss improved from 1176314.62500 to 1107936.87500, saving model to test.hdf5\n",
      "\n",
      "Epoch 00196: val_loss improved from 1107936.87500 to 937588.62500, saving model to test.hdf5\n",
      "\n",
      "Epoch 00197: val_loss did not improve from 937588.62500\n",
      "\n",
      "Epoch 00198: val_loss did not improve from 937588.62500\n",
      "\n",
      "Epoch 00199: val_loss improved from 937588.62500 to 921739.12500, saving model to test.hdf5\n",
      "\n",
      "Epoch 00200: val_loss improved from 921739.12500 to 734864.56250, saving model to test.hdf5\n",
      "\n",
      "Epoch 00201: val_loss did not improve from 734864.56250\n",
      "\n",
      "Epoch 00202: val_loss did not improve from 734864.56250\n",
      "\n",
      "Epoch 00203: val_loss improved from 734864.56250 to 725061.25000, saving model to test.hdf5\n",
      "\n",
      "Epoch 00204: val_loss improved from 725061.25000 to 711436.31250, saving model to test.hdf5\n",
      "\n",
      "Epoch 00205: val_loss improved from 711436.31250 to 611222.12500, saving model to test.hdf5\n",
      "\n",
      "Epoch 00206: val_loss improved from 611222.12500 to 606652.75000, saving model to test.hdf5\n",
      "\n",
      "Epoch 00207: val_loss did not improve from 606652.75000\n",
      "\n",
      "Epoch 00208: val_loss improved from 606652.75000 to 461711.09375, saving model to test.hdf5\n",
      "\n",
      "Epoch 00209: val_loss did not improve from 461711.09375\n",
      "\n",
      "Epoch 00210: val_loss did not improve from 461711.09375\n",
      "\n",
      "Epoch 00211: val_loss did not improve from 461711.09375\n",
      "\n",
      "Epoch 00212: val_loss improved from 461711.09375 to 396007.46875, saving model to test.hdf5\n",
      "\n",
      "Epoch 00213: val_loss did not improve from 396007.46875\n",
      "\n",
      "Epoch 00214: val_loss did not improve from 396007.46875\n",
      "\n",
      "Epoch 00215: val_loss did not improve from 396007.46875\n",
      "\n",
      "Epoch 00216: val_loss improved from 396007.46875 to 352460.18750, saving model to test.hdf5\n",
      "\n",
      "Epoch 00217: val_loss did not improve from 352460.18750\n",
      "\n",
      "Epoch 00218: val_loss did not improve from 352460.18750\n",
      "\n",
      "Epoch 00219: val_loss did not improve from 352460.18750\n",
      "\n",
      "Epoch 00220: val_loss improved from 352460.18750 to 299525.65625, saving model to test.hdf5\n",
      "\n",
      "Epoch 00221: val_loss did not improve from 299525.65625\n",
      "\n",
      "Epoch 00222: val_loss improved from 299525.65625 to 277822.40625, saving model to test.hdf5\n",
      "\n",
      "Epoch 00223: val_loss improved from 277822.40625 to 198159.81250, saving model to test.hdf5\n",
      "\n",
      "Epoch 00224: val_loss did not improve from 198159.81250\n",
      "\n",
      "Epoch 00225: val_loss did not improve from 198159.81250\n",
      "\n",
      "Epoch 00226: val_loss did not improve from 198159.81250\n",
      "\n",
      "Epoch 00227: val_loss did not improve from 198159.81250\n",
      "\n",
      "Epoch 00228: val_loss did not improve from 198159.81250\n",
      "\n",
      "Epoch 00229: val_loss did not improve from 198159.81250\n",
      "\n",
      "Epoch 00230: val_loss did not improve from 198159.81250\n",
      "\n",
      "Epoch 00231: val_loss did not improve from 198159.81250\n",
      "\n",
      "Epoch 00232: val_loss did not improve from 198159.81250\n",
      "\n",
      "Epoch 00233: val_loss did not improve from 198159.81250\n",
      "\n",
      "Epoch 00234: val_loss did not improve from 198159.81250\n",
      "\n",
      "Epoch 00235: val_loss did not improve from 198159.81250\n",
      "\n",
      "Epoch 00236: val_loss did not improve from 198159.81250\n",
      "\n",
      "Epoch 00237: val_loss did not improve from 198159.81250\n",
      "\n",
      "Epoch 00238: val_loss did not improve from 198159.81250\n",
      "\n",
      "Epoch 00239: val_loss did not improve from 198159.81250\n",
      "\n",
      "Epoch 00240: val_loss did not improve from 198159.81250\n",
      "\n",
      "Epoch 00241: val_loss did not improve from 198159.81250\n",
      "\n",
      "Epoch 00242: val_loss did not improve from 198159.81250\n",
      "\n",
      "Epoch 00243: val_loss did not improve from 198159.81250\n",
      "\n",
      "Epoch 00244: val_loss did not improve from 198159.81250\n",
      "\n",
      "Epoch 00245: val_loss did not improve from 198159.81250\n",
      "\n",
      "Epoch 00246: val_loss did not improve from 198159.81250\n",
      "\n",
      "Epoch 00247: val_loss did not improve from 198159.81250\n",
      "\n",
      "Epoch 00248: ReduceLROnPlateau reducing learning rate to 0.0009000000427477062.\n",
      "\n",
      "Epoch 00248: val_loss did not improve from 198159.81250\n",
      "\n",
      "Epoch 00249: val_loss did not improve from 198159.81250\n",
      "\n",
      "Epoch 00250: val_loss did not improve from 198159.81250\n",
      "\n",
      "Epoch 00251: val_loss did not improve from 198159.81250\n",
      "\n",
      "Epoch 00252: val_loss did not improve from 198159.81250\n",
      "\n",
      "Epoch 00253: val_loss did not improve from 198159.81250\n",
      "\n",
      "Epoch 00254: val_loss did not improve from 198159.81250\n",
      "\n",
      "Epoch 00255: val_loss did not improve from 198159.81250\n",
      "\n",
      "Epoch 00256: val_loss did not improve from 198159.81250\n",
      "\n",
      "Epoch 00257: val_loss did not improve from 198159.81250\n",
      "\n",
      "Epoch 00258: val_loss did not improve from 198159.81250\n",
      "\n",
      "Epoch 00259: val_loss did not improve from 198159.81250\n",
      "\n",
      "Epoch 00260: val_loss did not improve from 198159.81250\n",
      "\n",
      "Epoch 00261: val_loss did not improve from 198159.81250\n",
      "\n",
      "Epoch 00262: val_loss did not improve from 198159.81250\n",
      "\n",
      "Epoch 00263: val_loss did not improve from 198159.81250\n",
      "\n",
      "Epoch 00264: val_loss did not improve from 198159.81250\n",
      "\n",
      "Epoch 00265: val_loss did not improve from 198159.81250\n",
      "\n",
      "Epoch 00266: val_loss did not improve from 198159.81250\n",
      "\n",
      "Epoch 00267: val_loss did not improve from 198159.81250\n",
      "\n",
      "Epoch 00268: val_loss did not improve from 198159.81250\n",
      "\n",
      "Epoch 00269: val_loss did not improve from 198159.81250\n",
      "\n",
      "Epoch 00270: val_loss did not improve from 198159.81250\n",
      "\n",
      "Epoch 00271: val_loss did not improve from 198159.81250\n",
      "\n",
      "Epoch 00272: val_loss did not improve from 198159.81250\n",
      "\n",
      "Epoch 00273: ReduceLROnPlateau reducing learning rate to 0.0008100000384729356.\n",
      "\n",
      "Epoch 00273: val_loss did not improve from 198159.81250\n",
      "\n",
      "Epoch 00274: val_loss did not improve from 198159.81250\n",
      "\n",
      "Epoch 00275: val_loss did not improve from 198159.81250\n",
      "\n",
      "Epoch 00276: val_loss did not improve from 198159.81250\n",
      "\n",
      "Epoch 00277: val_loss did not improve from 198159.81250\n",
      "\n",
      "Epoch 00278: val_loss did not improve from 198159.81250\n",
      "\n",
      "Epoch 00279: val_loss did not improve from 198159.81250\n",
      "\n",
      "Epoch 00280: val_loss did not improve from 198159.81250\n",
      "\n",
      "Epoch 00281: val_loss did not improve from 198159.81250\n",
      "\n",
      "Epoch 00282: val_loss did not improve from 198159.81250\n",
      "\n",
      "Epoch 00283: val_loss did not improve from 198159.81250\n",
      "\n",
      "Epoch 00284: val_loss did not improve from 198159.81250\n",
      "\n",
      "Epoch 00285: val_loss did not improve from 198159.81250\n",
      "\n",
      "Epoch 00286: val_loss did not improve from 198159.81250\n",
      "\n",
      "Epoch 00287: val_loss did not improve from 198159.81250\n",
      "\n",
      "Epoch 00288: val_loss did not improve from 198159.81250\n",
      "\n",
      "Epoch 00289: val_loss did not improve from 198159.81250\n",
      "\n",
      "Epoch 00290: val_loss did not improve from 198159.81250\n",
      "\n",
      "Epoch 00291: val_loss did not improve from 198159.81250\n",
      "\n",
      "Epoch 00292: val_loss did not improve from 198159.81250\n",
      "\n",
      "Epoch 00293: val_loss did not improve from 198159.81250\n",
      "\n",
      "Epoch 00294: val_loss did not improve from 198159.81250\n",
      "\n",
      "Epoch 00295: val_loss did not improve from 198159.81250\n",
      "\n",
      "Epoch 00296: val_loss did not improve from 198159.81250\n",
      "\n",
      "Epoch 00297: val_loss did not improve from 198159.81250\n",
      "\n",
      "Epoch 00298: ReduceLROnPlateau reducing learning rate to 0.0007290000503417104.\n",
      "\n",
      "Epoch 00298: val_loss did not improve from 198159.81250\n",
      "\n",
      "Epoch 00299: val_loss did not improve from 198159.81250\n",
      "\n",
      "Epoch 00300: val_loss did not improve from 198159.81250\n",
      "\n",
      "Epoch 00301: val_loss did not improve from 198159.81250\n",
      "\n",
      "Epoch 00302: val_loss did not improve from 198159.81250\n",
      "\n",
      "Epoch 00303: val_loss did not improve from 198159.81250\n",
      "\n",
      "Epoch 00304: val_loss did not improve from 198159.81250\n",
      "\n",
      "Epoch 00305: val_loss did not improve from 198159.81250\n",
      "\n",
      "Epoch 00306: val_loss did not improve from 198159.81250\n",
      "\n",
      "Epoch 00307: val_loss did not improve from 198159.81250\n",
      "\n",
      "Epoch 00308: val_loss did not improve from 198159.81250\n",
      "\n",
      "Epoch 00309: val_loss did not improve from 198159.81250\n",
      "\n",
      "Epoch 00310: val_loss did not improve from 198159.81250\n",
      "\n",
      "Epoch 00311: val_loss did not improve from 198159.81250\n",
      "\n",
      "Epoch 00312: val_loss did not improve from 198159.81250\n",
      "\n",
      "Epoch 00313: val_loss did not improve from 198159.81250\n",
      "\n",
      "Epoch 00314: val_loss did not improve from 198159.81250\n",
      "\n",
      "Epoch 00315: val_loss did not improve from 198159.81250\n",
      "\n",
      "Epoch 00316: val_loss did not improve from 198159.81250\n",
      "\n",
      "Epoch 00317: val_loss did not improve from 198159.81250\n",
      "\n",
      "Epoch 00318: val_loss did not improve from 198159.81250\n",
      "\n",
      "Epoch 00319: val_loss did not improve from 198159.81250\n",
      "\n",
      "Epoch 00320: val_loss did not improve from 198159.81250\n",
      "\n",
      "Epoch 00321: val_loss did not improve from 198159.81250\n",
      "\n",
      "Epoch 00322: val_loss did not improve from 198159.81250\n",
      "\n",
      "Epoch 00323: ReduceLROnPlateau reducing learning rate to 0.0006561000715009868.\n",
      "\n",
      "Epoch 00323: val_loss did not improve from 198159.81250\n",
      "\n",
      "Epoch 00324: val_loss did not improve from 198159.81250\n"
     ]
    },
    {
     "name": "stdout",
     "output_type": "stream",
     "text": [
      "\n",
      "Epoch 00325: val_loss did not improve from 198159.81250\n",
      "\n",
      "Epoch 00326: val_loss did not improve from 198159.81250\n",
      "\n",
      "Epoch 00327: val_loss did not improve from 198159.81250\n",
      "\n",
      "Epoch 00328: val_loss did not improve from 198159.81250\n",
      "\n",
      "Epoch 00329: val_loss did not improve from 198159.81250\n",
      "\n",
      "Epoch 00330: val_loss did not improve from 198159.81250\n",
      "\n",
      "Epoch 00331: val_loss did not improve from 198159.81250\n",
      "\n",
      "Epoch 00332: val_loss did not improve from 198159.81250\n",
      "\n",
      "Epoch 00333: val_loss did not improve from 198159.81250\n",
      "\n",
      "Epoch 00334: val_loss did not improve from 198159.81250\n",
      "\n",
      "Epoch 00335: val_loss did not improve from 198159.81250\n",
      "\n",
      "Epoch 00336: val_loss did not improve from 198159.81250\n",
      "\n",
      "Epoch 00337: val_loss did not improve from 198159.81250\n",
      "\n",
      "Epoch 00338: val_loss did not improve from 198159.81250\n",
      "\n",
      "Epoch 00339: val_loss did not improve from 198159.81250\n",
      "\n",
      "Epoch 00340: val_loss did not improve from 198159.81250\n",
      "\n",
      "Epoch 00341: val_loss did not improve from 198159.81250\n",
      "\n",
      "Epoch 00342: val_loss did not improve from 198159.81250\n",
      "\n",
      "Epoch 00343: val_loss did not improve from 198159.81250\n",
      "\n",
      "Epoch 00344: val_loss did not improve from 198159.81250\n",
      "\n",
      "Epoch 00345: val_loss did not improve from 198159.81250\n",
      "\n",
      "Epoch 00346: val_loss did not improve from 198159.81250\n",
      "\n",
      "Epoch 00347: val_loss did not improve from 198159.81250\n",
      "\n",
      "Epoch 00348: ReduceLROnPlateau reducing learning rate to 0.0005904900433961303.\n",
      "\n",
      "Epoch 00348: val_loss did not improve from 198159.81250\n",
      "\n",
      "Epoch 00349: val_loss did not improve from 198159.81250\n",
      "\n",
      "Epoch 00350: val_loss did not improve from 198159.81250\n",
      "\n",
      "Epoch 00351: val_loss did not improve from 198159.81250\n",
      "\n",
      "Epoch 00352: val_loss did not improve from 198159.81250\n",
      "\n",
      "Epoch 00353: val_loss did not improve from 198159.81250\n",
      "\n",
      "Epoch 00354: val_loss did not improve from 198159.81250\n",
      "\n",
      "Epoch 00355: val_loss did not improve from 198159.81250\n",
      "\n",
      "Epoch 00356: val_loss did not improve from 198159.81250\n",
      "\n",
      "Epoch 00357: val_loss did not improve from 198159.81250\n",
      "\n",
      "Epoch 00358: val_loss did not improve from 198159.81250\n",
      "\n",
      "Epoch 00359: val_loss did not improve from 198159.81250\n",
      "\n",
      "Epoch 00360: val_loss did not improve from 198159.81250\n",
      "\n",
      "Epoch 00361: val_loss did not improve from 198159.81250\n",
      "\n",
      "Epoch 00362: val_loss did not improve from 198159.81250\n",
      "\n",
      "Epoch 00363: val_loss did not improve from 198159.81250\n",
      "\n",
      "Epoch 00364: val_loss did not improve from 198159.81250\n",
      "\n",
      "Epoch 00365: val_loss did not improve from 198159.81250\n",
      "\n",
      "Epoch 00366: val_loss did not improve from 198159.81250\n",
      "\n",
      "Epoch 00367: val_loss did not improve from 198159.81250\n",
      "\n",
      "Epoch 00368: val_loss did not improve from 198159.81250\n",
      "\n",
      "Epoch 00369: val_loss did not improve from 198159.81250\n",
      "\n",
      "Epoch 00370: val_loss did not improve from 198159.81250\n",
      "\n",
      "Epoch 00371: val_loss did not improve from 198159.81250\n",
      "\n",
      "Epoch 00372: val_loss did not improve from 198159.81250\n",
      "\n",
      "Epoch 00373: ReduceLROnPlateau reducing learning rate to 0.0005314410547725857.\n",
      "\n",
      "Epoch 00373: val_loss did not improve from 198159.81250\n",
      "\n",
      "Epoch 00374: val_loss did not improve from 198159.81250\n",
      "\n",
      "Epoch 00375: val_loss did not improve from 198159.81250\n",
      "\n",
      "Epoch 00376: val_loss did not improve from 198159.81250\n",
      "\n",
      "Epoch 00377: val_loss did not improve from 198159.81250\n",
      "\n",
      "Epoch 00378: val_loss did not improve from 198159.81250\n",
      "\n",
      "Epoch 00379: val_loss did not improve from 198159.81250\n",
      "\n",
      "Epoch 00380: val_loss did not improve from 198159.81250\n",
      "\n",
      "Epoch 00381: val_loss did not improve from 198159.81250\n",
      "\n",
      "Epoch 00382: val_loss did not improve from 198159.81250\n",
      "\n",
      "Epoch 00383: val_loss did not improve from 198159.81250\n",
      "\n",
      "Epoch 00384: val_loss did not improve from 198159.81250\n",
      "\n",
      "Epoch 00385: val_loss did not improve from 198159.81250\n",
      "\n",
      "Epoch 00386: val_loss did not improve from 198159.81250\n",
      "\n",
      "Epoch 00387: val_loss did not improve from 198159.81250\n",
      "\n",
      "Epoch 00388: val_loss did not improve from 198159.81250\n",
      "\n",
      "Epoch 00389: val_loss did not improve from 198159.81250\n",
      "\n",
      "Epoch 00390: val_loss did not improve from 198159.81250\n",
      "\n",
      "Epoch 00391: val_loss did not improve from 198159.81250\n",
      "\n",
      "Epoch 00392: val_loss did not improve from 198159.81250\n",
      "\n",
      "Epoch 00393: val_loss did not improve from 198159.81250\n",
      "\n",
      "Epoch 00394: val_loss did not improve from 198159.81250\n",
      "\n",
      "Epoch 00395: val_loss did not improve from 198159.81250\n",
      "\n",
      "Epoch 00396: val_loss did not improve from 198159.81250\n",
      "\n",
      "Epoch 00397: val_loss did not improve from 198159.81250\n",
      "\n",
      "Epoch 00398: ReduceLROnPlateau reducing learning rate to 0.00047829695977270604.\n",
      "\n",
      "Epoch 00398: val_loss did not improve from 198159.81250\n",
      "\n",
      "Epoch 00399: val_loss did not improve from 198159.81250\n",
      "\n",
      "Epoch 00400: val_loss did not improve from 198159.81250\n"
     ]
    }
   ],
   "source": [
    "history = model.fit(X_train, Y_train, \n",
    "          epochs = 400, \n",
    "          batch_size = 128, \n",
    "          verbose=0, \n",
    "          validation_data=(X_test, Y_test),\n",
    "          callbacks=[reduce_lr, checkpointer],\n",
    "          )"
   ]
  },
  {
   "cell_type": "markdown",
   "metadata": {},
   "source": [
    "Plotting graphs of the model less as well as three different measures: MAPE, MAE and MSE."
   ]
  },
  {
   "cell_type": "code",
   "execution_count": 1598,
   "metadata": {},
   "outputs": [
    {
     "data": {
      "image/png": "[encoded data removed]",
      "text/plain": [
       "<Figure size 432x288 with 1 Axes>"
      ]
     },
     "metadata": {
      "needs_background": "light"
     },
     "output_type": "display_data"
    }
   ],
   "source": [
    "plt.figure()\n",
    "plt.plot(history.history['loss'])\n",
    "plt.plot(history.history['val_loss'])\n",
    "plt.title('model loss')\n",
    "plt.ylabel('loss')\n",
    "plt.xlabel('epoch')\n",
    "plt.legend(['train', 'test'], loc='best')\n",
    "plt.show()"
   ]
  },
  {
   "cell_type": "code",
   "execution_count": 1599,
   "metadata": {},
   "outputs": [
    {
     "data": {
      "text/plain": [
       "<matplotlib.legend.Legend at 0x29f6a958ee0>"
      ]
     },
     "execution_count": 1599,
     "metadata": {},
     "output_type": "execute_result"
    },
    {
     "data": {
      "image/png": "[encoded data removed]",
      "text/plain": [
       "<Figure size 432x288 with 1 Axes>"
      ]
     },
     "metadata": {
      "needs_background": "light"
     },
     "output_type": "display_data"
    }
   ],
   "source": [
    "plt.plot(history.history['mape'])\n",
    "plt.plot(history.history['val_mape'])\n",
    "plt.title('model mape')\n",
    "plt.ylabel('mape')\n",
    "plt.xlabel('epoch')\n",
    "plt.legend(['train', 'test'], loc='best')"
   ]
  },
  {
   "cell_type": "code",
   "execution_count": 1600,
   "metadata": {},
   "outputs": [
    {
     "data": {
      "text/plain": [
       "<matplotlib.legend.Legend at 0x29f615a2cd0>"
      ]
     },
     "execution_count": 1600,
     "metadata": {},
     "output_type": "execute_result"
    },
    {
     "data": {
      "image/png": "[encoded data removed]",
      "text/plain": [
       "<Figure size 432x288 with 1 Axes>"
      ]
     },
     "metadata": {
      "needs_background": "light"
     },
     "output_type": "display_data"
    }
   ],
   "source": [
    "plt.plot(history.history['mae'])\n",
    "plt.plot(history.history['val_mae'])\n",
    "plt.title('model mae')\n",
    "plt.ylabel('mae')\n",
    "plt.xlabel('epoch')\n",
    "plt.legend(['train', 'test'], loc='best')"
   ]
  },
  {
   "cell_type": "code",
   "execution_count": 1601,
   "metadata": {},
   "outputs": [
    {
     "data": {
      "image/png": "[encoded data removed]",
      "text/plain": [
       "<Figure size 432x288 with 1 Axes>"
      ]
     },
     "metadata": {
      "needs_background": "light"
     },
     "output_type": "display_data"
    }
   ],
   "source": [
    "plt.figure()\n",
    "plt.plot(history.history['mse'])\n",
    "plt.plot(history.history['val_mse'])\n",
    "plt.title('model mse')\n",
    "plt.ylabel('mse')\n",
    "plt.xlabel('epoch')\n",
    "plt.legend(['train', 'test'], loc='best')\n",
    "plt.show()"
   ]
  },
  {
   "cell_type": "code",
   "execution_count": null,
   "metadata": {},
   "outputs": [],
   "source": []
  },
  {
   "cell_type": "markdown",
   "metadata": {},
   "source": [
    "Computing the minimum of the three error measures."
   ]
  },
  {
   "cell_type": "code",
   "execution_count": 1658,
   "metadata": {},
   "outputs": [
    {
     "name": "stdout",
     "output_type": "stream",
     "text": [
      "The minimum mean absolute percentage error of the training data is 6.644664287567139\n"
     ]
    }
   ],
   "source": [
    "print('The minimum mean absolute percentage error of the training data is', (np.min(history.history['mape'][150:])))"
   ]
  },
  {
   "cell_type": "code",
   "execution_count": 1659,
   "metadata": {},
   "outputs": [
    {
     "name": "stdout",
     "output_type": "stream",
     "text": [
      "The minimum mean absolute percentage error of the test data is 9.064825057983398\n"
     ]
    }
   ],
   "source": [
    "print('The minimum mean absolute percentage error of the test data is', (np.min(history.history['val_mape'][150:])))"
   ]
  },
  {
   "cell_type": "code",
   "execution_count": 1661,
   "metadata": {},
   "outputs": [
    {
     "name": "stdout",
     "output_type": "stream",
     "text": [
      "The minimum mean absolute error of the traning data is 435.8214416503906\n"
     ]
    }
   ],
   "source": [
    "print('The minimum mean absolute error of the traning data is', (np.min(history.history['mae'][150:])))"
   ]
  },
  {
   "cell_type": "code",
   "execution_count": 1662,
   "metadata": {},
   "outputs": [
    {
     "name": "stdout",
     "output_type": "stream",
     "text": [
      "The minimum mean absolute error of the test  data is 372.3679504394531\n"
     ]
    }
   ],
   "source": [
    "print('The minimum mean absolute error of the test  data is', (np.min(history.history['val_mae'][150:])))"
   ]
  },
  {
   "cell_type": "code",
   "execution_count": 1672,
   "metadata": {},
   "outputs": [
    {
     "name": "stdout",
     "output_type": "stream",
     "text": [
      "The minimum root mean squared error of the traning data is 596.1538444478908\n"
     ]
    }
   ],
   "source": [
    "print('The minimum root mean squared error of the traning data is', np.sqrt(np.min(history.history['mse'][150:])))"
   ]
  },
  {
   "cell_type": "code",
   "execution_count": 1673,
   "metadata": {},
   "outputs": [
    {
     "name": "stdout",
     "output_type": "stream",
     "text": [
      "The minimum root mean squared eerror of the test data is 439.31190869927485\n"
     ]
    }
   ],
   "source": [
    "print('The minimum root mean squared eerror of the test data is', np.sqrt(np.min(history.history['val_mse'][150:])))"
   ]
  },
  {
   "cell_type": "markdown",
   "metadata": {},
   "source": [
    "Clearly performance of the neural network regressor is far inferior to that of the basic persistance algorithm. Curiously, the test error is lower than the training error by some metrics. This is perhaps related to the dropout regularization."
   ]
  },
  {
   "cell_type": "markdown",
   "metadata": {},
   "source": [
    "## Neural Network Forecasting of the Returns Data"
   ]
  },
  {
   "cell_type": "code",
   "execution_count": 1608,
   "metadata": {},
   "outputs": [
    {
     "data": {
      "text/plain": [
       "[<matplotlib.lines.Line2D at 0x29f62d98070>]"
      ]
     },
     "execution_count": 1608,
     "metadata": {},
     "output_type": "execute_result"
    },
    {
     "data": {
      "image/png": "[encoded data removed]",
      "text/plain": [
       "<Figure size 432x288 with 1 Axes>"
      ]
     },
     "metadata": {
      "needs_background": "light"
     },
     "output_type": "display_data"
    }
   ],
   "source": [
    "plt.plot(diff)"
   ]
  },
  {
   "cell_type": "code",
   "execution_count": 1609,
   "metadata": {},
   "outputs": [
    {
     "data": {
      "text/plain": [
       "Date\n",
       "2017-07-01 12:00:00   -16.90\n",
       "2017-07-01 13:00:00   -33.53\n",
       "2017-07-01 14:00:00     4.55\n",
       "2017-07-01 15:00:00     8.85\n",
       "2017-07-01 16:00:00    -1.39\n",
       "Name: Close, dtype: float64"
      ]
     },
     "execution_count": 1609,
     "metadata": {},
     "output_type": "execute_result"
    }
   ],
   "source": [
    "diff.head()"
   ]
  },
  {
   "cell_type": "code",
   "execution_count": 1610,
   "metadata": {},
   "outputs": [
    {
     "name": "stdout",
     "output_type": "stream",
     "text": [
      "[[ 2494.87  2477.97  2444.44 ...  2406.26  2433.    2448.  ]\n",
      " [ 2477.97  2444.44  2448.99 ...  2433.    2448.    2470.01]\n",
      " [ 2444.44  2448.99  2457.84 ...  2448.    2470.01  2475.  ]\n",
      " ...\n",
      " [13580.   13456.4  13800.   ... 10830.9  10678.8  10729.  ]\n",
      " [13456.4  13800.   13839.   ... 10678.8  10729.   11089.4 ]\n",
      " [13800.   13839.   12751.3  ... 10729.   11089.4  11148.  ]]\n",
      "(17408, 30)\n"
     ]
    }
   ],
   "source": [
    "diff2 = series_to_supervised(data, WINDOW)\n",
    "X= diff2[:,:WINDOW-1]\n",
    "\n",
    "print(X)\n",
    "print(X.shape)"
   ]
  },
  {
   "cell_type": "code",
   "execution_count": 1611,
   "metadata": {},
   "outputs": [
    {
     "name": "stdout",
     "output_type": "stream",
     "text": [
      "[[ 2475.  ]\n",
      " [ 2482.94]\n",
      " [ 2488.59]\n",
      " ...\n",
      " [11148.  ]\n",
      " [11468.6 ]\n",
      " [11478.4 ]]\n",
      "(17408, 1)\n"
     ]
    }
   ],
   "source": [
    "Y= diff2[:,WINDOW]\n",
    "Y= Y[:,None]\n",
    "print(Y)\n",
    "print(Y.shape)"
   ]
  },
  {
   "cell_type": "code",
   "execution_count": 1612,
   "metadata": {},
   "outputs": [],
   "source": [
    "X = np.where(np.isnan(X), ma.array(X, mask=np.isnan(X)).mean(axis=0), X)"
   ]
  },
  {
   "cell_type": "code",
   "execution_count": 1613,
   "metadata": {},
   "outputs": [],
   "source": [
    "Y = np.where(np.isnan(Y), ma.array(Y, mask=np.isnan(Y)).mean(axis=0), Y)"
   ]
  },
  {
   "cell_type": "code",
   "execution_count": 1614,
   "metadata": {},
   "outputs": [],
   "source": [
    "train_X = X[:int((len(X)+1)*.66)] \n",
    "test_X = X[int(len(X)*.66+1):] "
   ]
  },
  {
   "cell_type": "code",
   "execution_count": 1615,
   "metadata": {},
   "outputs": [
    {
     "data": {
      "text/plain": [
       "11489"
      ]
     },
     "execution_count": 1615,
     "metadata": {},
     "output_type": "execute_result"
    }
   ],
   "source": [
    "len(train_X)"
   ]
  },
  {
   "cell_type": "code",
   "execution_count": 1616,
   "metadata": {},
   "outputs": [
    {
     "data": {
      "text/plain": [
       "5918"
      ]
     },
     "execution_count": 1616,
     "metadata": {},
     "output_type": "execute_result"
    }
   ],
   "source": [
    "len(test_X)"
   ]
  },
  {
   "cell_type": "code",
   "execution_count": 1617,
   "metadata": {},
   "outputs": [],
   "source": [
    "train_Y = Y[:int((len(Y)+1)*.66)] \n",
    "test_Y = Y[int(len(Y)*.66+1):] "
   ]
  },
  {
   "cell_type": "code",
   "execution_count": 1618,
   "metadata": {},
   "outputs": [
    {
     "data": {
      "text/plain": [
       "5918"
      ]
     },
     "execution_count": 1618,
     "metadata": {},
     "output_type": "execute_result"
    }
   ],
   "source": [
    "len(test_Y)"
   ]
  },
  {
   "cell_type": "code",
   "execution_count": 1619,
   "metadata": {},
   "outputs": [
    {
     "data": {
      "text/plain": [
       "11489"
      ]
     },
     "execution_count": 1619,
     "metadata": {},
     "output_type": "execute_result"
    }
   ],
   "source": [
    "len(train_Y)"
   ]
  },
  {
   "cell_type": "code",
   "execution_count": 1620,
   "metadata": {},
   "outputs": [],
   "source": [
    "#norm = MinMaxScaler().fit(train_X)\n",
    "norm = StandardScaler().fit(train_X)"
   ]
  },
  {
   "cell_type": "code",
   "execution_count": 1621,
   "metadata": {},
   "outputs": [],
   "source": [
    "X_train = norm.transform(train_X)\n",
    "\n",
    "X_test = norm.transform(test_X)"
   ]
  },
  {
   "cell_type": "code",
   "execution_count": 1622,
   "metadata": {},
   "outputs": [],
   "source": [
    "Y_train = train_Y\n",
    "Y_test =  test_Y"
   ]
  },
  {
   "cell_type": "code",
   "execution_count": 1623,
   "metadata": {},
   "outputs": [
    {
     "data": {
      "text/plain": [
       "array([[-1.53642481, -1.54186412, -1.55240828, ..., -1.5707812 ,\n",
       "        -1.56282408, -1.55847485],\n",
       "       [-1.54160896, -1.5521506 , -1.55101228, ..., -1.56255606,\n",
       "        -1.55820965, -1.55170326],\n",
       "       [-1.55189444, -1.55075473, -1.54829697, ..., -1.55794211,\n",
       "        -1.55143875, -1.55016804],\n",
       "       ...,\n",
       "       [-0.33473589, -0.33496504, -0.34099366, ..., -0.32364878,\n",
       "        -0.33089593, -0.3311904 ],\n",
       "       [-0.33482791, -0.3408553 , -0.33758802, ..., -0.33075427,\n",
       "        -0.33104975, -0.33337478],\n",
       "       [-0.3407176 , -0.33744999, -0.33823233, ..., -0.33090807,\n",
       "        -0.33323391, -0.33312866]])"
      ]
     },
     "execution_count": 1623,
     "metadata": {},
     "output_type": "execute_result"
    }
   ],
   "source": [
    "X_train.shape, X_test.shape\n",
    "X_train"
   ]
  },
  {
   "cell_type": "code",
   "execution_count": 1624,
   "metadata": {},
   "outputs": [
    {
     "data": {
      "text/plain": [
       "array([[-0.33795681, -0.3384317 , -0.33939823, ..., -0.33284593,\n",
       "        -0.33360306, -0.33192878],\n",
       "       [-0.33829424, -0.33926002, -0.33884596, ..., -0.33346112,\n",
       "        -0.33178806, -0.33494385],\n",
       "       [-0.33912247, -0.33870781, -0.34378568, ..., -0.3316463 ,\n",
       "        -0.33480281, -0.33112887],\n",
       "       ...,\n",
       "       [ 1.8639877 ,  1.82614707,  1.93164368, ...,  1.02061037,\n",
       "         0.97381706,  0.98925334],\n",
       "       [ 1.82607285,  1.93155819,  1.94360945, ...,  0.97382491,\n",
       "         0.98926   ,  1.10013382],\n",
       "       [ 1.93147367,  1.94352278,  1.60988717, ...,  0.98926626,\n",
       "         1.10012922,  1.11816266]])"
      ]
     },
     "execution_count": 1624,
     "metadata": {},
     "output_type": "execute_result"
    }
   ],
   "source": [
    "X_test"
   ]
  },
  {
   "cell_type": "code",
   "execution_count": 1625,
   "metadata": {},
   "outputs": [
    {
     "data": {
      "text/plain": [
       "((11489, 1), (5918, 1))"
      ]
     },
     "execution_count": 1625,
     "metadata": {},
     "output_type": "execute_result"
    }
   ],
   "source": [
    "Y_train.shape, Y_test.shape"
   ]
  },
  {
   "cell_type": "code",
   "execution_count": 1626,
   "metadata": {},
   "outputs": [
    {
     "name": "stdout",
     "output_type": "stream",
     "text": [
      "\n",
      "Epoch 00001: val_loss did not improve from 198159.81250\n",
      "\n",
      "Epoch 00002: val_loss did not improve from 198159.81250\n",
      "\n",
      "Epoch 00003: val_loss did not improve from 198159.81250\n",
      "\n",
      "Epoch 00004: val_loss did not improve from 198159.81250\n",
      "\n",
      "Epoch 00005: val_loss did not improve from 198159.81250\n",
      "\n",
      "Epoch 00006: val_loss did not improve from 198159.81250\n",
      "\n",
      "Epoch 00007: val_loss did not improve from 198159.81250\n",
      "\n",
      "Epoch 00008: val_loss did not improve from 198159.81250\n",
      "\n",
      "Epoch 00009: val_loss did not improve from 198159.81250\n",
      "\n",
      "Epoch 00010: val_loss did not improve from 198159.81250\n",
      "\n",
      "Epoch 00011: val_loss did not improve from 198159.81250\n",
      "\n",
      "Epoch 00012: val_loss did not improve from 198159.81250\n",
      "\n",
      "Epoch 00013: val_loss did not improve from 198159.81250\n",
      "\n",
      "Epoch 00014: val_loss did not improve from 198159.81250\n",
      "\n",
      "Epoch 00015: val_loss did not improve from 198159.81250\n",
      "\n",
      "Epoch 00016: val_loss did not improve from 198159.81250\n",
      "\n",
      "Epoch 00017: val_loss did not improve from 198159.81250\n",
      "\n",
      "Epoch 00018: val_loss did not improve from 198159.81250\n",
      "\n",
      "Epoch 00019: val_loss did not improve from 198159.81250\n",
      "\n",
      "Epoch 00020: val_loss did not improve from 198159.81250\n",
      "\n",
      "Epoch 00021: val_loss did not improve from 198159.81250\n",
      "\n",
      "Epoch 00022: val_loss did not improve from 198159.81250\n",
      "\n",
      "Epoch 00023: val_loss did not improve from 198159.81250\n",
      "\n",
      "Epoch 00024: val_loss did not improve from 198159.81250\n",
      "\n",
      "Epoch 00025: val_loss did not improve from 198159.81250\n",
      "\n",
      "Epoch 00026: val_loss did not improve from 198159.81250\n",
      "\n",
      "Epoch 00027: val_loss did not improve from 198159.81250\n",
      "\n",
      "Epoch 00028: val_loss did not improve from 198159.81250\n",
      "\n",
      "Epoch 00029: val_loss did not improve from 198159.81250\n",
      "\n",
      "Epoch 00030: val_loss did not improve from 198159.81250\n",
      "\n",
      "Epoch 00031: val_loss did not improve from 198159.81250\n",
      "\n",
      "Epoch 00032: val_loss did not improve from 198159.81250\n",
      "\n",
      "Epoch 00033: val_loss did not improve from 198159.81250\n",
      "\n",
      "Epoch 00034: val_loss did not improve from 198159.81250\n",
      "\n",
      "Epoch 00035: ReduceLROnPlateau reducing learning rate to 0.0004304672533180565.\n",
      "\n",
      "Epoch 00035: val_loss did not improve from 198159.81250\n",
      "\n",
      "Epoch 00036: val_loss did not improve from 198159.81250\n",
      "\n",
      "Epoch 00037: val_loss did not improve from 198159.81250\n",
      "\n",
      "Epoch 00038: val_loss did not improve from 198159.81250\n",
      "\n",
      "Epoch 00039: val_loss did not improve from 198159.81250\n",
      "\n",
      "Epoch 00040: val_loss did not improve from 198159.81250\n",
      "\n",
      "Epoch 00041: val_loss did not improve from 198159.81250\n",
      "\n",
      "Epoch 00042: val_loss did not improve from 198159.81250\n",
      "\n",
      "Epoch 00043: val_loss did not improve from 198159.81250\n",
      "\n",
      "Epoch 00044: val_loss did not improve from 198159.81250\n",
      "\n",
      "Epoch 00045: val_loss did not improve from 198159.81250\n",
      "\n",
      "Epoch 00046: val_loss did not improve from 198159.81250\n",
      "\n",
      "Epoch 00047: val_loss did not improve from 198159.81250\n",
      "\n",
      "Epoch 00048: val_loss did not improve from 198159.81250\n",
      "\n",
      "Epoch 00049: val_loss did not improve from 198159.81250\n",
      "\n",
      "Epoch 00050: val_loss did not improve from 198159.81250\n",
      "\n",
      "Epoch 00051: val_loss did not improve from 198159.81250\n",
      "\n",
      "Epoch 00052: val_loss did not improve from 198159.81250\n",
      "\n",
      "Epoch 00053: val_loss did not improve from 198159.81250\n",
      "\n",
      "Epoch 00054: val_loss did not improve from 198159.81250\n",
      "\n",
      "Epoch 00055: val_loss did not improve from 198159.81250\n",
      "\n",
      "Epoch 00056: val_loss did not improve from 198159.81250\n",
      "\n",
      "Epoch 00057: val_loss did not improve from 198159.81250\n",
      "\n",
      "Epoch 00058: val_loss did not improve from 198159.81250\n",
      "\n",
      "Epoch 00059: val_loss did not improve from 198159.81250\n",
      "\n",
      "Epoch 00060: ReduceLROnPlateau reducing learning rate to 0.00038742052274756136.\n",
      "\n",
      "Epoch 00060: val_loss did not improve from 198159.81250\n",
      "\n",
      "Epoch 00061: val_loss did not improve from 198159.81250\n",
      "\n",
      "Epoch 00062: val_loss did not improve from 198159.81250\n",
      "\n",
      "Epoch 00063: val_loss did not improve from 198159.81250\n",
      "\n",
      "Epoch 00064: val_loss did not improve from 198159.81250\n",
      "\n",
      "Epoch 00065: val_loss did not improve from 198159.81250\n",
      "\n",
      "Epoch 00066: val_loss did not improve from 198159.81250\n",
      "\n",
      "Epoch 00067: val_loss did not improve from 198159.81250\n",
      "\n",
      "Epoch 00068: val_loss did not improve from 198159.81250\n",
      "\n",
      "Epoch 00069: val_loss did not improve from 198159.81250\n",
      "\n",
      "Epoch 00070: val_loss did not improve from 198159.81250\n",
      "\n",
      "Epoch 00071: val_loss did not improve from 198159.81250\n",
      "\n",
      "Epoch 00072: val_loss did not improve from 198159.81250\n",
      "\n",
      "Epoch 00073: val_loss did not improve from 198159.81250\n",
      "\n",
      "Epoch 00074: val_loss did not improve from 198159.81250\n",
      "\n",
      "Epoch 00075: val_loss did not improve from 198159.81250\n",
      "\n",
      "Epoch 00076: val_loss did not improve from 198159.81250\n",
      "\n",
      "Epoch 00077: val_loss did not improve from 198159.81250\n",
      "\n",
      "Epoch 00078: val_loss did not improve from 198159.81250\n",
      "\n",
      "Epoch 00079: val_loss did not improve from 198159.81250\n",
      "\n",
      "Epoch 00080: val_loss did not improve from 198159.81250\n",
      "\n",
      "Epoch 00081: val_loss did not improve from 198159.81250\n",
      "\n",
      "Epoch 00082: val_loss did not improve from 198159.81250\n",
      "\n",
      "Epoch 00083: val_loss did not improve from 198159.81250\n",
      "\n",
      "Epoch 00084: val_loss did not improve from 198159.81250\n",
      "\n",
      "Epoch 00085: ReduceLROnPlateau reducing learning rate to 0.0003486784757114947.\n",
      "\n",
      "Epoch 00085: val_loss did not improve from 198159.81250\n",
      "\n",
      "Epoch 00086: val_loss did not improve from 198159.81250\n",
      "\n",
      "Epoch 00087: val_loss did not improve from 198159.81250\n",
      "\n",
      "Epoch 00088: val_loss did not improve from 198159.81250\n",
      "\n",
      "Epoch 00089: val_loss did not improve from 198159.81250\n",
      "\n",
      "Epoch 00090: val_loss did not improve from 198159.81250\n",
      "\n",
      "Epoch 00091: val_loss did not improve from 198159.81250\n",
      "\n",
      "Epoch 00092: val_loss did not improve from 198159.81250\n",
      "\n",
      "Epoch 00093: val_loss did not improve from 198159.81250\n",
      "\n",
      "Epoch 00094: val_loss did not improve from 198159.81250\n",
      "\n",
      "Epoch 00095: val_loss did not improve from 198159.81250\n",
      "\n",
      "Epoch 00096: val_loss did not improve from 198159.81250\n",
      "\n",
      "Epoch 00097: val_loss did not improve from 198159.81250\n",
      "\n",
      "Epoch 00098: val_loss did not improve from 198159.81250\n",
      "\n",
      "Epoch 00099: val_loss did not improve from 198159.81250\n",
      "\n",
      "Epoch 00100: val_loss did not improve from 198159.81250\n",
      "\n",
      "Epoch 00101: val_loss did not improve from 198159.81250\n",
      "\n",
      "Epoch 00102: val_loss did not improve from 198159.81250\n",
      "\n",
      "Epoch 00103: val_loss did not improve from 198159.81250\n",
      "\n",
      "Epoch 00104: val_loss did not improve from 198159.81250\n",
      "\n",
      "Epoch 00105: val_loss did not improve from 198159.81250\n",
      "\n",
      "Epoch 00106: val_loss did not improve from 198159.81250\n",
      "\n",
      "Epoch 00107: val_loss did not improve from 198159.81250\n",
      "\n",
      "Epoch 00108: val_loss did not improve from 198159.81250\n",
      "\n",
      "Epoch 00109: val_loss did not improve from 198159.81250\n",
      "\n",
      "Epoch 00110: ReduceLROnPlateau reducing learning rate to 0.00031381062290165574.\n",
      "\n",
      "Epoch 00110: val_loss did not improve from 198159.81250\n",
      "\n",
      "Epoch 00111: val_loss did not improve from 198159.81250\n",
      "\n",
      "Epoch 00112: val_loss did not improve from 198159.81250\n",
      "\n",
      "Epoch 00113: val_loss did not improve from 198159.81250\n",
      "\n",
      "Epoch 00114: val_loss did not improve from 198159.81250\n",
      "\n",
      "Epoch 00115: val_loss did not improve from 198159.81250\n",
      "\n",
      "Epoch 00116: val_loss did not improve from 198159.81250\n",
      "\n",
      "Epoch 00117: val_loss did not improve from 198159.81250\n",
      "\n",
      "Epoch 00118: val_loss did not improve from 198159.81250\n",
      "\n",
      "Epoch 00119: val_loss did not improve from 198159.81250\n",
      "\n",
      "Epoch 00120: val_loss did not improve from 198159.81250\n",
      "\n",
      "Epoch 00121: val_loss did not improve from 198159.81250\n",
      "\n",
      "Epoch 00122: val_loss did not improve from 198159.81250\n",
      "\n",
      "Epoch 00123: val_loss did not improve from 198159.81250\n",
      "\n",
      "Epoch 00124: val_loss did not improve from 198159.81250\n",
      "\n",
      "Epoch 00125: val_loss did not improve from 198159.81250\n",
      "\n",
      "Epoch 00126: val_loss did not improve from 198159.81250\n",
      "\n",
      "Epoch 00127: val_loss did not improve from 198159.81250\n",
      "\n",
      "Epoch 00128: val_loss did not improve from 198159.81250\n",
      "\n",
      "Epoch 00129: val_loss did not improve from 198159.81250\n",
      "\n",
      "Epoch 00130: val_loss did not improve from 198159.81250\n",
      "\n",
      "Epoch 00131: val_loss did not improve from 198159.81250\n",
      "\n",
      "Epoch 00132: val_loss did not improve from 198159.81250\n",
      "\n",
      "Epoch 00133: val_loss did not improve from 198159.81250\n",
      "\n",
      "Epoch 00134: val_loss did not improve from 198159.81250\n",
      "\n",
      "Epoch 00135: ReduceLROnPlateau reducing learning rate to 0.0002824295632308349.\n",
      "\n",
      "Epoch 00135: val_loss did not improve from 198159.81250\n",
      "\n",
      "Epoch 00136: val_loss did not improve from 198159.81250\n",
      "\n",
      "Epoch 00137: val_loss did not improve from 198159.81250\n",
      "\n",
      "Epoch 00138: val_loss did not improve from 198159.81250\n"
     ]
    },
    {
     "name": "stdout",
     "output_type": "stream",
     "text": [
      "\n",
      "Epoch 00139: val_loss did not improve from 198159.81250\n",
      "\n",
      "Epoch 00140: val_loss did not improve from 198159.81250\n",
      "\n",
      "Epoch 00141: val_loss did not improve from 198159.81250\n",
      "\n",
      "Epoch 00142: val_loss did not improve from 198159.81250\n",
      "\n",
      "Epoch 00143: val_loss did not improve from 198159.81250\n",
      "\n",
      "Epoch 00144: val_loss did not improve from 198159.81250\n",
      "\n",
      "Epoch 00145: val_loss did not improve from 198159.81250\n",
      "\n",
      "Epoch 00146: val_loss did not improve from 198159.81250\n",
      "\n",
      "Epoch 00147: val_loss did not improve from 198159.81250\n",
      "\n",
      "Epoch 00148: val_loss did not improve from 198159.81250\n",
      "\n",
      "Epoch 00149: val_loss did not improve from 198159.81250\n",
      "\n",
      "Epoch 00150: val_loss did not improve from 198159.81250\n",
      "\n",
      "Epoch 00151: val_loss did not improve from 198159.81250\n",
      "\n",
      "Epoch 00152: val_loss did not improve from 198159.81250\n",
      "\n",
      "Epoch 00153: val_loss did not improve from 198159.81250\n",
      "\n",
      "Epoch 00154: val_loss did not improve from 198159.81250\n",
      "\n",
      "Epoch 00155: val_loss did not improve from 198159.81250\n",
      "\n",
      "Epoch 00156: val_loss did not improve from 198159.81250\n",
      "\n",
      "Epoch 00157: val_loss did not improve from 198159.81250\n",
      "\n",
      "Epoch 00158: val_loss did not improve from 198159.81250\n",
      "\n",
      "Epoch 00159: val_loss did not improve from 198159.81250\n",
      "\n",
      "Epoch 00160: ReduceLROnPlateau reducing learning rate to 0.00025418660952709616.\n",
      "\n",
      "Epoch 00160: val_loss did not improve from 198159.81250\n",
      "\n",
      "Epoch 00161: val_loss did not improve from 198159.81250\n",
      "\n",
      "Epoch 00162: val_loss did not improve from 198159.81250\n",
      "\n",
      "Epoch 00163: val_loss did not improve from 198159.81250\n",
      "\n",
      "Epoch 00164: val_loss did not improve from 198159.81250\n",
      "\n",
      "Epoch 00165: val_loss did not improve from 198159.81250\n",
      "\n",
      "Epoch 00166: val_loss did not improve from 198159.81250\n",
      "\n",
      "Epoch 00167: val_loss did not improve from 198159.81250\n",
      "\n",
      "Epoch 00168: val_loss did not improve from 198159.81250\n",
      "\n",
      "Epoch 00169: val_loss did not improve from 198159.81250\n",
      "\n",
      "Epoch 00170: val_loss did not improve from 198159.81250\n",
      "\n",
      "Epoch 00171: val_loss did not improve from 198159.81250\n",
      "\n",
      "Epoch 00172: val_loss did not improve from 198159.81250\n",
      "\n",
      "Epoch 00173: val_loss did not improve from 198159.81250\n",
      "\n",
      "Epoch 00174: val_loss did not improve from 198159.81250\n",
      "\n",
      "Epoch 00175: val_loss did not improve from 198159.81250\n",
      "\n",
      "Epoch 00176: val_loss did not improve from 198159.81250\n",
      "\n",
      "Epoch 00177: val_loss did not improve from 198159.81250\n",
      "\n",
      "Epoch 00178: val_loss did not improve from 198159.81250\n",
      "\n",
      "Epoch 00179: val_loss did not improve from 198159.81250\n",
      "\n",
      "Epoch 00180: val_loss did not improve from 198159.81250\n",
      "\n",
      "Epoch 00181: val_loss did not improve from 198159.81250\n",
      "\n",
      "Epoch 00182: val_loss did not improve from 198159.81250\n",
      "\n",
      "Epoch 00183: val_loss did not improve from 198159.81250\n",
      "\n",
      "Epoch 00184: val_loss did not improve from 198159.81250\n",
      "\n",
      "Epoch 00185: ReduceLROnPlateau reducing learning rate to 0.00022876793809700757.\n",
      "\n",
      "Epoch 00185: val_loss did not improve from 198159.81250\n",
      "\n",
      "Epoch 00186: val_loss did not improve from 198159.81250\n",
      "\n",
      "Epoch 00187: val_loss did not improve from 198159.81250\n",
      "\n",
      "Epoch 00188: val_loss did not improve from 198159.81250\n",
      "\n",
      "Epoch 00189: val_loss did not improve from 198159.81250\n",
      "\n",
      "Epoch 00190: val_loss did not improve from 198159.81250\n",
      "\n",
      "Epoch 00191: val_loss did not improve from 198159.81250\n",
      "\n",
      "Epoch 00192: val_loss did not improve from 198159.81250\n",
      "\n",
      "Epoch 00193: val_loss did not improve from 198159.81250\n",
      "\n",
      "Epoch 00194: val_loss did not improve from 198159.81250\n",
      "\n",
      "Epoch 00195: val_loss did not improve from 198159.81250\n",
      "\n",
      "Epoch 00196: val_loss did not improve from 198159.81250\n",
      "\n",
      "Epoch 00197: val_loss did not improve from 198159.81250\n",
      "\n",
      "Epoch 00198: val_loss did not improve from 198159.81250\n",
      "\n",
      "Epoch 00199: val_loss did not improve from 198159.81250\n",
      "\n",
      "Epoch 00200: val_loss did not improve from 198159.81250\n",
      "\n",
      "Epoch 00201: val_loss did not improve from 198159.81250\n",
      "\n",
      "Epoch 00202: val_loss did not improve from 198159.81250\n",
      "\n",
      "Epoch 00203: val_loss did not improve from 198159.81250\n",
      "\n",
      "Epoch 00204: val_loss did not improve from 198159.81250\n",
      "\n",
      "Epoch 00205: val_loss did not improve from 198159.81250\n",
      "\n",
      "Epoch 00206: val_loss did not improve from 198159.81250\n",
      "\n",
      "Epoch 00207: val_loss did not improve from 198159.81250\n",
      "\n",
      "Epoch 00208: val_loss did not improve from 198159.81250\n",
      "\n",
      "Epoch 00209: val_loss did not improve from 198159.81250\n",
      "\n",
      "Epoch 00210: ReduceLROnPlateau reducing learning rate to 0.00020589114428730683.\n",
      "\n",
      "Epoch 00210: val_loss did not improve from 198159.81250\n",
      "\n",
      "Epoch 00211: val_loss did not improve from 198159.81250\n",
      "\n",
      "Epoch 00212: val_loss did not improve from 198159.81250\n",
      "\n",
      "Epoch 00213: val_loss did not improve from 198159.81250\n",
      "\n",
      "Epoch 00214: val_loss did not improve from 198159.81250\n",
      "\n",
      "Epoch 00215: val_loss did not improve from 198159.81250\n",
      "\n",
      "Epoch 00216: val_loss did not improve from 198159.81250\n",
      "\n",
      "Epoch 00217: val_loss did not improve from 198159.81250\n",
      "\n",
      "Epoch 00218: val_loss did not improve from 198159.81250\n",
      "\n",
      "Epoch 00219: val_loss did not improve from 198159.81250\n",
      "\n",
      "Epoch 00220: val_loss did not improve from 198159.81250\n",
      "\n",
      "Epoch 00221: val_loss did not improve from 198159.81250\n",
      "\n",
      "Epoch 00222: val_loss did not improve from 198159.81250\n",
      "\n",
      "Epoch 00223: val_loss did not improve from 198159.81250\n",
      "\n",
      "Epoch 00224: val_loss did not improve from 198159.81250\n",
      "\n",
      "Epoch 00225: val_loss did not improve from 198159.81250\n",
      "\n",
      "Epoch 00226: val_loss did not improve from 198159.81250\n",
      "\n",
      "Epoch 00227: val_loss did not improve from 198159.81250\n",
      "\n",
      "Epoch 00228: val_loss did not improve from 198159.81250\n",
      "\n",
      "Epoch 00229: val_loss did not improve from 198159.81250\n",
      "\n",
      "Epoch 00230: val_loss did not improve from 198159.81250\n",
      "\n",
      "Epoch 00231: val_loss did not improve from 198159.81250\n",
      "\n",
      "Epoch 00232: val_loss did not improve from 198159.81250\n",
      "\n",
      "Epoch 00233: val_loss did not improve from 198159.81250\n",
      "\n",
      "Epoch 00234: val_loss did not improve from 198159.81250\n",
      "\n",
      "Epoch 00235: ReduceLROnPlateau reducing learning rate to 0.00018530203378759326.\n",
      "\n",
      "Epoch 00235: val_loss did not improve from 198159.81250\n",
      "\n",
      "Epoch 00236: val_loss did not improve from 198159.81250\n",
      "\n",
      "Epoch 00237: val_loss did not improve from 198159.81250\n",
      "\n",
      "Epoch 00238: val_loss did not improve from 198159.81250\n",
      "\n",
      "Epoch 00239: val_loss did not improve from 198159.81250\n",
      "\n",
      "Epoch 00240: val_loss did not improve from 198159.81250\n",
      "\n",
      "Epoch 00241: val_loss did not improve from 198159.81250\n",
      "\n",
      "Epoch 00242: val_loss did not improve from 198159.81250\n",
      "\n",
      "Epoch 00243: val_loss did not improve from 198159.81250\n",
      "\n",
      "Epoch 00244: val_loss did not improve from 198159.81250\n",
      "\n",
      "Epoch 00245: val_loss did not improve from 198159.81250\n",
      "\n",
      "Epoch 00246: val_loss did not improve from 198159.81250\n",
      "\n",
      "Epoch 00247: val_loss did not improve from 198159.81250\n",
      "\n",
      "Epoch 00248: val_loss did not improve from 198159.81250\n",
      "\n",
      "Epoch 00249: val_loss did not improve from 198159.81250\n",
      "\n",
      "Epoch 00250: val_loss did not improve from 198159.81250\n",
      "\n",
      "Epoch 00251: val_loss did not improve from 198159.81250\n",
      "\n",
      "Epoch 00252: val_loss did not improve from 198159.81250\n",
      "\n",
      "Epoch 00253: val_loss did not improve from 198159.81250\n",
      "\n",
      "Epoch 00254: val_loss did not improve from 198159.81250\n",
      "\n",
      "Epoch 00255: val_loss did not improve from 198159.81250\n",
      "\n",
      "Epoch 00256: val_loss did not improve from 198159.81250\n",
      "\n",
      "Epoch 00257: val_loss did not improve from 198159.81250\n",
      "\n",
      "Epoch 00258: val_loss did not improve from 198159.81250\n",
      "\n",
      "Epoch 00259: val_loss did not improve from 198159.81250\n",
      "\n",
      "Epoch 00260: ReduceLROnPlateau reducing learning rate to 0.00016677183302817866.\n",
      "\n",
      "Epoch 00260: val_loss did not improve from 198159.81250\n",
      "\n",
      "Epoch 00261: val_loss did not improve from 198159.81250\n",
      "\n",
      "Epoch 00262: val_loss did not improve from 198159.81250\n",
      "\n",
      "Epoch 00263: val_loss did not improve from 198159.81250\n",
      "\n",
      "Epoch 00264: val_loss did not improve from 198159.81250\n",
      "\n",
      "Epoch 00265: val_loss did not improve from 198159.81250\n",
      "\n",
      "Epoch 00266: val_loss did not improve from 198159.81250\n",
      "\n",
      "Epoch 00267: val_loss did not improve from 198159.81250\n",
      "\n",
      "Epoch 00268: val_loss did not improve from 198159.81250\n",
      "\n",
      "Epoch 00269: val_loss did not improve from 198159.81250\n",
      "\n",
      "Epoch 00270: val_loss did not improve from 198159.81250\n",
      "\n",
      "Epoch 00271: val_loss did not improve from 198159.81250\n",
      "\n",
      "Epoch 00272: val_loss did not improve from 198159.81250\n",
      "\n",
      "Epoch 00273: val_loss did not improve from 198159.81250\n",
      "\n",
      "Epoch 00274: val_loss did not improve from 198159.81250\n",
      "\n",
      "Epoch 00275: val_loss did not improve from 198159.81250\n"
     ]
    },
    {
     "name": "stdout",
     "output_type": "stream",
     "text": [
      "\n",
      "Epoch 00276: val_loss did not improve from 198159.81250\n",
      "\n",
      "Epoch 00277: val_loss did not improve from 198159.81250\n",
      "\n",
      "Epoch 00278: val_loss did not improve from 198159.81250\n",
      "\n",
      "Epoch 00279: val_loss did not improve from 198159.81250\n",
      "\n",
      "Epoch 00280: val_loss did not improve from 198159.81250\n",
      "\n",
      "Epoch 00281: val_loss did not improve from 198159.81250\n",
      "\n",
      "Epoch 00282: val_loss did not improve from 198159.81250\n",
      "\n",
      "Epoch 00283: val_loss did not improve from 198159.81250\n",
      "\n",
      "Epoch 00284: val_loss did not improve from 198159.81250\n",
      "\n",
      "Epoch 00285: ReduceLROnPlateau reducing learning rate to 0.00015009464841568844.\n",
      "\n",
      "Epoch 00285: val_loss did not improve from 198159.81250\n",
      "\n",
      "Epoch 00286: val_loss did not improve from 198159.81250\n",
      "\n",
      "Epoch 00287: val_loss did not improve from 198159.81250\n",
      "\n",
      "Epoch 00288: val_loss did not improve from 198159.81250\n",
      "\n",
      "Epoch 00289: val_loss did not improve from 198159.81250\n",
      "\n",
      "Epoch 00290: val_loss did not improve from 198159.81250\n",
      "\n",
      "Epoch 00291: val_loss did not improve from 198159.81250\n",
      "\n",
      "Epoch 00292: val_loss did not improve from 198159.81250\n",
      "\n",
      "Epoch 00293: val_loss did not improve from 198159.81250\n",
      "\n",
      "Epoch 00294: val_loss did not improve from 198159.81250\n",
      "\n",
      "Epoch 00295: val_loss did not improve from 198159.81250\n",
      "\n",
      "Epoch 00296: val_loss did not improve from 198159.81250\n",
      "\n",
      "Epoch 00297: val_loss did not improve from 198159.81250\n",
      "\n",
      "Epoch 00298: val_loss did not improve from 198159.81250\n",
      "\n",
      "Epoch 00299: val_loss did not improve from 198159.81250\n",
      "\n",
      "Epoch 00300: val_loss did not improve from 198159.81250\n",
      "\n",
      "Epoch 00301: val_loss did not improve from 198159.81250\n",
      "\n",
      "Epoch 00302: val_loss did not improve from 198159.81250\n",
      "\n",
      "Epoch 00303: val_loss did not improve from 198159.81250\n",
      "\n",
      "Epoch 00304: val_loss did not improve from 198159.81250\n",
      "\n",
      "Epoch 00305: val_loss did not improve from 198159.81250\n",
      "\n",
      "Epoch 00306: val_loss did not improve from 198159.81250\n",
      "\n",
      "Epoch 00307: val_loss did not improve from 198159.81250\n",
      "\n",
      "Epoch 00308: val_loss did not improve from 198159.81250\n",
      "\n",
      "Epoch 00309: val_loss did not improve from 198159.81250\n",
      "\n",
      "Epoch 00310: ReduceLROnPlateau reducing learning rate to 0.0001350851875031367.\n",
      "\n",
      "Epoch 00310: val_loss did not improve from 198159.81250\n",
      "\n",
      "Epoch 00311: val_loss did not improve from 198159.81250\n",
      "\n",
      "Epoch 00312: val_loss did not improve from 198159.81250\n",
      "\n",
      "Epoch 00313: val_loss did not improve from 198159.81250\n",
      "\n",
      "Epoch 00314: val_loss did not improve from 198159.81250\n",
      "\n",
      "Epoch 00315: val_loss did not improve from 198159.81250\n",
      "\n",
      "Epoch 00316: val_loss did not improve from 198159.81250\n",
      "\n",
      "Epoch 00317: val_loss did not improve from 198159.81250\n",
      "\n",
      "Epoch 00318: val_loss did not improve from 198159.81250\n",
      "\n",
      "Epoch 00319: val_loss did not improve from 198159.81250\n",
      "\n",
      "Epoch 00320: val_loss did not improve from 198159.81250\n",
      "\n",
      "Epoch 00321: val_loss did not improve from 198159.81250\n",
      "\n",
      "Epoch 00322: val_loss did not improve from 198159.81250\n",
      "\n",
      "Epoch 00323: val_loss did not improve from 198159.81250\n",
      "\n",
      "Epoch 00324: val_loss did not improve from 198159.81250\n",
      "\n",
      "Epoch 00325: val_loss did not improve from 198159.81250\n",
      "\n",
      "Epoch 00326: val_loss did not improve from 198159.81250\n",
      "\n",
      "Epoch 00327: val_loss did not improve from 198159.81250\n",
      "\n",
      "Epoch 00328: val_loss did not improve from 198159.81250\n",
      "\n",
      "Epoch 00329: val_loss did not improve from 198159.81250\n",
      "\n",
      "Epoch 00330: val_loss did not improve from 198159.81250\n",
      "\n",
      "Epoch 00331: val_loss did not improve from 198159.81250\n",
      "\n",
      "Epoch 00332: val_loss did not improve from 198159.81250\n",
      "\n",
      "Epoch 00333: val_loss did not improve from 198159.81250\n",
      "\n",
      "Epoch 00334: val_loss did not improve from 198159.81250\n",
      "\n",
      "Epoch 00335: ReduceLROnPlateau reducing learning rate to 0.00012157666351413355.\n",
      "\n",
      "Epoch 00335: val_loss did not improve from 198159.81250\n",
      "\n",
      "Epoch 00336: val_loss did not improve from 198159.81250\n",
      "\n",
      "Epoch 00337: val_loss did not improve from 198159.81250\n",
      "\n",
      "Epoch 00338: val_loss did not improve from 198159.81250\n",
      "\n",
      "Epoch 00339: val_loss did not improve from 198159.81250\n",
      "\n",
      "Epoch 00340: val_loss did not improve from 198159.81250\n",
      "\n",
      "Epoch 00341: val_loss did not improve from 198159.81250\n",
      "\n",
      "Epoch 00342: val_loss did not improve from 198159.81250\n",
      "\n",
      "Epoch 00343: val_loss did not improve from 198159.81250\n",
      "\n",
      "Epoch 00344: val_loss did not improve from 198159.81250\n",
      "\n",
      "Epoch 00345: val_loss did not improve from 198159.81250\n",
      "\n",
      "Epoch 00346: val_loss did not improve from 198159.81250\n",
      "\n",
      "Epoch 00347: val_loss did not improve from 198159.81250\n",
      "\n",
      "Epoch 00348: val_loss did not improve from 198159.81250\n",
      "\n",
      "Epoch 00349: val_loss did not improve from 198159.81250\n",
      "\n",
      "Epoch 00350: val_loss did not improve from 198159.81250\n",
      "\n",
      "Epoch 00351: val_loss did not improve from 198159.81250\n",
      "\n",
      "Epoch 00352: val_loss did not improve from 198159.81250\n",
      "\n",
      "Epoch 00353: val_loss did not improve from 198159.81250\n",
      "\n",
      "Epoch 00354: val_loss improved from 198159.81250 to 192996.29688, saving model to test.hdf5\n",
      "\n",
      "Epoch 00355: val_loss did not improve from 192996.29688\n",
      "\n",
      "Epoch 00356: val_loss did not improve from 192996.29688\n",
      "\n",
      "Epoch 00357: val_loss did not improve from 192996.29688\n",
      "\n",
      "Epoch 00358: val_loss did not improve from 192996.29688\n",
      "\n",
      "Epoch 00359: val_loss did not improve from 192996.29688\n",
      "\n",
      "Epoch 00360: val_loss did not improve from 192996.29688\n",
      "\n",
      "Epoch 00361: val_loss did not improve from 192996.29688\n",
      "\n",
      "Epoch 00362: val_loss did not improve from 192996.29688\n",
      "\n",
      "Epoch 00363: val_loss did not improve from 192996.29688\n",
      "\n",
      "Epoch 00364: val_loss did not improve from 192996.29688\n",
      "\n",
      "Epoch 00365: val_loss did not improve from 192996.29688\n",
      "\n",
      "Epoch 00366: val_loss did not improve from 192996.29688\n",
      "\n",
      "Epoch 00367: val_loss did not improve from 192996.29688\n",
      "\n",
      "Epoch 00368: val_loss did not improve from 192996.29688\n",
      "\n",
      "Epoch 00369: val_loss did not improve from 192996.29688\n",
      "\n",
      "Epoch 00370: val_loss did not improve from 192996.29688\n",
      "\n",
      "Epoch 00371: val_loss did not improve from 192996.29688\n",
      "\n",
      "Epoch 00372: val_loss did not improve from 192996.29688\n",
      "\n",
      "Epoch 00373: val_loss did not improve from 192996.29688\n",
      "\n",
      "Epoch 00374: val_loss did not improve from 192996.29688\n",
      "\n",
      "Epoch 00375: val_loss did not improve from 192996.29688\n",
      "\n",
      "Epoch 00376: val_loss did not improve from 192996.29688\n",
      "\n",
      "Epoch 00377: val_loss did not improve from 192996.29688\n",
      "\n",
      "Epoch 00378: val_loss did not improve from 192996.29688\n",
      "\n",
      "Epoch 00379: ReduceLROnPlateau reducing learning rate to 0.00010941899454337544.\n",
      "\n",
      "Epoch 00379: val_loss did not improve from 192996.29688\n",
      "\n",
      "Epoch 00380: val_loss did not improve from 192996.29688\n",
      "\n",
      "Epoch 00381: val_loss did not improve from 192996.29688\n",
      "\n",
      "Epoch 00382: val_loss did not improve from 192996.29688\n",
      "\n",
      "Epoch 00383: val_loss did not improve from 192996.29688\n",
      "\n",
      "Epoch 00384: val_loss did not improve from 192996.29688\n",
      "\n",
      "Epoch 00385: val_loss did not improve from 192996.29688\n",
      "\n",
      "Epoch 00386: val_loss did not improve from 192996.29688\n",
      "\n",
      "Epoch 00387: val_loss did not improve from 192996.29688\n",
      "\n",
      "Epoch 00388: val_loss did not improve from 192996.29688\n",
      "\n",
      "Epoch 00389: val_loss did not improve from 192996.29688\n",
      "\n",
      "Epoch 00390: val_loss did not improve from 192996.29688\n",
      "\n",
      "Epoch 00391: val_loss did not improve from 192996.29688\n",
      "\n",
      "Epoch 00392: val_loss did not improve from 192996.29688\n",
      "\n",
      "Epoch 00393: val_loss did not improve from 192996.29688\n",
      "\n",
      "Epoch 00394: val_loss did not improve from 192996.29688\n",
      "\n",
      "Epoch 00395: val_loss did not improve from 192996.29688\n",
      "\n",
      "Epoch 00396: val_loss did not improve from 192996.29688\n",
      "\n",
      "Epoch 00397: val_loss did not improve from 192996.29688\n",
      "\n",
      "Epoch 00398: val_loss did not improve from 192996.29688\n",
      "\n",
      "Epoch 00399: val_loss did not improve from 192996.29688\n",
      "\n",
      "Epoch 00400: val_loss did not improve from 192996.29688\n"
     ]
    }
   ],
   "source": [
    "history = model.fit(X_train, Y_train, \n",
    "          epochs = 400, \n",
    "          batch_size = 128, \n",
    "          verbose=0, \n",
    "          validation_data=(X_test, Y_test),\n",
    "          callbacks=[reduce_lr, checkpointer],\n",
    "          )"
   ]
  },
  {
   "cell_type": "markdown",
   "metadata": {},
   "source": [
    "Plotting graphs of the model less as well as three different measures: MAPE, MAE and MSE."
   ]
  },
  {
   "cell_type": "code",
   "execution_count": 1627,
   "metadata": {},
   "outputs": [
    {
     "data": {
      "image/png": "[encoded data removed]",
      "text/plain": [
       "<Figure size 432x288 with 1 Axes>"
      ]
     },
     "metadata": {
      "needs_background": "light"
     },
     "output_type": "display_data"
    }
   ],
   "source": [
    "plt.figure()\n",
    "plt.plot(history.history['loss'])\n",
    "plt.plot(history.history['val_loss'])\n",
    "plt.title('model loss')\n",
    "plt.ylabel('loss')\n",
    "plt.xlabel('epoch')\n",
    "plt.legend(['train', 'test'], loc='best')\n",
    "plt.show()"
   ]
  },
  {
   "cell_type": "code",
   "execution_count": 1628,
   "metadata": {},
   "outputs": [
    {
     "data": {
      "text/plain": [
       "<matplotlib.legend.Legend at 0x29f13c47be0>"
      ]
     },
     "execution_count": 1628,
     "metadata": {},
     "output_type": "execute_result"
    },
    {
     "data": {
      "image/png": "[encoded data removed]",
      "text/plain": [
       "<Figure size 432x288 with 1 Axes>"
      ]
     },
     "metadata": {
      "needs_background": "light"
     },
     "output_type": "display_data"
    }
   ],
   "source": [
    "plt.plot(history.history['mape'])\n",
    "plt.plot(history.history['val_mape'])\n",
    "plt.title('model mape')\n",
    "plt.ylabel('mape')\n",
    "plt.xlabel('epoch')\n",
    "plt.legend(['train', 'test'], loc='best')"
   ]
  },
  {
   "cell_type": "code",
   "execution_count": 1629,
   "metadata": {},
   "outputs": [
    {
     "data": {
      "text/plain": [
       "<matplotlib.legend.Legend at 0x29f6f9b67f0>"
      ]
     },
     "execution_count": 1629,
     "metadata": {},
     "output_type": "execute_result"
    },
    {
     "data": {
      "image/png": "[encoded data removed]",
      "text/plain": [
       "<Figure size 432x288 with 1 Axes>"
      ]
     },
     "metadata": {
      "needs_background": "light"
     },
     "output_type": "display_data"
    }
   ],
   "source": [
    "plt.plot(history.history['mae'])\n",
    "plt.plot(history.history['val_mae'])\n",
    "plt.title('model mae')\n",
    "plt.ylabel('mae')\n",
    "plt.xlabel('epoch')\n",
    "plt.legend(['train', 'test'], loc='best')"
   ]
  },
  {
   "cell_type": "code",
   "execution_count": 1630,
   "metadata": {},
   "outputs": [
    {
     "data": {
      "image/png": "[encoded data removed]",
      "text/plain": [
       "<Figure size 432x288 with 1 Axes>"
      ]
     },
     "metadata": {
      "needs_background": "light"
     },
     "output_type": "display_data"
    }
   ],
   "source": [
    "plt.figure()\n",
    "plt.plot(history.history['mse'])\n",
    "plt.plot(history.history['val_mse'])\n",
    "plt.title('model mse')\n",
    "plt.ylabel('mse')\n",
    "plt.xlabel('epoch')\n",
    "plt.legend(['train', 'test'], loc='best')\n",
    "plt.show()"
   ]
  },
  {
   "cell_type": "markdown",
   "metadata": {},
   "source": [
    "Computing the minimum of the three error measures."
   ]
  },
  {
   "cell_type": "code",
   "execution_count": 1666,
   "metadata": {},
   "outputs": [
    {
     "name": "stdout",
     "output_type": "stream",
     "text": [
      "The minimum mean absolute percentage error of the training data is 6.644664287567139\n"
     ]
    }
   ],
   "source": [
    "print('The minimum mean absolute percentage error of the training data is', (np.min(history.history['mape'][150:])))"
   ]
  },
  {
   "cell_type": "code",
   "execution_count": 1667,
   "metadata": {},
   "outputs": [
    {
     "name": "stdout",
     "output_type": "stream",
     "text": [
      "The minimum mean absolute percentage error of the test data is 9.064825057983398\n"
     ]
    }
   ],
   "source": [
    "print('The minimum mean absolute percentage error of the test data is', (np.min(history.history['val_mape'][150:])))"
   ]
  },
  {
   "cell_type": "code",
   "execution_count": 1668,
   "metadata": {},
   "outputs": [
    {
     "name": "stdout",
     "output_type": "stream",
     "text": [
      "The minimum mean absolute error of the training data is 435.8214416503906\n"
     ]
    }
   ],
   "source": [
    "print('The minimum mean absolute error of the training data is', (np.min(history.history['mae'][150:])))"
   ]
  },
  {
   "cell_type": "code",
   "execution_count": 1669,
   "metadata": {},
   "outputs": [
    {
     "name": "stdout",
     "output_type": "stream",
     "text": [
      "The minimum mean absolute error of the test data is 372.3679504394531\n"
     ]
    }
   ],
   "source": [
    "print('The minimum mean absolute error of the test data is', (np.min(history.history['val_mae'][150:])))"
   ]
  },
  {
   "cell_type": "code",
   "execution_count": 1670,
   "metadata": {},
   "outputs": [
    {
     "name": "stdout",
     "output_type": "stream",
     "text": [
      "The minimum root mean square error of the training data is 596.1538444478908\n"
     ]
    }
   ],
   "source": [
    "print('The minimum root mean square error of the training data is', np.sqrt(np.min(history.history['mse'][150:])))"
   ]
  },
  {
   "cell_type": "code",
   "execution_count": 1671,
   "metadata": {},
   "outputs": [
    {
     "name": "stdout",
     "output_type": "stream",
     "text": [
      "The minimum root mean square error of the test  data is 439.31190869927485\n"
     ]
    }
   ],
   "source": [
    "print('The minimum root mean square error of the test  data is', np.sqrt(np.min(history.history['val_mse'][150:])))"
   ]
  },
  {
   "cell_type": "markdown",
   "metadata": {},
   "source": [
    "The best regression performance of the return time series is about the same as the raw data. Though the time series is now trend stationary it seems the differencing operation has removed the memory as well thus greatly impacting predictability."
   ]
  },
  {
   "cell_type": "markdown",
   "metadata": {},
   "source": [
    "## Results and Discussion"
   ]
  },
  {
   "cell_type": "markdown",
   "metadata": {},
   "source": [
    "The neural network forecasts for the raw Bitcoin time series were very poor - worse even than the very simple persistance forecast. This is unsurprising given the disjointed nature of the time series. More sophisticated features than the raw time series such as technical indicators may give better forecasting accuracy. The time series of the returns gave an equally bad forecast which is clearly a consequence of most of the memory in the time series  being removed by the first differencing, as evidinced by its autocorrelation function. It would be interesting to compare the performances of the first differenced time series with a fractionally differenced time series.  Fractional differencing of a time series only removes the bare minimum of the nonstationary while preserving much of the memory and hence predictability in a time series."
   ]
  },
  {
   "cell_type": "markdown",
   "metadata": {},
   "source": [
    "In finance we are often only interested in predicting price increases or decreases in a time series rather than the actual value. This is a classification rather than a pure regression problem. This will be the subject of the next part of the project."
   ]
  },
  {
   "cell_type": "markdown",
   "metadata": {},
   "source": [
    "## "
   ]
  }
 ],
 "metadata": {
  "kernelspec": {
   "display_name": "Python 3",
   "language": "python",
   "name": "python3"
  },
  "language_info": {
   "codemirror_mode": {
    "name": "ipython",
    "version": 3
   },
   "file_extension": ".py",
   "mimetype": "text/x-python",
   "name": "python",
   "nbconvert_exporter": "python",
   "pygments_lexer": "ipython3",
   "version": "3.8.5"
  }
 },
 "nbformat": 4,
 "nbformat_minor": 2
}
