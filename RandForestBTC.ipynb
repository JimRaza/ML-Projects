{
 "cells": [
  {
   "cell_type": "markdown",
   "metadata": {},
   "source": [
    "# Bitcoin Time Series Forecasting  - Part 4: Random Forest Classification"
   ]
  },
  {
   "cell_type": "markdown",
   "metadata": {},
   "source": [
    "# Introduction"
   ]
  },
  {
   "cell_type": "markdown",
   "metadata": {},
   "source": [
    "In the fourth part of the project I continue to formulate Bitcoin price forecasting as a binary classification problem. This time, however, I train Random Forest classifier on a sequence of past data points to predict a price increase or decrease in the next time step. Once again I do this on both the raw time series and the time series of returns. "
   ]
  },
  {
   "cell_type": "markdown",
   "metadata": {},
   "source": [
    "Loading several needed packages:"
   ]
  },
  {
   "cell_type": "code",
   "execution_count": 2668,
   "metadata": {},
   "outputs": [
    {
     "data": {
      "text/plain": [
       "<Figure size 432x288 with 0 Axes>"
      ]
     },
     "metadata": {},
     "output_type": "display_data"
    }
   ],
   "source": [
    "import pandas as pd\n",
    "import numpy as np\n",
    "import matplotlib.pyplot as plt\n",
    "import numpy.ma as ma\n",
    "import matplotlib.pylab as plt\n",
    "import seaborn as sns\n",
    "sns.despine()\n",
    "import statsmodels.api as sm\n",
    "from statsmodels.graphics.gofplots import qqplot\n",
    "#%matplotlib # to prevent duplicate plots by statsmodels \n",
    "\n",
    "from sklearn.preprocessing import MinMaxScaler\n",
    "from sklearn.preprocessing import StandardScaler\n",
    "from sklearn.metrics import confusion_matrix\n",
    "from sklearn.metrics import classification_report\n",
    "from sklearn.metrics import roc_curve\n",
    "from sklearn.metrics import auc"
   ]
  },
  {
   "cell_type": "markdown",
   "metadata": {},
   "source": [
    "Loading various modules related to Random Forest classification."
   ]
  },
  {
   "cell_type": "code",
   "execution_count": 2669,
   "metadata": {},
   "outputs": [],
   "source": [
    "from sklearn.ensemble import RandomForestClassifier\n",
    "from sklearn.model_selection import cross_val_score\n",
    "from sklearn.model_selection import RepeatedStratifiedKFold\n",
    "from numpy import mean, std"
   ]
  },
  {
   "cell_type": "markdown",
   "metadata": {},
   "source": [
    "### Data Loading and Preparation"
   ]
  },
  {
   "cell_type": "markdown",
   "metadata": {},
   "source": [
    "The data loading and following few steps are repeats of the previous part."
   ]
  },
  {
   "cell_type": "code",
   "execution_count": 2670,
   "metadata": {},
   "outputs": [
    {
     "data": {
      "text/html": [
       "<div>\n",
       "<style scoped>\n",
       "    .dataframe tbody tr th:only-of-type {\n",
       "        vertical-align: middle;\n",
       "    }\n",
       "\n",
       "    .dataframe tbody tr th {\n",
       "        vertical-align: top;\n",
       "    }\n",
       "\n",
       "    .dataframe thead th {\n",
       "        text-align: right;\n",
       "    }\n",
       "</style>\n",
       "<table border=\"1\" class=\"dataframe\">\n",
       "  <thead>\n",
       "    <tr style=\"text-align: right;\">\n",
       "      <th></th>\n",
       "      <th>Symbol</th>\n",
       "      <th>Open</th>\n",
       "      <th>High</th>\n",
       "      <th>Low</th>\n",
       "      <th>Close</th>\n",
       "      <th>Volume BTC</th>\n",
       "      <th>Volume USD</th>\n",
       "    </tr>\n",
       "    <tr>\n",
       "      <th>Date</th>\n",
       "      <th></th>\n",
       "      <th></th>\n",
       "      <th></th>\n",
       "      <th></th>\n",
       "      <th></th>\n",
       "      <th></th>\n",
       "      <th></th>\n",
       "    </tr>\n",
       "  </thead>\n",
       "  <tbody>\n",
       "    <tr>\n",
       "      <th>2019-06-28 01-AM</th>\n",
       "      <td>BTCUSD</td>\n",
       "      <td>11468.6</td>\n",
       "      <td>11533.0</td>\n",
       "      <td>11200.9</td>\n",
       "      <td>11478.4</td>\n",
       "      <td>365.78</td>\n",
       "      <td>4184793.31</td>\n",
       "    </tr>\n",
       "    <tr>\n",
       "      <th>2019-06-28 12-AM</th>\n",
       "      <td>BTCUSD</td>\n",
       "      <td>11148.0</td>\n",
       "      <td>11468.6</td>\n",
       "      <td>11002.6</td>\n",
       "      <td>11468.6</td>\n",
       "      <td>814.75</td>\n",
       "      <td>9215735.83</td>\n",
       "    </tr>\n",
       "    <tr>\n",
       "      <th>2019-06-27 11-PM</th>\n",
       "      <td>BTCUSD</td>\n",
       "      <td>11089.4</td>\n",
       "      <td>11335.0</td>\n",
       "      <td>10905.9</td>\n",
       "      <td>11148.0</td>\n",
       "      <td>971.72</td>\n",
       "      <td>10836698.04</td>\n",
       "    </tr>\n",
       "    <tr>\n",
       "      <th>2019-06-27 10-PM</th>\n",
       "      <td>BTCUSD</td>\n",
       "      <td>10729.0</td>\n",
       "      <td>11144.0</td>\n",
       "      <td>10665.6</td>\n",
       "      <td>11089.4</td>\n",
       "      <td>896.88</td>\n",
       "      <td>9785079.35</td>\n",
       "    </tr>\n",
       "    <tr>\n",
       "      <th>2019-06-27 09-PM</th>\n",
       "      <td>BTCUSD</td>\n",
       "      <td>10678.8</td>\n",
       "      <td>10837.1</td>\n",
       "      <td>10456.4</td>\n",
       "      <td>10729.0</td>\n",
       "      <td>672.38</td>\n",
       "      <td>7177959.51</td>\n",
       "    </tr>\n",
       "  </tbody>\n",
       "</table>\n",
       "</div>"
      ],
      "text/plain": [
       "                  Symbol     Open     High      Low    Close  Volume BTC  \\\n",
       "Date                                                                       \n",
       "2019-06-28 01-AM  BTCUSD  11468.6  11533.0  11200.9  11478.4      365.78   \n",
       "2019-06-28 12-AM  BTCUSD  11148.0  11468.6  11002.6  11468.6      814.75   \n",
       "2019-06-27 11-PM  BTCUSD  11089.4  11335.0  10905.9  11148.0      971.72   \n",
       "2019-06-27 10-PM  BTCUSD  10729.0  11144.0  10665.6  11089.4      896.88   \n",
       "2019-06-27 09-PM  BTCUSD  10678.8  10837.1  10456.4  10729.0      672.38   \n",
       "\n",
       "                   Volume USD  \n",
       "Date                           \n",
       "2019-06-28 01-AM   4184793.31  \n",
       "2019-06-28 12-AM   9215735.83  \n",
       "2019-06-27 11-PM  10836698.04  \n",
       "2019-06-27 10-PM   9785079.35  \n",
       "2019-06-27 09-PM   7177959.51  "
      ]
     },
     "execution_count": 2670,
     "metadata": {},
     "output_type": "execute_result"
    }
   ],
   "source": [
    "data = pd.read_csv('c:\\\\users\\jamil\\AnacondaProjects\\Mariani_Prado\\Kraken_BTCUSD_1h.csv', index_col= 0)\n",
    "data.head()"
   ]
  },
  {
   "cell_type": "code",
   "execution_count": 2671,
   "metadata": {},
   "outputs": [
    {
     "data": {
      "text/html": [
       "<div>\n",
       "<style scoped>\n",
       "    .dataframe tbody tr th:only-of-type {\n",
       "        vertical-align: middle;\n",
       "    }\n",
       "\n",
       "    .dataframe tbody tr th {\n",
       "        vertical-align: top;\n",
       "    }\n",
       "\n",
       "    .dataframe thead th {\n",
       "        text-align: right;\n",
       "    }\n",
       "</style>\n",
       "<table border=\"1\" class=\"dataframe\">\n",
       "  <thead>\n",
       "    <tr style=\"text-align: right;\">\n",
       "      <th></th>\n",
       "      <th>Symbol</th>\n",
       "      <th>Open</th>\n",
       "      <th>High</th>\n",
       "      <th>Low</th>\n",
       "      <th>Close</th>\n",
       "      <th>Volume BTC</th>\n",
       "      <th>Volume USD</th>\n",
       "    </tr>\n",
       "    <tr>\n",
       "      <th>Date</th>\n",
       "      <th></th>\n",
       "      <th></th>\n",
       "      <th></th>\n",
       "      <th></th>\n",
       "      <th></th>\n",
       "      <th></th>\n",
       "      <th></th>\n",
       "    </tr>\n",
       "  </thead>\n",
       "  <tbody>\n",
       "    <tr>\n",
       "      <th>2019-06-28 01:00:00</th>\n",
       "      <td>BTCUSD</td>\n",
       "      <td>11468.6</td>\n",
       "      <td>11533.0</td>\n",
       "      <td>11200.9</td>\n",
       "      <td>11478.4</td>\n",
       "      <td>365.78</td>\n",
       "      <td>4184793.31</td>\n",
       "    </tr>\n",
       "    <tr>\n",
       "      <th>2019-06-28 00:00:00</th>\n",
       "      <td>BTCUSD</td>\n",
       "      <td>11148.0</td>\n",
       "      <td>11468.6</td>\n",
       "      <td>11002.6</td>\n",
       "      <td>11468.6</td>\n",
       "      <td>814.75</td>\n",
       "      <td>9215735.83</td>\n",
       "    </tr>\n",
       "    <tr>\n",
       "      <th>2019-06-27 23:00:00</th>\n",
       "      <td>BTCUSD</td>\n",
       "      <td>11089.4</td>\n",
       "      <td>11335.0</td>\n",
       "      <td>10905.9</td>\n",
       "      <td>11148.0</td>\n",
       "      <td>971.72</td>\n",
       "      <td>10836698.04</td>\n",
       "    </tr>\n",
       "    <tr>\n",
       "      <th>2019-06-27 22:00:00</th>\n",
       "      <td>BTCUSD</td>\n",
       "      <td>10729.0</td>\n",
       "      <td>11144.0</td>\n",
       "      <td>10665.6</td>\n",
       "      <td>11089.4</td>\n",
       "      <td>896.88</td>\n",
       "      <td>9785079.35</td>\n",
       "    </tr>\n",
       "    <tr>\n",
       "      <th>2019-06-27 21:00:00</th>\n",
       "      <td>BTCUSD</td>\n",
       "      <td>10678.8</td>\n",
       "      <td>10837.1</td>\n",
       "      <td>10456.4</td>\n",
       "      <td>10729.0</td>\n",
       "      <td>672.38</td>\n",
       "      <td>7177959.51</td>\n",
       "    </tr>\n",
       "    <tr>\n",
       "      <th>2019-06-27 20:00:00</th>\n",
       "      <td>BTCUSD</td>\n",
       "      <td>10830.9</td>\n",
       "      <td>10899.8</td>\n",
       "      <td>10300.0</td>\n",
       "      <td>10678.8</td>\n",
       "      <td>1489.22</td>\n",
       "      <td>15715577.13</td>\n",
       "    </tr>\n",
       "    <tr>\n",
       "      <th>2019-06-27 19:00:00</th>\n",
       "      <td>BTCUSD</td>\n",
       "      <td>10995.4</td>\n",
       "      <td>10995.4</td>\n",
       "      <td>10520.4</td>\n",
       "      <td>10830.9</td>\n",
       "      <td>1191.77</td>\n",
       "      <td>12846614.99</td>\n",
       "    </tr>\n",
       "    <tr>\n",
       "      <th>2019-06-27 18:00:00</th>\n",
       "      <td>BTCUSD</td>\n",
       "      <td>10805.5</td>\n",
       "      <td>11097.5</td>\n",
       "      <td>10638.6</td>\n",
       "      <td>10995.4</td>\n",
       "      <td>971.41</td>\n",
       "      <td>10603374.74</td>\n",
       "    </tr>\n",
       "    <tr>\n",
       "      <th>2019-06-27 17:00:00</th>\n",
       "      <td>BTCUSD</td>\n",
       "      <td>10887.6</td>\n",
       "      <td>10920.0</td>\n",
       "      <td>10355.2</td>\n",
       "      <td>10805.5</td>\n",
       "      <td>2331.37</td>\n",
       "      <td>24900968.86</td>\n",
       "    </tr>\n",
       "    <tr>\n",
       "      <th>2019-06-27 16:00:00</th>\n",
       "      <td>BTCUSD</td>\n",
       "      <td>11646.6</td>\n",
       "      <td>11777.0</td>\n",
       "      <td>10801.1</td>\n",
       "      <td>10887.6</td>\n",
       "      <td>2603.47</td>\n",
       "      <td>28913045.29</td>\n",
       "    </tr>\n",
       "  </tbody>\n",
       "</table>\n",
       "</div>"
      ],
      "text/plain": [
       "                     Symbol     Open     High      Low    Close  Volume BTC  \\\n",
       "Date                                                                          \n",
       "2019-06-28 01:00:00  BTCUSD  11468.6  11533.0  11200.9  11478.4      365.78   \n",
       "2019-06-28 00:00:00  BTCUSD  11148.0  11468.6  11002.6  11468.6      814.75   \n",
       "2019-06-27 23:00:00  BTCUSD  11089.4  11335.0  10905.9  11148.0      971.72   \n",
       "2019-06-27 22:00:00  BTCUSD  10729.0  11144.0  10665.6  11089.4      896.88   \n",
       "2019-06-27 21:00:00  BTCUSD  10678.8  10837.1  10456.4  10729.0      672.38   \n",
       "2019-06-27 20:00:00  BTCUSD  10830.9  10899.8  10300.0  10678.8     1489.22   \n",
       "2019-06-27 19:00:00  BTCUSD  10995.4  10995.4  10520.4  10830.9     1191.77   \n",
       "2019-06-27 18:00:00  BTCUSD  10805.5  11097.5  10638.6  10995.4      971.41   \n",
       "2019-06-27 17:00:00  BTCUSD  10887.6  10920.0  10355.2  10805.5     2331.37   \n",
       "2019-06-27 16:00:00  BTCUSD  11646.6  11777.0  10801.1  10887.6     2603.47   \n",
       "\n",
       "                      Volume USD  \n",
       "Date                              \n",
       "2019-06-28 01:00:00   4184793.31  \n",
       "2019-06-28 00:00:00   9215735.83  \n",
       "2019-06-27 23:00:00  10836698.04  \n",
       "2019-06-27 22:00:00   9785079.35  \n",
       "2019-06-27 21:00:00   7177959.51  \n",
       "2019-06-27 20:00:00  15715577.13  \n",
       "2019-06-27 19:00:00  12846614.99  \n",
       "2019-06-27 18:00:00  10603374.74  \n",
       "2019-06-27 17:00:00  24900968.86  \n",
       "2019-06-27 16:00:00  28913045.29  "
      ]
     },
     "execution_count": 2671,
     "metadata": {},
     "output_type": "execute_result"
    }
   ],
   "source": [
    "data.index = pd.to_datetime(data.index, format='%Y-%m-%d %I-%p')\n",
    "data.head(10)"
   ]
  },
  {
   "cell_type": "code",
   "execution_count": 2672,
   "metadata": {},
   "outputs": [
    {
     "data": {
      "text/html": [
       "<div>\n",
       "<style scoped>\n",
       "    .dataframe tbody tr th:only-of-type {\n",
       "        vertical-align: middle;\n",
       "    }\n",
       "\n",
       "    .dataframe tbody tr th {\n",
       "        vertical-align: top;\n",
       "    }\n",
       "\n",
       "    .dataframe thead th {\n",
       "        text-align: right;\n",
       "    }\n",
       "</style>\n",
       "<table border=\"1\" class=\"dataframe\">\n",
       "  <thead>\n",
       "    <tr style=\"text-align: right;\">\n",
       "      <th></th>\n",
       "      <th>Symbol</th>\n",
       "      <th>Open</th>\n",
       "      <th>High</th>\n",
       "      <th>Low</th>\n",
       "      <th>Close</th>\n",
       "      <th>Volume BTC</th>\n",
       "      <th>Volume USD</th>\n",
       "    </tr>\n",
       "    <tr>\n",
       "      <th>Date</th>\n",
       "      <th></th>\n",
       "      <th></th>\n",
       "      <th></th>\n",
       "      <th></th>\n",
       "      <th></th>\n",
       "      <th></th>\n",
       "      <th></th>\n",
       "    </tr>\n",
       "  </thead>\n",
       "  <tbody>\n",
       "    <tr>\n",
       "      <th>2017-07-01 11:00:00</th>\n",
       "      <td>BTCUSD</td>\n",
       "      <td>2491.97</td>\n",
       "      <td>2494.93</td>\n",
       "      <td>2483.32</td>\n",
       "      <td>2494.87</td>\n",
       "      <td>163.92</td>\n",
       "      <td>407837.90</td>\n",
       "    </tr>\n",
       "    <tr>\n",
       "      <th>2017-07-01 12:00:00</th>\n",
       "      <td>BTCUSD</td>\n",
       "      <td>2494.87</td>\n",
       "      <td>2494.87</td>\n",
       "      <td>2470.86</td>\n",
       "      <td>2477.97</td>\n",
       "      <td>80.93</td>\n",
       "      <td>200771.78</td>\n",
       "    </tr>\n",
       "    <tr>\n",
       "      <th>2017-07-01 13:00:00</th>\n",
       "      <td>BTCUSD</td>\n",
       "      <td>2477.97</td>\n",
       "      <td>2478.96</td>\n",
       "      <td>2444.44</td>\n",
       "      <td>2444.44</td>\n",
       "      <td>168.69</td>\n",
       "      <td>415839.42</td>\n",
       "    </tr>\n",
       "    <tr>\n",
       "      <th>2017-07-01 14:00:00</th>\n",
       "      <td>BTCUSD</td>\n",
       "      <td>2444.44</td>\n",
       "      <td>2463.60</td>\n",
       "      <td>2437.26</td>\n",
       "      <td>2448.99</td>\n",
       "      <td>119.59</td>\n",
       "      <td>292801.90</td>\n",
       "    </tr>\n",
       "    <tr>\n",
       "      <th>2017-07-01 15:00:00</th>\n",
       "      <td>BTCUSD</td>\n",
       "      <td>2448.99</td>\n",
       "      <td>2465.95</td>\n",
       "      <td>2438.99</td>\n",
       "      <td>2457.84</td>\n",
       "      <td>109.53</td>\n",
       "      <td>268333.15</td>\n",
       "    </tr>\n",
       "  </tbody>\n",
       "</table>\n",
       "</div>"
      ],
      "text/plain": [
       "                     Symbol     Open     High      Low    Close  Volume BTC  \\\n",
       "Date                                                                          \n",
       "2017-07-01 11:00:00  BTCUSD  2491.97  2494.93  2483.32  2494.87      163.92   \n",
       "2017-07-01 12:00:00  BTCUSD  2494.87  2494.87  2470.86  2477.97       80.93   \n",
       "2017-07-01 13:00:00  BTCUSD  2477.97  2478.96  2444.44  2444.44      168.69   \n",
       "2017-07-01 14:00:00  BTCUSD  2444.44  2463.60  2437.26  2448.99      119.59   \n",
       "2017-07-01 15:00:00  BTCUSD  2448.99  2465.95  2438.99  2457.84      109.53   \n",
       "\n",
       "                     Volume USD  \n",
       "Date                             \n",
       "2017-07-01 11:00:00   407837.90  \n",
       "2017-07-01 12:00:00   200771.78  \n",
       "2017-07-01 13:00:00   415839.42  \n",
       "2017-07-01 14:00:00   292801.90  \n",
       "2017-07-01 15:00:00   268333.15  "
      ]
     },
     "execution_count": 2672,
     "metadata": {},
     "output_type": "execute_result"
    }
   ],
   "source": [
    "data=data.reindex(index=data.index[::-1])\n",
    "data.head()"
   ]
  },
  {
   "cell_type": "markdown",
   "metadata": {},
   "source": [
    "Extracting the time series closing Bitcoin prices."
   ]
  },
  {
   "cell_type": "code",
   "execution_count": 2673,
   "metadata": {},
   "outputs": [],
   "source": [
    "rawdata = (data['Close'])"
   ]
  },
  {
   "cell_type": "code",
   "execution_count": 2674,
   "metadata": {},
   "outputs": [
    {
     "data": {
      "text/plain": [
       "Date\n",
       "2017-07-01 11:00:00    2494.87\n",
       "2017-07-01 12:00:00    2477.97\n",
       "2017-07-01 13:00:00    2444.44\n",
       "2017-07-01 14:00:00    2448.99\n",
       "2017-07-01 15:00:00    2457.84\n",
       "Name: Close, dtype: float64"
      ]
     },
     "execution_count": 2674,
     "metadata": {},
     "output_type": "execute_result"
    }
   ],
   "source": [
    "rawdata.head()"
   ]
  },
  {
   "cell_type": "markdown",
   "metadata": {},
   "source": [
    "### Bitcoin Price Time Series"
   ]
  },
  {
   "cell_type": "code",
   "execution_count": 2675,
   "metadata": {},
   "outputs": [
    {
     "data": {
      "text/plain": [
       "<AxesSubplot:xlabel='Date'>"
      ]
     },
     "execution_count": 2675,
     "metadata": {},
     "output_type": "execute_result"
    },
    {
     "data": {
      "image/png": "[encoded data removed]",
      "text/plain": [
       "<Figure size 432x288 with 1 Axes>"
      ]
     },
     "metadata": {
      "needs_background": "light"
     },
     "output_type": "display_data"
    }
   ],
   "source": [
    "rawdata.plot()"
   ]
  },
  {
   "cell_type": "code",
   "execution_count": 2676,
   "metadata": {},
   "outputs": [
    {
     "data": {
      "text/plain": [
       "<AxesSubplot:ylabel='Frequency'>"
      ]
     },
     "execution_count": 2676,
     "metadata": {},
     "output_type": "execute_result"
    },
    {
     "data": {
      "image/png": "[encoded data removed]",
      "text/plain": [
       "<Figure size 432x288 with 1 Axes>"
      ]
     },
     "metadata": {
      "needs_background": "light"
     },
     "output_type": "display_data"
    }
   ],
   "source": [
    "rawdata.plot.hist(bins=25, alpha=0.5)"
   ]
  },
  {
   "cell_type": "code",
   "execution_count": 2677,
   "metadata": {},
   "outputs": [
    {
     "data": {
      "image/png": "[encoded data removed]",
      "text/plain": [
       "<Figure size 432x288 with 1 Axes>"
      ]
     },
     "execution_count": 2677,
     "metadata": {},
     "output_type": "execute_result"
    },
    {
     "data": {
      "image/png": "[encoded data removed]",
      "text/plain": [
       "<Figure size 432x288 with 1 Axes>"
      ]
     },
     "metadata": {
      "needs_background": "light"
     },
     "output_type": "display_data"
    }
   ],
   "source": [
    "qqplot(rawdata, line='s')"
   ]
  },
  {
   "cell_type": "code",
   "execution_count": 2678,
   "metadata": {
    "scrolled": true
   },
   "outputs": [
    {
     "data": {
      "image/png": "[encoded data removed]",
      "text/plain": [
       "<Figure size 432x288 with 1 Axes>"
      ]
     },
     "execution_count": 2678,
     "metadata": {},
     "output_type": "execute_result"
    },
    {
     "data": {
      "image/png": "[encoded data removed]",
      "text/plain": [
       "<Figure size 432x288 with 1 Axes>"
      ]
     },
     "metadata": {
      "needs_background": "light"
     },
     "output_type": "display_data"
    }
   ],
   "source": [
    "sm.graphics.tsa.plot_acf(rawdata, lags=1750)"
   ]
  },
  {
   "cell_type": "markdown",
   "metadata": {},
   "source": [
    "### The Time Series of First Differences or Returns"
   ]
  },
  {
   "cell_type": "code",
   "execution_count": 2679,
   "metadata": {},
   "outputs": [
    {
     "data": {
      "text/plain": [
       "<AxesSubplot:xlabel='Date'>"
      ]
     },
     "execution_count": 2679,
     "metadata": {},
     "output_type": "execute_result"
    },
    {
     "data": {
      "image/png": "[encoded data removed]",
      "text/plain": [
       "<Figure size 432x288 with 1 Axes>"
      ]
     },
     "metadata": {
      "needs_background": "light"
     },
     "output_type": "display_data"
    }
   ],
   "source": [
    "shiftdata = rawdata.shift(1)\n",
    "diff = rawdata - shiftdata\n",
    "diff.dropna()\n",
    "diff.plot()"
   ]
  },
  {
   "cell_type": "code",
   "execution_count": 2680,
   "metadata": {},
   "outputs": [
    {
     "data": {
      "text/plain": [
       "17439"
      ]
     },
     "execution_count": 2680,
     "metadata": {},
     "output_type": "execute_result"
    }
   ],
   "source": [
    "len(diff)"
   ]
  },
  {
   "cell_type": "code",
   "execution_count": 2681,
   "metadata": {},
   "outputs": [
    {
     "data": {
      "text/plain": [
       "Date\n",
       "2017-07-01 11:00:00      NaN\n",
       "2017-07-01 12:00:00   -16.90\n",
       "2017-07-01 13:00:00   -33.53\n",
       "2017-07-01 14:00:00     4.55\n",
       "2017-07-01 15:00:00     8.85\n",
       "Name: Close, dtype: float64"
      ]
     },
     "execution_count": 2681,
     "metadata": {},
     "output_type": "execute_result"
    }
   ],
   "source": [
    "diff.head()"
   ]
  },
  {
   "cell_type": "code",
   "execution_count": 2682,
   "metadata": {},
   "outputs": [],
   "source": [
    "diff = diff.dropna()"
   ]
  },
  {
   "cell_type": "code",
   "execution_count": 2683,
   "metadata": {},
   "outputs": [
    {
     "data": {
      "text/plain": [
       "Date\n",
       "2017-07-01 12:00:00   -16.90\n",
       "2017-07-01 13:00:00   -33.53\n",
       "2017-07-01 14:00:00     4.55\n",
       "2017-07-01 15:00:00     8.85\n",
       "2017-07-01 16:00:00    -1.39\n",
       "Name: Close, dtype: float64"
      ]
     },
     "execution_count": 2683,
     "metadata": {},
     "output_type": "execute_result"
    }
   ],
   "source": [
    "diff.head()"
   ]
  },
  {
   "cell_type": "code",
   "execution_count": 2684,
   "metadata": {},
   "outputs": [
    {
     "data": {
      "text/plain": [
       "<AxesSubplot:ylabel='Frequency'>"
      ]
     },
     "execution_count": 2684,
     "metadata": {},
     "output_type": "execute_result"
    },
    {
     "data": {
      "image/png": "[encoded data removed]",
      "text/plain": [
       "<Figure size 432x288 with 1 Axes>"
      ]
     },
     "metadata": {
      "needs_background": "light"
     },
     "output_type": "display_data"
    }
   ],
   "source": [
    "diff.plot.hist(bins=25, alpha=0.5)"
   ]
  },
  {
   "cell_type": "code",
   "execution_count": 2685,
   "metadata": {},
   "outputs": [
    {
     "data": {
      "image/png": "[encoded data removed]",
      "text/plain": [
       "<Figure size 432x288 with 1 Axes>"
      ]
     },
     "execution_count": 2685,
     "metadata": {},
     "output_type": "execute_result"
    },
    {
     "data": {
      "image/png": "[encoded data removed]",
      "text/plain": [
       "<Figure size 432x288 with 1 Axes>"
      ]
     },
     "metadata": {
      "needs_background": "light"
     },
     "output_type": "display_data"
    }
   ],
   "source": [
    "qqplot(diff, line='s')"
   ]
  },
  {
   "cell_type": "code",
   "execution_count": 2686,
   "metadata": {},
   "outputs": [
    {
     "data": {
      "image/png": "[encoded data removed]",
      "text/plain": [
       "<Figure size 432x288 with 1 Axes>"
      ]
     },
     "execution_count": 2686,
     "metadata": {},
     "output_type": "execute_result"
    },
    {
     "data": {
      "image/png": "[encoded data removed]",
      "text/plain": [
       "<Figure size 432x288 with 1 Axes>"
      ]
     },
     "metadata": {
      "needs_background": "light"
     },
     "output_type": "display_data"
    }
   ],
   "source": [
    "sm.graphics.tsa.plot_acf(diff, lags=20)"
   ]
  },
  {
   "cell_type": "markdown",
   "metadata": {},
   "source": [
    "##  Random Forest Forecasting "
   ]
  },
  {
   "cell_type": "markdown",
   "metadata": {},
   "source": [
    "### Data Preparation for Binary Classification - Raw Time Series"
   ]
  },
  {
   "cell_type": "code",
   "execution_count": 2687,
   "metadata": {},
   "outputs": [
    {
     "data": {
      "text/plain": [
       "[<matplotlib.lines.Line2D at 0x23da4770970>]"
      ]
     },
     "execution_count": 2687,
     "metadata": {},
     "output_type": "execute_result"
    },
    {
     "data": {
      "image/png": "[encoded data removed]",
      "text/plain": [
       "<Figure size 432x288 with 1 Axes>"
      ]
     },
     "metadata": {
      "needs_background": "light"
     },
     "output_type": "display_data"
    }
   ],
   "source": [
    "data = rawdata.values\n",
    "plt.plot(data)"
   ]
  },
  {
   "cell_type": "code",
   "execution_count": 2688,
   "metadata": {},
   "outputs": [],
   "source": [
    "WINDOW = 30\n",
    "STEP = 1\n",
    "FORECAST = 1"
   ]
  },
  {
   "cell_type": "code",
   "execution_count": 2689,
   "metadata": {
    "scrolled": true
   },
   "outputs": [
    {
     "name": "stdout",
     "output_type": "stream",
     "text": [
      "e\n"
     ]
    }
   ],
   "source": [
    "# Straightforward way for creating time windows\n",
    "X, Y = [], []\n",
    "for i in range(0, len(data), STEP): \n",
    "    try:\n",
    "        x_i = data[i:i+WINDOW]\n",
    "        y_i = data[i+WINDOW+FORECAST]  \n",
    "\n",
    "        last_close = x_i[WINDOW-1]\n",
    "        next_close = y_i\n",
    "\n",
    "        if last_close < next_close:\n",
    "            y_i = [1]\n",
    "        else:\n",
    "            y_i = [0] \n",
    "\n",
    "    except Exception as e:\n",
    "        print (\"e\")\n",
    "        break\n",
    "\n",
    "    X.append(x_i)\n",
    "    Y.append(y_i)"
   ]
  },
  {
   "cell_type": "code",
   "execution_count": 2690,
   "metadata": {},
   "outputs": [],
   "source": [
    "import numpy.ma as ma"
   ]
  },
  {
   "cell_type": "code",
   "execution_count": 2691,
   "metadata": {},
   "outputs": [
    {
     "name": "stdout",
     "output_type": "stream",
     "text": [
      "(17408, 30)\n"
     ]
    },
    {
     "data": {
      "text/plain": [
       "array([[ 2494.87,  2477.97,  2444.44, ...,  2406.26,  2433.  ,  2448.  ],\n",
       "       [ 2477.97,  2444.44,  2448.99, ...,  2433.  ,  2448.  ,  2470.01],\n",
       "       [ 2444.44,  2448.99,  2457.84, ...,  2448.  ,  2470.01,  2475.  ],\n",
       "       ...,\n",
       "       [13580.  , 13456.4 , 13800.  , ..., 10830.9 , 10678.8 , 10729.  ],\n",
       "       [13456.4 , 13800.  , 13839.  , ..., 10678.8 , 10729.  , 11089.4 ],\n",
       "       [13800.  , 13839.  , 12751.3 , ..., 10729.  , 11089.4 , 11148.  ]])"
      ]
     },
     "execution_count": 2691,
     "metadata": {},
     "output_type": "execute_result"
    }
   ],
   "source": [
    "X = np.where(np.isnan(X), ma.array(X, mask=np.isnan(X)).mean(axis=0), X)\n",
    "print(X.shape)\n",
    "X\n"
   ]
  },
  {
   "cell_type": "code",
   "execution_count": 2692,
   "metadata": {},
   "outputs": [
    {
     "name": "stdout",
     "output_type": "stream",
     "text": [
      "(17408, 1)\n"
     ]
    },
    {
     "data": {
      "text/plain": [
       "array([[1.],\n",
       "       [1.],\n",
       "       [1.],\n",
       "       ...,\n",
       "       [1.],\n",
       "       [1.],\n",
       "       [1.]])"
      ]
     },
     "execution_count": 2692,
     "metadata": {},
     "output_type": "execute_result"
    }
   ],
   "source": [
    "Y = np.where(np.isnan(Y), ma.array(Y, mask=np.isnan(Y)).mean(axis=0), Y)\n",
    "print(Y.shape)\n",
    "Y"
   ]
  },
  {
   "cell_type": "code",
   "execution_count": 2693,
   "metadata": {},
   "outputs": [],
   "source": [
    "train_X = X[:int((len(X)+1)*.75)] \n",
    "test_X = X[int(len(X)*.75+1):] "
   ]
  },
  {
   "cell_type": "code",
   "execution_count": 2694,
   "metadata": {},
   "outputs": [
    {
     "data": {
      "text/plain": [
       "array([[2494.87, 2477.97, 2444.44, ..., 2406.26, 2433.  , 2448.  ],\n",
       "       [2477.97, 2444.44, 2448.99, ..., 2433.  , 2448.  , 2470.01],\n",
       "       [2444.44, 2448.99, 2457.84, ..., 2448.  , 2470.01, 2475.  ],\n",
       "       ...,\n",
       "       [3729.7 , 3744.8 , 3727.8 , ..., 3638.7 , 3617.9 , 3614.2 ],\n",
       "       [3744.8 , 3727.8 , 3744.  , ..., 3617.9 , 3614.2 , 3615.4 ],\n",
       "       [3727.8 , 3744.  , 3747.1 , ..., 3614.2 , 3615.4 , 3827.  ]])"
      ]
     },
     "execution_count": 2694,
     "metadata": {},
     "output_type": "execute_result"
    }
   ],
   "source": [
    "(train_X)"
   ]
  },
  {
   "cell_type": "code",
   "execution_count": 2695,
   "metadata": {},
   "outputs": [
    {
     "data": {
      "text/plain": [
       "4351"
      ]
     },
     "execution_count": 2695,
     "metadata": {},
     "output_type": "execute_result"
    }
   ],
   "source": [
    "len(test_X)"
   ]
  },
  {
   "cell_type": "code",
   "execution_count": 2696,
   "metadata": {},
   "outputs": [],
   "source": [
    "train_Y = Y[:int((len(Y)+1)*.75)] \n",
    "test_Y = Y[int(len(Y)*.75+1):] "
   ]
  },
  {
   "cell_type": "code",
   "execution_count": 2697,
   "metadata": {},
   "outputs": [
    {
     "data": {
      "text/plain": [
       "4351"
      ]
     },
     "execution_count": 2697,
     "metadata": {},
     "output_type": "execute_result"
    }
   ],
   "source": [
    "len(test_Y)"
   ]
  },
  {
   "cell_type": "code",
   "execution_count": 2698,
   "metadata": {},
   "outputs": [
    {
     "data": {
      "text/plain": [
       "13056"
      ]
     },
     "execution_count": 2698,
     "metadata": {},
     "output_type": "execute_result"
    }
   ],
   "source": [
    "len(train_Y)"
   ]
  },
  {
   "cell_type": "code",
   "execution_count": 2699,
   "metadata": {},
   "outputs": [],
   "source": [
    "\n",
    "X_train = train_X\n",
    "X_test = test_X\n",
    "Y_train = train_Y\n",
    "Y_test =  test_Y"
   ]
  },
  {
   "cell_type": "code",
   "execution_count": null,
   "metadata": {},
   "outputs": [],
   "source": []
  },
  {
   "cell_type": "code",
   "execution_count": 2700,
   "metadata": {},
   "outputs": [
    {
     "data": {
      "text/plain": [
       "array([[2494.87, 2477.97, 2444.44, ..., 2406.26, 2433.  , 2448.  ],\n",
       "       [2477.97, 2444.44, 2448.99, ..., 2433.  , 2448.  , 2470.01],\n",
       "       [2444.44, 2448.99, 2457.84, ..., 2448.  , 2470.01, 2475.  ],\n",
       "       ...,\n",
       "       [3729.7 , 3744.8 , 3727.8 , ..., 3638.7 , 3617.9 , 3614.2 ],\n",
       "       [3744.8 , 3727.8 , 3744.  , ..., 3617.9 , 3614.2 , 3615.4 ],\n",
       "       [3727.8 , 3744.  , 3747.1 , ..., 3614.2 , 3615.4 , 3827.  ]])"
      ]
     },
     "execution_count": 2700,
     "metadata": {},
     "output_type": "execute_result"
    }
   ],
   "source": [
    "X_train.shape, X_test.shape\n",
    "X_train"
   ]
  },
  {
   "cell_type": "code",
   "execution_count": 2701,
   "metadata": {},
   "outputs": [
    {
     "data": {
      "text/plain": [
       "array([[ 3747.1,  3759.4,  3749.4, ...,  3827. ,  3856.9,  3854.8],\n",
       "       [ 3759.4,  3749.4,  3740.2, ...,  3856.9,  3854.8,  3865.4],\n",
       "       [ 3749.4,  3740.2,  3746.8, ...,  3854.8,  3865.4,  3886.2],\n",
       "       ...,\n",
       "       [13580. , 13456.4, 13800. , ..., 10830.9, 10678.8, 10729. ],\n",
       "       [13456.4, 13800. , 13839. , ..., 10678.8, 10729. , 11089.4],\n",
       "       [13800. , 13839. , 12751.3, ..., 10729. , 11089.4, 11148. ]])"
      ]
     },
     "execution_count": 2701,
     "metadata": {},
     "output_type": "execute_result"
    }
   ],
   "source": [
    "X_test"
   ]
  },
  {
   "cell_type": "code",
   "execution_count": 2702,
   "metadata": {},
   "outputs": [
    {
     "data": {
      "text/plain": [
       "((13056, 1), (4351, 1))"
      ]
     },
     "execution_count": 2702,
     "metadata": {},
     "output_type": "execute_result"
    }
   ],
   "source": [
    "Y_train.shape, Y_test.shape"
   ]
  },
  {
   "cell_type": "code",
   "execution_count": 2703,
   "metadata": {},
   "outputs": [
    {
     "data": {
      "text/plain": [
       "array([[1.],\n",
       "       [1.],\n",
       "       [1.],\n",
       "       ...,\n",
       "       [1.],\n",
       "       [1.],\n",
       "       [1.]])"
      ]
     },
     "execution_count": 2703,
     "metadata": {},
     "output_type": "execute_result"
    }
   ],
   "source": [
    "Y_test"
   ]
  },
  {
   "cell_type": "markdown",
   "metadata": {},
   "source": [
    "An imbalanced dataset can affect classification performance so checking the total price increase and decrease labels in the training data:"
   ]
  },
  {
   "cell_type": "code",
   "execution_count": 2704,
   "metadata": {},
   "outputs": [
    {
     "name": "stdout",
     "output_type": "stream",
     "text": [
      "The number of price INCREASE labels in the dataset are 6613.0\n"
     ]
    }
   ],
   "source": [
    "totinc = (np.sum(Y_train))\n",
    "print(\"The number of price INCREASE labels in the dataset are {}\".format(totinc))"
   ]
  },
  {
   "cell_type": "code",
   "execution_count": 2705,
   "metadata": {},
   "outputs": [
    {
     "name": "stdout",
     "output_type": "stream",
     "text": [
      "The number of price DECREASE labels in the dataset are 6443\n"
     ]
    }
   ],
   "source": [
    "print(\"The number of price DECREASE labels in the dataset are {}\".format(int(len(Y_train) - totinc)))"
   ]
  },
  {
   "cell_type": "markdown",
   "metadata": {},
   "source": [
    "Therefore the two labels are well balanced in the dataset."
   ]
  },
  {
   "cell_type": "markdown",
   "metadata": {},
   "source": [
    "## Random Forest Forecasting of the Raw Time Series"
   ]
  },
  {
   "cell_type": "markdown",
   "metadata": {},
   "source": [
    "### Results"
   ]
  },
  {
   "cell_type": "markdown",
   "metadata": {},
   "source": [
    "I now train a Random Forest Classifier to predict price increases and decreases in the Bitcoin price time series. For now I will use the default values for the hyperparameters, which usually give good results."
   ]
  },
  {
   "cell_type": "code",
   "execution_count": 2706,
   "metadata": {},
   "outputs": [
    {
     "name": "stderr",
     "output_type": "stream",
     "text": [
      "<ipython-input-2706-2e9ba7cf88e0>:5: DataConversionWarning: A column-vector y was passed when a 1d array was expected. Please change the shape of y to (n_samples,), for example using ravel().\n",
      "  clf.fit(X_train,Y_train)\n"
     ]
    },
    {
     "name": "stdout",
     "output_type": "stream",
     "text": [
      "Accuracy: 0.5063203861181338\n"
     ]
    }
   ],
   "source": [
    "from sklearn import metrics\n",
    "\n",
    "clf=RandomForestClassifier(n_estimators=150)\n",
    "\n",
    "clf.fit(X_train,Y_train)\n",
    "y_pred=clf.predict(X_test)\n",
    "\n",
    "# Model Accuracy, how often is the classifier correct?\n",
    "print(\"Accuracy:\",metrics.accuracy_score(y_test, y_pred))"
   ]
  },
  {
   "cell_type": "markdown",
   "metadata": {},
   "source": [
    "The accuracy is only slightly above 50%. As we know from neural network prediction of the same time series to truly assess the performance of the algorithm we also need to look at the confusion matrix and other metrics."
   ]
  },
  {
   "cell_type": "code",
   "execution_count": 2707,
   "metadata": {},
   "outputs": [
    {
     "data": {
      "text/plain": [
       "array([1., 0., 0., ..., 0., 1., 1.])"
      ]
     },
     "execution_count": 2707,
     "metadata": {},
     "output_type": "execute_result"
    }
   ],
   "source": [
    "y_pred"
   ]
  },
  {
   "cell_type": "code",
   "execution_count": 2708,
   "metadata": {},
   "outputs": [
    {
     "data": {
      "text/plain": [
       "array([[ True],\n",
       "       [ True],\n",
       "       [ True],\n",
       "       ...,\n",
       "       [ True],\n",
       "       [ True],\n",
       "       [ True]])"
      ]
     },
     "execution_count": 2708,
     "metadata": {},
     "output_type": "execute_result"
    }
   ],
   "source": [
    "(y_test)"
   ]
  },
  {
   "cell_type": "code",
   "execution_count": 2709,
   "metadata": {},
   "outputs": [
    {
     "name": "stdout",
     "output_type": "stream",
     "text": [
      "Confusion matrix:\n",
      "[[ 975 1075]\n",
      " [1073 1228]]\n"
     ]
    }
   ],
   "source": [
    "confusion = confusion_matrix(y_test, y_pred)\n",
    "print(\"Confusion matrix:\\n{}\".format(confusion))"
   ]
  },
  {
   "cell_type": "code",
   "execution_count": 2710,
   "metadata": {},
   "outputs": [
    {
     "data": {
      "text/plain": [
       "<AxesSubplot:>"
      ]
     },
     "execution_count": 2710,
     "metadata": {},
     "output_type": "execute_result"
    },
    {
     "data": {
      "image/png": "[encoded data removed]",
      "text/plain": [
       "<Figure size 432x288 with 2 Axes>"
      ]
     },
     "metadata": {},
     "output_type": "display_data"
    }
   ],
   "source": [
    "\n",
    "sn.set(font_scale=1.4) # for label size\n",
    "#sn.heatmap(confusion, annot=True, annot_kws={\"size\": 16}) # font size\n",
    "sns.heatmap(confusion/np.sum(confusion), annot=True, \n",
    "            fmt='.2%', cmap='Blues')"
   ]
  },
  {
   "cell_type": "markdown",
   "metadata": {},
   "source": [
    "The confusion matrix shows that the Random Forest classifier gives significantly better results than the neural network applied to the same task. There are more true negatives than false negatives and the false positives are only slightly more than the true positivs. Moreover, multiple runs of the Random Forest classifier do not give wildly diverging behaviour as in the case of the neural network classifier."
   ]
  },
  {
   "cell_type": "markdown",
   "metadata": {},
   "source": [
    "It would alsoe be interesting to see which time step is most useful in making the forecast:"
   ]
  },
  {
   "cell_type": "code",
   "execution_count": 2711,
   "metadata": {},
   "outputs": [
    {
     "data": {
      "text/plain": [
       "29    0.044004\n",
       "0     0.034394\n",
       "27    0.033816\n",
       "10    0.033757\n",
       "18    0.033526\n",
       "28    0.033471\n",
       "17    0.033423\n",
       "3     0.033310\n",
       "6     0.033301\n",
       "7     0.033258\n",
       "19    0.033192\n",
       "16    0.033172\n",
       "2     0.033123\n",
       "4     0.033083\n",
       "5     0.032961\n",
       "26    0.032890\n",
       "8     0.032889\n",
       "22    0.032832\n",
       "11    0.032829\n",
       "25    0.032813\n",
       "12    0.032797\n",
       "24    0.032718\n",
       "9     0.032717\n",
       "20    0.032611\n",
       "1     0.032511\n",
       "15    0.032509\n",
       "14    0.032334\n",
       "13    0.032105\n",
       "21    0.032065\n",
       "23    0.031590\n",
       "dtype: float64"
      ]
     },
     "execution_count": 2711,
     "metadata": {},
     "output_type": "execute_result"
    }
   ],
   "source": [
    "import pandas as pd\n",
    "feature_imp = pd.Series(clf.feature_importances_).sort_values(ascending=False)\n",
    "feature_imp"
   ]
  },
  {
   "cell_type": "code",
   "execution_count": 2712,
   "metadata": {},
   "outputs": [
    {
     "data": {
      "image/png": "[encoded data removed]",
      "text/plain": [
       "<Figure size 720x288 with 1 Axes>"
      ]
     },
     "metadata": {
      "needs_background": "light"
     },
     "output_type": "display_data"
    }
   ],
   "source": [
    "import matplotlib.pyplot as plt\n",
    "import seaborn as sns\n",
    "%matplotlib inline\n",
    "# Creating a bar plot\n",
    "fig_dims = (10, 4)\n",
    "fig, ax = plt.subplots(figsize=fig_dims)\n",
    "\n",
    "sns.barplot(y=feature_imp, x=feature_imp.index, ax = ax )\n",
    "# Add labels to your graph\n",
    "plt.ylabel('Feature Importance Score')\n",
    "plt.xlabel('Features')\n",
    "plt.title(\"Visualizing Important Features\")\n",
    "#plt.legend()\n",
    "plt.show()"
   ]
  },
  {
   "cell_type": "markdown",
   "metadata": {},
   "source": [
    "The feature importance graph shows that the step immmediatly preceding the forecast step is the most useful for making the forecast. This agrees with the baseline forecast where the best forecast was obtained by presisting the last data point in the training set. Surprisingly, the remaining 29 data points seem to be of similiar importance when we might have expected their important to decrease as we move further away from the forecasted point."
   ]
  },
  {
   "cell_type": "markdown",
   "metadata": {},
   "source": [
    "We now look at the ROC curve and other metrics."
   ]
  },
  {
   "cell_type": "code",
   "execution_count": 2713,
   "metadata": {},
   "outputs": [
    {
     "data": {
      "image/png": "[encoded data removed]",
      "text/plain": [
       "<Figure size 432x288 with 1 Axes>"
      ]
     },
     "metadata": {
      "needs_background": "light"
     },
     "output_type": "display_data"
    }
   ],
   "source": [
    "# get roc/auc info\n",
    "Y_score = clf.predict_proba(X_test)[:,1]\n",
    "fpr = dict()\n",
    "tpr = dict()\n",
    "fpr, tpr, _ = roc_curve(Y_test, Y_score)\n",
    "\n",
    "roc_auc = dict()\n",
    "roc_auc = auc(fpr, tpr)\n",
    "\n",
    "# make the plot\n",
    "#plt.figure(figsize=(10,10))\n",
    "plt.plot([0, 1], [0, 1], 'k--')\n",
    "plt.xlim([-0.05, 1.0])\n",
    "plt.ylim([0.0, 1.05])\n",
    "plt.xlabel('False Positive Rate')\n",
    "plt.ylabel('True Positive Rate')\n",
    "plt.grid(True)\n",
    "plt.plot(fpr, tpr, label='AUC = {0}'.format(roc_auc))        \n",
    "plt.legend(loc=\"lower right\", shadow=True, fancybox =True) \n",
    "plt.show()"
   ]
  },
  {
   "cell_type": "code",
   "execution_count": 2714,
   "metadata": {},
   "outputs": [
    {
     "name": "stdout",
     "output_type": "stream",
     "text": [
      "                 precision    recall  f1-score   support\n",
      "\n",
      " price increase       0.48      0.48      0.48      2050\n",
      " price decrease       0.53      0.53      0.53      2301\n",
      "\n",
      "       accuracy                           0.51      4351\n",
      "      macro avg       0.50      0.50      0.50      4351\n",
      "   weighted avg       0.51      0.51      0.51      4351\n",
      "\n"
     ]
    }
   ],
   "source": [
    "print(classification_report(y_test, y_pred,\n",
    "target_names=[\" price increase\", \"price decrease\"]))"
   ]
  },
  {
   "cell_type": "markdown",
   "metadata": {},
   "source": [
    "### Discussion"
   ]
  },
  {
   "cell_type": "markdown",
   "metadata": {},
   "source": [
    "It seems the Random Forest classifier is performing significantly better than the neural network. Though the accuracy isn't much better the confusion matrix and other metrics are better behaved."
   ]
  },
  {
   "cell_type": "markdown",
   "metadata": {},
   "source": [
    "## Forecasting of the First Differenced  Bitcoin Time Series"
   ]
  },
  {
   "cell_type": "markdown",
   "metadata": {},
   "source": [
    "I now apply the Random Forest Classifier to the time series of returns"
   ]
  },
  {
   "cell_type": "markdown",
   "metadata": {},
   "source": [
    "### Data Preparation for Binary Classification - Returns Time Series"
   ]
  },
  {
   "cell_type": "code",
   "execution_count": 2715,
   "metadata": {},
   "outputs": [
    {
     "data": {
      "text/plain": [
       "[<matplotlib.lines.Line2D at 0x23da47c3580>]"
      ]
     },
     "execution_count": 2715,
     "metadata": {},
     "output_type": "execute_result"
    },
    {
     "data": {
      "image/png": "[encoded data removed]",
      "text/plain": [
       "<Figure size 432x288 with 1 Axes>"
      ]
     },
     "metadata": {
      "needs_background": "light"
     },
     "output_type": "display_data"
    }
   ],
   "source": [
    "data =diff.values.tolist()\n",
    "plt.plot(data)"
   ]
  },
  {
   "cell_type": "code",
   "execution_count": 2716,
   "metadata": {},
   "outputs": [
    {
     "name": "stdout",
     "output_type": "stream",
     "text": [
      "e\n"
     ]
    }
   ],
   "source": [
    "# Straightforward way for creating time windows\n",
    "X, Y = [], []\n",
    "for i in range(0, len(data), STEP): \n",
    "    try:\n",
    "        x_i = data[i:i+WINDOW]\n",
    "        y_i = data[i+WINDOW+FORECAST]  \n",
    "\n",
    "        last_close = x_i[WINDOW-1]\n",
    "        next_close = y_i\n",
    "\n",
    "        if  next_close > 0:   # The condition corresponding to price increase in the next step for returns time series\n",
    "            y_i = [1]\n",
    "        else:\n",
    "            y_i = [0] \n",
    "\n",
    "    except Exception as e:\n",
    "        print (\"e\")\n",
    "        break\n",
    "\n",
    "    X.append(x_i)\n",
    "    Y.append(y_i)"
   ]
  },
  {
   "cell_type": "code",
   "execution_count": 2717,
   "metadata": {},
   "outputs": [
    {
     "name": "stdout",
     "output_type": "stream",
     "text": [
      "(17407, 30)\n"
     ]
    },
    {
     "data": {
      "text/plain": [
       "array([[  -16.9 ,   -33.53,     4.55, ...,    26.74,    15.  ,    22.01],\n",
       "       [  -33.53,     4.55,     8.85, ...,    15.  ,    22.01,     4.99],\n",
       "       [    4.55,     8.85,    -1.39, ...,    22.01,     4.99,     7.94],\n",
       "       ...,\n",
       "       [  743.8 ,  -123.6 ,   343.6 , ...,  -164.5 ,  -152.1 ,    50.2 ],\n",
       "       [ -123.6 ,   343.6 ,    39.  , ...,  -152.1 ,    50.2 ,   360.4 ],\n",
       "       [  343.6 ,    39.  , -1087.7 , ...,    50.2 ,   360.4 ,    58.6 ]])"
      ]
     },
     "execution_count": 2717,
     "metadata": {},
     "output_type": "execute_result"
    }
   ],
   "source": [
    "X = np.where(np.isnan(X), ma.array(X, mask=np.isnan(X)).mean(axis=0), X)\n",
    "print(X.shape)\n",
    "X"
   ]
  },
  {
   "cell_type": "code",
   "execution_count": 2718,
   "metadata": {},
   "outputs": [
    {
     "name": "stderr",
     "output_type": "stream",
     "text": [
      "C:\\Users\\jamil\\anaconda3\\lib\\site-packages\\sklearn\\utils\\validation.py:72: DataConversionWarning: A column-vector y was passed when a 1d array was expected. Please change the shape of y to (n_samples, ), for example using ravel().\n",
      "  return f(**kwargs)\n"
     ]
    }
   ],
   "source": [
    "from sklearn.preprocessing import LabelEncoder\n",
    "\n",
    "encoder = LabelEncoder()\n",
    "encoder.fit(Y)\n",
    "Y = encoder.transform(Y)"
   ]
  },
  {
   "cell_type": "code",
   "execution_count": 2719,
   "metadata": {},
   "outputs": [
    {
     "name": "stdout",
     "output_type": "stream",
     "text": [
      "(17407,)\n"
     ]
    },
    {
     "data": {
      "text/plain": [
       "array([1., 1., 1., ..., 1., 1., 1.])"
      ]
     },
     "execution_count": 2719,
     "metadata": {},
     "output_type": "execute_result"
    }
   ],
   "source": [
    "Y = np.where(np.isnan(Y), ma.array(Y, mask=np.isnan(Y)).mean(axis=0), Y)\n",
    "print(Y.shape)\n",
    "Y"
   ]
  },
  {
   "cell_type": "code",
   "execution_count": null,
   "metadata": {},
   "outputs": [],
   "source": []
  },
  {
   "cell_type": "code",
   "execution_count": 2720,
   "metadata": {},
   "outputs": [],
   "source": [
    "train_X = X[:int((len(X)+1)*.75)] \n",
    "test_X = X[int(len(X)*.75+1):] "
   ]
  },
  {
   "cell_type": "code",
   "execution_count": 2721,
   "metadata": {},
   "outputs": [],
   "source": [
    "train_Y = Y[:int((len(Y)+1)*.75)] \n",
    "test_Y = Y[int(len(Y)*.75+1):]"
   ]
  },
  {
   "cell_type": "code",
   "execution_count": 2722,
   "metadata": {},
   "outputs": [],
   "source": [
    "\n",
    "X_train = (train_X)\n",
    "\n",
    "# transform testing dataabs\n",
    "X_test = (test_X)"
   ]
  },
  {
   "cell_type": "code",
   "execution_count": 2723,
   "metadata": {},
   "outputs": [],
   "source": [
    "Y_train = train_Y\n",
    "Y_test =  test_Y"
   ]
  },
  {
   "cell_type": "code",
   "execution_count": 2724,
   "metadata": {},
   "outputs": [
    {
     "data": {
      "text/plain": [
       "array([1., 1., 0., ..., 1., 1., 1.])"
      ]
     },
     "execution_count": 2724,
     "metadata": {},
     "output_type": "execute_result"
    }
   ],
   "source": [
    "Y_test"
   ]
  },
  {
   "cell_type": "code",
   "execution_count": 2725,
   "metadata": {},
   "outputs": [
    {
     "data": {
      "text/plain": [
       "array([[-16.9 , -33.53,   4.55, ...,  26.74,  15.  ,  22.01],\n",
       "       [-33.53,   4.55,   8.85, ...,  15.  ,  22.01,   4.99],\n",
       "       [  4.55,   8.85,  -1.39, ...,  22.01,   4.99,   7.94],\n",
       "       ...,\n",
       "       [ 15.1 , -17.  ,  16.2 , ..., -20.8 ,  -3.7 ,   1.2 ],\n",
       "       [-17.  ,  16.2 ,   3.1 , ...,  -3.7 ,   1.2 , 211.6 ],\n",
       "       [ 16.2 ,   3.1 ,  12.3 , ...,   1.2 , 211.6 ,  29.9 ]])"
      ]
     },
     "execution_count": 2725,
     "metadata": {},
     "output_type": "execute_result"
    }
   ],
   "source": [
    "X_train.shape, X_test.shape\n",
    "X_train"
   ]
  },
  {
   "cell_type": "code",
   "execution_count": 2726,
   "metadata": {},
   "outputs": [
    {
     "data": {
      "text/plain": [
       "array([[    3.1,    12.3,   -10. , ...,   211.6,    29.9,    -2.1],\n",
       "       [   12.3,   -10. ,    -9.2, ...,    29.9,    -2.1,    10.6],\n",
       "       [  -10. ,    -9.2,     6.6, ...,    -2.1,    10.6,    20.8],\n",
       "       ...,\n",
       "       [  743.8,  -123.6,   343.6, ...,  -164.5,  -152.1,    50.2],\n",
       "       [ -123.6,   343.6,    39. , ...,  -152.1,    50.2,   360.4],\n",
       "       [  343.6,    39. , -1087.7, ...,    50.2,   360.4,    58.6]])"
      ]
     },
     "execution_count": 2726,
     "metadata": {},
     "output_type": "execute_result"
    }
   ],
   "source": [
    "X_test"
   ]
  },
  {
   "cell_type": "markdown",
   "metadata": {},
   "source": [
    "## Random Forest Classifier Forecasting of the Returns Time Series"
   ]
  },
  {
   "cell_type": "markdown",
   "metadata": {},
   "source": [
    "### Results"
   ]
  },
  {
   "cell_type": "code",
   "execution_count": 2727,
   "metadata": {},
   "outputs": [
    {
     "name": "stdout",
     "output_type": "stream",
     "text": [
      "Accuracy: 0.5343599172603999\n"
     ]
    }
   ],
   "source": [
    "#Import scikit-learn metrics module for accuracy calculation\n",
    "from sklearn import metrics\n",
    "clf=RandomForestClassifier(n_estimators=150)\n",
    "\n",
    "clf.fit(X_train,Y_train)\n",
    "\n",
    "y_pred=clf.predict(X_test)\n",
    "\n",
    "# Model Accuracy, how often is the classifier correct?\n",
    "print(\"Accuracy:\",metrics.accuracy_score(y_test, y_pred))"
   ]
  },
  {
   "cell_type": "markdown",
   "metadata": {},
   "source": [
    "This accuracy is the best attained so far, but again we must be cautious and examine the confusion matrix and other metrics before coming to a firm conclusion."
   ]
  },
  {
   "cell_type": "code",
   "execution_count": 2728,
   "metadata": {},
   "outputs": [
    {
     "name": "stdout",
     "output_type": "stream",
     "text": [
      "Confusion matrix:\n",
      "[[1128  922]\n",
      " [1104 1197]]\n"
     ]
    }
   ],
   "source": [
    "confusion = confusion_matrix(y_test, y_pred)\n",
    "print(\"Confusion matrix:\\n{}\".format(confusion))"
   ]
  },
  {
   "cell_type": "code",
   "execution_count": 2729,
   "metadata": {},
   "outputs": [
    {
     "data": {
      "text/plain": [
       "<AxesSubplot:>"
      ]
     },
     "execution_count": 2729,
     "metadata": {},
     "output_type": "execute_result"
    },
    {
     "data": {
      "image/png": "[encoded data removed]",
      "text/plain": [
       "<Figure size 432x288 with 2 Axes>"
      ]
     },
     "metadata": {},
     "output_type": "display_data"
    }
   ],
   "source": [
    "\n",
    "sn.set(font_scale=1.4) # for label size\n",
    "#sn.heatmap(confusion, annot=True, annot_kws={\"size\": 16}) # font size\n",
    "sns.heatmap(confusion/np.sum(confusion), annot=True, \n",
    "            fmt='.2%', cmap='Blues')"
   ]
  },
  {
   "cell_type": "markdown",
   "metadata": {},
   "source": [
    "This confusion matrix is the best obtained so far. "
   ]
  },
  {
   "cell_type": "code",
   "execution_count": 2730,
   "metadata": {},
   "outputs": [
    {
     "data": {
      "text/plain": [
       "29    0.036760\n",
       "17    0.034397\n",
       "5     0.034220\n",
       "7     0.034012\n",
       "22    0.034011\n",
       "15    0.033930\n",
       "8     0.033863\n",
       "14    0.033838\n",
       "2     0.033704\n",
       "19    0.033557\n",
       "6     0.033499\n",
       "25    0.033424\n",
       "21    0.033403\n",
       "1     0.033310\n",
       "16    0.033297\n",
       "26    0.033262\n",
       "28    0.033248\n",
       "27    0.032925\n",
       "12    0.032866\n",
       "18    0.032825\n",
       "23    0.032772\n",
       "10    0.032733\n",
       "4     0.032713\n",
       "20    0.032685\n",
       "9     0.032652\n",
       "0     0.032604\n",
       "24    0.032515\n",
       "3     0.032513\n",
       "11    0.032422\n",
       "13    0.032041\n",
       "dtype: float64"
      ]
     },
     "execution_count": 2730,
     "metadata": {},
     "output_type": "execute_result"
    }
   ],
   "source": [
    "import pandas as pd\n",
    "\n",
    "feature_imp = pd.Series(clf.feature_importances_).sort_values(ascending=False)\n",
    "feature_imp"
   ]
  },
  {
   "cell_type": "code",
   "execution_count": 2731,
   "metadata": {},
   "outputs": [
    {
     "data": {
      "image/png": "[encoded data removed]",
      "text/plain": [
       "<Figure size 720x288 with 1 Axes>"
      ]
     },
     "metadata": {
      "needs_background": "light"
     },
     "output_type": "display_data"
    }
   ],
   "source": [
    "import matplotlib.pyplot as plt\n",
    "import seaborn as sns\n",
    "%matplotlib inline\n",
    "# Creating a bar plot\n",
    "fig_dims = (10, 4)\n",
    "fig, ax = plt.subplots(figsize=fig_dims)\n",
    "\n",
    "sns.barplot(y=feature_imp, x=feature_imp.index, ax = ax )\n",
    "# Add labels to your graph\n",
    "plt.ylabel('Feature Importance Score')\n",
    "plt.xlabel('Features')\n",
    "plt.title(\"Visualizing Important Features\")\n",
    "#plt.legend()\n",
    "plt.show()"
   ]
  },
  {
   "cell_type": "markdown",
   "metadata": {},
   "source": [
    "The feature importance graph for the returns time series shows the last data point is only slightly more important than the rest. Though again, surpisingly, the importance of the features does not exhibit a decline with increasing time."
   ]
  },
  {
   "cell_type": "code",
   "execution_count": 2732,
   "metadata": {},
   "outputs": [
    {
     "data": {
      "image/png": "[encoded data removed]",
      "text/plain": [
       "<Figure size 432x288 with 1 Axes>"
      ]
     },
     "metadata": {
      "needs_background": "light"
     },
     "output_type": "display_data"
    }
   ],
   "source": [
    "# get roc/auc info\n",
    "Y_score = clf.predict_proba(X_test)[:,1]\n",
    "fpr = dict()\n",
    "tpr = dict()\n",
    "fpr, tpr, _ = roc_curve(Y_test, Y_score)\n",
    "\n",
    "roc_auc = dict()\n",
    "roc_auc = auc(fpr, tpr)\n",
    "\n",
    "# make the plot\n",
    "#plt.figure(figsize=(10,10))\n",
    "plt.plot([0, 1], [0, 1], 'k--')\n",
    "plt.xlim([-0.05, 1.0])\n",
    "plt.ylim([0.0, 1.05])\n",
    "plt.xlabel('False Positive Rate')\n",
    "plt.ylabel('True Positive Rate')\n",
    "plt.grid(True)\n",
    "plt.plot(fpr, tpr, label='AUC = {0}'.format(roc_auc))        \n",
    "plt.legend(loc=\"lower right\", shadow=True, fancybox =True) \n",
    "plt.show()"
   ]
  },
  {
   "cell_type": "code",
   "execution_count": 2733,
   "metadata": {},
   "outputs": [
    {
     "name": "stdout",
     "output_type": "stream",
     "text": [
      "                 precision    recall  f1-score   support\n",
      "\n",
      " price increase       0.51      0.55      0.53      2050\n",
      " price decrease       0.56      0.52      0.54      2301\n",
      "\n",
      "       accuracy                           0.53      4351\n",
      "      macro avg       0.54      0.54      0.53      4351\n",
      "   weighted avg       0.54      0.53      0.53      4351\n",
      "\n"
     ]
    }
   ],
   "source": [
    "print(classification_report(y_test, y_pred,\n",
    "target_names=[\" price increase\", \"price decrease\"]))"
   ]
  },
  {
   "cell_type": "markdown",
   "metadata": {},
   "source": [
    "The ROC curve and other metrix clearly show that the Random Forest Classifier applied to the returns time series gives the best performance out of all classification frameworks so far studied."
   ]
  },
  {
   "cell_type": "markdown",
   "metadata": {},
   "source": [
    "# Conclusion"
   ]
  },
  {
   "cell_type": "markdown",
   "metadata": {},
   "source": [
    "The Random Forest classifier applied to the time series of returns gave the best performance of all classification frameworks thus far considered. Not only the accuracy but all other metrics were clearly superior and better behaved. Random Forest classifiers perform quite well without too much tuning so default values of the hyperparameters were used. It may be possible to squeeze further improvements out of the classifier by carefully tuning the hyperparameters. This will be studied next. A further route to perfomaance improvement could be the use of the XGBoost algorithm in place of the Random Forest algorithm though this requires careful tuning of the hyperparameters to obtain optimal performance."
   ]
  },
  {
   "cell_type": "code",
   "execution_count": null,
   "metadata": {},
   "outputs": [],
   "source": []
  }
 ],
 "metadata": {
  "kernelspec": {
   "display_name": "Python 3",
   "language": "python",
   "name": "python3"
  },
  "language_info": {
   "codemirror_mode": {
    "name": "ipython",
    "version": 3
   },
   "file_extension": ".py",
   "mimetype": "text/x-python",
   "name": "python",
   "nbconvert_exporter": "python",
   "pygments_lexer": "ipython3",
   "version": "3.8.5"
  }
 },
 "nbformat": 4,
 "nbformat_minor": 2
}
