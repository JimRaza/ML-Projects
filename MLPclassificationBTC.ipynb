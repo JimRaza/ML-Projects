{
 "cells": [
  {
   "cell_type": "markdown",
   "metadata": {},
   "source": [
    "# Bitcoin Time Series Forecasting  - Part 3: Neural Network Classification"
   ]
  },
  {
   "cell_type": "markdown",
   "metadata": {},
   "source": [
    "# Introduction"
   ]
  },
  {
   "cell_type": "markdown",
   "metadata": {},
   "source": [
    "In the third part of the project I formulate Bitcoin price forecasting as a binary classification problem. I do this by training a multilayer perceptron on a sequence of past data points to predict a price increase or decrease in the next time step. Once again I do this on both the raw time series and the time series of returns. "
   ]
  },
  {
   "cell_type": "markdown",
   "metadata": {},
   "source": [
    "Loading several needed packages:"
   ]
  },
  {
   "cell_type": "code",
   "execution_count": 537,
   "metadata": {},
   "outputs": [
    {
     "data": {
      "text/plain": [
       "<Figure size 432x288 with 0 Axes>"
      ]
     },
     "metadata": {},
     "output_type": "display_data"
    }
   ],
   "source": [
    "import pandas as pd\n",
    "import numpy as np\n",
    "import matplotlib.pyplot as plt\n",
    "import numpy.ma as ma\n",
    "import matplotlib.pylab as plt\n",
    "import seaborn as sns\n",
    "sns.despine()\n",
    "import statsmodels.api as sm\n",
    "from statsmodels.graphics.gofplots import qqplot\n",
    "#%matplotlib # to prevent duplicate plots by statsmodels \n",
    "\n",
    "from sklearn.preprocessing import MinMaxScaler\n",
    "from sklearn.preprocessing import StandardScaler\n",
    "from sklearn.metrics import confusion_matrix\n",
    "from sklearn.metrics import classification_report\n",
    "from sklearn.metrics import roc_curve\n",
    "from sklearn.metrics import auc"
   ]
  },
  {
   "cell_type": "markdown",
   "metadata": {},
   "source": [
    "Loading the Keras package for neural network training."
   ]
  },
  {
   "cell_type": "code",
   "execution_count": 538,
   "metadata": {},
   "outputs": [],
   "source": [
    "import keras\n",
    "from keras.models import Sequential\n",
    "from keras.layers.core import Dense, Dropout, Activation, Flatten\n",
    "from keras.layers.normalization import BatchNormalization\n",
    "from keras.callbacks import ModelCheckpoint, ReduceLROnPlateau, CSVLogger, EarlyStopping\n",
    "from keras.optimizers import RMSprop, Adam, SGD, Nadam\n",
    "from keras.layers.advanced_activations import *\n",
    "from keras import regularizers"
   ]
  },
  {
   "cell_type": "markdown",
   "metadata": {},
   "source": [
    "### Data Loading and Preparation"
   ]
  },
  {
   "cell_type": "markdown",
   "metadata": {},
   "source": [
    "The data loading and following few steps are repeats of the previous part."
   ]
  },
  {
   "cell_type": "code",
   "execution_count": 539,
   "metadata": {},
   "outputs": [
    {
     "data": {
      "text/html": [
       "<div>\n",
       "<style scoped>\n",
       "    .dataframe tbody tr th:only-of-type {\n",
       "        vertical-align: middle;\n",
       "    }\n",
       "\n",
       "    .dataframe tbody tr th {\n",
       "        vertical-align: top;\n",
       "    }\n",
       "\n",
       "    .dataframe thead th {\n",
       "        text-align: right;\n",
       "    }\n",
       "</style>\n",
       "<table border=\"1\" class=\"dataframe\">\n",
       "  <thead>\n",
       "    <tr style=\"text-align: right;\">\n",
       "      <th></th>\n",
       "      <th>Symbol</th>\n",
       "      <th>Open</th>\n",
       "      <th>High</th>\n",
       "      <th>Low</th>\n",
       "      <th>Close</th>\n",
       "      <th>Volume BTC</th>\n",
       "      <th>Volume USD</th>\n",
       "    </tr>\n",
       "    <tr>\n",
       "      <th>Date</th>\n",
       "      <th></th>\n",
       "      <th></th>\n",
       "      <th></th>\n",
       "      <th></th>\n",
       "      <th></th>\n",
       "      <th></th>\n",
       "      <th></th>\n",
       "    </tr>\n",
       "  </thead>\n",
       "  <tbody>\n",
       "    <tr>\n",
       "      <th>2019-06-28 01-AM</th>\n",
       "      <td>BTCUSD</td>\n",
       "      <td>11468.6</td>\n",
       "      <td>11533.0</td>\n",
       "      <td>11200.9</td>\n",
       "      <td>11478.4</td>\n",
       "      <td>365.78</td>\n",
       "      <td>4184793.31</td>\n",
       "    </tr>\n",
       "    <tr>\n",
       "      <th>2019-06-28 12-AM</th>\n",
       "      <td>BTCUSD</td>\n",
       "      <td>11148.0</td>\n",
       "      <td>11468.6</td>\n",
       "      <td>11002.6</td>\n",
       "      <td>11468.6</td>\n",
       "      <td>814.75</td>\n",
       "      <td>9215735.83</td>\n",
       "    </tr>\n",
       "    <tr>\n",
       "      <th>2019-06-27 11-PM</th>\n",
       "      <td>BTCUSD</td>\n",
       "      <td>11089.4</td>\n",
       "      <td>11335.0</td>\n",
       "      <td>10905.9</td>\n",
       "      <td>11148.0</td>\n",
       "      <td>971.72</td>\n",
       "      <td>10836698.04</td>\n",
       "    </tr>\n",
       "    <tr>\n",
       "      <th>2019-06-27 10-PM</th>\n",
       "      <td>BTCUSD</td>\n",
       "      <td>10729.0</td>\n",
       "      <td>11144.0</td>\n",
       "      <td>10665.6</td>\n",
       "      <td>11089.4</td>\n",
       "      <td>896.88</td>\n",
       "      <td>9785079.35</td>\n",
       "    </tr>\n",
       "    <tr>\n",
       "      <th>2019-06-27 09-PM</th>\n",
       "      <td>BTCUSD</td>\n",
       "      <td>10678.8</td>\n",
       "      <td>10837.1</td>\n",
       "      <td>10456.4</td>\n",
       "      <td>10729.0</td>\n",
       "      <td>672.38</td>\n",
       "      <td>7177959.51</td>\n",
       "    </tr>\n",
       "  </tbody>\n",
       "</table>\n",
       "</div>"
      ],
      "text/plain": [
       "                  Symbol     Open     High      Low    Close  Volume BTC  \\\n",
       "Date                                                                       \n",
       "2019-06-28 01-AM  BTCUSD  11468.6  11533.0  11200.9  11478.4      365.78   \n",
       "2019-06-28 12-AM  BTCUSD  11148.0  11468.6  11002.6  11468.6      814.75   \n",
       "2019-06-27 11-PM  BTCUSD  11089.4  11335.0  10905.9  11148.0      971.72   \n",
       "2019-06-27 10-PM  BTCUSD  10729.0  11144.0  10665.6  11089.4      896.88   \n",
       "2019-06-27 09-PM  BTCUSD  10678.8  10837.1  10456.4  10729.0      672.38   \n",
       "\n",
       "                   Volume USD  \n",
       "Date                           \n",
       "2019-06-28 01-AM   4184793.31  \n",
       "2019-06-28 12-AM   9215735.83  \n",
       "2019-06-27 11-PM  10836698.04  \n",
       "2019-06-27 10-PM   9785079.35  \n",
       "2019-06-27 09-PM   7177959.51  "
      ]
     },
     "execution_count": 539,
     "metadata": {},
     "output_type": "execute_result"
    }
   ],
   "source": [
    "data = pd.read_csv('c:\\\\users\\jamil\\AnacondaProjects\\Mariani_Prado\\Kraken_BTCUSD_1h.csv', index_col= 0)\n",
    "data.head()"
   ]
  },
  {
   "cell_type": "code",
   "execution_count": 540,
   "metadata": {},
   "outputs": [
    {
     "data": {
      "text/html": [
       "<div>\n",
       "<style scoped>\n",
       "    .dataframe tbody tr th:only-of-type {\n",
       "        vertical-align: middle;\n",
       "    }\n",
       "\n",
       "    .dataframe tbody tr th {\n",
       "        vertical-align: top;\n",
       "    }\n",
       "\n",
       "    .dataframe thead th {\n",
       "        text-align: right;\n",
       "    }\n",
       "</style>\n",
       "<table border=\"1\" class=\"dataframe\">\n",
       "  <thead>\n",
       "    <tr style=\"text-align: right;\">\n",
       "      <th></th>\n",
       "      <th>Symbol</th>\n",
       "      <th>Open</th>\n",
       "      <th>High</th>\n",
       "      <th>Low</th>\n",
       "      <th>Close</th>\n",
       "      <th>Volume BTC</th>\n",
       "      <th>Volume USD</th>\n",
       "    </tr>\n",
       "    <tr>\n",
       "      <th>Date</th>\n",
       "      <th></th>\n",
       "      <th></th>\n",
       "      <th></th>\n",
       "      <th></th>\n",
       "      <th></th>\n",
       "      <th></th>\n",
       "      <th></th>\n",
       "    </tr>\n",
       "  </thead>\n",
       "  <tbody>\n",
       "    <tr>\n",
       "      <th>2019-06-28 01:00:00</th>\n",
       "      <td>BTCUSD</td>\n",
       "      <td>11468.6</td>\n",
       "      <td>11533.0</td>\n",
       "      <td>11200.9</td>\n",
       "      <td>11478.4</td>\n",
       "      <td>365.78</td>\n",
       "      <td>4184793.31</td>\n",
       "    </tr>\n",
       "    <tr>\n",
       "      <th>2019-06-28 00:00:00</th>\n",
       "      <td>BTCUSD</td>\n",
       "      <td>11148.0</td>\n",
       "      <td>11468.6</td>\n",
       "      <td>11002.6</td>\n",
       "      <td>11468.6</td>\n",
       "      <td>814.75</td>\n",
       "      <td>9215735.83</td>\n",
       "    </tr>\n",
       "    <tr>\n",
       "      <th>2019-06-27 23:00:00</th>\n",
       "      <td>BTCUSD</td>\n",
       "      <td>11089.4</td>\n",
       "      <td>11335.0</td>\n",
       "      <td>10905.9</td>\n",
       "      <td>11148.0</td>\n",
       "      <td>971.72</td>\n",
       "      <td>10836698.04</td>\n",
       "    </tr>\n",
       "    <tr>\n",
       "      <th>2019-06-27 22:00:00</th>\n",
       "      <td>BTCUSD</td>\n",
       "      <td>10729.0</td>\n",
       "      <td>11144.0</td>\n",
       "      <td>10665.6</td>\n",
       "      <td>11089.4</td>\n",
       "      <td>896.88</td>\n",
       "      <td>9785079.35</td>\n",
       "    </tr>\n",
       "    <tr>\n",
       "      <th>2019-06-27 21:00:00</th>\n",
       "      <td>BTCUSD</td>\n",
       "      <td>10678.8</td>\n",
       "      <td>10837.1</td>\n",
       "      <td>10456.4</td>\n",
       "      <td>10729.0</td>\n",
       "      <td>672.38</td>\n",
       "      <td>7177959.51</td>\n",
       "    </tr>\n",
       "    <tr>\n",
       "      <th>2019-06-27 20:00:00</th>\n",
       "      <td>BTCUSD</td>\n",
       "      <td>10830.9</td>\n",
       "      <td>10899.8</td>\n",
       "      <td>10300.0</td>\n",
       "      <td>10678.8</td>\n",
       "      <td>1489.22</td>\n",
       "      <td>15715577.13</td>\n",
       "    </tr>\n",
       "    <tr>\n",
       "      <th>2019-06-27 19:00:00</th>\n",
       "      <td>BTCUSD</td>\n",
       "      <td>10995.4</td>\n",
       "      <td>10995.4</td>\n",
       "      <td>10520.4</td>\n",
       "      <td>10830.9</td>\n",
       "      <td>1191.77</td>\n",
       "      <td>12846614.99</td>\n",
       "    </tr>\n",
       "    <tr>\n",
       "      <th>2019-06-27 18:00:00</th>\n",
       "      <td>BTCUSD</td>\n",
       "      <td>10805.5</td>\n",
       "      <td>11097.5</td>\n",
       "      <td>10638.6</td>\n",
       "      <td>10995.4</td>\n",
       "      <td>971.41</td>\n",
       "      <td>10603374.74</td>\n",
       "    </tr>\n",
       "    <tr>\n",
       "      <th>2019-06-27 17:00:00</th>\n",
       "      <td>BTCUSD</td>\n",
       "      <td>10887.6</td>\n",
       "      <td>10920.0</td>\n",
       "      <td>10355.2</td>\n",
       "      <td>10805.5</td>\n",
       "      <td>2331.37</td>\n",
       "      <td>24900968.86</td>\n",
       "    </tr>\n",
       "    <tr>\n",
       "      <th>2019-06-27 16:00:00</th>\n",
       "      <td>BTCUSD</td>\n",
       "      <td>11646.6</td>\n",
       "      <td>11777.0</td>\n",
       "      <td>10801.1</td>\n",
       "      <td>10887.6</td>\n",
       "      <td>2603.47</td>\n",
       "      <td>28913045.29</td>\n",
       "    </tr>\n",
       "  </tbody>\n",
       "</table>\n",
       "</div>"
      ],
      "text/plain": [
       "                     Symbol     Open     High      Low    Close  Volume BTC  \\\n",
       "Date                                                                          \n",
       "2019-06-28 01:00:00  BTCUSD  11468.6  11533.0  11200.9  11478.4      365.78   \n",
       "2019-06-28 00:00:00  BTCUSD  11148.0  11468.6  11002.6  11468.6      814.75   \n",
       "2019-06-27 23:00:00  BTCUSD  11089.4  11335.0  10905.9  11148.0      971.72   \n",
       "2019-06-27 22:00:00  BTCUSD  10729.0  11144.0  10665.6  11089.4      896.88   \n",
       "2019-06-27 21:00:00  BTCUSD  10678.8  10837.1  10456.4  10729.0      672.38   \n",
       "2019-06-27 20:00:00  BTCUSD  10830.9  10899.8  10300.0  10678.8     1489.22   \n",
       "2019-06-27 19:00:00  BTCUSD  10995.4  10995.4  10520.4  10830.9     1191.77   \n",
       "2019-06-27 18:00:00  BTCUSD  10805.5  11097.5  10638.6  10995.4      971.41   \n",
       "2019-06-27 17:00:00  BTCUSD  10887.6  10920.0  10355.2  10805.5     2331.37   \n",
       "2019-06-27 16:00:00  BTCUSD  11646.6  11777.0  10801.1  10887.6     2603.47   \n",
       "\n",
       "                      Volume USD  \n",
       "Date                              \n",
       "2019-06-28 01:00:00   4184793.31  \n",
       "2019-06-28 00:00:00   9215735.83  \n",
       "2019-06-27 23:00:00  10836698.04  \n",
       "2019-06-27 22:00:00   9785079.35  \n",
       "2019-06-27 21:00:00   7177959.51  \n",
       "2019-06-27 20:00:00  15715577.13  \n",
       "2019-06-27 19:00:00  12846614.99  \n",
       "2019-06-27 18:00:00  10603374.74  \n",
       "2019-06-27 17:00:00  24900968.86  \n",
       "2019-06-27 16:00:00  28913045.29  "
      ]
     },
     "execution_count": 540,
     "metadata": {},
     "output_type": "execute_result"
    }
   ],
   "source": [
    "data.index = pd.to_datetime(data.index, format='%Y-%m-%d %I-%p')\n",
    "data.head(10)"
   ]
  },
  {
   "cell_type": "code",
   "execution_count": 541,
   "metadata": {},
   "outputs": [
    {
     "data": {
      "text/html": [
       "<div>\n",
       "<style scoped>\n",
       "    .dataframe tbody tr th:only-of-type {\n",
       "        vertical-align: middle;\n",
       "    }\n",
       "\n",
       "    .dataframe tbody tr th {\n",
       "        vertical-align: top;\n",
       "    }\n",
       "\n",
       "    .dataframe thead th {\n",
       "        text-align: right;\n",
       "    }\n",
       "</style>\n",
       "<table border=\"1\" class=\"dataframe\">\n",
       "  <thead>\n",
       "    <tr style=\"text-align: right;\">\n",
       "      <th></th>\n",
       "      <th>Symbol</th>\n",
       "      <th>Open</th>\n",
       "      <th>High</th>\n",
       "      <th>Low</th>\n",
       "      <th>Close</th>\n",
       "      <th>Volume BTC</th>\n",
       "      <th>Volume USD</th>\n",
       "    </tr>\n",
       "    <tr>\n",
       "      <th>Date</th>\n",
       "      <th></th>\n",
       "      <th></th>\n",
       "      <th></th>\n",
       "      <th></th>\n",
       "      <th></th>\n",
       "      <th></th>\n",
       "      <th></th>\n",
       "    </tr>\n",
       "  </thead>\n",
       "  <tbody>\n",
       "    <tr>\n",
       "      <th>2017-07-01 11:00:00</th>\n",
       "      <td>BTCUSD</td>\n",
       "      <td>2491.97</td>\n",
       "      <td>2494.93</td>\n",
       "      <td>2483.32</td>\n",
       "      <td>2494.87</td>\n",
       "      <td>163.92</td>\n",
       "      <td>407837.90</td>\n",
       "    </tr>\n",
       "    <tr>\n",
       "      <th>2017-07-01 12:00:00</th>\n",
       "      <td>BTCUSD</td>\n",
       "      <td>2494.87</td>\n",
       "      <td>2494.87</td>\n",
       "      <td>2470.86</td>\n",
       "      <td>2477.97</td>\n",
       "      <td>80.93</td>\n",
       "      <td>200771.78</td>\n",
       "    </tr>\n",
       "    <tr>\n",
       "      <th>2017-07-01 13:00:00</th>\n",
       "      <td>BTCUSD</td>\n",
       "      <td>2477.97</td>\n",
       "      <td>2478.96</td>\n",
       "      <td>2444.44</td>\n",
       "      <td>2444.44</td>\n",
       "      <td>168.69</td>\n",
       "      <td>415839.42</td>\n",
       "    </tr>\n",
       "    <tr>\n",
       "      <th>2017-07-01 14:00:00</th>\n",
       "      <td>BTCUSD</td>\n",
       "      <td>2444.44</td>\n",
       "      <td>2463.60</td>\n",
       "      <td>2437.26</td>\n",
       "      <td>2448.99</td>\n",
       "      <td>119.59</td>\n",
       "      <td>292801.90</td>\n",
       "    </tr>\n",
       "    <tr>\n",
       "      <th>2017-07-01 15:00:00</th>\n",
       "      <td>BTCUSD</td>\n",
       "      <td>2448.99</td>\n",
       "      <td>2465.95</td>\n",
       "      <td>2438.99</td>\n",
       "      <td>2457.84</td>\n",
       "      <td>109.53</td>\n",
       "      <td>268333.15</td>\n",
       "    </tr>\n",
       "  </tbody>\n",
       "</table>\n",
       "</div>"
      ],
      "text/plain": [
       "                     Symbol     Open     High      Low    Close  Volume BTC  \\\n",
       "Date                                                                          \n",
       "2017-07-01 11:00:00  BTCUSD  2491.97  2494.93  2483.32  2494.87      163.92   \n",
       "2017-07-01 12:00:00  BTCUSD  2494.87  2494.87  2470.86  2477.97       80.93   \n",
       "2017-07-01 13:00:00  BTCUSD  2477.97  2478.96  2444.44  2444.44      168.69   \n",
       "2017-07-01 14:00:00  BTCUSD  2444.44  2463.60  2437.26  2448.99      119.59   \n",
       "2017-07-01 15:00:00  BTCUSD  2448.99  2465.95  2438.99  2457.84      109.53   \n",
       "\n",
       "                     Volume USD  \n",
       "Date                             \n",
       "2017-07-01 11:00:00   407837.90  \n",
       "2017-07-01 12:00:00   200771.78  \n",
       "2017-07-01 13:00:00   415839.42  \n",
       "2017-07-01 14:00:00   292801.90  \n",
       "2017-07-01 15:00:00   268333.15  "
      ]
     },
     "execution_count": 541,
     "metadata": {},
     "output_type": "execute_result"
    }
   ],
   "source": [
    "data=data.reindex(index=data.index[::-1])\n",
    "data.head()"
   ]
  },
  {
   "cell_type": "markdown",
   "metadata": {},
   "source": [
    "Extracting the time series closing Bitcoin prices."
   ]
  },
  {
   "cell_type": "code",
   "execution_count": 542,
   "metadata": {},
   "outputs": [],
   "source": [
    "rawdata = (data['Close'])"
   ]
  },
  {
   "cell_type": "code",
   "execution_count": 543,
   "metadata": {},
   "outputs": [
    {
     "data": {
      "text/plain": [
       "Date\n",
       "2017-07-01 11:00:00    2494.87\n",
       "2017-07-01 12:00:00    2477.97\n",
       "2017-07-01 13:00:00    2444.44\n",
       "2017-07-01 14:00:00    2448.99\n",
       "2017-07-01 15:00:00    2457.84\n",
       "Name: Close, dtype: float64"
      ]
     },
     "execution_count": 543,
     "metadata": {},
     "output_type": "execute_result"
    }
   ],
   "source": [
    "rawdata.head()"
   ]
  },
  {
   "cell_type": "markdown",
   "metadata": {},
   "source": [
    "### Bitcoin Price Time Series"
   ]
  },
  {
   "cell_type": "code",
   "execution_count": 544,
   "metadata": {},
   "outputs": [
    {
     "data": {
      "text/plain": [
       "<AxesSubplot:xlabel='Date'>"
      ]
     },
     "execution_count": 544,
     "metadata": {},
     "output_type": "execute_result"
    },
    {
     "data": {
      "image/png": "[encoded data removed]",
      "text/plain": [
       "<Figure size 432x288 with 1 Axes>"
      ]
     },
     "metadata": {},
     "output_type": "display_data"
    }
   ],
   "source": [
    "rawdata.plot()"
   ]
  },
  {
   "cell_type": "code",
   "execution_count": 545,
   "metadata": {},
   "outputs": [
    {
     "data": {
      "text/plain": [
       "<AxesSubplot:ylabel='Frequency'>"
      ]
     },
     "execution_count": 545,
     "metadata": {},
     "output_type": "execute_result"
    },
    {
     "data": {
      "image/png": "[encoded data removed]",
      "text/plain": [
       "<Figure size 432x288 with 1 Axes>"
      ]
     },
     "metadata": {},
     "output_type": "display_data"
    }
   ],
   "source": [
    "rawdata.plot.hist(bins=25, alpha=0.5)"
   ]
  },
  {
   "cell_type": "code",
   "execution_count": 546,
   "metadata": {},
   "outputs": [
    {
     "data": {
      "image/png": "[encoded data removed]",
      "text/plain": [
       "<Figure size 432x288 with 1 Axes>"
      ]
     },
     "execution_count": 546,
     "metadata": {},
     "output_type": "execute_result"
    },
    {
     "data": {
      "image/png": "[encoded data removed]",
      "text/plain": [
       "<Figure size 432x288 with 1 Axes>"
      ]
     },
     "metadata": {},
     "output_type": "display_data"
    }
   ],
   "source": [
    "qqplot(rawdata, line='s')"
   ]
  },
  {
   "cell_type": "code",
   "execution_count": 547,
   "metadata": {
    "scrolled": true
   },
   "outputs": [
    {
     "data": {
      "image/png": "[encoded data removed]",
      "text/plain": [
       "<Figure size 432x288 with 1 Axes>"
      ]
     },
     "execution_count": 547,
     "metadata": {},
     "output_type": "execute_result"
    },
    {
     "data": {
      "image/png": "[encoded data removed]",
      "text/plain": [
       "<Figure size 432x288 with 1 Axes>"
      ]
     },
     "metadata": {},
     "output_type": "display_data"
    }
   ],
   "source": [
    "sm.graphics.tsa.plot_acf(rawdata, lags=1750)"
   ]
  },
  {
   "cell_type": "markdown",
   "metadata": {},
   "source": [
    "### The Time Series of First Differences or Returns"
   ]
  },
  {
   "cell_type": "code",
   "execution_count": 548,
   "metadata": {},
   "outputs": [
    {
     "data": {
      "text/plain": [
       "<AxesSubplot:xlabel='Date'>"
      ]
     },
     "execution_count": 548,
     "metadata": {},
     "output_type": "execute_result"
    },
    {
     "data": {
      "image/png": "[encoded data removed]",
      "text/plain": [
       "<Figure size 432x288 with 1 Axes>"
      ]
     },
     "metadata": {},
     "output_type": "display_data"
    }
   ],
   "source": [
    "shiftdata = rawdata.shift(1)\n",
    "diff = rawdata - shiftdata\n",
    "diff.dropna()\n",
    "diff.plot()"
   ]
  },
  {
   "cell_type": "code",
   "execution_count": 549,
   "metadata": {},
   "outputs": [
    {
     "data": {
      "text/plain": [
       "17439"
      ]
     },
     "execution_count": 549,
     "metadata": {},
     "output_type": "execute_result"
    }
   ],
   "source": [
    "len(diff)"
   ]
  },
  {
   "cell_type": "code",
   "execution_count": 550,
   "metadata": {},
   "outputs": [
    {
     "data": {
      "text/plain": [
       "Date\n",
       "2017-07-01 11:00:00      NaN\n",
       "2017-07-01 12:00:00   -16.90\n",
       "2017-07-01 13:00:00   -33.53\n",
       "2017-07-01 14:00:00     4.55\n",
       "2017-07-01 15:00:00     8.85\n",
       "Name: Close, dtype: float64"
      ]
     },
     "execution_count": 550,
     "metadata": {},
     "output_type": "execute_result"
    }
   ],
   "source": [
    "diff.head()"
   ]
  },
  {
   "cell_type": "code",
   "execution_count": 551,
   "metadata": {},
   "outputs": [],
   "source": [
    "diff = diff.dropna()"
   ]
  },
  {
   "cell_type": "code",
   "execution_count": 552,
   "metadata": {},
   "outputs": [
    {
     "data": {
      "text/plain": [
       "Date\n",
       "2017-07-01 12:00:00   -16.90\n",
       "2017-07-01 13:00:00   -33.53\n",
       "2017-07-01 14:00:00     4.55\n",
       "2017-07-01 15:00:00     8.85\n",
       "2017-07-01 16:00:00    -1.39\n",
       "Name: Close, dtype: float64"
      ]
     },
     "execution_count": 552,
     "metadata": {},
     "output_type": "execute_result"
    }
   ],
   "source": [
    "diff.head()"
   ]
  },
  {
   "cell_type": "code",
   "execution_count": 553,
   "metadata": {},
   "outputs": [
    {
     "data": {
      "text/plain": [
       "<AxesSubplot:ylabel='Frequency'>"
      ]
     },
     "execution_count": 553,
     "metadata": {},
     "output_type": "execute_result"
    },
    {
     "data": {
      "image/png": "[encoded data removed]",
      "text/plain": [
       "<Figure size 432x288 with 1 Axes>"
      ]
     },
     "metadata": {},
     "output_type": "display_data"
    }
   ],
   "source": [
    "diff.plot.hist(bins=25, alpha=0.5)"
   ]
  },
  {
   "cell_type": "code",
   "execution_count": 554,
   "metadata": {},
   "outputs": [
    {
     "data": {
      "image/png": "[encoded data removed]",
      "text/plain": [
       "<Figure size 432x288 with 1 Axes>"
      ]
     },
     "execution_count": 554,
     "metadata": {},
     "output_type": "execute_result"
    },
    {
     "data": {
      "image/png": "[encoded data removed]",
      "text/plain": [
       "<Figure size 432x288 with 1 Axes>"
      ]
     },
     "metadata": {},
     "output_type": "display_data"
    }
   ],
   "source": [
    "qqplot(diff, line='s')"
   ]
  },
  {
   "cell_type": "code",
   "execution_count": 555,
   "metadata": {},
   "outputs": [
    {
     "data": {
      "image/png": "[encoded data removed]",
      "text/plain": [
       "<Figure size 432x288 with 1 Axes>"
      ]
     },
     "execution_count": 555,
     "metadata": {},
     "output_type": "execute_result"
    },
    {
     "data": {
      "image/png": "[encoded data removed]",
      "text/plain": [
       "<Figure size 432x288 with 1 Axes>"
      ]
     },
     "metadata": {},
     "output_type": "display_data"
    }
   ],
   "source": [
    "sm.graphics.tsa.plot_acf(diff, lags=20)"
   ]
  },
  {
   "cell_type": "markdown",
   "metadata": {},
   "source": [
    "##  Neural Network Forecasting of the Raw Bitcoin Time Series"
   ]
  },
  {
   "cell_type": "markdown",
   "metadata": {},
   "source": [
    "## Data Preparation for Binary Classification - Raw Time Series"
   ]
  },
  {
   "cell_type": "code",
   "execution_count": 556,
   "metadata": {},
   "outputs": [
    {
     "data": {
      "text/plain": [
       "[<matplotlib.lines.Line2D at 0x2821dc4bc10>]"
      ]
     },
     "execution_count": 556,
     "metadata": {},
     "output_type": "execute_result"
    },
    {
     "data": {
      "image/png": "[encoded data removed]",
      "text/plain": [
       "<Figure size 432x288 with 1 Axes>"
      ]
     },
     "metadata": {},
     "output_type": "display_data"
    }
   ],
   "source": [
    "data = rawdata.values\n",
    "plt.plot(data)"
   ]
  },
  {
   "cell_type": "code",
   "execution_count": 557,
   "metadata": {},
   "outputs": [],
   "source": [
    "WINDOW = 30\n",
    "STEP = 1\n",
    "FORECAST = 1"
   ]
  },
  {
   "cell_type": "code",
   "execution_count": 558,
   "metadata": {
    "scrolled": true
   },
   "outputs": [
    {
     "name": "stdout",
     "output_type": "stream",
     "text": [
      "e\n"
     ]
    }
   ],
   "source": [
    "# Straightforward way for creating time windows\n",
    "X, Y = [], []\n",
    "for i in range(0, len(data), STEP): \n",
    "    try:\n",
    "        x_i = data[i:i+WINDOW]\n",
    "        y_i = data[i+WINDOW+FORECAST]  \n",
    "\n",
    "        last_close = x_i[WINDOW-1]\n",
    "        next_close = y_i\n",
    "\n",
    "        if last_close < next_close:\n",
    "            y_i = [1]\n",
    "        else:\n",
    "            y_i = [0] \n",
    "\n",
    "    except Exception as e:\n",
    "        print (\"e\")\n",
    "        break\n",
    "\n",
    "    X.append(x_i)\n",
    "    Y.append(y_i)"
   ]
  },
  {
   "cell_type": "code",
   "execution_count": 559,
   "metadata": {},
   "outputs": [],
   "source": [
    "import numpy.ma as ma"
   ]
  },
  {
   "cell_type": "code",
   "execution_count": 560,
   "metadata": {},
   "outputs": [
    {
     "name": "stdout",
     "output_type": "stream",
     "text": [
      "(17408, 30)\n"
     ]
    },
    {
     "data": {
      "text/plain": [
       "array([[ 2494.87,  2477.97,  2444.44, ...,  2406.26,  2433.  ,  2448.  ],\n",
       "       [ 2477.97,  2444.44,  2448.99, ...,  2433.  ,  2448.  ,  2470.01],\n",
       "       [ 2444.44,  2448.99,  2457.84, ...,  2448.  ,  2470.01,  2475.  ],\n",
       "       ...,\n",
       "       [13580.  , 13456.4 , 13800.  , ..., 10830.9 , 10678.8 , 10729.  ],\n",
       "       [13456.4 , 13800.  , 13839.  , ..., 10678.8 , 10729.  , 11089.4 ],\n",
       "       [13800.  , 13839.  , 12751.3 , ..., 10729.  , 11089.4 , 11148.  ]])"
      ]
     },
     "execution_count": 560,
     "metadata": {},
     "output_type": "execute_result"
    }
   ],
   "source": [
    "X = np.where(np.isnan(X), ma.array(X, mask=np.isnan(X)).mean(axis=0), X)\n",
    "print(X.shape)\n",
    "X\n"
   ]
  },
  {
   "cell_type": "code",
   "execution_count": 561,
   "metadata": {},
   "outputs": [
    {
     "name": "stdout",
     "output_type": "stream",
     "text": [
      "(17408, 1)\n"
     ]
    },
    {
     "data": {
      "text/plain": [
       "array([[1.],\n",
       "       [1.],\n",
       "       [1.],\n",
       "       ...,\n",
       "       [1.],\n",
       "       [1.],\n",
       "       [1.]])"
      ]
     },
     "execution_count": 561,
     "metadata": {},
     "output_type": "execute_result"
    }
   ],
   "source": [
    "Y = np.where(np.isnan(Y), ma.array(Y, mask=np.isnan(Y)).mean(axis=0), Y)\n",
    "print(Y.shape)\n",
    "Y"
   ]
  },
  {
   "cell_type": "code",
   "execution_count": 562,
   "metadata": {},
   "outputs": [],
   "source": [
    "train_X = X[:int((len(X)+1)*.75)] \n",
    "test_X = X[int(len(X)*.75+1):] "
   ]
  },
  {
   "cell_type": "code",
   "execution_count": 563,
   "metadata": {},
   "outputs": [
    {
     "data": {
      "text/plain": [
       "array([[2494.87, 2477.97, 2444.44, ..., 2406.26, 2433.  , 2448.  ],\n",
       "       [2477.97, 2444.44, 2448.99, ..., 2433.  , 2448.  , 2470.01],\n",
       "       [2444.44, 2448.99, 2457.84, ..., 2448.  , 2470.01, 2475.  ],\n",
       "       ...,\n",
       "       [3729.7 , 3744.8 , 3727.8 , ..., 3638.7 , 3617.9 , 3614.2 ],\n",
       "       [3744.8 , 3727.8 , 3744.  , ..., 3617.9 , 3614.2 , 3615.4 ],\n",
       "       [3727.8 , 3744.  , 3747.1 , ..., 3614.2 , 3615.4 , 3827.  ]])"
      ]
     },
     "execution_count": 563,
     "metadata": {},
     "output_type": "execute_result"
    }
   ],
   "source": [
    "(train_X)"
   ]
  },
  {
   "cell_type": "code",
   "execution_count": 564,
   "metadata": {},
   "outputs": [
    {
     "data": {
      "text/plain": [
       "4351"
      ]
     },
     "execution_count": 564,
     "metadata": {},
     "output_type": "execute_result"
    }
   ],
   "source": [
    "len(test_X)"
   ]
  },
  {
   "cell_type": "code",
   "execution_count": 565,
   "metadata": {},
   "outputs": [],
   "source": [
    "train_Y = Y[:int((len(Y)+1)*.75)] \n",
    "test_Y = Y[int(len(Y)*.75+1):] "
   ]
  },
  {
   "cell_type": "code",
   "execution_count": 566,
   "metadata": {},
   "outputs": [
    {
     "data": {
      "text/plain": [
       "4351"
      ]
     },
     "execution_count": 566,
     "metadata": {},
     "output_type": "execute_result"
    }
   ],
   "source": [
    "len(test_Y)"
   ]
  },
  {
   "cell_type": "code",
   "execution_count": 567,
   "metadata": {},
   "outputs": [
    {
     "data": {
      "text/plain": [
       "13056"
      ]
     },
     "execution_count": 567,
     "metadata": {},
     "output_type": "execute_result"
    }
   ],
   "source": [
    "len(train_Y)"
   ]
  },
  {
   "cell_type": "code",
   "execution_count": 568,
   "metadata": {},
   "outputs": [],
   "source": [
    "# normalize data\n",
    "\n",
    "# fit scaler on training data\n",
    "#norm = MinMaxScaler().fit(train_X)\n",
    "norm = StandardScaler().fit(train_X)\n",
    "\n",
    "# transform training data\n",
    "X_train = norm.transform(train_X)\n",
    "\n",
    "# transform testing dataabs\n",
    "X_test = norm.transform(test_X)"
   ]
  },
  {
   "cell_type": "code",
   "execution_count": 569,
   "metadata": {},
   "outputs": [],
   "source": [
    "Y_train = train_Y\n",
    "Y_test =  test_Y"
   ]
  },
  {
   "cell_type": "code",
   "execution_count": 570,
   "metadata": {},
   "outputs": [
    {
     "data": {
      "text/plain": [
       "array([[-1.46032392, -1.46567531, -1.47621108, ..., -1.49026539,\n",
       "        -1.4820089 , -1.47742525],\n",
       "       [-1.46559018, -1.47612408, -1.47479313, ..., -1.48192428,\n",
       "        -1.47732971, -1.47055903],\n",
       "       [-1.47603857, -1.47470619, -1.47203514, ..., -1.47724526,\n",
       "        -1.47046378, -1.46900235],\n",
       "       ...,\n",
       "       [-1.07553481, -1.07089968, -1.07626893, ..., -1.1058253 ,\n",
       "        -1.11238425, -1.11361867],\n",
       "       [-1.07082946, -1.0761973 , -1.07122042, ..., -1.11231353,\n",
       "        -1.11353845, -1.11324432],\n",
       "       [-1.07612688, -1.07114898, -1.07025435, ..., -1.11346769,\n",
       "        -1.11316412, -1.04723379]])"
      ]
     },
     "execution_count": 570,
     "metadata": {},
     "output_type": "execute_result"
    }
   ],
   "source": [
    "X_train.shape, X_test.shape\n",
    "X_train"
   ]
  },
  {
   "cell_type": "code",
   "execution_count": 571,
   "metadata": {},
   "outputs": [
    {
     "data": {
      "text/plain": [
       "array([[-1.07011275, -1.06634996, -1.06953758, ..., -1.04708811,\n",
       "        -1.0378292 , -1.03856133],\n",
       "       [-1.06627991, -1.06946621, -1.07240464, ..., -1.03776128,\n",
       "        -1.03848428, -1.03525457],\n",
       "       [-1.06939604, -1.07233316, -1.07034784, ..., -1.03841634,\n",
       "        -1.03517766, -1.02876582],\n",
       "       ...,\n",
       "       [ 1.99394695,  1.95547555,  2.06259876, ...,  1.13766729,\n",
       "         1.09023422,  1.10590718],\n",
       "       [ 1.95543158,  2.06254983,  2.07475259, ...,  1.09022211,\n",
       "         1.10589391,  1.2183372 ],\n",
       "       [ 2.06250181,  2.0747032 ,  1.7357853 , ...,  1.10588121,\n",
       "         1.21831919,  1.236618  ]])"
      ]
     },
     "execution_count": 571,
     "metadata": {},
     "output_type": "execute_result"
    }
   ],
   "source": [
    "X_test"
   ]
  },
  {
   "cell_type": "code",
   "execution_count": 572,
   "metadata": {},
   "outputs": [
    {
     "data": {
      "text/plain": [
       "((13056, 1), (4351, 1))"
      ]
     },
     "execution_count": 572,
     "metadata": {},
     "output_type": "execute_result"
    }
   ],
   "source": [
    "Y_train.shape, Y_test.shape"
   ]
  },
  {
   "cell_type": "code",
   "execution_count": 573,
   "metadata": {},
   "outputs": [
    {
     "data": {
      "text/plain": [
       "array([[1.],\n",
       "       [1.],\n",
       "       [1.],\n",
       "       ...,\n",
       "       [1.],\n",
       "       [1.],\n",
       "       [1.]])"
      ]
     },
     "execution_count": 573,
     "metadata": {},
     "output_type": "execute_result"
    }
   ],
   "source": [
    "Y_test"
   ]
  },
  {
   "cell_type": "markdown",
   "metadata": {},
   "source": [
    "An imbalanced dataset can affect classification performance so checking the total price increase and decrease labels in the training data:"
   ]
  },
  {
   "cell_type": "code",
   "execution_count": 574,
   "metadata": {},
   "outputs": [
    {
     "name": "stdout",
     "output_type": "stream",
     "text": [
      "The number of price INCREASE labels in the dataset are 6613.0\n"
     ]
    }
   ],
   "source": [
    "totinc = (np.sum(Y_train))\n",
    "print(\"The number of price INCREASE labels in the dataset are {}\".format(totinc))"
   ]
  },
  {
   "cell_type": "code",
   "execution_count": 575,
   "metadata": {},
   "outputs": [
    {
     "name": "stdout",
     "output_type": "stream",
     "text": [
      "The number of price DECREASE labels in the dataset are 6443\n"
     ]
    }
   ],
   "source": [
    "print(\"The number of price DECREASE labels in the dataset are {}\".format(int(len(Y_train) - totinc)))"
   ]
  },
  {
   "cell_type": "markdown",
   "metadata": {},
   "source": [
    "Therefore the two labels are well balanced in the dataset."
   ]
  },
  {
   "cell_type": "markdown",
   "metadata": {},
   "source": [
    "## Neural Network Model Specification"
   ]
  },
  {
   "cell_type": "markdown",
   "metadata": {},
   "source": [
    "I now specify the neural network topology. Note the choice of activation function, loss function and metric reflect the fact that this is now a classification problem not a regression one. This neural network model will be used for both time series."
   ]
  },
  {
   "cell_type": "code",
   "execution_count": 576,
   "metadata": {},
   "outputs": [],
   "source": [
    "model = Sequential()\n",
    "model.add(Dense(32, input_dim= WINDOW,\n",
    "                activity_regularizer=regularizers.l2(0.01)))\n",
    "model.add(BatchNormalization())\n",
    "model.add(LeakyReLU())\n",
    "\n",
    "model.add(Dropout(0.5)) # was originally 0.5 but caused test accuracy to be better than train accuracy\n",
    "model.add(Dense(16,\n",
    "                activity_regularizer=regularizers.l2(0.01)))\n",
    "model.add(BatchNormalization())\n",
    "model.add(LeakyReLU())\n",
    "model.add(Dense(1))\n",
    "model.add(Activation('sigmoid'))\n",
    "\n",
    "#opt = Nadam(lr=0.0001)\n",
    "opt = Nadam()\n",
    "\n",
    "\n",
    "reduce_lr = ReduceLROnPlateau(monitor='val_accuracy', factor=0.9, patience=25, min_lr=0.000001, verbose=0)\n",
    "checkpointer = ModelCheckpoint(filepath=\"test.hdf5\", verbose=1, save_best_only=True)\n",
    "model.compile(optimizer= opt, \n",
    "              loss='binary_crossentropy',\n",
    "              metrics=['accuracy'])"
   ]
  },
  {
   "cell_type": "code",
   "execution_count": 577,
   "metadata": {},
   "outputs": [
    {
     "name": "stdout",
     "output_type": "stream",
     "text": [
      "Model: \"sequential_7\"\n",
      "_________________________________________________________________\n",
      "Layer (type)                 Output Shape              Param #   \n",
      "=================================================================\n",
      "dense_21 (Dense)             (None, 32)                992       \n",
      "_________________________________________________________________\n",
      "batch_normalization_14 (Batc (None, 32)                128       \n",
      "_________________________________________________________________\n",
      "leaky_re_lu_14 (LeakyReLU)   (None, 32)                0         \n",
      "_________________________________________________________________\n",
      "dropout_1 (Dropout)          (None, 32)                0         \n",
      "_________________________________________________________________\n",
      "dense_22 (Dense)             (None, 16)                528       \n",
      "_________________________________________________________________\n",
      "batch_normalization_15 (Batc (None, 16)                64        \n",
      "_________________________________________________________________\n",
      "leaky_re_lu_15 (LeakyReLU)   (None, 16)                0         \n",
      "_________________________________________________________________\n",
      "dense_23 (Dense)             (None, 1)                 17        \n",
      "_________________________________________________________________\n",
      "activation_7 (Activation)    (None, 1)                 0         \n",
      "=================================================================\n",
      "Total params: 1,729\n",
      "Trainable params: 1,633\n",
      "Non-trainable params: 96\n",
      "_________________________________________________________________\n",
      "None\n"
     ]
    }
   ],
   "source": [
    "print(model.summary())"
   ]
  },
  {
   "cell_type": "markdown",
   "metadata": {},
   "source": [
    "### Neural Network Model Fitting to the Raw Time Series"
   ]
  },
  {
   "cell_type": "code",
   "execution_count": 578,
   "metadata": {},
   "outputs": [
    {
     "name": "stdout",
     "output_type": "stream",
     "text": [
      "Epoch 1/300\n",
      "102/102 [==============================] - 2s 6ms/step - loss: 1.0887 - accuracy: 0.5061 - val_loss: 0.7010 - val_accuracy: 0.5263\n",
      "\n",
      "Epoch 00001: val_loss improved from inf to 0.70103, saving model to test.hdf5\n",
      "Epoch 2/300\n",
      "102/102 [==============================] - 0s 3ms/step - loss: 0.8224 - accuracy: 0.5011 - val_loss: 0.6988 - val_accuracy: 0.5240\n",
      "\n",
      "Epoch 00002: val_loss improved from 0.70103 to 0.69877, saving model to test.hdf5\n",
      "Epoch 3/300\n",
      "102/102 [==============================] - 0s 2ms/step - loss: 0.7789 - accuracy: 0.5070 - val_loss: 0.6977 - val_accuracy: 0.5261\n",
      "\n",
      "Epoch 00003: val_loss improved from 0.69877 to 0.69769, saving model to test.hdf5\n",
      "Epoch 4/300\n",
      "102/102 [==============================] - 0s 3ms/step - loss: 0.7606 - accuracy: 0.5073 - val_loss: 0.6989 - val_accuracy: 0.5282\n",
      "\n",
      "Epoch 00004: val_loss did not improve from 0.69769\n",
      "Epoch 5/300\n",
      "102/102 [==============================] - 0s 3ms/step - loss: 0.7499 - accuracy: 0.5003 - val_loss: 0.6995 - val_accuracy: 0.5316\n",
      "\n",
      "Epoch 00005: val_loss did not improve from 0.69769\n",
      "Epoch 6/300\n",
      "102/102 [==============================] - 0s 2ms/step - loss: 0.7361 - accuracy: 0.5172 - val_loss: 0.7025 - val_accuracy: 0.5307\n",
      "\n",
      "Epoch 00006: val_loss did not improve from 0.69769\n",
      "Epoch 7/300\n",
      "102/102 [==============================] - 0s 2ms/step - loss: 0.7347 - accuracy: 0.5093 - val_loss: 0.7048 - val_accuracy: 0.4957\n",
      "\n",
      "Epoch 00007: val_loss did not improve from 0.69769\n",
      "Epoch 8/300\n",
      "102/102 [==============================] - 0s 3ms/step - loss: 0.7272 - accuracy: 0.5100 - val_loss: 0.7012 - val_accuracy: 0.4882\n",
      "\n",
      "Epoch 00008: val_loss did not improve from 0.69769\n",
      "Epoch 9/300\n",
      "102/102 [==============================] - 0s 2ms/step - loss: 0.7197 - accuracy: 0.5125 - val_loss: 0.6974 - val_accuracy: 0.5254\n",
      "\n",
      "Epoch 00009: val_loss improved from 0.69769 to 0.69737, saving model to test.hdf5\n",
      "Epoch 10/300\n",
      "102/102 [==============================] - 0s 2ms/step - loss: 0.7204 - accuracy: 0.5043 - val_loss: 0.6994 - val_accuracy: 0.5334\n",
      "\n",
      "Epoch 00010: val_loss did not improve from 0.69737\n",
      "Epoch 11/300\n",
      "102/102 [==============================] - 0s 2ms/step - loss: 0.7159 - accuracy: 0.5132 - val_loss: 0.6987 - val_accuracy: 0.5259\n",
      "\n",
      "Epoch 00011: val_loss did not improve from 0.69737\n",
      "Epoch 12/300\n",
      "102/102 [==============================] - 0s 2ms/step - loss: 0.7151 - accuracy: 0.5176 - val_loss: 0.6998 - val_accuracy: 0.5157\n",
      "\n",
      "Epoch 00012: val_loss did not improve from 0.69737\n",
      "Epoch 13/300\n",
      "102/102 [==============================] - 0s 2ms/step - loss: 0.7130 - accuracy: 0.5133 - val_loss: 0.6971 - val_accuracy: 0.5178\n",
      "\n",
      "Epoch 00013: val_loss improved from 0.69737 to 0.69710, saving model to test.hdf5\n",
      "Epoch 14/300\n",
      "102/102 [==============================] - 0s 2ms/step - loss: 0.7103 - accuracy: 0.5096 - val_loss: 0.6982 - val_accuracy: 0.5208\n",
      "\n",
      "Epoch 00014: val_loss did not improve from 0.69710\n",
      "Epoch 15/300\n",
      "102/102 [==============================] - 0s 2ms/step - loss: 0.7077 - accuracy: 0.5079 - val_loss: 0.6968 - val_accuracy: 0.5148\n",
      "\n",
      "Epoch 00015: val_loss improved from 0.69710 to 0.69681, saving model to test.hdf5\n",
      "Epoch 16/300\n",
      "102/102 [==============================] - 0s 2ms/step - loss: 0.7065 - accuracy: 0.5134 - val_loss: 0.6960 - val_accuracy: 0.5167\n",
      "\n",
      "Epoch 00016: val_loss improved from 0.69681 to 0.69598, saving model to test.hdf5\n",
      "Epoch 17/300\n",
      "102/102 [==============================] - 0s 2ms/step - loss: 0.7067 - accuracy: 0.5094 - val_loss: 0.6959 - val_accuracy: 0.5275\n",
      "\n",
      "Epoch 00017: val_loss improved from 0.69598 to 0.69588, saving model to test.hdf5\n",
      "Epoch 18/300\n",
      "102/102 [==============================] - 0s 2ms/step - loss: 0.7077 - accuracy: 0.5090 - val_loss: 0.6954 - val_accuracy: 0.5222\n",
      "\n",
      "Epoch 00018: val_loss improved from 0.69588 to 0.69537, saving model to test.hdf5\n",
      "Epoch 19/300\n",
      "102/102 [==============================] - 0s 2ms/step - loss: 0.7053 - accuracy: 0.5001 - val_loss: 0.6965 - val_accuracy: 0.5265\n",
      "\n",
      "Epoch 00019: val_loss did not improve from 0.69537\n",
      "Epoch 20/300\n",
      "102/102 [==============================] - 0s 2ms/step - loss: 0.7035 - accuracy: 0.5142 - val_loss: 0.6978 - val_accuracy: 0.5201\n",
      "\n",
      "Epoch 00020: val_loss did not improve from 0.69537\n",
      "Epoch 21/300\n",
      "102/102 [==============================] - 0s 2ms/step - loss: 0.7047 - accuracy: 0.5006 - val_loss: 0.6966 - val_accuracy: 0.5270\n",
      "\n",
      "Epoch 00021: val_loss did not improve from 0.69537\n",
      "Epoch 22/300\n",
      "102/102 [==============================] - 0s 2ms/step - loss: 0.7024 - accuracy: 0.5139 - val_loss: 0.6955 - val_accuracy: 0.5208\n",
      "\n",
      "Epoch 00022: val_loss did not improve from 0.69537\n",
      "Epoch 23/300\n",
      "102/102 [==============================] - 0s 2ms/step - loss: 0.7022 - accuracy: 0.5071 - val_loss: 0.6952 - val_accuracy: 0.5061\n",
      "\n",
      "Epoch 00023: val_loss improved from 0.69537 to 0.69521, saving model to test.hdf5\n",
      "Epoch 24/300\n",
      "102/102 [==============================] - 0s 2ms/step - loss: 0.7004 - accuracy: 0.5162 - val_loss: 0.6964 - val_accuracy: 0.5291\n",
      "\n",
      "Epoch 00024: val_loss did not improve from 0.69521\n",
      "Epoch 25/300\n",
      "102/102 [==============================] - 0s 2ms/step - loss: 0.7011 - accuracy: 0.5182 - val_loss: 0.6951 - val_accuracy: 0.5328\n",
      "\n",
      "Epoch 00025: val_loss improved from 0.69521 to 0.69511, saving model to test.hdf5\n",
      "Epoch 26/300\n",
      "102/102 [==============================] - 0s 2ms/step - loss: 0.6997 - accuracy: 0.5193 - val_loss: 0.6964 - val_accuracy: 0.4898\n",
      "\n",
      "Epoch 00026: val_loss did not improve from 0.69511\n",
      "Epoch 27/300\n",
      "102/102 [==============================] - 0s 2ms/step - loss: 0.7004 - accuracy: 0.5133 - val_loss: 0.6956 - val_accuracy: 0.5118\n",
      "\n",
      "Epoch 00027: val_loss did not improve from 0.69511\n",
      "Epoch 28/300\n",
      "102/102 [==============================] - 0s 2ms/step - loss: 0.6992 - accuracy: 0.5150 - val_loss: 0.6964 - val_accuracy: 0.4907\n",
      "\n",
      "Epoch 00028: val_loss did not improve from 0.69511\n",
      "Epoch 29/300\n",
      "102/102 [==============================] - 0s 2ms/step - loss: 0.7002 - accuracy: 0.5138 - val_loss: 0.6944 - val_accuracy: 0.5222\n",
      "\n",
      "Epoch 00029: val_loss improved from 0.69511 to 0.69444, saving model to test.hdf5\n",
      "Epoch 30/300\n",
      "102/102 [==============================] - 0s 2ms/step - loss: 0.6999 - accuracy: 0.5060 - val_loss: 0.6940 - val_accuracy: 0.5259\n",
      "\n",
      "Epoch 00030: val_loss improved from 0.69444 to 0.69400, saving model to test.hdf5\n",
      "Epoch 31/300\n",
      "102/102 [==============================] - 0s 2ms/step - loss: 0.6982 - accuracy: 0.5183 - val_loss: 0.6940 - val_accuracy: 0.5192\n",
      "\n",
      "Epoch 00031: val_loss improved from 0.69400 to 0.69399, saving model to test.hdf5\n",
      "Epoch 32/300\n",
      "102/102 [==============================] - 0s 2ms/step - loss: 0.6977 - accuracy: 0.5136 - val_loss: 0.6945 - val_accuracy: 0.5029\n",
      "\n",
      "Epoch 00032: val_loss did not improve from 0.69399\n",
      "Epoch 33/300\n",
      "102/102 [==============================] - 0s 2ms/step - loss: 0.6967 - accuracy: 0.5153 - val_loss: 0.6957 - val_accuracy: 0.5199\n",
      "\n",
      "Epoch 00033: val_loss did not improve from 0.69399\n",
      "Epoch 34/300\n",
      "102/102 [==============================] - 0s 2ms/step - loss: 0.6975 - accuracy: 0.5113 - val_loss: 0.6946 - val_accuracy: 0.5197\n",
      "\n",
      "Epoch 00034: val_loss did not improve from 0.69399\n",
      "Epoch 35/300\n",
      "102/102 [==============================] - 0s 3ms/step - loss: 0.6979 - accuracy: 0.5126 - val_loss: 0.6934 - val_accuracy: 0.5231\n",
      "\n",
      "Epoch 00035: val_loss improved from 0.69399 to 0.69340, saving model to test.hdf5\n",
      "Epoch 36/300\n",
      "102/102 [==============================] - 0s 2ms/step - loss: 0.6968 - accuracy: 0.5187 - val_loss: 0.6945 - val_accuracy: 0.5180\n",
      "\n",
      "Epoch 00036: val_loss did not improve from 0.69340\n",
      "Epoch 37/300\n",
      "102/102 [==============================] - 0s 2ms/step - loss: 0.6955 - accuracy: 0.5289 - val_loss: 0.6943 - val_accuracy: 0.5213\n",
      "\n",
      "Epoch 00037: val_loss did not improve from 0.69340\n",
      "Epoch 38/300\n",
      "102/102 [==============================] - 0s 2ms/step - loss: 0.6981 - accuracy: 0.5152 - val_loss: 0.6945 - val_accuracy: 0.5077\n",
      "\n",
      "Epoch 00038: val_loss did not improve from 0.69340\n",
      "Epoch 39/300\n",
      "102/102 [==============================] - 0s 2ms/step - loss: 0.6968 - accuracy: 0.5215 - val_loss: 0.6946 - val_accuracy: 0.5357\n",
      "\n",
      "Epoch 00039: val_loss did not improve from 0.69340\n",
      "Epoch 40/300\n"
     ]
    },
    {
     "name": "stdout",
     "output_type": "stream",
     "text": [
      "102/102 [==============================] - 0s 3ms/step - loss: 0.6963 - accuracy: 0.5182 - val_loss: 0.6948 - val_accuracy: 0.5247\n",
      "\n",
      "Epoch 00040: val_loss did not improve from 0.69340\n",
      "Epoch 41/300\n",
      "102/102 [==============================] - 0s 2ms/step - loss: 0.6976 - accuracy: 0.5106 - val_loss: 0.6937 - val_accuracy: 0.5249\n",
      "\n",
      "Epoch 00041: val_loss did not improve from 0.69340\n",
      "Epoch 42/300\n",
      "102/102 [==============================] - 0s 2ms/step - loss: 0.6959 - accuracy: 0.5176 - val_loss: 0.6950 - val_accuracy: 0.4902\n",
      "\n",
      "Epoch 00042: val_loss did not improve from 0.69340\n",
      "Epoch 43/300\n",
      "102/102 [==============================] - 0s 3ms/step - loss: 0.6963 - accuracy: 0.5156 - val_loss: 0.6942 - val_accuracy: 0.5222\n",
      "\n",
      "Epoch 00043: val_loss did not improve from 0.69340\n",
      "Epoch 44/300\n",
      "102/102 [==============================] - 0s 2ms/step - loss: 0.6951 - accuracy: 0.5240 - val_loss: 0.6939 - val_accuracy: 0.5236\n",
      "\n",
      "Epoch 00044: val_loss did not improve from 0.69340\n",
      "Epoch 45/300\n",
      "102/102 [==============================] - 0s 2ms/step - loss: 0.6953 - accuracy: 0.5290 - val_loss: 0.6948 - val_accuracy: 0.5157\n",
      "\n",
      "Epoch 00045: val_loss did not improve from 0.69340\n",
      "Epoch 46/300\n",
      "102/102 [==============================] - 0s 2ms/step - loss: 0.6965 - accuracy: 0.5127 - val_loss: 0.6942 - val_accuracy: 0.5233\n",
      "\n",
      "Epoch 00046: val_loss did not improve from 0.69340\n",
      "Epoch 47/300\n",
      "102/102 [==============================] - 0s 2ms/step - loss: 0.6964 - accuracy: 0.5235 - val_loss: 0.6930 - val_accuracy: 0.5226\n",
      "\n",
      "Epoch 00047: val_loss improved from 0.69340 to 0.69296, saving model to test.hdf5\n",
      "Epoch 48/300\n",
      "102/102 [==============================] - 0s 2ms/step - loss: 0.6929 - accuracy: 0.5332 - val_loss: 0.6933 - val_accuracy: 0.5201\n",
      "\n",
      "Epoch 00048: val_loss did not improve from 0.69296\n",
      "Epoch 49/300\n",
      "102/102 [==============================] - 0s 2ms/step - loss: 0.6967 - accuracy: 0.5102 - val_loss: 0.6943 - val_accuracy: 0.5206\n",
      "\n",
      "Epoch 00049: val_loss did not improve from 0.69296\n",
      "Epoch 50/300\n",
      "102/102 [==============================] - 0s 2ms/step - loss: 0.6952 - accuracy: 0.5253 - val_loss: 0.6948 - val_accuracy: 0.4898\n",
      "\n",
      "Epoch 00050: val_loss did not improve from 0.69296\n",
      "Epoch 51/300\n",
      "102/102 [==============================] - 0s 2ms/step - loss: 0.6939 - accuracy: 0.5186 - val_loss: 0.6936 - val_accuracy: 0.5277\n",
      "\n",
      "Epoch 00051: val_loss did not improve from 0.69296\n",
      "Epoch 52/300\n",
      "102/102 [==============================] - 0s 2ms/step - loss: 0.6964 - accuracy: 0.5054 - val_loss: 0.6936 - val_accuracy: 0.5263\n",
      "\n",
      "Epoch 00052: val_loss did not improve from 0.69296\n",
      "Epoch 53/300\n",
      "102/102 [==============================] - 0s 3ms/step - loss: 0.6939 - accuracy: 0.5226 - val_loss: 0.6938 - val_accuracy: 0.5144\n",
      "\n",
      "Epoch 00053: val_loss did not improve from 0.69296\n",
      "Epoch 54/300\n",
      "102/102 [==============================] - 0s 3ms/step - loss: 0.6941 - accuracy: 0.5232 - val_loss: 0.6934 - val_accuracy: 0.5226\n",
      "\n",
      "Epoch 00054: val_loss did not improve from 0.69296\n",
      "Epoch 55/300\n",
      "102/102 [==============================] - 0s 3ms/step - loss: 0.6939 - accuracy: 0.5212 - val_loss: 0.6940 - val_accuracy: 0.5461\n",
      "\n",
      "Epoch 00055: val_loss did not improve from 0.69296\n",
      "Epoch 56/300\n",
      "102/102 [==============================] - 0s 3ms/step - loss: 0.6941 - accuracy: 0.5241 - val_loss: 0.6956 - val_accuracy: 0.4868\n",
      "\n",
      "Epoch 00056: val_loss did not improve from 0.69296\n",
      "Epoch 57/300\n",
      "102/102 [==============================] - 0s 3ms/step - loss: 0.6957 - accuracy: 0.5179 - val_loss: 0.6940 - val_accuracy: 0.5314\n",
      "\n",
      "Epoch 00057: val_loss did not improve from 0.69296\n",
      "Epoch 58/300\n",
      "102/102 [==============================] - 0s 3ms/step - loss: 0.6951 - accuracy: 0.5136 - val_loss: 0.6944 - val_accuracy: 0.4889\n",
      "\n",
      "Epoch 00058: val_loss did not improve from 0.69296\n",
      "Epoch 59/300\n",
      "102/102 [==============================] - 0s 3ms/step - loss: 0.6946 - accuracy: 0.5069 - val_loss: 0.6931 - val_accuracy: 0.5275\n",
      "\n",
      "Epoch 00059: val_loss did not improve from 0.69296\n",
      "Epoch 60/300\n",
      "102/102 [==============================] - 0s 3ms/step - loss: 0.6941 - accuracy: 0.5227 - val_loss: 0.6934 - val_accuracy: 0.5224\n",
      "\n",
      "Epoch 00060: val_loss did not improve from 0.69296\n",
      "Epoch 61/300\n",
      "102/102 [==============================] - 0s 3ms/step - loss: 0.6949 - accuracy: 0.5136 - val_loss: 0.6930 - val_accuracy: 0.5272\n",
      "\n",
      "Epoch 00061: val_loss did not improve from 0.69296\n",
      "Epoch 62/300\n",
      "102/102 [==============================] - 0s 2ms/step - loss: 0.6939 - accuracy: 0.5167 - val_loss: 0.6934 - val_accuracy: 0.5217\n",
      "\n",
      "Epoch 00062: val_loss did not improve from 0.69296\n",
      "Epoch 63/300\n",
      "102/102 [==============================] - 0s 3ms/step - loss: 0.6936 - accuracy: 0.5200 - val_loss: 0.6936 - val_accuracy: 0.5224\n",
      "\n",
      "Epoch 00063: val_loss did not improve from 0.69296\n",
      "Epoch 64/300\n",
      "102/102 [==============================] - 0s 2ms/step - loss: 0.6934 - accuracy: 0.5264 - val_loss: 0.6930 - val_accuracy: 0.5399\n",
      "\n",
      "Epoch 00064: val_loss did not improve from 0.69296\n",
      "Epoch 65/300\n",
      "102/102 [==============================] - 0s 2ms/step - loss: 0.6949 - accuracy: 0.5134 - val_loss: 0.6938 - val_accuracy: 0.4905\n",
      "\n",
      "Epoch 00065: val_loss did not improve from 0.69296\n",
      "Epoch 66/300\n",
      "102/102 [==============================] - 0s 2ms/step - loss: 0.6950 - accuracy: 0.5196 - val_loss: 0.6929 - val_accuracy: 0.5224\n",
      "\n",
      "Epoch 00066: val_loss improved from 0.69296 to 0.69287, saving model to test.hdf5\n",
      "Epoch 67/300\n",
      "102/102 [==============================] - 0s 2ms/step - loss: 0.6937 - accuracy: 0.5251 - val_loss: 0.6938 - val_accuracy: 0.4964\n",
      "\n",
      "Epoch 00067: val_loss did not improve from 0.69287\n",
      "Epoch 68/300\n",
      "102/102 [==============================] - 0s 3ms/step - loss: 0.6934 - accuracy: 0.5241 - val_loss: 0.6930 - val_accuracy: 0.5240\n",
      "\n",
      "Epoch 00068: val_loss did not improve from 0.69287\n",
      "Epoch 69/300\n",
      "102/102 [==============================] - 0s 2ms/step - loss: 0.6943 - accuracy: 0.5173 - val_loss: 0.6931 - val_accuracy: 0.5213\n",
      "\n",
      "Epoch 00069: val_loss did not improve from 0.69287\n",
      "Epoch 70/300\n",
      "102/102 [==============================] - 0s 2ms/step - loss: 0.6941 - accuracy: 0.5178 - val_loss: 0.6932 - val_accuracy: 0.5206\n",
      "\n",
      "Epoch 00070: val_loss did not improve from 0.69287\n",
      "Epoch 71/300\n",
      "102/102 [==============================] - 0s 2ms/step - loss: 0.6928 - accuracy: 0.5229 - val_loss: 0.6932 - val_accuracy: 0.5233\n",
      "\n",
      "Epoch 00071: val_loss did not improve from 0.69287\n",
      "Epoch 72/300\n",
      "102/102 [==============================] - 0s 2ms/step - loss: 0.6930 - accuracy: 0.5276 - val_loss: 0.6932 - val_accuracy: 0.5252\n",
      "\n",
      "Epoch 00072: val_loss did not improve from 0.69287\n",
      "Epoch 73/300\n",
      "102/102 [==============================] - 0s 2ms/step - loss: 0.6936 - accuracy: 0.5292 - val_loss: 0.6938 - val_accuracy: 0.4932\n",
      "\n",
      "Epoch 00073: val_loss did not improve from 0.69287\n",
      "Epoch 74/300\n",
      "102/102 [==============================] - 0s 3ms/step - loss: 0.6922 - accuracy: 0.5300 - val_loss: 0.6935 - val_accuracy: 0.5107\n",
      "\n",
      "Epoch 00074: val_loss did not improve from 0.69287\n",
      "Epoch 75/300\n",
      "102/102 [==============================] - 0s 2ms/step - loss: 0.6925 - accuracy: 0.5278 - val_loss: 0.6933 - val_accuracy: 0.5208\n",
      "\n",
      "Epoch 00075: val_loss did not improve from 0.69287\n",
      "Epoch 76/300\n",
      "102/102 [==============================] - 0s 2ms/step - loss: 0.6931 - accuracy: 0.5292 - val_loss: 0.6932 - val_accuracy: 0.5295\n",
      "\n",
      "Epoch 00076: val_loss did not improve from 0.69287\n",
      "Epoch 77/300\n",
      "102/102 [==============================] - 0s 3ms/step - loss: 0.6931 - accuracy: 0.5239 - val_loss: 0.6936 - val_accuracy: 0.5247\n",
      "\n",
      "Epoch 00077: val_loss did not improve from 0.69287\n",
      "Epoch 78/300\n",
      "102/102 [==============================] - 0s 2ms/step - loss: 0.6929 - accuracy: 0.5257 - val_loss: 0.6926 - val_accuracy: 0.5210\n",
      "\n",
      "Epoch 00078: val_loss improved from 0.69287 to 0.69263, saving model to test.hdf5\n",
      "Epoch 79/300\n",
      "102/102 [==============================] - 0s 2ms/step - loss: 0.6932 - accuracy: 0.5322 - val_loss: 0.6930 - val_accuracy: 0.5252\n",
      "\n",
      "Epoch 00079: val_loss did not improve from 0.69263\n",
      "Epoch 80/300\n",
      "102/102 [==============================] - 0s 2ms/step - loss: 0.6931 - accuracy: 0.5183 - val_loss: 0.6925 - val_accuracy: 0.5265\n",
      "\n",
      "Epoch 00080: val_loss improved from 0.69263 to 0.69251, saving model to test.hdf5\n",
      "Epoch 81/300\n"
     ]
    },
    {
     "name": "stdout",
     "output_type": "stream",
     "text": [
      "102/102 [==============================] - 0s 3ms/step - loss: 0.6937 - accuracy: 0.5173 - val_loss: 0.6929 - val_accuracy: 0.5369\n",
      "\n",
      "Epoch 00081: val_loss did not improve from 0.69251\n",
      "Epoch 82/300\n",
      "102/102 [==============================] - 0s 3ms/step - loss: 0.6920 - accuracy: 0.5269 - val_loss: 0.6928 - val_accuracy: 0.5286\n",
      "\n",
      "Epoch 00082: val_loss did not improve from 0.69251\n",
      "Epoch 83/300\n",
      "102/102 [==============================] - 0s 2ms/step - loss: 0.6928 - accuracy: 0.5269 - val_loss: 0.6924 - val_accuracy: 0.5242\n",
      "\n",
      "Epoch 00083: val_loss improved from 0.69251 to 0.69243, saving model to test.hdf5\n",
      "Epoch 84/300\n",
      "102/102 [==============================] - 0s 2ms/step - loss: 0.6908 - accuracy: 0.5377 - val_loss: 0.6922 - val_accuracy: 0.5245\n",
      "\n",
      "Epoch 00084: val_loss improved from 0.69243 to 0.69218, saving model to test.hdf5\n",
      "Epoch 85/300\n",
      "102/102 [==============================] - 0s 2ms/step - loss: 0.6934 - accuracy: 0.5213 - val_loss: 0.6926 - val_accuracy: 0.5300\n",
      "\n",
      "Epoch 00085: val_loss did not improve from 0.69218\n",
      "Epoch 86/300\n",
      "102/102 [==============================] - 0s 2ms/step - loss: 0.6928 - accuracy: 0.5212 - val_loss: 0.6928 - val_accuracy: 0.5298\n",
      "\n",
      "Epoch 00086: val_loss did not improve from 0.69218\n",
      "Epoch 87/300\n",
      "102/102 [==============================] - 0s 2ms/step - loss: 0.6925 - accuracy: 0.5246 - val_loss: 0.6936 - val_accuracy: 0.4918\n",
      "\n",
      "Epoch 00087: val_loss did not improve from 0.69218\n",
      "Epoch 88/300\n",
      "102/102 [==============================] - 0s 2ms/step - loss: 0.6939 - accuracy: 0.5229 - val_loss: 0.6931 - val_accuracy: 0.5316\n",
      "\n",
      "Epoch 00088: val_loss did not improve from 0.69218\n",
      "Epoch 89/300\n",
      "102/102 [==============================] - 0s 3ms/step - loss: 0.6932 - accuracy: 0.5224 - val_loss: 0.6923 - val_accuracy: 0.5206\n",
      "\n",
      "Epoch 00089: val_loss did not improve from 0.69218\n",
      "Epoch 90/300\n",
      "102/102 [==============================] - 0s 2ms/step - loss: 0.6942 - accuracy: 0.5175 - val_loss: 0.6924 - val_accuracy: 0.5307\n",
      "\n",
      "Epoch 00090: val_loss did not improve from 0.69218\n",
      "Epoch 91/300\n",
      "102/102 [==============================] - 0s 2ms/step - loss: 0.6924 - accuracy: 0.5205 - val_loss: 0.6922 - val_accuracy: 0.5226\n",
      "\n",
      "Epoch 00091: val_loss did not improve from 0.69218\n",
      "Epoch 92/300\n",
      "102/102 [==============================] - 0s 2ms/step - loss: 0.6920 - accuracy: 0.5382 - val_loss: 0.6944 - val_accuracy: 0.4960\n",
      "\n",
      "Epoch 00092: val_loss did not improve from 0.69218\n",
      "Epoch 93/300\n",
      "102/102 [==============================] - 0s 2ms/step - loss: 0.6931 - accuracy: 0.5264 - val_loss: 0.6927 - val_accuracy: 0.5236\n",
      "\n",
      "Epoch 00093: val_loss did not improve from 0.69218\n",
      "Epoch 94/300\n",
      "102/102 [==============================] - 0s 2ms/step - loss: 0.6923 - accuracy: 0.5311 - val_loss: 0.6928 - val_accuracy: 0.5245\n",
      "\n",
      "Epoch 00094: val_loss did not improve from 0.69218\n",
      "Epoch 95/300\n",
      "102/102 [==============================] - 0s 2ms/step - loss: 0.6927 - accuracy: 0.5278 - val_loss: 0.6925 - val_accuracy: 0.5240\n",
      "\n",
      "Epoch 00095: val_loss did not improve from 0.69218\n",
      "Epoch 96/300\n",
      "102/102 [==============================] - 0s 2ms/step - loss: 0.6920 - accuracy: 0.5282 - val_loss: 0.6930 - val_accuracy: 0.5075\n",
      "\n",
      "Epoch 00096: val_loss did not improve from 0.69218\n",
      "Epoch 97/300\n",
      "102/102 [==============================] - 0s 2ms/step - loss: 0.6927 - accuracy: 0.5225 - val_loss: 0.6925 - val_accuracy: 0.5226\n",
      "\n",
      "Epoch 00097: val_loss did not improve from 0.69218\n",
      "Epoch 98/300\n",
      "102/102 [==============================] - 0s 3ms/step - loss: 0.6940 - accuracy: 0.5135 - val_loss: 0.6927 - val_accuracy: 0.5194\n",
      "\n",
      "Epoch 00098: val_loss did not improve from 0.69218\n",
      "Epoch 99/300\n",
      "102/102 [==============================] - 0s 3ms/step - loss: 0.6937 - accuracy: 0.5183 - val_loss: 0.6925 - val_accuracy: 0.5337\n",
      "\n",
      "Epoch 00099: val_loss did not improve from 0.69218\n",
      "Epoch 100/300\n",
      "102/102 [==============================] - 0s 3ms/step - loss: 0.6937 - accuracy: 0.5278 - val_loss: 0.6919 - val_accuracy: 0.5254\n",
      "\n",
      "Epoch 00100: val_loss improved from 0.69218 to 0.69193, saving model to test.hdf5\n",
      "Epoch 101/300\n",
      "102/102 [==============================] - 0s 3ms/step - loss: 0.6922 - accuracy: 0.5279 - val_loss: 0.6920 - val_accuracy: 0.5261\n",
      "\n",
      "Epoch 00101: val_loss did not improve from 0.69193\n",
      "Epoch 102/300\n",
      "102/102 [==============================] - 0s 2ms/step - loss: 0.6917 - accuracy: 0.5310 - val_loss: 0.6924 - val_accuracy: 0.5415\n",
      "\n",
      "Epoch 00102: val_loss did not improve from 0.69193\n",
      "Epoch 103/300\n",
      "102/102 [==============================] - 0s 3ms/step - loss: 0.6919 - accuracy: 0.5296 - val_loss: 0.6925 - val_accuracy: 0.5233\n",
      "\n",
      "Epoch 00103: val_loss did not improve from 0.69193\n",
      "Epoch 104/300\n",
      "102/102 [==============================] - 0s 2ms/step - loss: 0.6932 - accuracy: 0.5223 - val_loss: 0.6920 - val_accuracy: 0.5286\n",
      "\n",
      "Epoch 00104: val_loss did not improve from 0.69193\n",
      "Epoch 105/300\n",
      "102/102 [==============================] - 0s 2ms/step - loss: 0.6909 - accuracy: 0.5391 - val_loss: 0.6926 - val_accuracy: 0.5282\n",
      "\n",
      "Epoch 00105: val_loss did not improve from 0.69193\n",
      "Epoch 106/300\n",
      "102/102 [==============================] - 0s 2ms/step - loss: 0.6929 - accuracy: 0.5319 - val_loss: 0.6924 - val_accuracy: 0.5344\n",
      "\n",
      "Epoch 00106: val_loss did not improve from 0.69193\n",
      "Epoch 107/300\n",
      "102/102 [==============================] - 0s 3ms/step - loss: 0.6914 - accuracy: 0.5263 - val_loss: 0.6919 - val_accuracy: 0.5334\n",
      "\n",
      "Epoch 00107: val_loss improved from 0.69193 to 0.69187, saving model to test.hdf5\n",
      "Epoch 108/300\n",
      "102/102 [==============================] - 0s 2ms/step - loss: 0.6922 - accuracy: 0.5291 - val_loss: 0.6932 - val_accuracy: 0.5086\n",
      "\n",
      "Epoch 00108: val_loss did not improve from 0.69187\n",
      "Epoch 109/300\n",
      "102/102 [==============================] - 0s 2ms/step - loss: 0.6923 - accuracy: 0.5277 - val_loss: 0.6935 - val_accuracy: 0.4971\n",
      "\n",
      "Epoch 00109: val_loss did not improve from 0.69187\n",
      "Epoch 110/300\n",
      "102/102 [==============================] - 0s 2ms/step - loss: 0.6916 - accuracy: 0.5240 - val_loss: 0.6931 - val_accuracy: 0.5233\n",
      "\n",
      "Epoch 00110: val_loss did not improve from 0.69187\n",
      "Epoch 111/300\n",
      "102/102 [==============================] - 0s 2ms/step - loss: 0.6937 - accuracy: 0.5218 - val_loss: 0.6919 - val_accuracy: 0.5367\n",
      "\n",
      "Epoch 00111: val_loss improved from 0.69187 to 0.69187, saving model to test.hdf5\n",
      "Epoch 112/300\n",
      "102/102 [==============================] - 0s 3ms/step - loss: 0.6921 - accuracy: 0.5240 - val_loss: 0.6923 - val_accuracy: 0.5445\n",
      "\n",
      "Epoch 00112: val_loss did not improve from 0.69187\n",
      "Epoch 113/300\n",
      "102/102 [==============================] - 0s 2ms/step - loss: 0.6920 - accuracy: 0.5242 - val_loss: 0.6918 - val_accuracy: 0.5259\n",
      "\n",
      "Epoch 00113: val_loss improved from 0.69187 to 0.69176, saving model to test.hdf5\n",
      "Epoch 114/300\n",
      "102/102 [==============================] - 0s 2ms/step - loss: 0.6917 - accuracy: 0.5288 - val_loss: 0.6927 - val_accuracy: 0.5167\n",
      "\n",
      "Epoch 00114: val_loss did not improve from 0.69176\n",
      "Epoch 115/300\n",
      "102/102 [==============================] - 0s 2ms/step - loss: 0.6917 - accuracy: 0.5253 - val_loss: 0.6920 - val_accuracy: 0.5456\n",
      "\n",
      "Epoch 00115: val_loss did not improve from 0.69176\n",
      "Epoch 116/300\n",
      "102/102 [==============================] - 0s 2ms/step - loss: 0.6929 - accuracy: 0.5166 - val_loss: 0.6927 - val_accuracy: 0.5252\n",
      "\n",
      "Epoch 00116: val_loss did not improve from 0.69176\n",
      "Epoch 117/300\n",
      "102/102 [==============================] - 0s 2ms/step - loss: 0.6923 - accuracy: 0.5296 - val_loss: 0.6920 - val_accuracy: 0.5314\n",
      "\n",
      "Epoch 00117: val_loss did not improve from 0.69176\n",
      "Epoch 118/300\n",
      "102/102 [==============================] - 0s 3ms/step - loss: 0.6907 - accuracy: 0.5302 - val_loss: 0.6922 - val_accuracy: 0.5240\n",
      "\n",
      "Epoch 00118: val_loss did not improve from 0.69176\n",
      "Epoch 119/300\n",
      "102/102 [==============================] - 0s 2ms/step - loss: 0.6921 - accuracy: 0.5281 - val_loss: 0.6916 - val_accuracy: 0.5261\n",
      "\n",
      "Epoch 00119: val_loss improved from 0.69176 to 0.69161, saving model to test.hdf5\n",
      "Epoch 120/300\n",
      "102/102 [==============================] - 0s 2ms/step - loss: 0.6915 - accuracy: 0.5349 - val_loss: 0.6917 - val_accuracy: 0.5282\n",
      "\n",
      "Epoch 00120: val_loss did not improve from 0.69161\n",
      "Epoch 121/300\n",
      "102/102 [==============================] - 0s 3ms/step - loss: 0.6909 - accuracy: 0.5335 - val_loss: 0.6920 - val_accuracy: 0.5408\n"
     ]
    },
    {
     "name": "stdout",
     "output_type": "stream",
     "text": [
      "\n",
      "Epoch 00121: val_loss did not improve from 0.69161\n",
      "Epoch 122/300\n",
      "102/102 [==============================] - 0s 2ms/step - loss: 0.6908 - accuracy: 0.5300 - val_loss: 0.6927 - val_accuracy: 0.5440\n",
      "\n",
      "Epoch 00122: val_loss did not improve from 0.69161\n",
      "Epoch 123/300\n",
      "102/102 [==============================] - 0s 2ms/step - loss: 0.6924 - accuracy: 0.5265 - val_loss: 0.6924 - val_accuracy: 0.5325\n",
      "\n",
      "Epoch 00123: val_loss did not improve from 0.69161\n",
      "Epoch 124/300\n",
      "102/102 [==============================] - 0s 2ms/step - loss: 0.6922 - accuracy: 0.5284 - val_loss: 0.6924 - val_accuracy: 0.5337\n",
      "\n",
      "Epoch 00124: val_loss did not improve from 0.69161\n",
      "Epoch 125/300\n",
      "102/102 [==============================] - 0s 2ms/step - loss: 0.6909 - accuracy: 0.5387 - val_loss: 0.6960 - val_accuracy: 0.4889\n",
      "\n",
      "Epoch 00125: val_loss did not improve from 0.69161\n",
      "Epoch 126/300\n",
      "102/102 [==============================] - 0s 2ms/step - loss: 0.6928 - accuracy: 0.5233 - val_loss: 0.6937 - val_accuracy: 0.4960\n",
      "\n",
      "Epoch 00126: val_loss did not improve from 0.69161\n",
      "Epoch 127/300\n",
      "102/102 [==============================] - 0s 2ms/step - loss: 0.6914 - accuracy: 0.5294 - val_loss: 0.6925 - val_accuracy: 0.5240\n",
      "\n",
      "Epoch 00127: val_loss did not improve from 0.69161\n",
      "Epoch 128/300\n",
      "102/102 [==============================] - 0s 2ms/step - loss: 0.6904 - accuracy: 0.5384 - val_loss: 0.6923 - val_accuracy: 0.5300\n",
      "\n",
      "Epoch 00128: val_loss did not improve from 0.69161\n",
      "Epoch 129/300\n",
      "102/102 [==============================] - 0s 2ms/step - loss: 0.6925 - accuracy: 0.5254 - val_loss: 0.6932 - val_accuracy: 0.5224\n",
      "\n",
      "Epoch 00129: val_loss did not improve from 0.69161\n",
      "Epoch 130/300\n",
      "102/102 [==============================] - 0s 2ms/step - loss: 0.6919 - accuracy: 0.5320 - val_loss: 0.6917 - val_accuracy: 0.5231\n",
      "\n",
      "Epoch 00130: val_loss did not improve from 0.69161\n",
      "Epoch 131/300\n",
      "102/102 [==============================] - 0s 2ms/step - loss: 0.6918 - accuracy: 0.5306 - val_loss: 0.6920 - val_accuracy: 0.5240\n",
      "\n",
      "Epoch 00131: val_loss did not improve from 0.69161\n",
      "Epoch 132/300\n",
      "102/102 [==============================] - 0s 2ms/step - loss: 0.6909 - accuracy: 0.5309 - val_loss: 0.6941 - val_accuracy: 0.5238\n",
      "\n",
      "Epoch 00132: val_loss did not improve from 0.69161\n",
      "Epoch 133/300\n",
      "102/102 [==============================] - 0s 2ms/step - loss: 0.6927 - accuracy: 0.5217 - val_loss: 0.6921 - val_accuracy: 0.5279\n",
      "\n",
      "Epoch 00133: val_loss did not improve from 0.69161\n",
      "Epoch 134/300\n",
      "102/102 [==============================] - 0s 2ms/step - loss: 0.6907 - accuracy: 0.5389 - val_loss: 0.6919 - val_accuracy: 0.5337\n",
      "\n",
      "Epoch 00134: val_loss did not improve from 0.69161\n",
      "Epoch 135/300\n",
      "102/102 [==============================] - 0s 2ms/step - loss: 0.6908 - accuracy: 0.5364 - val_loss: 0.6921 - val_accuracy: 0.5238\n",
      "\n",
      "Epoch 00135: val_loss did not improve from 0.69161\n",
      "Epoch 136/300\n",
      "102/102 [==============================] - 0s 2ms/step - loss: 0.6898 - accuracy: 0.5407 - val_loss: 0.6922 - val_accuracy: 0.5242\n",
      "\n",
      "Epoch 00136: val_loss did not improve from 0.69161\n",
      "Epoch 137/300\n",
      "102/102 [==============================] - 0s 3ms/step - loss: 0.6910 - accuracy: 0.5314 - val_loss: 0.6917 - val_accuracy: 0.5240\n",
      "\n",
      "Epoch 00137: val_loss did not improve from 0.69161\n",
      "Epoch 138/300\n",
      "102/102 [==============================] - 0s 3ms/step - loss: 0.6919 - accuracy: 0.5302 - val_loss: 0.6921 - val_accuracy: 0.5249\n",
      "\n",
      "Epoch 00138: val_loss did not improve from 0.69161\n",
      "Epoch 139/300\n",
      "102/102 [==============================] - 0s 2ms/step - loss: 0.6911 - accuracy: 0.5297 - val_loss: 0.6917 - val_accuracy: 0.5263\n",
      "\n",
      "Epoch 00139: val_loss did not improve from 0.69161\n",
      "Epoch 140/300\n",
      "102/102 [==============================] - 0s 3ms/step - loss: 0.6905 - accuracy: 0.5323 - val_loss: 0.6918 - val_accuracy: 0.5231\n",
      "\n",
      "Epoch 00140: val_loss did not improve from 0.69161\n",
      "Epoch 141/300\n",
      "102/102 [==============================] - 0s 2ms/step - loss: 0.6891 - accuracy: 0.5364 - val_loss: 0.6920 - val_accuracy: 0.5348\n",
      "\n",
      "Epoch 00141: val_loss did not improve from 0.69161\n",
      "Epoch 142/300\n",
      "102/102 [==============================] - 0s 2ms/step - loss: 0.6916 - accuracy: 0.5287 - val_loss: 0.6924 - val_accuracy: 0.5316\n",
      "\n",
      "Epoch 00142: val_loss did not improve from 0.69161\n",
      "Epoch 143/300\n",
      "102/102 [==============================] - 0s 3ms/step - loss: 0.6902 - accuracy: 0.5371 - val_loss: 0.6918 - val_accuracy: 0.5282\n",
      "\n",
      "Epoch 00143: val_loss did not improve from 0.69161\n",
      "Epoch 144/300\n",
      "102/102 [==============================] - 0s 2ms/step - loss: 0.6914 - accuracy: 0.5267 - val_loss: 0.6931 - val_accuracy: 0.5203\n",
      "\n",
      "Epoch 00144: val_loss did not improve from 0.69161\n",
      "Epoch 145/300\n",
      "102/102 [==============================] - 0s 2ms/step - loss: 0.6914 - accuracy: 0.5336 - val_loss: 0.6925 - val_accuracy: 0.5318\n",
      "\n",
      "Epoch 00145: val_loss did not improve from 0.69161\n",
      "Epoch 146/300\n",
      "102/102 [==============================] - 0s 2ms/step - loss: 0.6933 - accuracy: 0.5207 - val_loss: 0.6925 - val_accuracy: 0.5309\n",
      "\n",
      "Epoch 00146: val_loss did not improve from 0.69161\n",
      "Epoch 147/300\n",
      "102/102 [==============================] - 0s 3ms/step - loss: 0.6915 - accuracy: 0.5255 - val_loss: 0.6924 - val_accuracy: 0.5298\n",
      "\n",
      "Epoch 00147: val_loss did not improve from 0.69161\n",
      "Epoch 148/300\n",
      "102/102 [==============================] - 0s 2ms/step - loss: 0.6902 - accuracy: 0.5331 - val_loss: 0.6922 - val_accuracy: 0.5413\n",
      "\n",
      "Epoch 00148: val_loss did not improve from 0.69161\n",
      "Epoch 149/300\n",
      "102/102 [==============================] - 0s 2ms/step - loss: 0.6896 - accuracy: 0.5383 - val_loss: 0.6928 - val_accuracy: 0.5105\n",
      "\n",
      "Epoch 00149: val_loss did not improve from 0.69161\n",
      "Epoch 150/300\n",
      "102/102 [==============================] - 0s 2ms/step - loss: 0.6899 - accuracy: 0.5313 - val_loss: 0.6912 - val_accuracy: 0.5263\n",
      "\n",
      "Epoch 00150: val_loss improved from 0.69161 to 0.69125, saving model to test.hdf5\n",
      "Epoch 151/300\n",
      "102/102 [==============================] - 0s 2ms/step - loss: 0.6910 - accuracy: 0.5325 - val_loss: 0.6932 - val_accuracy: 0.4969\n",
      "\n",
      "Epoch 00151: val_loss did not improve from 0.69125\n",
      "Epoch 152/300\n",
      "102/102 [==============================] - 0s 2ms/step - loss: 0.6912 - accuracy: 0.5270 - val_loss: 0.6922 - val_accuracy: 0.5226\n",
      "\n",
      "Epoch 00152: val_loss did not improve from 0.69125\n",
      "Epoch 153/300\n",
      "102/102 [==============================] - 0s 2ms/step - loss: 0.6909 - accuracy: 0.5262 - val_loss: 0.6920 - val_accuracy: 0.5284\n",
      "\n",
      "Epoch 00153: val_loss did not improve from 0.69125\n",
      "Epoch 154/300\n",
      "102/102 [==============================] - 0s 2ms/step - loss: 0.6920 - accuracy: 0.5276 - val_loss: 0.6921 - val_accuracy: 0.5238\n",
      "\n",
      "Epoch 00154: val_loss did not improve from 0.69125\n",
      "Epoch 155/300\n",
      "102/102 [==============================] - 0s 3ms/step - loss: 0.6912 - accuracy: 0.5343 - val_loss: 0.6915 - val_accuracy: 0.5378\n",
      "\n",
      "Epoch 00155: val_loss did not improve from 0.69125\n",
      "Epoch 156/300\n",
      "102/102 [==============================] - 0s 2ms/step - loss: 0.6911 - accuracy: 0.5317 - val_loss: 0.6931 - val_accuracy: 0.5229\n",
      "\n",
      "Epoch 00156: val_loss did not improve from 0.69125\n",
      "Epoch 157/300\n",
      "102/102 [==============================] - 0s 2ms/step - loss: 0.6916 - accuracy: 0.5279 - val_loss: 0.6938 - val_accuracy: 0.4934\n",
      "\n",
      "Epoch 00157: val_loss did not improve from 0.69125\n",
      "Epoch 158/300\n",
      "102/102 [==============================] - 0s 2ms/step - loss: 0.6919 - accuracy: 0.5285 - val_loss: 0.6922 - val_accuracy: 0.5394\n",
      "\n",
      "Epoch 00158: val_loss did not improve from 0.69125\n",
      "Epoch 159/300\n",
      "102/102 [==============================] - 0s 2ms/step - loss: 0.6904 - accuracy: 0.5352 - val_loss: 0.6959 - val_accuracy: 0.5208\n",
      "\n",
      "Epoch 00159: val_loss did not improve from 0.69125\n",
      "Epoch 160/300\n",
      "102/102 [==============================] - 0s 2ms/step - loss: 0.6916 - accuracy: 0.5292 - val_loss: 0.6916 - val_accuracy: 0.5387\n",
      "\n",
      "Epoch 00160: val_loss did not improve from 0.69125\n",
      "Epoch 161/300\n",
      "102/102 [==============================] - 0s 2ms/step - loss: 0.6915 - accuracy: 0.5282 - val_loss: 0.6911 - val_accuracy: 0.5279\n",
      "\n",
      "Epoch 00161: val_loss improved from 0.69125 to 0.69111, saving model to test.hdf5\n",
      "Epoch 162/300\n",
      "102/102 [==============================] - 0s 2ms/step - loss: 0.6899 - accuracy: 0.5363 - val_loss: 0.6928 - val_accuracy: 0.5256\n",
      "\n",
      "Epoch 00162: val_loss did not improve from 0.69111\n",
      "Epoch 163/300\n"
     ]
    },
    {
     "name": "stdout",
     "output_type": "stream",
     "text": [
      "102/102 [==============================] - 0s 2ms/step - loss: 0.6896 - accuracy: 0.5308 - val_loss: 0.6913 - val_accuracy: 0.5307\n",
      "\n",
      "Epoch 00163: val_loss did not improve from 0.69111\n",
      "Epoch 164/300\n",
      "102/102 [==============================] - 0s 2ms/step - loss: 0.6919 - accuracy: 0.5305 - val_loss: 0.6916 - val_accuracy: 0.5247\n",
      "\n",
      "Epoch 00164: val_loss did not improve from 0.69111\n",
      "Epoch 165/300\n",
      "102/102 [==============================] - 0s 2ms/step - loss: 0.6917 - accuracy: 0.5301 - val_loss: 0.6921 - val_accuracy: 0.5242\n",
      "\n",
      "Epoch 00165: val_loss did not improve from 0.69111\n",
      "Epoch 166/300\n",
      "102/102 [==============================] - 0s 3ms/step - loss: 0.6911 - accuracy: 0.5279 - val_loss: 0.6923 - val_accuracy: 0.5348\n",
      "\n",
      "Epoch 00166: val_loss did not improve from 0.69111\n",
      "Epoch 167/300\n",
      "102/102 [==============================] - 0s 2ms/step - loss: 0.6899 - accuracy: 0.5433 - val_loss: 0.6920 - val_accuracy: 0.5247\n",
      "\n",
      "Epoch 00167: val_loss did not improve from 0.69111\n",
      "Epoch 168/300\n",
      "102/102 [==============================] - 0s 2ms/step - loss: 0.6898 - accuracy: 0.5340 - val_loss: 0.6921 - val_accuracy: 0.5231\n",
      "\n",
      "Epoch 00168: val_loss did not improve from 0.69111\n",
      "Epoch 169/300\n",
      "102/102 [==============================] - 0s 2ms/step - loss: 0.6891 - accuracy: 0.5458 - val_loss: 0.6913 - val_accuracy: 0.5424\n",
      "\n",
      "Epoch 00169: val_loss did not improve from 0.69111\n",
      "Epoch 170/300\n",
      "102/102 [==============================] - 0s 3ms/step - loss: 0.6912 - accuracy: 0.5348 - val_loss: 0.6914 - val_accuracy: 0.5410\n",
      "\n",
      "Epoch 00170: val_loss did not improve from 0.69111\n",
      "Epoch 171/300\n",
      "102/102 [==============================] - 0s 2ms/step - loss: 0.6914 - accuracy: 0.5230 - val_loss: 0.6913 - val_accuracy: 0.5369\n",
      "\n",
      "Epoch 00171: val_loss did not improve from 0.69111\n",
      "Epoch 172/300\n",
      "102/102 [==============================] - 0s 2ms/step - loss: 0.6912 - accuracy: 0.5308 - val_loss: 0.6907 - val_accuracy: 0.5422\n",
      "\n",
      "Epoch 00172: val_loss improved from 0.69111 to 0.69073, saving model to test.hdf5\n",
      "Epoch 173/300\n",
      "102/102 [==============================] - 0s 2ms/step - loss: 0.6917 - accuracy: 0.5291 - val_loss: 0.6913 - val_accuracy: 0.5282\n",
      "\n",
      "Epoch 00173: val_loss did not improve from 0.69073\n",
      "Epoch 174/300\n",
      "102/102 [==============================] - 0s 3ms/step - loss: 0.6905 - accuracy: 0.5250 - val_loss: 0.6917 - val_accuracy: 0.5323\n",
      "\n",
      "Epoch 00174: val_loss did not improve from 0.69073\n",
      "Epoch 175/300\n",
      "102/102 [==============================] - 0s 3ms/step - loss: 0.6905 - accuracy: 0.5314 - val_loss: 0.6913 - val_accuracy: 0.5286\n",
      "\n",
      "Epoch 00175: val_loss did not improve from 0.69073\n",
      "Epoch 176/300\n",
      "102/102 [==============================] - 0s 2ms/step - loss: 0.6902 - accuracy: 0.5392 - val_loss: 0.6916 - val_accuracy: 0.5318\n",
      "\n",
      "Epoch 00176: val_loss did not improve from 0.69073\n",
      "Epoch 177/300\n",
      "102/102 [==============================] - 0s 2ms/step - loss: 0.6894 - accuracy: 0.5425 - val_loss: 0.6909 - val_accuracy: 0.5362\n",
      "\n",
      "Epoch 00177: val_loss did not improve from 0.69073\n",
      "Epoch 178/300\n",
      "102/102 [==============================] - 0s 2ms/step - loss: 0.6907 - accuracy: 0.5280 - val_loss: 0.6913 - val_accuracy: 0.5314\n",
      "\n",
      "Epoch 00178: val_loss did not improve from 0.69073\n",
      "Epoch 179/300\n",
      "102/102 [==============================] - 0s 2ms/step - loss: 0.6913 - accuracy: 0.5342 - val_loss: 0.6914 - val_accuracy: 0.5265\n",
      "\n",
      "Epoch 00179: val_loss did not improve from 0.69073\n",
      "Epoch 180/300\n",
      "102/102 [==============================] - 0s 2ms/step - loss: 0.6909 - accuracy: 0.5376 - val_loss: 0.6923 - val_accuracy: 0.5040\n",
      "\n",
      "Epoch 00180: val_loss did not improve from 0.69073\n",
      "Epoch 181/300\n",
      "102/102 [==============================] - 0s 3ms/step - loss: 0.6899 - accuracy: 0.5368 - val_loss: 0.6922 - val_accuracy: 0.5240\n",
      "\n",
      "Epoch 00181: val_loss did not improve from 0.69073\n",
      "Epoch 182/300\n",
      "102/102 [==============================] - 0s 2ms/step - loss: 0.6911 - accuracy: 0.5367 - val_loss: 0.6915 - val_accuracy: 0.5259\n",
      "\n",
      "Epoch 00182: val_loss did not improve from 0.69073\n",
      "Epoch 183/300\n",
      "102/102 [==============================] - 0s 4ms/step - loss: 0.6897 - accuracy: 0.5433 - val_loss: 0.6913 - val_accuracy: 0.5231\n",
      "\n",
      "Epoch 00183: val_loss did not improve from 0.69073\n",
      "Epoch 184/300\n",
      "102/102 [==============================] - 0s 3ms/step - loss: 0.6900 - accuracy: 0.5308 - val_loss: 0.6921 - val_accuracy: 0.5162\n",
      "\n",
      "Epoch 00184: val_loss did not improve from 0.69073\n",
      "Epoch 185/300\n",
      "102/102 [==============================] - 0s 3ms/step - loss: 0.6907 - accuracy: 0.5460 - val_loss: 0.6908 - val_accuracy: 0.5286\n",
      "\n",
      "Epoch 00185: val_loss did not improve from 0.69073\n",
      "Epoch 186/300\n",
      "102/102 [==============================] - 0s 2ms/step - loss: 0.6900 - accuracy: 0.5351 - val_loss: 0.6920 - val_accuracy: 0.5233\n",
      "\n",
      "Epoch 00186: val_loss did not improve from 0.69073\n",
      "Epoch 187/300\n",
      "102/102 [==============================] - 0s 3ms/step - loss: 0.6899 - accuracy: 0.5350 - val_loss: 0.6918 - val_accuracy: 0.5328\n",
      "\n",
      "Epoch 00187: val_loss did not improve from 0.69073\n",
      "Epoch 188/300\n",
      "102/102 [==============================] - 0s 2ms/step - loss: 0.6915 - accuracy: 0.5268 - val_loss: 0.6915 - val_accuracy: 0.5254\n",
      "\n",
      "Epoch 00188: val_loss did not improve from 0.69073\n",
      "Epoch 189/300\n",
      "102/102 [==============================] - 0s 2ms/step - loss: 0.6914 - accuracy: 0.5384 - val_loss: 0.6915 - val_accuracy: 0.5403\n",
      "\n",
      "Epoch 00189: val_loss did not improve from 0.69073\n",
      "Epoch 190/300\n",
      "102/102 [==============================] - 0s 2ms/step - loss: 0.6897 - accuracy: 0.5345 - val_loss: 0.6917 - val_accuracy: 0.5265\n",
      "\n",
      "Epoch 00190: val_loss did not improve from 0.69073\n",
      "Epoch 191/300\n",
      "102/102 [==============================] - 0s 3ms/step - loss: 0.6905 - accuracy: 0.5286 - val_loss: 0.6915 - val_accuracy: 0.5392\n",
      "\n",
      "Epoch 00191: val_loss did not improve from 0.69073\n",
      "Epoch 192/300\n",
      "102/102 [==============================] - 0s 2ms/step - loss: 0.6909 - accuracy: 0.5340 - val_loss: 0.6924 - val_accuracy: 0.4985\n",
      "\n",
      "Epoch 00192: val_loss did not improve from 0.69073\n",
      "Epoch 193/300\n",
      "102/102 [==============================] - 0s 2ms/step - loss: 0.6889 - accuracy: 0.5387 - val_loss: 0.6930 - val_accuracy: 0.5224\n",
      "\n",
      "Epoch 00193: val_loss did not improve from 0.69073\n",
      "Epoch 194/300\n",
      "102/102 [==============================] - 0s 2ms/step - loss: 0.6914 - accuracy: 0.5370 - val_loss: 0.6926 - val_accuracy: 0.5217\n",
      "\n",
      "Epoch 00194: val_loss did not improve from 0.69073\n",
      "Epoch 195/300\n",
      "102/102 [==============================] - 0s 3ms/step - loss: 0.6903 - accuracy: 0.5395 - val_loss: 0.6906 - val_accuracy: 0.5305\n",
      "\n",
      "Epoch 00195: val_loss improved from 0.69073 to 0.69062, saving model to test.hdf5\n",
      "Epoch 196/300\n",
      "102/102 [==============================] - 0s 2ms/step - loss: 0.6903 - accuracy: 0.5341 - val_loss: 0.6909 - val_accuracy: 0.5291\n",
      "\n",
      "Epoch 00196: val_loss did not improve from 0.69062\n",
      "Epoch 197/300\n",
      "102/102 [==============================] - 0s 2ms/step - loss: 0.6882 - accuracy: 0.5401 - val_loss: 0.6919 - val_accuracy: 0.5146\n",
      "\n",
      "Epoch 00197: val_loss did not improve from 0.69062\n",
      "Epoch 198/300\n",
      "102/102 [==============================] - 0s 2ms/step - loss: 0.6899 - accuracy: 0.5407 - val_loss: 0.6919 - val_accuracy: 0.5259\n",
      "\n",
      "Epoch 00198: val_loss did not improve from 0.69062\n",
      "Epoch 199/300\n",
      "102/102 [==============================] - 0s 2ms/step - loss: 0.6905 - accuracy: 0.5321 - val_loss: 0.6910 - val_accuracy: 0.5334\n",
      "\n",
      "Epoch 00199: val_loss did not improve from 0.69062\n",
      "Epoch 200/300\n",
      "102/102 [==============================] - 0s 2ms/step - loss: 0.6902 - accuracy: 0.5385 - val_loss: 0.6922 - val_accuracy: 0.5169\n",
      "\n",
      "Epoch 00200: val_loss did not improve from 0.69062\n",
      "Epoch 201/300\n",
      "102/102 [==============================] - 0s 2ms/step - loss: 0.6919 - accuracy: 0.5326 - val_loss: 0.6914 - val_accuracy: 0.5272\n",
      "\n",
      "Epoch 00201: val_loss did not improve from 0.69062\n",
      "Epoch 202/300\n",
      "102/102 [==============================] - 0s 3ms/step - loss: 0.6899 - accuracy: 0.5336 - val_loss: 0.6922 - val_accuracy: 0.5176\n",
      "\n",
      "Epoch 00202: val_loss did not improve from 0.69062\n",
      "Epoch 203/300\n",
      "102/102 [==============================] - 0s 3ms/step - loss: 0.6896 - accuracy: 0.5428 - val_loss: 0.6910 - val_accuracy: 0.5362\n",
      "\n",
      "Epoch 00203: val_loss did not improve from 0.69062\n",
      "Epoch 204/300\n"
     ]
    },
    {
     "name": "stdout",
     "output_type": "stream",
     "text": [
      "102/102 [==============================] - 0s 3ms/step - loss: 0.6906 - accuracy: 0.5358 - val_loss: 0.6916 - val_accuracy: 0.5282\n",
      "\n",
      "Epoch 00204: val_loss did not improve from 0.69062\n",
      "Epoch 205/300\n",
      "102/102 [==============================] - 0s 3ms/step - loss: 0.6899 - accuracy: 0.5374 - val_loss: 0.6915 - val_accuracy: 0.5265\n",
      "\n",
      "Epoch 00205: val_loss did not improve from 0.69062\n",
      "Epoch 206/300\n",
      "102/102 [==============================] - 0s 2ms/step - loss: 0.6906 - accuracy: 0.5357 - val_loss: 0.6930 - val_accuracy: 0.5259\n",
      "\n",
      "Epoch 00206: val_loss did not improve from 0.69062\n",
      "Epoch 207/300\n",
      "102/102 [==============================] - 0s 2ms/step - loss: 0.6909 - accuracy: 0.5287 - val_loss: 0.6912 - val_accuracy: 0.5252\n",
      "\n",
      "Epoch 00207: val_loss did not improve from 0.69062\n",
      "Epoch 208/300\n",
      "102/102 [==============================] - 0s 3ms/step - loss: 0.6901 - accuracy: 0.5341 - val_loss: 0.6910 - val_accuracy: 0.5305\n",
      "\n",
      "Epoch 00208: val_loss did not improve from 0.69062\n",
      "Epoch 209/300\n",
      "102/102 [==============================] - 0s 2ms/step - loss: 0.6908 - accuracy: 0.5298 - val_loss: 0.6910 - val_accuracy: 0.5346\n",
      "\n",
      "Epoch 00209: val_loss did not improve from 0.69062\n",
      "Epoch 210/300\n",
      "102/102 [==============================] - 0s 2ms/step - loss: 0.6898 - accuracy: 0.5306 - val_loss: 0.6919 - val_accuracy: 0.5236\n",
      "\n",
      "Epoch 00210: val_loss did not improve from 0.69062\n",
      "Epoch 211/300\n",
      "102/102 [==============================] - 0s 2ms/step - loss: 0.6896 - accuracy: 0.5322 - val_loss: 0.6926 - val_accuracy: 0.4983\n",
      "\n",
      "Epoch 00211: val_loss did not improve from 0.69062\n",
      "Epoch 212/300\n",
      "102/102 [==============================] - 0s 3ms/step - loss: 0.6910 - accuracy: 0.5299 - val_loss: 0.6912 - val_accuracy: 0.5254\n",
      "\n",
      "Epoch 00212: val_loss did not improve from 0.69062\n",
      "Epoch 213/300\n",
      "102/102 [==============================] - 0s 2ms/step - loss: 0.6904 - accuracy: 0.5399 - val_loss: 0.6911 - val_accuracy: 0.5373\n",
      "\n",
      "Epoch 00213: val_loss did not improve from 0.69062\n",
      "Epoch 214/300\n",
      "102/102 [==============================] - 0s 2ms/step - loss: 0.6900 - accuracy: 0.5367 - val_loss: 0.6908 - val_accuracy: 0.5279\n",
      "\n",
      "Epoch 00214: val_loss did not improve from 0.69062\n",
      "Epoch 215/300\n",
      "102/102 [==============================] - 0s 2ms/step - loss: 0.6897 - accuracy: 0.5394 - val_loss: 0.6915 - val_accuracy: 0.5288\n",
      "\n",
      "Epoch 00215: val_loss did not improve from 0.69062\n",
      "Epoch 216/300\n",
      "102/102 [==============================] - 0s 3ms/step - loss: 0.6902 - accuracy: 0.5430 - val_loss: 0.6911 - val_accuracy: 0.5380\n",
      "\n",
      "Epoch 00216: val_loss did not improve from 0.69062\n",
      "Epoch 217/300\n",
      "102/102 [==============================] - 0s 3ms/step - loss: 0.6907 - accuracy: 0.5237 - val_loss: 0.6915 - val_accuracy: 0.5284\n",
      "\n",
      "Epoch 00217: val_loss did not improve from 0.69062\n",
      "Epoch 218/300\n",
      "102/102 [==============================] - 0s 2ms/step - loss: 0.6901 - accuracy: 0.5378 - val_loss: 0.6915 - val_accuracy: 0.5424\n",
      "\n",
      "Epoch 00218: val_loss did not improve from 0.69062\n",
      "Epoch 219/300\n",
      "102/102 [==============================] - 0s 2ms/step - loss: 0.6908 - accuracy: 0.5314 - val_loss: 0.6907 - val_accuracy: 0.5291\n",
      "\n",
      "Epoch 00219: val_loss did not improve from 0.69062\n",
      "Epoch 220/300\n",
      "102/102 [==============================] - 0s 2ms/step - loss: 0.6917 - accuracy: 0.5382 - val_loss: 0.6917 - val_accuracy: 0.5323\n",
      "\n",
      "Epoch 00220: val_loss did not improve from 0.69062\n",
      "Epoch 221/300\n",
      "102/102 [==============================] - 0s 2ms/step - loss: 0.6902 - accuracy: 0.5307 - val_loss: 0.6921 - val_accuracy: 0.5045\n",
      "\n",
      "Epoch 00221: val_loss did not improve from 0.69062\n",
      "Epoch 222/300\n",
      "102/102 [==============================] - 0s 2ms/step - loss: 0.6897 - accuracy: 0.5310 - val_loss: 0.6914 - val_accuracy: 0.5332\n",
      "\n",
      "Epoch 00222: val_loss did not improve from 0.69062\n",
      "Epoch 223/300\n",
      "102/102 [==============================] - 0s 2ms/step - loss: 0.6905 - accuracy: 0.5385 - val_loss: 0.6919 - val_accuracy: 0.5082\n",
      "\n",
      "Epoch 00223: val_loss did not improve from 0.69062\n",
      "Epoch 224/300\n",
      "102/102 [==============================] - 0s 3ms/step - loss: 0.6893 - accuracy: 0.5399 - val_loss: 0.6916 - val_accuracy: 0.5300\n",
      "\n",
      "Epoch 00224: val_loss did not improve from 0.69062\n",
      "Epoch 225/300\n",
      "102/102 [==============================] - 0s 2ms/step - loss: 0.6900 - accuracy: 0.5335 - val_loss: 0.6914 - val_accuracy: 0.5316\n",
      "\n",
      "Epoch 00225: val_loss did not improve from 0.69062\n",
      "Epoch 226/300\n",
      "102/102 [==============================] - 0s 2ms/step - loss: 0.6900 - accuracy: 0.5312 - val_loss: 0.6908 - val_accuracy: 0.5373\n",
      "\n",
      "Epoch 00226: val_loss did not improve from 0.69062\n",
      "Epoch 227/300\n",
      "102/102 [==============================] - 0s 2ms/step - loss: 0.6901 - accuracy: 0.5387 - val_loss: 0.6918 - val_accuracy: 0.5178\n",
      "\n",
      "Epoch 00227: val_loss did not improve from 0.69062\n",
      "Epoch 228/300\n",
      "102/102 [==============================] - 0s 2ms/step - loss: 0.6898 - accuracy: 0.5314 - val_loss: 0.6906 - val_accuracy: 0.5295\n",
      "\n",
      "Epoch 00228: val_loss improved from 0.69062 to 0.69057, saving model to test.hdf5\n",
      "Epoch 229/300\n",
      "102/102 [==============================] - 0s 3ms/step - loss: 0.6908 - accuracy: 0.5264 - val_loss: 0.6913 - val_accuracy: 0.5282\n",
      "\n",
      "Epoch 00229: val_loss did not improve from 0.69057\n",
      "Epoch 230/300\n",
      "102/102 [==============================] - 0s 2ms/step - loss: 0.6897 - accuracy: 0.5342 - val_loss: 0.6912 - val_accuracy: 0.5247\n",
      "\n",
      "Epoch 00230: val_loss did not improve from 0.69057\n",
      "Epoch 231/300\n",
      "102/102 [==============================] - 0s 2ms/step - loss: 0.6907 - accuracy: 0.5348 - val_loss: 0.6916 - val_accuracy: 0.5413\n",
      "\n",
      "Epoch 00231: val_loss did not improve from 0.69057\n",
      "Epoch 232/300\n",
      "102/102 [==============================] - 0s 2ms/step - loss: 0.6893 - accuracy: 0.5400 - val_loss: 0.6912 - val_accuracy: 0.5282\n",
      "\n",
      "Epoch 00232: val_loss did not improve from 0.69057\n",
      "Epoch 233/300\n",
      "102/102 [==============================] - 0s 3ms/step - loss: 0.6906 - accuracy: 0.5427 - val_loss: 0.6929 - val_accuracy: 0.5247\n",
      "\n",
      "Epoch 00233: val_loss did not improve from 0.69057\n",
      "Epoch 234/300\n",
      "102/102 [==============================] - 0s 3ms/step - loss: 0.6902 - accuracy: 0.5429 - val_loss: 0.6909 - val_accuracy: 0.5426\n",
      "\n",
      "Epoch 00234: val_loss did not improve from 0.69057\n",
      "Epoch 235/300\n",
      "102/102 [==============================] - 0s 2ms/step - loss: 0.6896 - accuracy: 0.5369 - val_loss: 0.6911 - val_accuracy: 0.5314\n",
      "\n",
      "Epoch 00235: val_loss did not improve from 0.69057\n",
      "Epoch 236/300\n",
      "102/102 [==============================] - 0s 2ms/step - loss: 0.6886 - accuracy: 0.5401 - val_loss: 0.6902 - val_accuracy: 0.5396\n",
      "\n",
      "Epoch 00236: val_loss improved from 0.69057 to 0.69024, saving model to test.hdf5\n",
      "Epoch 237/300\n",
      "102/102 [==============================] - 0s 3ms/step - loss: 0.6893 - accuracy: 0.5332 - val_loss: 0.6915 - val_accuracy: 0.5238\n",
      "\n",
      "Epoch 00237: val_loss did not improve from 0.69024\n",
      "Epoch 238/300\n",
      "102/102 [==============================] - 0s 3ms/step - loss: 0.6887 - accuracy: 0.5430 - val_loss: 0.6926 - val_accuracy: 0.5049\n",
      "\n",
      "Epoch 00238: val_loss did not improve from 0.69024\n",
      "Epoch 239/300\n",
      "102/102 [==============================] - 0s 2ms/step - loss: 0.6894 - accuracy: 0.5367 - val_loss: 0.6906 - val_accuracy: 0.5293\n",
      "\n",
      "Epoch 00239: val_loss did not improve from 0.69024\n",
      "Epoch 240/300\n",
      "102/102 [==============================] - 0s 2ms/step - loss: 0.6885 - accuracy: 0.5422 - val_loss: 0.6904 - val_accuracy: 0.5346\n",
      "\n",
      "Epoch 00240: val_loss did not improve from 0.69024\n",
      "Epoch 241/300\n",
      "102/102 [==============================] - 0s 2ms/step - loss: 0.6896 - accuracy: 0.5348 - val_loss: 0.6910 - val_accuracy: 0.5413\n",
      "\n",
      "Epoch 00241: val_loss did not improve from 0.69024\n",
      "Epoch 242/300\n",
      "102/102 [==============================] - 0s 2ms/step - loss: 0.6881 - accuracy: 0.5416 - val_loss: 0.6909 - val_accuracy: 0.5355\n",
      "\n",
      "Epoch 00242: val_loss did not improve from 0.69024\n",
      "Epoch 243/300\n",
      "102/102 [==============================] - 0s 2ms/step - loss: 0.6887 - accuracy: 0.5388 - val_loss: 0.6922 - val_accuracy: 0.5206\n",
      "\n",
      "Epoch 00243: val_loss did not improve from 0.69024\n",
      "Epoch 244/300\n",
      "102/102 [==============================] - 0s 2ms/step - loss: 0.6910 - accuracy: 0.5281 - val_loss: 0.6917 - val_accuracy: 0.5185\n",
      "\n",
      "Epoch 00244: val_loss did not improve from 0.69024\n",
      "Epoch 245/300\n"
     ]
    },
    {
     "name": "stdout",
     "output_type": "stream",
     "text": [
      "102/102 [==============================] - 0s 2ms/step - loss: 0.6888 - accuracy: 0.5355 - val_loss: 0.6911 - val_accuracy: 0.5233\n",
      "\n",
      "Epoch 00245: val_loss did not improve from 0.69024\n",
      "Epoch 246/300\n",
      "102/102 [==============================] - 0s 2ms/step - loss: 0.6900 - accuracy: 0.5370 - val_loss: 0.6909 - val_accuracy: 0.5272\n",
      "\n",
      "Epoch 00246: val_loss did not improve from 0.69024\n",
      "Epoch 247/300\n",
      "102/102 [==============================] - 0s 2ms/step - loss: 0.6903 - accuracy: 0.5331 - val_loss: 0.6909 - val_accuracy: 0.5291\n",
      "\n",
      "Epoch 00247: val_loss did not improve from 0.69024\n",
      "Epoch 248/300\n",
      "102/102 [==============================] - 0s 2ms/step - loss: 0.6905 - accuracy: 0.5353 - val_loss: 0.6908 - val_accuracy: 0.5371\n",
      "\n",
      "Epoch 00248: val_loss did not improve from 0.69024\n",
      "Epoch 249/300\n",
      "102/102 [==============================] - 0s 2ms/step - loss: 0.6891 - accuracy: 0.5422 - val_loss: 0.6912 - val_accuracy: 0.5259\n",
      "\n",
      "Epoch 00249: val_loss did not improve from 0.69024\n",
      "Epoch 250/300\n",
      "102/102 [==============================] - 0s 2ms/step - loss: 0.6909 - accuracy: 0.5267 - val_loss: 0.6912 - val_accuracy: 0.5252\n",
      "\n",
      "Epoch 00250: val_loss did not improve from 0.69024\n",
      "Epoch 251/300\n",
      "102/102 [==============================] - 0s 3ms/step - loss: 0.6900 - accuracy: 0.5380 - val_loss: 0.6931 - val_accuracy: 0.5242\n",
      "\n",
      "Epoch 00251: val_loss did not improve from 0.69024\n",
      "Epoch 252/300\n",
      "102/102 [==============================] - 0s 3ms/step - loss: 0.6886 - accuracy: 0.5459 - val_loss: 0.6943 - val_accuracy: 0.4934\n",
      "\n",
      "Epoch 00252: val_loss did not improve from 0.69024\n",
      "Epoch 253/300\n",
      "102/102 [==============================] - 0s 2ms/step - loss: 0.6885 - accuracy: 0.5448 - val_loss: 0.6912 - val_accuracy: 0.5302\n",
      "\n",
      "Epoch 00253: val_loss did not improve from 0.69024\n",
      "Epoch 254/300\n",
      "102/102 [==============================] - 0s 2ms/step - loss: 0.6899 - accuracy: 0.5288 - val_loss: 0.6909 - val_accuracy: 0.5353\n",
      "\n",
      "Epoch 00254: val_loss did not improve from 0.69024\n",
      "Epoch 255/300\n",
      "102/102 [==============================] - ETA: 0s - loss: 0.6890 - accuracy: 0.54 - 0s 2ms/step - loss: 0.6891 - accuracy: 0.5420 - val_loss: 0.6924 - val_accuracy: 0.5020\n",
      "\n",
      "Epoch 00255: val_loss did not improve from 0.69024\n",
      "Epoch 256/300\n",
      "102/102 [==============================] - 0s 2ms/step - loss: 0.6890 - accuracy: 0.5359 - val_loss: 0.6931 - val_accuracy: 0.4948\n",
      "\n",
      "Epoch 00256: val_loss did not improve from 0.69024\n",
      "Epoch 257/300\n",
      "102/102 [==============================] - 0s 2ms/step - loss: 0.6888 - accuracy: 0.5423 - val_loss: 0.6905 - val_accuracy: 0.5369\n",
      "\n",
      "Epoch 00257: val_loss did not improve from 0.69024\n",
      "Epoch 258/300\n",
      "102/102 [==============================] - 0s 2ms/step - loss: 0.6906 - accuracy: 0.5314 - val_loss: 0.6908 - val_accuracy: 0.5401\n",
      "\n",
      "Epoch 00258: val_loss did not improve from 0.69024\n",
      "Epoch 259/300\n",
      "102/102 [==============================] - 0s 2ms/step - loss: 0.6887 - accuracy: 0.5381 - val_loss: 0.6912 - val_accuracy: 0.5277\n",
      "\n",
      "Epoch 00259: val_loss did not improve from 0.69024\n",
      "Epoch 260/300\n",
      "102/102 [==============================] - 0s 3ms/step - loss: 0.6900 - accuracy: 0.5332 - val_loss: 0.6939 - val_accuracy: 0.4957\n",
      "\n",
      "Epoch 00260: val_loss did not improve from 0.69024\n",
      "Epoch 261/300\n",
      "102/102 [==============================] - 0s 2ms/step - loss: 0.6902 - accuracy: 0.5342 - val_loss: 0.6909 - val_accuracy: 0.5288\n",
      "\n",
      "Epoch 00261: val_loss did not improve from 0.69024\n",
      "Epoch 262/300\n",
      "102/102 [==============================] - 0s 2ms/step - loss: 0.6883 - accuracy: 0.5428 - val_loss: 0.6910 - val_accuracy: 0.5401\n",
      "\n",
      "Epoch 00262: val_loss did not improve from 0.69024\n",
      "Epoch 263/300\n",
      "102/102 [==============================] - 0s 2ms/step - loss: 0.6890 - accuracy: 0.5356 - val_loss: 0.6901 - val_accuracy: 0.5344\n",
      "\n",
      "Epoch 00263: val_loss improved from 0.69024 to 0.69007, saving model to test.hdf5\n",
      "Epoch 264/300\n",
      "102/102 [==============================] - 0s 2ms/step - loss: 0.6903 - accuracy: 0.5354 - val_loss: 0.6904 - val_accuracy: 0.5307\n",
      "\n",
      "Epoch 00264: val_loss did not improve from 0.69007\n",
      "Epoch 265/300\n",
      "102/102 [==============================] - 0s 2ms/step - loss: 0.6885 - accuracy: 0.5351 - val_loss: 0.6906 - val_accuracy: 0.5286\n",
      "\n",
      "Epoch 00265: val_loss did not improve from 0.69007\n",
      "Epoch 266/300\n",
      "102/102 [==============================] - 0s 2ms/step - loss: 0.6895 - accuracy: 0.5361 - val_loss: 0.6916 - val_accuracy: 0.5254\n",
      "\n",
      "Epoch 00266: val_loss did not improve from 0.69007\n",
      "Epoch 267/300\n",
      "102/102 [==============================] - 0s 2ms/step - loss: 0.6898 - accuracy: 0.5377 - val_loss: 0.6909 - val_accuracy: 0.5339\n",
      "\n",
      "Epoch 00267: val_loss did not improve from 0.69007\n",
      "Epoch 268/300\n",
      "102/102 [==============================] - 0s 2ms/step - loss: 0.6893 - accuracy: 0.5405 - val_loss: 0.6910 - val_accuracy: 0.5367\n",
      "\n",
      "Epoch 00268: val_loss did not improve from 0.69007\n",
      "Epoch 269/300\n",
      "102/102 [==============================] - 0s 3ms/step - loss: 0.6890 - accuracy: 0.5360 - val_loss: 0.6923 - val_accuracy: 0.5272\n",
      "\n",
      "Epoch 00269: val_loss did not improve from 0.69007\n",
      "Epoch 270/300\n",
      "102/102 [==============================] - 0s 3ms/step - loss: 0.6889 - accuracy: 0.5395 - val_loss: 0.6936 - val_accuracy: 0.4932\n",
      "\n",
      "Epoch 00270: val_loss did not improve from 0.69007\n",
      "Epoch 271/300\n",
      "102/102 [==============================] - 0s 4ms/step - loss: 0.6904 - accuracy: 0.5308 - val_loss: 0.6903 - val_accuracy: 0.5433\n",
      "\n",
      "Epoch 00271: val_loss did not improve from 0.69007\n",
      "Epoch 272/300\n",
      "102/102 [==============================] - 0s 4ms/step - loss: 0.6879 - accuracy: 0.5403 - val_loss: 0.6940 - val_accuracy: 0.4953\n",
      "\n",
      "Epoch 00272: val_loss did not improve from 0.69007\n",
      "Epoch 273/300\n",
      "102/102 [==============================] - 0s 2ms/step - loss: 0.6901 - accuracy: 0.5374 - val_loss: 0.6905 - val_accuracy: 0.5442\n",
      "\n",
      "Epoch 00273: val_loss did not improve from 0.69007\n",
      "Epoch 274/300\n",
      "102/102 [==============================] - 0s 2ms/step - loss: 0.6888 - accuracy: 0.5389 - val_loss: 0.6910 - val_accuracy: 0.5293\n",
      "\n",
      "Epoch 00274: val_loss did not improve from 0.69007\n",
      "Epoch 275/300\n",
      "102/102 [==============================] - 0s 3ms/step - loss: 0.6889 - accuracy: 0.5340 - val_loss: 0.6902 - val_accuracy: 0.5309\n",
      "\n",
      "Epoch 00275: val_loss did not improve from 0.69007\n",
      "Epoch 276/300\n",
      "102/102 [==============================] - 0s 2ms/step - loss: 0.6903 - accuracy: 0.5407 - val_loss: 0.6907 - val_accuracy: 0.5272\n",
      "\n",
      "Epoch 00276: val_loss did not improve from 0.69007\n",
      "Epoch 277/300\n",
      "102/102 [==============================] - 0s 3ms/step - loss: 0.6903 - accuracy: 0.5367 - val_loss: 0.6913 - val_accuracy: 0.5259\n",
      "\n",
      "Epoch 00277: val_loss did not improve from 0.69007\n",
      "Epoch 278/300\n",
      "102/102 [==============================] - 0s 3ms/step - loss: 0.6885 - accuracy: 0.5453 - val_loss: 0.6905 - val_accuracy: 0.5302\n",
      "\n",
      "Epoch 00278: val_loss did not improve from 0.69007\n",
      "Epoch 279/300\n",
      "102/102 [==============================] - 0s 2ms/step - loss: 0.6902 - accuracy: 0.5366 - val_loss: 0.6915 - val_accuracy: 0.5355\n",
      "\n",
      "Epoch 00279: val_loss did not improve from 0.69007\n",
      "Epoch 280/300\n",
      "102/102 [==============================] - 0s 2ms/step - loss: 0.6875 - accuracy: 0.5414 - val_loss: 0.6926 - val_accuracy: 0.5240\n",
      "\n",
      "Epoch 00280: val_loss did not improve from 0.69007\n",
      "Epoch 281/300\n",
      "102/102 [==============================] - 0s 2ms/step - loss: 0.6899 - accuracy: 0.5354 - val_loss: 0.6904 - val_accuracy: 0.5288\n",
      "\n",
      "Epoch 00281: val_loss did not improve from 0.69007\n",
      "Epoch 282/300\n",
      "102/102 [==============================] - 0s 2ms/step - loss: 0.6897 - accuracy: 0.5414 - val_loss: 0.6900 - val_accuracy: 0.5334\n",
      "\n",
      "Epoch 00282: val_loss improved from 0.69007 to 0.69003, saving model to test.hdf5\n",
      "Epoch 283/300\n",
      "102/102 [==============================] - 0s 2ms/step - loss: 0.6883 - accuracy: 0.5413 - val_loss: 0.6907 - val_accuracy: 0.5286\n",
      "\n",
      "Epoch 00283: val_loss did not improve from 0.69003\n",
      "Epoch 284/300\n",
      "102/102 [==============================] - 0s 2ms/step - loss: 0.6880 - accuracy: 0.5464 - val_loss: 0.6901 - val_accuracy: 0.5311\n",
      "\n",
      "Epoch 00284: val_loss did not improve from 0.69003\n",
      "Epoch 285/300\n",
      "102/102 [==============================] - 0s 2ms/step - loss: 0.6879 - accuracy: 0.5427 - val_loss: 0.6908 - val_accuracy: 0.5293\n",
      "\n",
      "Epoch 00285: val_loss did not improve from 0.69003\n",
      "Epoch 286/300\n"
     ]
    },
    {
     "name": "stdout",
     "output_type": "stream",
     "text": [
      "102/102 [==============================] - 0s 3ms/step - loss: 0.6893 - accuracy: 0.5416 - val_loss: 0.6923 - val_accuracy: 0.5079\n",
      "\n",
      "Epoch 00286: val_loss did not improve from 0.69003\n",
      "Epoch 287/300\n",
      "102/102 [==============================] - 0s 2ms/step - loss: 0.6884 - accuracy: 0.5439 - val_loss: 0.6922 - val_accuracy: 0.5095\n",
      "\n",
      "Epoch 00287: val_loss did not improve from 0.69003\n",
      "Epoch 288/300\n",
      "102/102 [==============================] - 0s 2ms/step - loss: 0.6891 - accuracy: 0.5459 - val_loss: 0.6925 - val_accuracy: 0.5040\n",
      "\n",
      "Epoch 00288: val_loss did not improve from 0.69003\n",
      "Epoch 289/300\n",
      "102/102 [==============================] - 0s 2ms/step - loss: 0.6894 - accuracy: 0.5374 - val_loss: 0.6913 - val_accuracy: 0.5238\n",
      "\n",
      "Epoch 00289: val_loss did not improve from 0.69003\n",
      "Epoch 290/300\n",
      "102/102 [==============================] - 0s 2ms/step - loss: 0.6893 - accuracy: 0.5411 - val_loss: 0.6920 - val_accuracy: 0.5272\n",
      "\n",
      "Epoch 00290: val_loss did not improve from 0.69003\n",
      "Epoch 291/300\n",
      "102/102 [==============================] - 0s 2ms/step - loss: 0.6896 - accuracy: 0.5384 - val_loss: 0.6910 - val_accuracy: 0.5373\n",
      "\n",
      "Epoch 00291: val_loss did not improve from 0.69003\n",
      "Epoch 292/300\n",
      "102/102 [==============================] - 0s 2ms/step - loss: 0.6912 - accuracy: 0.5346 - val_loss: 0.6907 - val_accuracy: 0.5360\n",
      "\n",
      "Epoch 00292: val_loss did not improve from 0.69003\n",
      "Epoch 293/300\n",
      "102/102 [==============================] - 0s 2ms/step - loss: 0.6900 - accuracy: 0.5411 - val_loss: 0.6907 - val_accuracy: 0.5440\n",
      "\n",
      "Epoch 00293: val_loss did not improve from 0.69003\n",
      "Epoch 294/300\n",
      "102/102 [==============================] - 0s 2ms/step - loss: 0.6888 - accuracy: 0.5321 - val_loss: 0.6903 - val_accuracy: 0.5408\n",
      "\n",
      "Epoch 00294: val_loss did not improve from 0.69003\n",
      "Epoch 295/300\n",
      "102/102 [==============================] - 0s 2ms/step - loss: 0.6882 - accuracy: 0.5405 - val_loss: 0.6907 - val_accuracy: 0.5284\n",
      "\n",
      "Epoch 00295: val_loss did not improve from 0.69003\n",
      "Epoch 296/300\n",
      "102/102 [==============================] - 0s 3ms/step - loss: 0.6883 - accuracy: 0.5425 - val_loss: 0.6901 - val_accuracy: 0.5328\n",
      "\n",
      "Epoch 00296: val_loss did not improve from 0.69003\n",
      "Epoch 297/300\n",
      "102/102 [==============================] - 0s 2ms/step - loss: 0.6892 - accuracy: 0.5355 - val_loss: 0.6908 - val_accuracy: 0.5272\n",
      "\n",
      "Epoch 00297: val_loss did not improve from 0.69003\n",
      "Epoch 298/300\n",
      "102/102 [==============================] - 0s 2ms/step - loss: 0.6887 - accuracy: 0.5459 - val_loss: 0.6909 - val_accuracy: 0.5392\n",
      "\n",
      "Epoch 00298: val_loss did not improve from 0.69003\n",
      "Epoch 299/300\n",
      "102/102 [==============================] - 0s 3ms/step - loss: 0.6890 - accuracy: 0.5324 - val_loss: 0.6906 - val_accuracy: 0.5277\n",
      "\n",
      "Epoch 00299: val_loss did not improve from 0.69003\n",
      "Epoch 300/300\n",
      "102/102 [==============================] - 0s 2ms/step - loss: 0.6898 - accuracy: 0.5379 - val_loss: 0.6905 - val_accuracy: 0.5300\n",
      "\n",
      "Epoch 00300: val_loss did not improve from 0.69003\n"
     ]
    }
   ],
   "source": [
    "history = model.fit(X_train, Y_train, \n",
    "          epochs = 300, \n",
    "          batch_size = 128, \n",
    "          verbose=1, \n",
    "          validation_data=(X_test, Y_test),\n",
    "          callbacks=[reduce_lr, checkpointer],\n",
    "          )"
   ]
  },
  {
   "cell_type": "markdown",
   "metadata": {},
   "source": [
    "### Results"
   ]
  },
  {
   "cell_type": "code",
   "execution_count": 579,
   "metadata": {},
   "outputs": [
    {
     "data": {
      "image/png": "[encoded data removed]",
      "text/plain": [
       "<Figure size 432x288 with 1 Axes>"
      ]
     },
     "metadata": {},
     "output_type": "display_data"
    }
   ],
   "source": [
    "plt.figure()\n",
    "plt.plot(history.history['loss'])\n",
    "plt.plot(history.history['val_loss'])\n",
    "plt.title('model loss')\n",
    "plt.ylabel('loss')\n",
    "plt.xlabel('epoch')\n",
    "plt.legend(['train', 'test'], loc='best')\n",
    "plt.show()"
   ]
  },
  {
   "cell_type": "code",
   "execution_count": 580,
   "metadata": {},
   "outputs": [
    {
     "data": {
      "image/png": "[encoded data removed]",
      "text/plain": [
       "<Figure size 432x288 with 1 Axes>"
      ]
     },
     "metadata": {},
     "output_type": "display_data"
    }
   ],
   "source": [
    "plt.figure()\n",
    "plt.plot(history.history['accuracy'])\n",
    "plt.plot(history.history['val_accuracy'])\n",
    "plt.title('model accuracy')\n",
    "plt.ylabel('accuracy')\n",
    "plt.xlabel('epoch')\n",
    "plt.legend(['train', 'test'], loc='best')\n",
    "plt.show()"
   ]
  },
  {
   "cell_type": "code",
   "execution_count": 581,
   "metadata": {},
   "outputs": [
    {
     "data": {
      "text/plain": [
       "(4351, 1)"
      ]
     },
     "execution_count": 581,
     "metadata": {},
     "output_type": "execute_result"
    }
   ],
   "source": [
    "(Y_test).shape"
   ]
  },
  {
   "cell_type": "code",
   "execution_count": 582,
   "metadata": {},
   "outputs": [
    {
     "name": "stdout",
     "output_type": "stream",
     "text": [
      "[[ True]\n",
      " [ True]\n",
      " [ True]\n",
      " ...\n",
      " [ True]\n",
      " [ True]\n",
      " [ True]]\n"
     ]
    }
   ],
   "source": [
    "prediction = model.predict(X_test)\n",
    "(prediction).shape\n",
    "y_pred = (prediction > 0.5)\n",
    "y_test = (Y_test > 0.5)\n",
    "print(y_test)"
   ]
  },
  {
   "cell_type": "code",
   "execution_count": 583,
   "metadata": {},
   "outputs": [
    {
     "name": "stdout",
     "output_type": "stream",
     "text": [
      "Confusion matrix:\n",
      "[[ 431 1619]\n",
      " [ 426 1875]]\n"
     ]
    }
   ],
   "source": [
    "confusion = confusion_matrix(y_test, y_pred)\n",
    "print(\"Confusion matrix:\\n{}\".format(confusion))"
   ]
  },
  {
   "cell_type": "code",
   "execution_count": 584,
   "metadata": {},
   "outputs": [
    {
     "data": {
      "text/plain": [
       "<AxesSubplot:>"
      ]
     },
     "execution_count": 584,
     "metadata": {},
     "output_type": "execute_result"
    },
    {
     "data": {
      "image/png": "[encoded data removed]",
      "text/plain": [
       "<Figure size 432x288 with 2 Axes>"
      ]
     },
     "metadata": {},
     "output_type": "display_data"
    }
   ],
   "source": [
    "import seaborn as sn\n",
    "\n",
    "sn.set(font_scale=1.4) # for label size\n",
    "#sn.heatmap(confusion, annot=True, annot_kws={\"size\": 16}) # font size\n",
    "sns.heatmap(confusion/np.sum(confusion), annot=True, \n",
    "            fmt='.2%', cmap='Blues')"
   ]
  },
  {
   "cell_type": "markdown",
   "metadata": {},
   "source": [
    "An example of another confusion matrix obtained by the algorithm while retaining the overall accuracy at the same rate."
   ]
  },
  {
   "attachments": {
    "image.png": {
     "image/png": "[encoded data removed]"
    }
   },
   "cell_type": "markdown",
   "metadata": {},
   "source": [
    "![image.png](attachment:image.png)"
   ]
  },
  {
   "cell_type": "markdown",
   "metadata": {},
   "source": [
    " The performance of the neural network is highly variable. Different runs give qualitatively three quite different results. The over all accuracy does not vary much at 53-54%. However, sometimes the true postive rate goes as high as 46% but this is always acompanied by a false negative rate also goes over 40%.  The neural network is correctly identifying price increases but at the same time misclassifing price decreases. Occaisionally, the the confusion matrix is much better behaved. The overall accuracy stays around the same at 54% but true postive and true negative rates of  around 27% are obtained. Other times the true negative rate is high but so is the false positive."
   ]
  },
  {
   "cell_type": "code",
   "execution_count": 585,
   "metadata": {},
   "outputs": [],
   "source": [
    "fpr_keras, tpr_keras, thresholds_keras = roc_curve(y_test, y_pred)\n",
    "auc_keras = auc(fpr_keras, tpr_keras)"
   ]
  },
  {
   "cell_type": "code",
   "execution_count": 586,
   "metadata": {},
   "outputs": [
    {
     "data": {
      "text/plain": [
       "<matplotlib.legend.Legend at 0x28221a2d820>"
      ]
     },
     "execution_count": 586,
     "metadata": {},
     "output_type": "execute_result"
    },
    {
     "data": {
      "image/png": "[encoded data removed]",
      "text/plain": [
       "<Figure size 432x288 with 1 Axes>"
      ]
     },
     "metadata": {},
     "output_type": "display_data"
    }
   ],
   "source": [
    "\n",
    "plt.figure(1)\n",
    "plt.plot([0, 1], [0, 1], 'k--')\n",
    "plt.plot(fpr_keras, tpr_keras, label='Keras (area = {:.3f})'.format(auc_keras))\n",
    "#plt.plot(fpr_rf, tpr_rf, label='RF (area = {:.3f})'.format(auc_rf))\n",
    "plt.xlabel('False positive rate')\n",
    "plt.ylabel('True positive rate')\n",
    "plt.title('ROC curve')\n",
    "plt.legend(loc='best')"
   ]
  },
  {
   "cell_type": "code",
   "execution_count": 587,
   "metadata": {},
   "outputs": [
    {
     "name": "stdout",
     "output_type": "stream",
     "text": [
      "                 precision    recall  f1-score   support\n",
      "\n",
      " price increase       0.50      0.21      0.30      2050\n",
      " price decrease       0.54      0.81      0.65      2301\n",
      "\n",
      "       accuracy                           0.53      4351\n",
      "      macro avg       0.52      0.51      0.47      4351\n",
      "   weighted avg       0.52      0.53      0.48      4351\n",
      "\n"
     ]
    }
   ],
   "source": [
    "print(classification_report(y_test, y_pred,\n",
    "target_names=[\" price increase\", \"price decrease\"]))"
   ]
  },
  {
   "cell_type": "markdown",
   "metadata": {},
   "source": [
    "### Discussion"
   ]
  },
  {
   "cell_type": "markdown",
   "metadata": {},
   "source": [
    "The neural network accuracy rate of around 52-53% could be the basis of a trading algorithm if consistent but the false negative rate is too high i.e. this is reflected in a very poor recall."
   ]
  },
  {
   "cell_type": "markdown",
   "metadata": {},
   "source": [
    "## Forecasting of the First Differenced  Bitcoin Time Series"
   ]
  },
  {
   "cell_type": "markdown",
   "metadata": {},
   "source": [
    "### Data Preparation for Binary Classification - Returns Time Series"
   ]
  },
  {
   "cell_type": "code",
   "execution_count": 588,
   "metadata": {},
   "outputs": [
    {
     "data": {
      "text/plain": [
       "[<matplotlib.lines.Line2D at 0x282267ce070>]"
      ]
     },
     "execution_count": 588,
     "metadata": {},
     "output_type": "execute_result"
    },
    {
     "data": {
      "image/png": "[encoded data removed]",
      "text/plain": [
       "<Figure size 432x288 with 1 Axes>"
      ]
     },
     "metadata": {},
     "output_type": "display_data"
    }
   ],
   "source": [
    "data =diff.values.tolist()\n",
    "plt.plot(data)"
   ]
  },
  {
   "cell_type": "code",
   "execution_count": 589,
   "metadata": {},
   "outputs": [
    {
     "name": "stdout",
     "output_type": "stream",
     "text": [
      "e\n"
     ]
    }
   ],
   "source": [
    "# Straightforward way for creating time windows\n",
    "X, Y = [], []\n",
    "for i in range(0, len(data), STEP): \n",
    "    try:\n",
    "        x_i = data[i:i+WINDOW]\n",
    "        y_i = data[i+WINDOW+FORECAST]  \n",
    "\n",
    "        last_close = x_i[WINDOW-1]\n",
    "        next_close = y_i\n",
    "\n",
    "        if  next_close > 0:   # The condition corresponding to price increase in the next step for returns time series\n",
    "            y_i = [1]\n",
    "        else:\n",
    "            y_i = [0] \n",
    "\n",
    "    except Exception as e:\n",
    "        print (\"e\")\n",
    "        break\n",
    "\n",
    "    X.append(x_i)\n",
    "    Y.append(y_i)"
   ]
  },
  {
   "cell_type": "code",
   "execution_count": 590,
   "metadata": {},
   "outputs": [
    {
     "name": "stdout",
     "output_type": "stream",
     "text": [
      "(17407, 30)\n"
     ]
    },
    {
     "data": {
      "text/plain": [
       "array([[  -16.9 ,   -33.53,     4.55, ...,    26.74,    15.  ,    22.01],\n",
       "       [  -33.53,     4.55,     8.85, ...,    15.  ,    22.01,     4.99],\n",
       "       [    4.55,     8.85,    -1.39, ...,    22.01,     4.99,     7.94],\n",
       "       ...,\n",
       "       [  743.8 ,  -123.6 ,   343.6 , ...,  -164.5 ,  -152.1 ,    50.2 ],\n",
       "       [ -123.6 ,   343.6 ,    39.  , ...,  -152.1 ,    50.2 ,   360.4 ],\n",
       "       [  343.6 ,    39.  , -1087.7 , ...,    50.2 ,   360.4 ,    58.6 ]])"
      ]
     },
     "execution_count": 590,
     "metadata": {},
     "output_type": "execute_result"
    }
   ],
   "source": [
    "X = np.where(np.isnan(X), ma.array(X, mask=np.isnan(X)).mean(axis=0), X)\n",
    "print(X.shape)\n",
    "X"
   ]
  },
  {
   "cell_type": "code",
   "execution_count": 591,
   "metadata": {},
   "outputs": [
    {
     "name": "stderr",
     "output_type": "stream",
     "text": [
      "C:\\Users\\jamil\\anaconda3\\lib\\site-packages\\sklearn\\utils\\validation.py:72: DataConversionWarning: A column-vector y was passed when a 1d array was expected. Please change the shape of y to (n_samples, ), for example using ravel().\n",
      "  return f(**kwargs)\n"
     ]
    }
   ],
   "source": [
    "from sklearn.preprocessing import LabelEncoder\n",
    "\n",
    "encoder = LabelEncoder()\n",
    "encoder.fit(Y)\n",
    "Y = encoder.transform(Y)"
   ]
  },
  {
   "cell_type": "code",
   "execution_count": 592,
   "metadata": {},
   "outputs": [
    {
     "name": "stdout",
     "output_type": "stream",
     "text": [
      "(17407,)\n"
     ]
    },
    {
     "data": {
      "text/plain": [
       "array([1., 1., 1., ..., 1., 1., 1.])"
      ]
     },
     "execution_count": 592,
     "metadata": {},
     "output_type": "execute_result"
    }
   ],
   "source": [
    "Y = np.where(np.isnan(Y), ma.array(Y, mask=np.isnan(Y)).mean(axis=0), Y)\n",
    "print(Y.shape)\n",
    "Y"
   ]
  },
  {
   "cell_type": "code",
   "execution_count": null,
   "metadata": {},
   "outputs": [],
   "source": []
  },
  {
   "cell_type": "code",
   "execution_count": 593,
   "metadata": {},
   "outputs": [],
   "source": [
    "train_X = X[:int((len(X)+1)*.75)] \n",
    "test_X = X[int(len(X)*.75+1):] "
   ]
  },
  {
   "cell_type": "code",
   "execution_count": 594,
   "metadata": {},
   "outputs": [],
   "source": [
    "train_Y = Y[:int((len(Y)+1)*.75)] \n",
    "test_Y = Y[int(len(Y)*.75+1):]"
   ]
  },
  {
   "cell_type": "code",
   "execution_count": 595,
   "metadata": {},
   "outputs": [],
   "source": [
    "# normalize data\n",
    "\n",
    "# fit scaler on training data\n",
    "#norm = MinMaxScaler().fit(train_X)\n",
    "norm = StandardScaler().fit(train_X)\n",
    "\n",
    "# transform training data\n",
    "X_train = norm.transform(train_X)\n",
    "\n",
    "# transform testing dataabs\n",
    "X_test = norm.transform(test_X)"
   ]
  },
  {
   "cell_type": "code",
   "execution_count": 596,
   "metadata": {},
   "outputs": [],
   "source": [
    "Y_train = train_Y\n",
    "Y_test =  test_Y"
   ]
  },
  {
   "cell_type": "code",
   "execution_count": 597,
   "metadata": {},
   "outputs": [
    {
     "data": {
      "text/plain": [
       "array([1., 1., 0., ..., 1., 1., 1.])"
      ]
     },
     "execution_count": 597,
     "metadata": {},
     "output_type": "execute_result"
    }
   ],
   "source": [
    "Y_test"
   ]
  },
  {
   "cell_type": "code",
   "execution_count": 598,
   "metadata": {},
   "outputs": [
    {
     "data": {
      "text/plain": [
       "array([[-0.16860434, -0.33359658,  0.044139  , ...,  0.26434274,\n",
       "         0.14771669,  0.21723267],\n",
       "       [-0.33358104,  0.04417366,  0.08679703, ...,  0.14788166,\n",
       "         0.21724453,  0.04842228],\n",
       "       [ 0.04418881,  0.08683153, -0.01478862, ...,  0.21742103,\n",
       "         0.04843372,  0.07768142],\n",
       "       ...,\n",
       "       [ 0.14884931, -0.16961176,  0.15971251, ..., -0.20725522,\n",
       "        -0.037757  ,  0.01083171],\n",
       "       [-0.16959639,  0.15974675,  0.02975431, ..., -0.0376228 ,\n",
       "         0.01084306,  2.09765345],\n",
       "       [ 0.15976177,  0.02978902,  0.12102267, ...,  0.01098532,\n",
       "         2.09767004,  0.29548848]])"
      ]
     },
     "execution_count": 598,
     "metadata": {},
     "output_type": "execute_result"
    }
   ],
   "source": [
    "X_train.shape, X_test.shape\n",
    "X_train"
   ]
  },
  {
   "cell_type": "code",
   "execution_count": 599,
   "metadata": {},
   "outputs": [
    {
     "data": {
      "text/plain": [
       "array([[  0.02980419,   0.12105704,  -0.1002039 , ...,   2.09815848,\n",
       "          0.29550054,  -0.02189885],\n",
       "       [  0.12107211,  -0.1001687 ,  -0.09226752, ...,   0.29569002,\n",
       "         -0.02188759,   0.10406425],\n",
       "       [ -0.1001534 ,  -0.09223235,   0.06447597, ...,  -0.02175076,\n",
       "          0.10407583,   0.20523146],\n",
       "       ...,\n",
       "       [  7.3778641 ,  -1.22713034,   3.4076756 , ...,  -1.63276275,\n",
       "         -1.50964446,   0.49683107],\n",
       "       [ -1.22711385,   3.40769781,   0.38589931, ...,  -1.50975444,\n",
       "          0.49684364,   3.57350457],\n",
       "       [  3.40770941,   0.38593271, -10.79149839, ...,   0.49706652,\n",
       "          3.57352485,   0.58014525]])"
      ]
     },
     "execution_count": 599,
     "metadata": {},
     "output_type": "execute_result"
    }
   ],
   "source": [
    "X_test"
   ]
  },
  {
   "cell_type": "markdown",
   "metadata": {},
   "source": [
    "### Neural Network Model Fitting"
   ]
  },
  {
   "cell_type": "code",
   "execution_count": 609,
   "metadata": {},
   "outputs": [
    {
     "name": "stdout",
     "output_type": "stream",
     "text": [
      "Epoch 1/300\n",
      "102/102 [==============================] - 0s 3ms/step - loss: 0.6821 - accuracy: 0.5499 - val_loss: 0.6932 - val_accuracy: 0.5215\n",
      "\n",
      "Epoch 00001: val_loss did not improve from 0.69003\n",
      "Epoch 2/300\n",
      "102/102 [==============================] - 0s 3ms/step - loss: 0.6827 - accuracy: 0.5492 - val_loss: 0.6937 - val_accuracy: 0.5231\n",
      "\n",
      "Epoch 00002: val_loss did not improve from 0.69003\n",
      "Epoch 3/300\n",
      "102/102 [==============================] - 0s 3ms/step - loss: 0.6837 - accuracy: 0.5502 - val_loss: 0.6934 - val_accuracy: 0.5222\n",
      "\n",
      "Epoch 00003: val_loss did not improve from 0.69003\n",
      "Epoch 4/300\n",
      "102/102 [==============================] - 0s 3ms/step - loss: 0.6826 - accuracy: 0.5470 - val_loss: 0.6934 - val_accuracy: 0.5192\n",
      "\n",
      "Epoch 00004: val_loss did not improve from 0.69003\n",
      "Epoch 5/300\n",
      "102/102 [==============================] - 0s 3ms/step - loss: 0.6826 - accuracy: 0.5502 - val_loss: 0.6934 - val_accuracy: 0.5215\n",
      "\n",
      "Epoch 00005: val_loss did not improve from 0.69003\n",
      "Epoch 6/300\n",
      "102/102 [==============================] - 0s 3ms/step - loss: 0.6833 - accuracy: 0.5557 - val_loss: 0.6934 - val_accuracy: 0.5199\n",
      "\n",
      "Epoch 00006: val_loss did not improve from 0.69003\n",
      "Epoch 7/300\n",
      "102/102 [==============================] - 0s 2ms/step - loss: 0.6830 - accuracy: 0.5511 - val_loss: 0.6933 - val_accuracy: 0.5180\n",
      "\n",
      "Epoch 00007: val_loss did not improve from 0.69003\n",
      "Epoch 8/300\n",
      "102/102 [==============================] - 0s 3ms/step - loss: 0.6822 - accuracy: 0.5506 - val_loss: 0.6936 - val_accuracy: 0.5185\n",
      "\n",
      "Epoch 00008: val_loss did not improve from 0.69003\n",
      "Epoch 9/300\n",
      "102/102 [==============================] - 0s 3ms/step - loss: 0.6823 - accuracy: 0.5483 - val_loss: 0.6933 - val_accuracy: 0.5217\n",
      "\n",
      "Epoch 00009: val_loss did not improve from 0.69003\n",
      "Epoch 10/300\n",
      "102/102 [==============================] - 0s 3ms/step - loss: 0.6812 - accuracy: 0.5548 - val_loss: 0.6929 - val_accuracy: 0.5219\n",
      "\n",
      "Epoch 00010: val_loss did not improve from 0.69003\n",
      "Epoch 11/300\n",
      "102/102 [==============================] - 0s 3ms/step - loss: 0.6828 - accuracy: 0.5452 - val_loss: 0.6935 - val_accuracy: 0.5169\n",
      "\n",
      "Epoch 00011: val_loss did not improve from 0.69003\n",
      "Epoch 12/300\n",
      "102/102 [==============================] - 0s 3ms/step - loss: 0.6825 - accuracy: 0.5507 - val_loss: 0.6933 - val_accuracy: 0.5192\n",
      "\n",
      "Epoch 00012: val_loss did not improve from 0.69003\n",
      "Epoch 13/300\n",
      "102/102 [==============================] - 0s 3ms/step - loss: 0.6825 - accuracy: 0.5477 - val_loss: 0.6933 - val_accuracy: 0.5197\n",
      "\n",
      "Epoch 00013: val_loss did not improve from 0.69003\n",
      "Epoch 14/300\n",
      "102/102 [==============================] - 0s 3ms/step - loss: 0.6823 - accuracy: 0.5528 - val_loss: 0.6934 - val_accuracy: 0.5171\n",
      "\n",
      "Epoch 00014: val_loss did not improve from 0.69003\n",
      "Epoch 15/300\n",
      "102/102 [==============================] - 0s 3ms/step - loss: 0.6827 - accuracy: 0.5505 - val_loss: 0.6937 - val_accuracy: 0.5183\n",
      "\n",
      "Epoch 00015: val_loss did not improve from 0.69003\n",
      "Epoch 16/300\n",
      "102/102 [==============================] - 0s 3ms/step - loss: 0.6833 - accuracy: 0.5503 - val_loss: 0.6939 - val_accuracy: 0.5123\n",
      "\n",
      "Epoch 00016: val_loss did not improve from 0.69003\n",
      "Epoch 17/300\n",
      "102/102 [==============================] - 0s 3ms/step - loss: 0.6828 - accuracy: 0.5528 - val_loss: 0.6933 - val_accuracy: 0.5174\n",
      "\n",
      "Epoch 00017: val_loss did not improve from 0.69003\n",
      "Epoch 18/300\n",
      "102/102 [==============================] - 0s 3ms/step - loss: 0.6824 - accuracy: 0.5514 - val_loss: 0.6936 - val_accuracy: 0.5185\n",
      "\n",
      "Epoch 00018: val_loss did not improve from 0.69003\n",
      "Epoch 19/300\n",
      "102/102 [==============================] - 0s 3ms/step - loss: 0.6822 - accuracy: 0.5484 - val_loss: 0.6933 - val_accuracy: 0.5164\n",
      "\n",
      "Epoch 00019: val_loss did not improve from 0.69003\n",
      "Epoch 20/300\n",
      "102/102 [==============================] - 0s 3ms/step - loss: 0.6807 - accuracy: 0.5537 - val_loss: 0.6932 - val_accuracy: 0.5194\n",
      "\n",
      "Epoch 00020: val_loss did not improve from 0.69003\n",
      "Epoch 21/300\n",
      "102/102 [==============================] - 0s 3ms/step - loss: 0.6841 - accuracy: 0.5515 - val_loss: 0.6937 - val_accuracy: 0.5153\n",
      "\n",
      "Epoch 00021: val_loss did not improve from 0.69003\n",
      "Epoch 22/300\n",
      "102/102 [==============================] - 0s 3ms/step - loss: 0.6812 - accuracy: 0.5538 - val_loss: 0.6932 - val_accuracy: 0.5215\n",
      "\n",
      "Epoch 00022: val_loss did not improve from 0.69003\n",
      "Epoch 23/300\n",
      "102/102 [==============================] - 0s 3ms/step - loss: 0.6822 - accuracy: 0.5506 - val_loss: 0.6933 - val_accuracy: 0.5169\n",
      "\n",
      "Epoch 00023: val_loss did not improve from 0.69003\n",
      "Epoch 24/300\n",
      "102/102 [==============================] - 0s 3ms/step - loss: 0.6818 - accuracy: 0.5519 - val_loss: 0.6936 - val_accuracy: 0.5169\n",
      "\n",
      "Epoch 00024: val_loss did not improve from 0.69003\n",
      "Epoch 25/300\n",
      "102/102 [==============================] - 0s 3ms/step - loss: 0.6822 - accuracy: 0.5474 - val_loss: 0.6936 - val_accuracy: 0.5155\n",
      "\n",
      "Epoch 00025: val_loss did not improve from 0.69003\n",
      "Epoch 26/300\n",
      "102/102 [==============================] - 0s 3ms/step - loss: 0.6836 - accuracy: 0.5518 - val_loss: 0.6936 - val_accuracy: 0.5157\n",
      "\n",
      "Epoch 00026: val_loss did not improve from 0.69003\n",
      "Epoch 27/300\n",
      "102/102 [==============================] - 0s 2ms/step - loss: 0.6828 - accuracy: 0.5516 - val_loss: 0.6938 - val_accuracy: 0.5160\n",
      "\n",
      "Epoch 00027: val_loss did not improve from 0.69003\n",
      "Epoch 28/300\n",
      "102/102 [==============================] - 0s 2ms/step - loss: 0.6834 - accuracy: 0.5454 - val_loss: 0.6935 - val_accuracy: 0.5141\n",
      "\n",
      "Epoch 00028: val_loss did not improve from 0.69003\n",
      "Epoch 29/300\n",
      "102/102 [==============================] - 0s 3ms/step - loss: 0.6818 - accuracy: 0.5533 - val_loss: 0.6937 - val_accuracy: 0.5134\n",
      "\n",
      "Epoch 00029: val_loss did not improve from 0.69003\n",
      "Epoch 30/300\n",
      "102/102 [==============================] - 0s 3ms/step - loss: 0.6830 - accuracy: 0.5447 - val_loss: 0.6934 - val_accuracy: 0.5171\n",
      "\n",
      "Epoch 00030: val_loss did not improve from 0.69003\n",
      "Epoch 31/300\n",
      "102/102 [==============================] - 0s 2ms/step - loss: 0.6820 - accuracy: 0.5508 - val_loss: 0.6930 - val_accuracy: 0.5242\n",
      "\n",
      "Epoch 00031: val_loss did not improve from 0.69003\n",
      "Epoch 32/300\n",
      "102/102 [==============================] - 0s 2ms/step - loss: 0.6831 - accuracy: 0.5443 - val_loss: 0.6938 - val_accuracy: 0.5157\n",
      "\n",
      "Epoch 00032: val_loss did not improve from 0.69003\n",
      "Epoch 33/300\n",
      "102/102 [==============================] - 0s 2ms/step - loss: 0.6809 - accuracy: 0.5533 - val_loss: 0.6932 - val_accuracy: 0.5208\n",
      "\n",
      "Epoch 00033: val_loss did not improve from 0.69003\n",
      "Epoch 34/300\n",
      "102/102 [==============================] - 0s 2ms/step - loss: 0.6826 - accuracy: 0.5513 - val_loss: 0.6933 - val_accuracy: 0.5201\n",
      "\n",
      "Epoch 00034: val_loss did not improve from 0.69003\n",
      "Epoch 35/300\n",
      "102/102 [==============================] - 0s 3ms/step - loss: 0.6825 - accuracy: 0.5487 - val_loss: 0.6933 - val_accuracy: 0.5199\n",
      "\n",
      "Epoch 00035: val_loss did not improve from 0.69003\n",
      "Epoch 36/300\n",
      "102/102 [==============================] - 0s 2ms/step - loss: 0.6817 - accuracy: 0.5514 - val_loss: 0.6933 - val_accuracy: 0.5197\n",
      "\n",
      "Epoch 00036: val_loss did not improve from 0.69003\n",
      "Epoch 37/300\n",
      "102/102 [==============================] - 0s 2ms/step - loss: 0.6813 - accuracy: 0.5521 - val_loss: 0.6931 - val_accuracy: 0.5208\n",
      "\n",
      "Epoch 00037: val_loss did not improve from 0.69003\n",
      "Epoch 38/300\n",
      "102/102 [==============================] - 0s 2ms/step - loss: 0.6816 - accuracy: 0.5536 - val_loss: 0.6936 - val_accuracy: 0.5153\n",
      "\n",
      "Epoch 00038: val_loss did not improve from 0.69003\n",
      "Epoch 39/300\n",
      "102/102 [==============================] - 0s 3ms/step - loss: 0.6822 - accuracy: 0.5496 - val_loss: 0.6934 - val_accuracy: 0.5183\n",
      "\n",
      "Epoch 00039: val_loss did not improve from 0.69003\n",
      "Epoch 40/300\n",
      "102/102 [==============================] - 0s 3ms/step - loss: 0.6812 - accuracy: 0.5516 - val_loss: 0.6936 - val_accuracy: 0.5169\n",
      "\n",
      "Epoch 00040: val_loss did not improve from 0.69003\n",
      "Epoch 41/300\n",
      "102/102 [==============================] - 0s 2ms/step - loss: 0.6812 - accuracy: 0.5536 - val_loss: 0.6938 - val_accuracy: 0.5169\n",
      "\n",
      "Epoch 00041: val_loss did not improve from 0.69003\n",
      "Epoch 42/300\n",
      "102/102 [==============================] - 0s 3ms/step - loss: 0.6812 - accuracy: 0.5542 - val_loss: 0.6932 - val_accuracy: 0.5185\n",
      "\n",
      "Epoch 00042: val_loss did not improve from 0.69003\n",
      "Epoch 43/300\n"
     ]
    },
    {
     "name": "stdout",
     "output_type": "stream",
     "text": [
      "102/102 [==============================] - 0s 3ms/step - loss: 0.6836 - accuracy: 0.5452 - val_loss: 0.6938 - val_accuracy: 0.5185\n",
      "\n",
      "Epoch 00043: val_loss did not improve from 0.69003\n",
      "Epoch 44/300\n",
      "102/102 [==============================] - 0s 2ms/step - loss: 0.6838 - accuracy: 0.5439 - val_loss: 0.6936 - val_accuracy: 0.5180\n",
      "\n",
      "Epoch 00044: val_loss did not improve from 0.69003\n",
      "Epoch 45/300\n",
      "102/102 [==============================] - 0s 3ms/step - loss: 0.6816 - accuracy: 0.5460 - val_loss: 0.6934 - val_accuracy: 0.5213\n",
      "\n",
      "Epoch 00045: val_loss did not improve from 0.69003\n",
      "Epoch 46/300\n",
      "102/102 [==============================] - 0s 3ms/step - loss: 0.6831 - accuracy: 0.5471 - val_loss: 0.6933 - val_accuracy: 0.5155\n",
      "\n",
      "Epoch 00046: val_loss did not improve from 0.69003\n",
      "Epoch 47/300\n",
      "102/102 [==============================] - 0s 2ms/step - loss: 0.6819 - accuracy: 0.5538 - val_loss: 0.6938 - val_accuracy: 0.5208\n",
      "\n",
      "Epoch 00047: val_loss did not improve from 0.69003\n",
      "Epoch 48/300\n",
      "102/102 [==============================] - 0s 3ms/step - loss: 0.6823 - accuracy: 0.5492 - val_loss: 0.6936 - val_accuracy: 0.5197\n",
      "\n",
      "Epoch 00048: val_loss did not improve from 0.69003\n",
      "Epoch 49/300\n",
      "102/102 [==============================] - 0s 3ms/step - loss: 0.6843 - accuracy: 0.5491 - val_loss: 0.6934 - val_accuracy: 0.5206\n",
      "\n",
      "Epoch 00049: val_loss did not improve from 0.69003\n",
      "Epoch 50/300\n",
      "102/102 [==============================] - 0s 3ms/step - loss: 0.6814 - accuracy: 0.5504 - val_loss: 0.6933 - val_accuracy: 0.5208\n",
      "\n",
      "Epoch 00050: val_loss did not improve from 0.69003\n",
      "Epoch 51/300\n",
      "102/102 [==============================] - 0s 3ms/step - loss: 0.6824 - accuracy: 0.5508 - val_loss: 0.6932 - val_accuracy: 0.5219\n",
      "\n",
      "Epoch 00051: val_loss did not improve from 0.69003\n",
      "Epoch 52/300\n",
      "102/102 [==============================] - 0s 3ms/step - loss: 0.6798 - accuracy: 0.5528 - val_loss: 0.6932 - val_accuracy: 0.5222\n",
      "\n",
      "Epoch 00052: val_loss did not improve from 0.69003\n",
      "Epoch 53/300\n",
      "102/102 [==============================] - 0s 3ms/step - loss: 0.6818 - accuracy: 0.5490 - val_loss: 0.6936 - val_accuracy: 0.5171\n",
      "\n",
      "Epoch 00053: val_loss did not improve from 0.69003\n",
      "Epoch 54/300\n",
      "102/102 [==============================] - 0s 2ms/step - loss: 0.6833 - accuracy: 0.5460 - val_loss: 0.6936 - val_accuracy: 0.5190\n",
      "\n",
      "Epoch 00054: val_loss did not improve from 0.69003\n",
      "Epoch 55/300\n",
      "102/102 [==============================] - 0s 2ms/step - loss: 0.6815 - accuracy: 0.5501 - val_loss: 0.6933 - val_accuracy: 0.5226\n",
      "\n",
      "Epoch 00055: val_loss did not improve from 0.69003\n",
      "Epoch 56/300\n",
      "102/102 [==============================] - 0s 3ms/step - loss: 0.6811 - accuracy: 0.5514 - val_loss: 0.6934 - val_accuracy: 0.5210\n",
      "\n",
      "Epoch 00056: val_loss did not improve from 0.69003\n",
      "Epoch 57/300\n",
      "102/102 [==============================] - 0s 3ms/step - loss: 0.6813 - accuracy: 0.5483 - val_loss: 0.6934 - val_accuracy: 0.5155\n",
      "\n",
      "Epoch 00057: val_loss did not improve from 0.69003\n",
      "Epoch 58/300\n",
      "102/102 [==============================] - 0s 2ms/step - loss: 0.6832 - accuracy: 0.5407 - val_loss: 0.6935 - val_accuracy: 0.5164\n",
      "\n",
      "Epoch 00058: val_loss did not improve from 0.69003\n",
      "Epoch 59/300\n",
      "102/102 [==============================] - 0s 2ms/step - loss: 0.6820 - accuracy: 0.5477 - val_loss: 0.6936 - val_accuracy: 0.5160\n",
      "\n",
      "Epoch 00059: val_loss did not improve from 0.69003\n",
      "Epoch 60/300\n",
      "102/102 [==============================] - 0s 3ms/step - loss: 0.6812 - accuracy: 0.5490 - val_loss: 0.6936 - val_accuracy: 0.5155\n",
      "\n",
      "Epoch 00060: val_loss did not improve from 0.69003\n",
      "Epoch 61/300\n",
      "102/102 [==============================] - 0s 2ms/step - loss: 0.6826 - accuracy: 0.5512 - val_loss: 0.6937 - val_accuracy: 0.5169\n",
      "\n",
      "Epoch 00061: val_loss did not improve from 0.69003\n",
      "Epoch 62/300\n",
      "102/102 [==============================] - 0s 3ms/step - loss: 0.6825 - accuracy: 0.5488 - val_loss: 0.6934 - val_accuracy: 0.5176\n",
      "\n",
      "Epoch 00062: val_loss did not improve from 0.69003\n",
      "Epoch 63/300\n",
      "102/102 [==============================] - 0s 2ms/step - loss: 0.6808 - accuracy: 0.5509 - val_loss: 0.6933 - val_accuracy: 0.5155\n",
      "\n",
      "Epoch 00063: val_loss did not improve from 0.69003\n",
      "Epoch 64/300\n",
      "102/102 [==============================] - 0s 2ms/step - loss: 0.6828 - accuracy: 0.5476 - val_loss: 0.6935 - val_accuracy: 0.5171\n",
      "\n",
      "Epoch 00064: val_loss did not improve from 0.69003\n",
      "Epoch 65/300\n",
      "102/102 [==============================] - 0s 3ms/step - loss: 0.6805 - accuracy: 0.5562 - val_loss: 0.6933 - val_accuracy: 0.5176\n",
      "\n",
      "Epoch 00065: val_loss did not improve from 0.69003\n",
      "Epoch 66/300\n",
      "102/102 [==============================] - 0s 3ms/step - loss: 0.6828 - accuracy: 0.5483 - val_loss: 0.6932 - val_accuracy: 0.5167\n",
      "\n",
      "Epoch 00066: val_loss did not improve from 0.69003\n",
      "Epoch 67/300\n",
      "102/102 [==============================] - 0s 3ms/step - loss: 0.6802 - accuracy: 0.5543 - val_loss: 0.6935 - val_accuracy: 0.5169\n",
      "\n",
      "Epoch 00067: val_loss did not improve from 0.69003\n",
      "Epoch 68/300\n",
      "102/102 [==============================] - 0s 2ms/step - loss: 0.6822 - accuracy: 0.5495 - val_loss: 0.6934 - val_accuracy: 0.5155\n",
      "\n",
      "Epoch 00068: val_loss did not improve from 0.69003\n",
      "Epoch 69/300\n",
      "102/102 [==============================] - 0s 3ms/step - loss: 0.6813 - accuracy: 0.5550 - val_loss: 0.6932 - val_accuracy: 0.5180\n",
      "\n",
      "Epoch 00069: val_loss did not improve from 0.69003\n",
      "Epoch 70/300\n",
      "102/102 [==============================] - 0s 3ms/step - loss: 0.6822 - accuracy: 0.5512 - val_loss: 0.6933 - val_accuracy: 0.5151\n",
      "\n",
      "Epoch 00070: val_loss did not improve from 0.69003\n",
      "Epoch 71/300\n",
      "102/102 [==============================] - 0s 2ms/step - loss: 0.6822 - accuracy: 0.5489 - val_loss: 0.6932 - val_accuracy: 0.5180\n",
      "\n",
      "Epoch 00071: val_loss did not improve from 0.69003\n",
      "Epoch 72/300\n",
      "102/102 [==============================] - 0s 3ms/step - loss: 0.6813 - accuracy: 0.5501 - val_loss: 0.6932 - val_accuracy: 0.5160\n",
      "\n",
      "Epoch 00072: val_loss did not improve from 0.69003\n",
      "Epoch 73/300\n",
      "102/102 [==============================] - 0s 3ms/step - loss: 0.6805 - accuracy: 0.5471 - val_loss: 0.6935 - val_accuracy: 0.5151\n",
      "\n",
      "Epoch 00073: val_loss did not improve from 0.69003\n",
      "Epoch 74/300\n",
      "102/102 [==============================] - 0s 2ms/step - loss: 0.6820 - accuracy: 0.5490 - val_loss: 0.6936 - val_accuracy: 0.5157\n",
      "\n",
      "Epoch 00074: val_loss did not improve from 0.69003\n",
      "Epoch 75/300\n",
      "102/102 [==============================] - 0s 2ms/step - loss: 0.6820 - accuracy: 0.5515 - val_loss: 0.6933 - val_accuracy: 0.5171\n",
      "\n",
      "Epoch 00075: val_loss did not improve from 0.69003\n",
      "Epoch 76/300\n",
      "102/102 [==============================] - 0s 2ms/step - loss: 0.6809 - accuracy: 0.5484 - val_loss: 0.6936 - val_accuracy: 0.5109\n",
      "\n",
      "Epoch 00076: val_loss did not improve from 0.69003\n",
      "Epoch 77/300\n",
      "102/102 [==============================] - 0s 3ms/step - loss: 0.6823 - accuracy: 0.5492 - val_loss: 0.6933 - val_accuracy: 0.5167\n",
      "\n",
      "Epoch 00077: val_loss did not improve from 0.69003\n",
      "Epoch 78/300\n",
      "102/102 [==============================] - 0s 3ms/step - loss: 0.6820 - accuracy: 0.5489 - val_loss: 0.6932 - val_accuracy: 0.5176\n",
      "\n",
      "Epoch 00078: val_loss did not improve from 0.69003\n",
      "Epoch 79/300\n",
      "102/102 [==============================] - 0s 2ms/step - loss: 0.6810 - accuracy: 0.5542 - val_loss: 0.6931 - val_accuracy: 0.5167\n",
      "\n",
      "Epoch 00079: val_loss did not improve from 0.69003\n",
      "Epoch 80/300\n",
      "102/102 [==============================] - 0s 2ms/step - loss: 0.6825 - accuracy: 0.5515 - val_loss: 0.6931 - val_accuracy: 0.5201\n",
      "\n",
      "Epoch 00080: val_loss did not improve from 0.69003\n",
      "Epoch 81/300\n",
      "102/102 [==============================] - 0s 2ms/step - loss: 0.6824 - accuracy: 0.5493 - val_loss: 0.6931 - val_accuracy: 0.5180\n",
      "\n",
      "Epoch 00081: val_loss did not improve from 0.69003\n",
      "Epoch 82/300\n",
      "102/102 [==============================] - 0s 3ms/step - loss: 0.6821 - accuracy: 0.5555 - val_loss: 0.6932 - val_accuracy: 0.5130\n",
      "\n",
      "Epoch 00082: val_loss did not improve from 0.69003\n",
      "Epoch 83/300\n",
      "102/102 [==============================] - 0s 2ms/step - loss: 0.6803 - accuracy: 0.5559 - val_loss: 0.6933 - val_accuracy: 0.5174\n",
      "\n",
      "Epoch 00083: val_loss did not improve from 0.69003\n",
      "Epoch 84/300\n",
      "102/102 [==============================] - 0s 2ms/step - loss: 0.6817 - accuracy: 0.5531 - val_loss: 0.6934 - val_accuracy: 0.5139\n",
      "\n",
      "Epoch 00084: val_loss did not improve from 0.69003\n",
      "Epoch 85/300\n"
     ]
    },
    {
     "name": "stdout",
     "output_type": "stream",
     "text": [
      "102/102 [==============================] - 0s 2ms/step - loss: 0.6811 - accuracy: 0.5525 - val_loss: 0.6936 - val_accuracy: 0.5153\n",
      "\n",
      "Epoch 00085: val_loss did not improve from 0.69003\n",
      "Epoch 86/300\n",
      "102/102 [==============================] - 0s 3ms/step - loss: 0.6819 - accuracy: 0.5484 - val_loss: 0.6932 - val_accuracy: 0.5155\n",
      "\n",
      "Epoch 00086: val_loss did not improve from 0.69003\n",
      "Epoch 87/300\n",
      "102/102 [==============================] - 0s 2ms/step - loss: 0.6815 - accuracy: 0.5488 - val_loss: 0.6931 - val_accuracy: 0.5178\n",
      "\n",
      "Epoch 00087: val_loss did not improve from 0.69003\n",
      "Epoch 88/300\n",
      "102/102 [==============================] - 0s 3ms/step - loss: 0.6807 - accuracy: 0.5531 - val_loss: 0.6930 - val_accuracy: 0.5187\n",
      "\n",
      "Epoch 00088: val_loss did not improve from 0.69003\n",
      "Epoch 89/300\n",
      "102/102 [==============================] - 0s 3ms/step - loss: 0.6823 - accuracy: 0.5485 - val_loss: 0.6929 - val_accuracy: 0.5190\n",
      "\n",
      "Epoch 00089: val_loss did not improve from 0.69003\n",
      "Epoch 90/300\n",
      "102/102 [==============================] - 0s 3ms/step - loss: 0.6815 - accuracy: 0.5485 - val_loss: 0.6932 - val_accuracy: 0.5178\n",
      "\n",
      "Epoch 00090: val_loss did not improve from 0.69003\n",
      "Epoch 91/300\n",
      "102/102 [==============================] - 0s 2ms/step - loss: 0.6818 - accuracy: 0.5532 - val_loss: 0.6932 - val_accuracy: 0.5206\n",
      "\n",
      "Epoch 00091: val_loss did not improve from 0.69003\n",
      "Epoch 92/300\n",
      "102/102 [==============================] - 0s 2ms/step - loss: 0.6807 - accuracy: 0.5512 - val_loss: 0.6933 - val_accuracy: 0.5187\n",
      "\n",
      "Epoch 00092: val_loss did not improve from 0.69003\n",
      "Epoch 93/300\n",
      "102/102 [==============================] - 0s 2ms/step - loss: 0.6818 - accuracy: 0.5450 - val_loss: 0.6934 - val_accuracy: 0.5164\n",
      "\n",
      "Epoch 00093: val_loss did not improve from 0.69003\n",
      "Epoch 94/300\n",
      "102/102 [==============================] - 0s 2ms/step - loss: 0.6834 - accuracy: 0.5499 - val_loss: 0.6933 - val_accuracy: 0.5174\n",
      "\n",
      "Epoch 00094: val_loss did not improve from 0.69003\n",
      "Epoch 95/300\n",
      "102/102 [==============================] - 0s 2ms/step - loss: 0.6810 - accuracy: 0.5485 - val_loss: 0.6935 - val_accuracy: 0.5153\n",
      "\n",
      "Epoch 00095: val_loss did not improve from 0.69003\n",
      "Epoch 96/300\n",
      "102/102 [==============================] - 0s 2ms/step - loss: 0.6833 - accuracy: 0.5464 - val_loss: 0.6934 - val_accuracy: 0.5153\n",
      "\n",
      "Epoch 00096: val_loss did not improve from 0.69003\n",
      "Epoch 97/300\n",
      "102/102 [==============================] - 0s 2ms/step - loss: 0.6822 - accuracy: 0.5548 - val_loss: 0.6933 - val_accuracy: 0.5174\n",
      "\n",
      "Epoch 00097: val_loss did not improve from 0.69003\n",
      "Epoch 98/300\n",
      "102/102 [==============================] - 0s 2ms/step - loss: 0.6812 - accuracy: 0.5499 - val_loss: 0.6933 - val_accuracy: 0.5210\n",
      "\n",
      "Epoch 00098: val_loss did not improve from 0.69003\n",
      "Epoch 99/300\n",
      "102/102 [==============================] - 0s 2ms/step - loss: 0.6812 - accuracy: 0.5491 - val_loss: 0.6933 - val_accuracy: 0.5171\n",
      "\n",
      "Epoch 00099: val_loss did not improve from 0.69003\n",
      "Epoch 100/300\n",
      "102/102 [==============================] - 0s 2ms/step - loss: 0.6817 - accuracy: 0.5495 - val_loss: 0.6931 - val_accuracy: 0.5208\n",
      "\n",
      "Epoch 00100: val_loss did not improve from 0.69003\n",
      "Epoch 101/300\n",
      "102/102 [==============================] - 0s 2ms/step - loss: 0.6820 - accuracy: 0.5501 - val_loss: 0.6935 - val_accuracy: 0.5185\n",
      "\n",
      "Epoch 00101: val_loss did not improve from 0.69003\n",
      "Epoch 102/300\n",
      "102/102 [==============================] - 0s 3ms/step - loss: 0.6818 - accuracy: 0.5539 - val_loss: 0.6934 - val_accuracy: 0.5192\n",
      "\n",
      "Epoch 00102: val_loss did not improve from 0.69003\n",
      "Epoch 103/300\n",
      "102/102 [==============================] - 0s 3ms/step - loss: 0.6819 - accuracy: 0.5485 - val_loss: 0.6934 - val_accuracy: 0.5160\n",
      "\n",
      "Epoch 00103: val_loss did not improve from 0.69003\n",
      "Epoch 104/300\n",
      "102/102 [==============================] - 0s 2ms/step - loss: 0.6815 - accuracy: 0.5512 - val_loss: 0.6930 - val_accuracy: 0.5224\n",
      "\n",
      "Epoch 00104: val_loss did not improve from 0.69003\n",
      "Epoch 105/300\n",
      "102/102 [==============================] - 0s 2ms/step - loss: 0.6816 - accuracy: 0.5526 - val_loss: 0.6929 - val_accuracy: 0.5229\n",
      "\n",
      "Epoch 00105: val_loss did not improve from 0.69003\n",
      "Epoch 106/300\n",
      "102/102 [==============================] - 0s 3ms/step - loss: 0.6819 - accuracy: 0.5537 - val_loss: 0.6929 - val_accuracy: 0.5259\n",
      "\n",
      "Epoch 00106: val_loss did not improve from 0.69003\n",
      "Epoch 107/300\n",
      "102/102 [==============================] - 0s 3ms/step - loss: 0.6810 - accuracy: 0.5549 - val_loss: 0.6933 - val_accuracy: 0.5206\n",
      "\n",
      "Epoch 00107: val_loss did not improve from 0.69003\n",
      "Epoch 108/300\n",
      "102/102 [==============================] - 0s 3ms/step - loss: 0.6814 - accuracy: 0.5483 - val_loss: 0.6930 - val_accuracy: 0.5203\n",
      "\n",
      "Epoch 00108: val_loss did not improve from 0.69003\n",
      "Epoch 109/300\n",
      "102/102 [==============================] - 0s 2ms/step - loss: 0.6799 - accuracy: 0.5570 - val_loss: 0.6932 - val_accuracy: 0.5176\n",
      "\n",
      "Epoch 00109: val_loss did not improve from 0.69003\n",
      "Epoch 110/300\n",
      "102/102 [==============================] - 0s 3ms/step - loss: 0.6813 - accuracy: 0.5513 - val_loss: 0.6932 - val_accuracy: 0.5203\n",
      "\n",
      "Epoch 00110: val_loss did not improve from 0.69003\n",
      "Epoch 111/300\n",
      "102/102 [==============================] - 0s 2ms/step - loss: 0.6816 - accuracy: 0.5492 - val_loss: 0.6935 - val_accuracy: 0.5197\n",
      "\n",
      "Epoch 00111: val_loss did not improve from 0.69003\n",
      "Epoch 112/300\n",
      "102/102 [==============================] - 0s 3ms/step - loss: 0.6805 - accuracy: 0.5571 - val_loss: 0.6931 - val_accuracy: 0.5192\n",
      "\n",
      "Epoch 00112: val_loss did not improve from 0.69003\n",
      "Epoch 113/300\n",
      "102/102 [==============================] - 0s 3ms/step - loss: 0.6823 - accuracy: 0.5457 - val_loss: 0.6934 - val_accuracy: 0.5210\n",
      "\n",
      "Epoch 00113: val_loss did not improve from 0.69003\n",
      "Epoch 114/300\n",
      "102/102 [==============================] - 0s 3ms/step - loss: 0.6826 - accuracy: 0.5504 - val_loss: 0.6935 - val_accuracy: 0.5183\n",
      "\n",
      "Epoch 00114: val_loss did not improve from 0.69003\n",
      "Epoch 115/300\n",
      "102/102 [==============================] - 0s 2ms/step - loss: 0.6819 - accuracy: 0.5492 - val_loss: 0.6935 - val_accuracy: 0.5183\n",
      "\n",
      "Epoch 00115: val_loss did not improve from 0.69003\n",
      "Epoch 116/300\n",
      "102/102 [==============================] - 0s 2ms/step - loss: 0.6813 - accuracy: 0.5506 - val_loss: 0.6932 - val_accuracy: 0.5210\n",
      "\n",
      "Epoch 00116: val_loss did not improve from 0.69003\n",
      "Epoch 117/300\n",
      "102/102 [==============================] - 0s 3ms/step - loss: 0.6817 - accuracy: 0.5555 - val_loss: 0.6936 - val_accuracy: 0.5162\n",
      "\n",
      "Epoch 00117: val_loss did not improve from 0.69003\n",
      "Epoch 118/300\n",
      "102/102 [==============================] - 0s 3ms/step - loss: 0.6804 - accuracy: 0.5544 - val_loss: 0.6934 - val_accuracy: 0.5183\n",
      "\n",
      "Epoch 00118: val_loss did not improve from 0.69003\n",
      "Epoch 119/300\n",
      "102/102 [==============================] - 0s 3ms/step - loss: 0.6821 - accuracy: 0.5505 - val_loss: 0.6930 - val_accuracy: 0.5201\n",
      "\n",
      "Epoch 00119: val_loss did not improve from 0.69003\n",
      "Epoch 120/300\n",
      "102/102 [==============================] - 0s 2ms/step - loss: 0.6809 - accuracy: 0.5476 - val_loss: 0.6931 - val_accuracy: 0.5203\n",
      "\n",
      "Epoch 00120: val_loss did not improve from 0.69003\n",
      "Epoch 121/300\n",
      "102/102 [==============================] - 0s 2ms/step - loss: 0.6812 - accuracy: 0.5526 - val_loss: 0.6930 - val_accuracy: 0.5187\n",
      "\n",
      "Epoch 00121: val_loss did not improve from 0.69003\n",
      "Epoch 122/300\n",
      "102/102 [==============================] - 0s 3ms/step - loss: 0.6814 - accuracy: 0.5531 - val_loss: 0.6932 - val_accuracy: 0.5192\n",
      "\n",
      "Epoch 00122: val_loss did not improve from 0.69003\n",
      "Epoch 123/300\n",
      "102/102 [==============================] - 0s 3ms/step - loss: 0.6823 - accuracy: 0.5478 - val_loss: 0.6928 - val_accuracy: 0.5231\n",
      "\n",
      "Epoch 00123: val_loss did not improve from 0.69003\n",
      "Epoch 124/300\n",
      "102/102 [==============================] - 0s 2ms/step - loss: 0.6823 - accuracy: 0.5499 - val_loss: 0.6932 - val_accuracy: 0.5187\n",
      "\n",
      "Epoch 00124: val_loss did not improve from 0.69003\n",
      "Epoch 125/300\n",
      "102/102 [==============================] - 0s 2ms/step - loss: 0.6827 - accuracy: 0.5463 - val_loss: 0.6933 - val_accuracy: 0.5169\n",
      "\n",
      "Epoch 00125: val_loss did not improve from 0.69003\n",
      "Epoch 126/300\n",
      "102/102 [==============================] - 0s 3ms/step - loss: 0.6806 - accuracy: 0.5548 - val_loss: 0.6933 - val_accuracy: 0.5180\n"
     ]
    },
    {
     "name": "stdout",
     "output_type": "stream",
     "text": [
      "\n",
      "Epoch 00126: val_loss did not improve from 0.69003\n",
      "Epoch 127/300\n",
      "102/102 [==============================] - 0s 2ms/step - loss: 0.6824 - accuracy: 0.5494 - val_loss: 0.6932 - val_accuracy: 0.5162\n",
      "\n",
      "Epoch 00127: val_loss did not improve from 0.69003\n",
      "Epoch 128/300\n",
      "102/102 [==============================] - 0s 2ms/step - loss: 0.6812 - accuracy: 0.5555 - val_loss: 0.6931 - val_accuracy: 0.5222\n",
      "\n",
      "Epoch 00128: val_loss did not improve from 0.69003\n",
      "Epoch 129/300\n",
      "102/102 [==============================] - 0s 2ms/step - loss: 0.6818 - accuracy: 0.5523 - val_loss: 0.6931 - val_accuracy: 0.5215\n",
      "\n",
      "Epoch 00129: val_loss did not improve from 0.69003\n",
      "Epoch 130/300\n",
      "102/102 [==============================] - 0s 3ms/step - loss: 0.6832 - accuracy: 0.5402 - val_loss: 0.6932 - val_accuracy: 0.5231\n",
      "\n",
      "Epoch 00130: val_loss did not improve from 0.69003\n",
      "Epoch 131/300\n",
      "102/102 [==============================] - 0s 2ms/step - loss: 0.6818 - accuracy: 0.5483 - val_loss: 0.6934 - val_accuracy: 0.5219\n",
      "\n",
      "Epoch 00131: val_loss did not improve from 0.69003\n",
      "Epoch 132/300\n",
      "102/102 [==============================] - 0s 3ms/step - loss: 0.6804 - accuracy: 0.5497 - val_loss: 0.6933 - val_accuracy: 0.5192\n",
      "\n",
      "Epoch 00132: val_loss did not improve from 0.69003\n",
      "Epoch 133/300\n",
      "102/102 [==============================] - 0s 2ms/step - loss: 0.6821 - accuracy: 0.5471 - val_loss: 0.6931 - val_accuracy: 0.5206\n",
      "\n",
      "Epoch 00133: val_loss did not improve from 0.69003\n",
      "Epoch 134/300\n",
      "102/102 [==============================] - 0s 3ms/step - loss: 0.6810 - accuracy: 0.5499 - val_loss: 0.6928 - val_accuracy: 0.5233\n",
      "\n",
      "Epoch 00134: val_loss did not improve from 0.69003\n",
      "Epoch 135/300\n",
      "102/102 [==============================] - 0s 3ms/step - loss: 0.6819 - accuracy: 0.5537 - val_loss: 0.6930 - val_accuracy: 0.5194\n",
      "\n",
      "Epoch 00135: val_loss did not improve from 0.69003\n",
      "Epoch 136/300\n",
      "102/102 [==============================] - 0s 3ms/step - loss: 0.6809 - accuracy: 0.5495 - val_loss: 0.6931 - val_accuracy: 0.5174\n",
      "\n",
      "Epoch 00136: val_loss did not improve from 0.69003\n",
      "Epoch 137/300\n",
      "102/102 [==============================] - 0s 2ms/step - loss: 0.6824 - accuracy: 0.5467 - val_loss: 0.6931 - val_accuracy: 0.5213\n",
      "\n",
      "Epoch 00137: val_loss did not improve from 0.69003\n",
      "Epoch 138/300\n",
      "102/102 [==============================] - 0s 3ms/step - loss: 0.6805 - accuracy: 0.5535 - val_loss: 0.6934 - val_accuracy: 0.5148\n",
      "\n",
      "Epoch 00138: val_loss did not improve from 0.69003\n",
      "Epoch 139/300\n",
      "102/102 [==============================] - 0s 3ms/step - loss: 0.6808 - accuracy: 0.5519 - val_loss: 0.6932 - val_accuracy: 0.5215\n",
      "\n",
      "Epoch 00139: val_loss did not improve from 0.69003\n",
      "Epoch 140/300\n",
      "102/102 [==============================] - 0s 3ms/step - loss: 0.6812 - accuracy: 0.5545 - val_loss: 0.6932 - val_accuracy: 0.5199\n",
      "\n",
      "Epoch 00140: val_loss did not improve from 0.69003\n",
      "Epoch 141/300\n",
      "102/102 [==============================] - 0s 3ms/step - loss: 0.6819 - accuracy: 0.5490 - val_loss: 0.6933 - val_accuracy: 0.5164\n",
      "\n",
      "Epoch 00141: val_loss did not improve from 0.69003\n",
      "Epoch 142/300\n",
      "102/102 [==============================] - 0s 3ms/step - loss: 0.6829 - accuracy: 0.5490 - val_loss: 0.6931 - val_accuracy: 0.5174\n",
      "\n",
      "Epoch 00142: val_loss did not improve from 0.69003\n",
      "Epoch 143/300\n",
      "102/102 [==============================] - 0s 3ms/step - loss: 0.6812 - accuracy: 0.5484 - val_loss: 0.6930 - val_accuracy: 0.5157\n",
      "\n",
      "Epoch 00143: val_loss did not improve from 0.69003\n",
      "Epoch 144/300\n",
      "102/102 [==============================] - 0s 3ms/step - loss: 0.6813 - accuracy: 0.5520 - val_loss: 0.6935 - val_accuracy: 0.5178\n",
      "\n",
      "Epoch 00144: val_loss did not improve from 0.69003\n",
      "Epoch 145/300\n",
      "102/102 [==============================] - 0s 2ms/step - loss: 0.6826 - accuracy: 0.5527 - val_loss: 0.6934 - val_accuracy: 0.5180\n",
      "\n",
      "Epoch 00145: val_loss did not improve from 0.69003\n",
      "Epoch 146/300\n",
      "102/102 [==============================] - 0s 3ms/step - loss: 0.6805 - accuracy: 0.5491 - val_loss: 0.6935 - val_accuracy: 0.5144\n",
      "\n",
      "Epoch 00146: val_loss did not improve from 0.69003\n",
      "Epoch 147/300\n",
      "102/102 [==============================] - 0s 2ms/step - loss: 0.6811 - accuracy: 0.5538 - val_loss: 0.6934 - val_accuracy: 0.5160\n",
      "\n",
      "Epoch 00147: val_loss did not improve from 0.69003\n",
      "Epoch 148/300\n",
      "102/102 [==============================] - 0s 2ms/step - loss: 0.6806 - accuracy: 0.5526 - val_loss: 0.6938 - val_accuracy: 0.5134\n",
      "\n",
      "Epoch 00148: val_loss did not improve from 0.69003\n",
      "Epoch 149/300\n",
      "102/102 [==============================] - 0s 3ms/step - loss: 0.6816 - accuracy: 0.5500 - val_loss: 0.6937 - val_accuracy: 0.5137\n",
      "\n",
      "Epoch 00149: val_loss did not improve from 0.69003\n",
      "Epoch 150/300\n",
      "102/102 [==============================] - 0s 3ms/step - loss: 0.6808 - accuracy: 0.5475 - val_loss: 0.6938 - val_accuracy: 0.5134\n",
      "\n",
      "Epoch 00150: val_loss did not improve from 0.69003\n",
      "Epoch 151/300\n",
      "102/102 [==============================] - 0s 2ms/step - loss: 0.6805 - accuracy: 0.5541 - val_loss: 0.6933 - val_accuracy: 0.5169\n",
      "\n",
      "Epoch 00151: val_loss did not improve from 0.69003\n",
      "Epoch 152/300\n",
      "102/102 [==============================] - 0s 2ms/step - loss: 0.6815 - accuracy: 0.5457 - val_loss: 0.6933 - val_accuracy: 0.5169\n",
      "\n",
      "Epoch 00152: val_loss did not improve from 0.69003\n",
      "Epoch 153/300\n",
      "102/102 [==============================] - 0s 3ms/step - loss: 0.6821 - accuracy: 0.5443 - val_loss: 0.6933 - val_accuracy: 0.5185\n",
      "\n",
      "Epoch 00153: val_loss did not improve from 0.69003\n",
      "Epoch 154/300\n",
      "102/102 [==============================] - 0s 3ms/step - loss: 0.6816 - accuracy: 0.5426 - val_loss: 0.6935 - val_accuracy: 0.5174\n",
      "\n",
      "Epoch 00154: val_loss did not improve from 0.69003\n",
      "Epoch 155/300\n",
      "102/102 [==============================] - 0s 2ms/step - loss: 0.6799 - accuracy: 0.5551 - val_loss: 0.6935 - val_accuracy: 0.5174\n",
      "\n",
      "Epoch 00155: val_loss did not improve from 0.69003\n",
      "Epoch 156/300\n",
      "102/102 [==============================] - 0s 3ms/step - loss: 0.6805 - accuracy: 0.5538 - val_loss: 0.6933 - val_accuracy: 0.5169\n",
      "\n",
      "Epoch 00156: val_loss did not improve from 0.69003\n",
      "Epoch 157/300\n",
      "102/102 [==============================] - 0s 3ms/step - loss: 0.6825 - accuracy: 0.5437 - val_loss: 0.6936 - val_accuracy: 0.5155\n",
      "\n",
      "Epoch 00157: val_loss did not improve from 0.69003\n",
      "Epoch 158/300\n",
      "102/102 [==============================] - 0s 2ms/step - loss: 0.6807 - accuracy: 0.5517 - val_loss: 0.6935 - val_accuracy: 0.5160\n",
      "\n",
      "Epoch 00158: val_loss did not improve from 0.69003\n",
      "Epoch 159/300\n",
      "102/102 [==============================] - 0s 2ms/step - loss: 0.6806 - accuracy: 0.5490 - val_loss: 0.6934 - val_accuracy: 0.5141\n",
      "\n",
      "Epoch 00159: val_loss did not improve from 0.69003\n",
      "Epoch 160/300\n",
      "102/102 [==============================] - 0s 2ms/step - loss: 0.6813 - accuracy: 0.5485 - val_loss: 0.6935 - val_accuracy: 0.5109\n",
      "\n",
      "Epoch 00160: val_loss did not improve from 0.69003\n",
      "Epoch 161/300\n",
      "102/102 [==============================] - 0s 2ms/step - loss: 0.6811 - accuracy: 0.5555 - val_loss: 0.6933 - val_accuracy: 0.5162\n",
      "\n",
      "Epoch 00161: val_loss did not improve from 0.69003\n",
      "Epoch 162/300\n",
      "102/102 [==============================] - 0s 3ms/step - loss: 0.6822 - accuracy: 0.5497 - val_loss: 0.6934 - val_accuracy: 0.5144\n",
      "\n",
      "Epoch 00162: val_loss did not improve from 0.69003\n",
      "Epoch 163/300\n",
      "102/102 [==============================] - 0s 3ms/step - loss: 0.6801 - accuracy: 0.5517 - val_loss: 0.6934 - val_accuracy: 0.5148\n",
      "\n",
      "Epoch 00163: val_loss did not improve from 0.69003\n",
      "Epoch 164/300\n",
      "102/102 [==============================] - 0s 3ms/step - loss: 0.6809 - accuracy: 0.5536 - val_loss: 0.6933 - val_accuracy: 0.5183\n",
      "\n",
      "Epoch 00164: val_loss did not improve from 0.69003\n",
      "Epoch 165/300\n",
      "102/102 [==============================] - 0s 3ms/step - loss: 0.6809 - accuracy: 0.5485 - val_loss: 0.6934 - val_accuracy: 0.5197\n",
      "\n",
      "Epoch 00165: val_loss did not improve from 0.69003\n",
      "Epoch 166/300\n",
      "102/102 [==============================] - 0s 3ms/step - loss: 0.6820 - accuracy: 0.5482 - val_loss: 0.6932 - val_accuracy: 0.5185\n",
      "\n",
      "Epoch 00166: val_loss did not improve from 0.69003\n",
      "Epoch 167/300\n",
      "102/102 [==============================] - 0s 2ms/step - loss: 0.6816 - accuracy: 0.5497 - val_loss: 0.6934 - val_accuracy: 0.5187\n",
      "\n",
      "Epoch 00167: val_loss did not improve from 0.69003\n",
      "Epoch 168/300\n"
     ]
    },
    {
     "name": "stdout",
     "output_type": "stream",
     "text": [
      "102/102 [==============================] - 0s 2ms/step - loss: 0.6810 - accuracy: 0.5483 - val_loss: 0.6932 - val_accuracy: 0.5144\n",
      "\n",
      "Epoch 00168: val_loss did not improve from 0.69003\n",
      "Epoch 169/300\n",
      "102/102 [==============================] - 0s 2ms/step - loss: 0.6803 - accuracy: 0.5532 - val_loss: 0.6931 - val_accuracy: 0.5174\n",
      "\n",
      "Epoch 00169: val_loss did not improve from 0.69003\n",
      "Epoch 170/300\n",
      "102/102 [==============================] - 0s 3ms/step - loss: 0.6820 - accuracy: 0.5476 - val_loss: 0.6932 - val_accuracy: 0.5160\n",
      "\n",
      "Epoch 00170: val_loss did not improve from 0.69003\n",
      "Epoch 171/300\n",
      "102/102 [==============================] - 0s 2ms/step - loss: 0.6808 - accuracy: 0.5542 - val_loss: 0.6932 - val_accuracy: 0.5167\n",
      "\n",
      "Epoch 00171: val_loss did not improve from 0.69003\n",
      "Epoch 172/300\n",
      "102/102 [==============================] - 0s 2ms/step - loss: 0.6807 - accuracy: 0.5503 - val_loss: 0.6931 - val_accuracy: 0.5238\n",
      "\n",
      "Epoch 00172: val_loss did not improve from 0.69003\n",
      "Epoch 173/300\n",
      "102/102 [==============================] - 0s 3ms/step - loss: 0.6812 - accuracy: 0.5516 - val_loss: 0.6933 - val_accuracy: 0.5174\n",
      "\n",
      "Epoch 00173: val_loss did not improve from 0.69003\n",
      "Epoch 174/300\n",
      "102/102 [==============================] - 0s 3ms/step - loss: 0.6806 - accuracy: 0.5487 - val_loss: 0.6932 - val_accuracy: 0.5185\n",
      "\n",
      "Epoch 00174: val_loss did not improve from 0.69003\n",
      "Epoch 175/300\n",
      "102/102 [==============================] - 0s 3ms/step - loss: 0.6818 - accuracy: 0.5475 - val_loss: 0.6930 - val_accuracy: 0.5215\n",
      "\n",
      "Epoch 00175: val_loss did not improve from 0.69003\n",
      "Epoch 176/300\n",
      "102/102 [==============================] - 0s 2ms/step - loss: 0.6813 - accuracy: 0.5506 - val_loss: 0.6932 - val_accuracy: 0.5185\n",
      "\n",
      "Epoch 00176: val_loss did not improve from 0.69003\n",
      "Epoch 177/300\n",
      "102/102 [==============================] - 0s 3ms/step - loss: 0.6806 - accuracy: 0.5534 - val_loss: 0.6932 - val_accuracy: 0.5148\n",
      "\n",
      "Epoch 00177: val_loss did not improve from 0.69003\n",
      "Epoch 178/300\n",
      "102/102 [==============================] - 0s 3ms/step - loss: 0.6804 - accuracy: 0.5520 - val_loss: 0.6934 - val_accuracy: 0.5153\n",
      "\n",
      "Epoch 00178: val_loss did not improve from 0.69003\n",
      "Epoch 179/300\n",
      "102/102 [==============================] - 0s 3ms/step - loss: 0.6819 - accuracy: 0.5489 - val_loss: 0.6931 - val_accuracy: 0.5180\n",
      "\n",
      "Epoch 00179: val_loss did not improve from 0.69003\n",
      "Epoch 180/300\n",
      "102/102 [==============================] - 0s 2ms/step - loss: 0.6808 - accuracy: 0.5470 - val_loss: 0.6929 - val_accuracy: 0.5192\n",
      "\n",
      "Epoch 00180: val_loss did not improve from 0.69003\n",
      "Epoch 181/300\n",
      "102/102 [==============================] - 0s 3ms/step - loss: 0.6823 - accuracy: 0.5512 - val_loss: 0.6929 - val_accuracy: 0.5174\n",
      "\n",
      "Epoch 00181: val_loss did not improve from 0.69003\n",
      "Epoch 182/300\n",
      "102/102 [==============================] - 0s 3ms/step - loss: 0.6817 - accuracy: 0.5466 - val_loss: 0.6930 - val_accuracy: 0.5167\n",
      "\n",
      "Epoch 00182: val_loss did not improve from 0.69003\n",
      "Epoch 183/300\n",
      "102/102 [==============================] - 0s 3ms/step - loss: 0.6806 - accuracy: 0.5499 - val_loss: 0.6929 - val_accuracy: 0.5167\n",
      "\n",
      "Epoch 00183: val_loss did not improve from 0.69003\n",
      "Epoch 184/300\n",
      "102/102 [==============================] - 0s 2ms/step - loss: 0.6801 - accuracy: 0.5488 - val_loss: 0.6930 - val_accuracy: 0.5185\n",
      "\n",
      "Epoch 00184: val_loss did not improve from 0.69003\n",
      "Epoch 185/300\n",
      "102/102 [==============================] - 0s 2ms/step - loss: 0.6812 - accuracy: 0.5526 - val_loss: 0.6929 - val_accuracy: 0.5203\n",
      "\n",
      "Epoch 00185: val_loss did not improve from 0.69003\n",
      "Epoch 186/300\n",
      "102/102 [==============================] - 0s 3ms/step - loss: 0.6805 - accuracy: 0.5517 - val_loss: 0.6931 - val_accuracy: 0.5171\n",
      "\n",
      "Epoch 00186: val_loss did not improve from 0.69003\n",
      "Epoch 187/300\n",
      "102/102 [==============================] - 0s 2ms/step - loss: 0.6829 - accuracy: 0.5451 - val_loss: 0.6933 - val_accuracy: 0.5210\n",
      "\n",
      "Epoch 00187: val_loss did not improve from 0.69003\n",
      "Epoch 188/300\n",
      "102/102 [==============================] - 0s 3ms/step - loss: 0.6804 - accuracy: 0.5492 - val_loss: 0.6930 - val_accuracy: 0.5206\n",
      "\n",
      "Epoch 00188: val_loss did not improve from 0.69003\n",
      "Epoch 189/300\n",
      "102/102 [==============================] - 0s 2ms/step - loss: 0.6819 - accuracy: 0.5518 - val_loss: 0.6932 - val_accuracy: 0.5199\n",
      "\n",
      "Epoch 00189: val_loss did not improve from 0.69003\n",
      "Epoch 190/300\n",
      "102/102 [==============================] - 0s 3ms/step - loss: 0.6806 - accuracy: 0.5522 - val_loss: 0.6931 - val_accuracy: 0.5210\n",
      "\n",
      "Epoch 00190: val_loss did not improve from 0.69003\n",
      "Epoch 191/300\n",
      "102/102 [==============================] - 0s 2ms/step - loss: 0.6793 - accuracy: 0.5533 - val_loss: 0.6934 - val_accuracy: 0.5174\n",
      "\n",
      "Epoch 00191: val_loss did not improve from 0.69003\n",
      "Epoch 192/300\n",
      "102/102 [==============================] - 0s 2ms/step - loss: 0.6816 - accuracy: 0.5496 - val_loss: 0.6933 - val_accuracy: 0.5155\n",
      "\n",
      "Epoch 00192: val_loss did not improve from 0.69003\n",
      "Epoch 193/300\n",
      "102/102 [==============================] - 0s 3ms/step - loss: 0.6804 - accuracy: 0.5479 - val_loss: 0.6933 - val_accuracy: 0.5155\n",
      "\n",
      "Epoch 00193: val_loss did not improve from 0.69003\n",
      "Epoch 194/300\n",
      "102/102 [==============================] - 0s 3ms/step - loss: 0.6804 - accuracy: 0.5567 - val_loss: 0.6934 - val_accuracy: 0.5148\n",
      "\n",
      "Epoch 00194: val_loss did not improve from 0.69003\n",
      "Epoch 195/300\n",
      "102/102 [==============================] - 0s 3ms/step - loss: 0.6807 - accuracy: 0.5456 - val_loss: 0.6934 - val_accuracy: 0.5174\n",
      "\n",
      "Epoch 00195: val_loss did not improve from 0.69003\n",
      "Epoch 196/300\n",
      "102/102 [==============================] - 0s 3ms/step - loss: 0.6798 - accuracy: 0.5533 - val_loss: 0.6934 - val_accuracy: 0.5178\n",
      "\n",
      "Epoch 00196: val_loss did not improve from 0.69003\n",
      "Epoch 197/300\n",
      "102/102 [==============================] - 0s 2ms/step - loss: 0.6815 - accuracy: 0.5464 - val_loss: 0.6932 - val_accuracy: 0.5219\n",
      "\n",
      "Epoch 00197: val_loss did not improve from 0.69003\n",
      "Epoch 198/300\n",
      "102/102 [==============================] - 0s 2ms/step - loss: 0.6806 - accuracy: 0.5554 - val_loss: 0.6932 - val_accuracy: 0.5194\n",
      "\n",
      "Epoch 00198: val_loss did not improve from 0.69003\n",
      "Epoch 199/300\n",
      "102/102 [==============================] - 0s 3ms/step - loss: 0.6798 - accuracy: 0.5509 - val_loss: 0.6934 - val_accuracy: 0.5167\n",
      "\n",
      "Epoch 00199: val_loss did not improve from 0.69003\n",
      "Epoch 200/300\n",
      "102/102 [==============================] - 0s 3ms/step - loss: 0.6811 - accuracy: 0.5594 - val_loss: 0.6934 - val_accuracy: 0.5224\n",
      "\n",
      "Epoch 00200: val_loss did not improve from 0.69003\n",
      "Epoch 201/300\n",
      "102/102 [==============================] - 0s 3ms/step - loss: 0.6800 - accuracy: 0.5525 - val_loss: 0.6935 - val_accuracy: 0.5192\n",
      "\n",
      "Epoch 00201: val_loss did not improve from 0.69003\n",
      "Epoch 202/300\n",
      "102/102 [==============================] - 0s 3ms/step - loss: 0.6810 - accuracy: 0.5534 - val_loss: 0.6935 - val_accuracy: 0.5199\n",
      "\n",
      "Epoch 00202: val_loss did not improve from 0.69003\n",
      "Epoch 203/300\n",
      "102/102 [==============================] - 0s 3ms/step - loss: 0.6820 - accuracy: 0.5479 - val_loss: 0.6936 - val_accuracy: 0.5134\n",
      "\n",
      "Epoch 00203: val_loss did not improve from 0.69003\n",
      "Epoch 204/300\n",
      "102/102 [==============================] - 0s 2ms/step - loss: 0.6798 - accuracy: 0.5568 - val_loss: 0.6939 - val_accuracy: 0.5146\n",
      "\n",
      "Epoch 00204: val_loss did not improve from 0.69003\n",
      "Epoch 205/300\n",
      "102/102 [==============================] - 0s 3ms/step - loss: 0.6792 - accuracy: 0.5574 - val_loss: 0.6937 - val_accuracy: 0.5132\n",
      "\n",
      "Epoch 00205: val_loss did not improve from 0.69003\n",
      "Epoch 206/300\n",
      "102/102 [==============================] - 0s 3ms/step - loss: 0.6810 - accuracy: 0.5562 - val_loss: 0.6935 - val_accuracy: 0.5180\n",
      "\n",
      "Epoch 00206: val_loss did not improve from 0.69003\n",
      "Epoch 207/300\n",
      "102/102 [==============================] - 0s 3ms/step - loss: 0.6814 - accuracy: 0.5495 - val_loss: 0.6936 - val_accuracy: 0.5144\n",
      "\n",
      "Epoch 00207: val_loss did not improve from 0.69003\n",
      "Epoch 208/300\n",
      "102/102 [==============================] - 0s 2ms/step - loss: 0.6809 - accuracy: 0.5562 - val_loss: 0.6935 - val_accuracy: 0.5167\n",
      "\n",
      "Epoch 00208: val_loss did not improve from 0.69003\n",
      "Epoch 209/300\n",
      "102/102 [==============================] - 0s 2ms/step - loss: 0.6810 - accuracy: 0.5527 - val_loss: 0.6936 - val_accuracy: 0.5123\n"
     ]
    },
    {
     "name": "stdout",
     "output_type": "stream",
     "text": [
      "\n",
      "Epoch 00209: val_loss did not improve from 0.69003\n",
      "Epoch 210/300\n",
      "102/102 [==============================] - 0s 3ms/step - loss: 0.6821 - accuracy: 0.5462 - val_loss: 0.6936 - val_accuracy: 0.5141\n",
      "\n",
      "Epoch 00210: val_loss did not improve from 0.69003\n",
      "Epoch 211/300\n",
      "102/102 [==============================] - 0s 2ms/step - loss: 0.6807 - accuracy: 0.5523 - val_loss: 0.6935 - val_accuracy: 0.5137\n",
      "\n",
      "Epoch 00211: val_loss did not improve from 0.69003\n",
      "Epoch 212/300\n",
      "102/102 [==============================] - 0s 2ms/step - loss: 0.6797 - accuracy: 0.5512 - val_loss: 0.6934 - val_accuracy: 0.5109\n",
      "\n",
      "Epoch 00212: val_loss did not improve from 0.69003\n",
      "Epoch 213/300\n",
      "102/102 [==============================] - 0s 2ms/step - loss: 0.6804 - accuracy: 0.5512 - val_loss: 0.6937 - val_accuracy: 0.5111\n",
      "\n",
      "Epoch 00213: val_loss did not improve from 0.69003\n",
      "Epoch 214/300\n",
      "102/102 [==============================] - 0s 2ms/step - loss: 0.6816 - accuracy: 0.5518 - val_loss: 0.6937 - val_accuracy: 0.5139\n",
      "\n",
      "Epoch 00214: val_loss did not improve from 0.69003\n",
      "Epoch 215/300\n",
      "102/102 [==============================] - 0s 2ms/step - loss: 0.6805 - accuracy: 0.5580 - val_loss: 0.6935 - val_accuracy: 0.5141\n",
      "\n",
      "Epoch 00215: val_loss did not improve from 0.69003\n",
      "Epoch 216/300\n",
      "102/102 [==============================] - 0s 2ms/step - loss: 0.6822 - accuracy: 0.5445 - val_loss: 0.6936 - val_accuracy: 0.5102\n",
      "\n",
      "Epoch 00216: val_loss did not improve from 0.69003\n",
      "Epoch 217/300\n",
      "102/102 [==============================] - 0s 2ms/step - loss: 0.6804 - accuracy: 0.5542 - val_loss: 0.6934 - val_accuracy: 0.5148\n",
      "\n",
      "Epoch 00217: val_loss did not improve from 0.69003\n",
      "Epoch 218/300\n",
      "102/102 [==============================] - 0s 2ms/step - loss: 0.6808 - accuracy: 0.5520 - val_loss: 0.6936 - val_accuracy: 0.5088\n",
      "\n",
      "Epoch 00218: val_loss did not improve from 0.69003\n",
      "Epoch 219/300\n",
      "102/102 [==============================] - 0s 2ms/step - loss: 0.6798 - accuracy: 0.5485 - val_loss: 0.6935 - val_accuracy: 0.5118\n",
      "\n",
      "Epoch 00219: val_loss did not improve from 0.69003\n",
      "Epoch 220/300\n",
      "102/102 [==============================] - 0s 2ms/step - loss: 0.6809 - accuracy: 0.5500 - val_loss: 0.6934 - val_accuracy: 0.5132\n",
      "\n",
      "Epoch 00220: val_loss did not improve from 0.69003\n",
      "Epoch 221/300\n",
      "102/102 [==============================] - 0s 3ms/step - loss: 0.6805 - accuracy: 0.5575 - val_loss: 0.6932 - val_accuracy: 0.5169\n",
      "\n",
      "Epoch 00221: val_loss did not improve from 0.69003\n",
      "Epoch 222/300\n",
      "102/102 [==============================] - 0s 2ms/step - loss: 0.6808 - accuracy: 0.5496 - val_loss: 0.6933 - val_accuracy: 0.5146\n",
      "\n",
      "Epoch 00222: val_loss did not improve from 0.69003\n",
      "Epoch 223/300\n",
      "102/102 [==============================] - 0s 3ms/step - loss: 0.6807 - accuracy: 0.5512 - val_loss: 0.6936 - val_accuracy: 0.5141\n",
      "\n",
      "Epoch 00223: val_loss did not improve from 0.69003\n",
      "Epoch 224/300\n",
      "102/102 [==============================] - 0s 3ms/step - loss: 0.6813 - accuracy: 0.5499 - val_loss: 0.6934 - val_accuracy: 0.5169\n",
      "\n",
      "Epoch 00224: val_loss did not improve from 0.69003\n",
      "Epoch 225/300\n",
      "102/102 [==============================] - 0s 2ms/step - loss: 0.6812 - accuracy: 0.5496 - val_loss: 0.6934 - val_accuracy: 0.5153\n",
      "\n",
      "Epoch 00225: val_loss did not improve from 0.69003\n",
      "Epoch 226/300\n",
      "102/102 [==============================] - 0s 3ms/step - loss: 0.6818 - accuracy: 0.5520 - val_loss: 0.6932 - val_accuracy: 0.5174\n",
      "\n",
      "Epoch 00226: val_loss did not improve from 0.69003\n",
      "Epoch 227/300\n",
      "102/102 [==============================] - 0s 3ms/step - loss: 0.6803 - accuracy: 0.5549 - val_loss: 0.6936 - val_accuracy: 0.5105\n",
      "\n",
      "Epoch 00227: val_loss did not improve from 0.69003\n",
      "Epoch 228/300\n",
      "102/102 [==============================] - 0s 2ms/step - loss: 0.6807 - accuracy: 0.5504 - val_loss: 0.6935 - val_accuracy: 0.5157\n",
      "\n",
      "Epoch 00228: val_loss did not improve from 0.69003\n",
      "Epoch 229/300\n",
      "102/102 [==============================] - 0s 3ms/step - loss: 0.6808 - accuracy: 0.5487 - val_loss: 0.6935 - val_accuracy: 0.5183\n",
      "\n",
      "Epoch 00229: val_loss did not improve from 0.69003\n",
      "Epoch 230/300\n",
      "102/102 [==============================] - 0s 3ms/step - loss: 0.6811 - accuracy: 0.5566 - val_loss: 0.6938 - val_accuracy: 0.5111\n",
      "\n",
      "Epoch 00230: val_loss did not improve from 0.69003\n",
      "Epoch 231/300\n",
      "102/102 [==============================] - 0s 3ms/step - loss: 0.6806 - accuracy: 0.5507 - val_loss: 0.6937 - val_accuracy: 0.5148\n",
      "\n",
      "Epoch 00231: val_loss did not improve from 0.69003\n",
      "Epoch 232/300\n",
      "102/102 [==============================] - 0s 3ms/step - loss: 0.6789 - accuracy: 0.5564 - val_loss: 0.6934 - val_accuracy: 0.5164\n",
      "\n",
      "Epoch 00232: val_loss did not improve from 0.69003\n",
      "Epoch 233/300\n",
      "102/102 [==============================] - 0s 2ms/step - loss: 0.6802 - accuracy: 0.5507 - val_loss: 0.6936 - val_accuracy: 0.5178\n",
      "\n",
      "Epoch 00233: val_loss did not improve from 0.69003\n",
      "Epoch 234/300\n",
      "102/102 [==============================] - 0s 3ms/step - loss: 0.6811 - accuracy: 0.5525 - val_loss: 0.6935 - val_accuracy: 0.5148\n",
      "\n",
      "Epoch 00234: val_loss did not improve from 0.69003\n",
      "Epoch 235/300\n",
      "102/102 [==============================] - 0s 3ms/step - loss: 0.6796 - accuracy: 0.5463 - val_loss: 0.6937 - val_accuracy: 0.5148\n",
      "\n",
      "Epoch 00235: val_loss did not improve from 0.69003\n",
      "Epoch 236/300\n",
      "102/102 [==============================] - 0s 2ms/step - loss: 0.6800 - accuracy: 0.5523 - val_loss: 0.6937 - val_accuracy: 0.5153\n",
      "\n",
      "Epoch 00236: val_loss did not improve from 0.69003\n",
      "Epoch 237/300\n",
      "102/102 [==============================] - 0s 2ms/step - loss: 0.6797 - accuracy: 0.5527 - val_loss: 0.6933 - val_accuracy: 0.5199\n",
      "\n",
      "Epoch 00237: val_loss did not improve from 0.69003\n",
      "Epoch 238/300\n",
      "102/102 [==============================] - 0s 3ms/step - loss: 0.6802 - accuracy: 0.5531 - val_loss: 0.6936 - val_accuracy: 0.5185\n",
      "\n",
      "Epoch 00238: val_loss did not improve from 0.69003\n",
      "Epoch 239/300\n",
      "102/102 [==============================] - 0s 3ms/step - loss: 0.6795 - accuracy: 0.5557 - val_loss: 0.6936 - val_accuracy: 0.5134\n",
      "\n",
      "Epoch 00239: val_loss did not improve from 0.69003\n",
      "Epoch 240/300\n",
      "102/102 [==============================] - 0s 3ms/step - loss: 0.6795 - accuracy: 0.5523 - val_loss: 0.6937 - val_accuracy: 0.5155\n",
      "\n",
      "Epoch 00240: val_loss did not improve from 0.69003\n",
      "Epoch 241/300\n",
      "102/102 [==============================] - 0s 2ms/step - loss: 0.6785 - accuracy: 0.5525 - val_loss: 0.6935 - val_accuracy: 0.5141\n",
      "\n",
      "Epoch 00241: val_loss did not improve from 0.69003\n",
      "Epoch 242/300\n",
      "102/102 [==============================] - 0s 3ms/step - loss: 0.6811 - accuracy: 0.5499 - val_loss: 0.6937 - val_accuracy: 0.5130\n",
      "\n",
      "Epoch 00242: val_loss did not improve from 0.69003\n",
      "Epoch 243/300\n",
      "102/102 [==============================] - 0s 3ms/step - loss: 0.6797 - accuracy: 0.5619 - val_loss: 0.6935 - val_accuracy: 0.5128\n",
      "\n",
      "Epoch 00243: val_loss did not improve from 0.69003\n",
      "Epoch 244/300\n",
      "102/102 [==============================] - 0s 3ms/step - loss: 0.6800 - accuracy: 0.5481 - val_loss: 0.6935 - val_accuracy: 0.5164\n",
      "\n",
      "Epoch 00244: val_loss did not improve from 0.69003\n",
      "Epoch 245/300\n",
      "102/102 [==============================] - 0s 2ms/step - loss: 0.6800 - accuracy: 0.5591 - val_loss: 0.6935 - val_accuracy: 0.5160\n",
      "\n",
      "Epoch 00245: val_loss did not improve from 0.69003\n",
      "Epoch 246/300\n",
      "102/102 [==============================] - 0s 3ms/step - loss: 0.6816 - accuracy: 0.5519 - val_loss: 0.6936 - val_accuracy: 0.5151\n",
      "\n",
      "Epoch 00246: val_loss did not improve from 0.69003\n",
      "Epoch 247/300\n",
      "102/102 [==============================] - 0s 3ms/step - loss: 0.6792 - accuracy: 0.5544 - val_loss: 0.6936 - val_accuracy: 0.5160\n",
      "\n",
      "Epoch 00247: val_loss did not improve from 0.69003\n",
      "Epoch 248/300\n",
      "102/102 [==============================] - 0s 3ms/step - loss: 0.6802 - accuracy: 0.5559 - val_loss: 0.6934 - val_accuracy: 0.5162\n",
      "\n",
      "Epoch 00248: val_loss did not improve from 0.69003\n",
      "Epoch 249/300\n",
      "102/102 [==============================] - 0s 2ms/step - loss: 0.6809 - accuracy: 0.5465 - val_loss: 0.6934 - val_accuracy: 0.5180\n",
      "\n",
      "Epoch 00249: val_loss did not improve from 0.69003\n",
      "Epoch 250/300\n",
      "102/102 [==============================] - 0s 3ms/step - loss: 0.6801 - accuracy: 0.5573 - val_loss: 0.6933 - val_accuracy: 0.5164\n",
      "\n",
      "Epoch 00250: val_loss did not improve from 0.69003\n",
      "Epoch 251/300\n"
     ]
    },
    {
     "name": "stdout",
     "output_type": "stream",
     "text": [
      "102/102 [==============================] - 0s 2ms/step - loss: 0.6807 - accuracy: 0.5534 - val_loss: 0.6933 - val_accuracy: 0.5116\n",
      "\n",
      "Epoch 00251: val_loss did not improve from 0.69003\n",
      "Epoch 252/300\n",
      "102/102 [==============================] - 0s 2ms/step - loss: 0.6807 - accuracy: 0.5514 - val_loss: 0.6931 - val_accuracy: 0.5162\n",
      "\n",
      "Epoch 00252: val_loss did not improve from 0.69003\n",
      "Epoch 253/300\n",
      "102/102 [==============================] - 0s 2ms/step - loss: 0.6811 - accuracy: 0.5445 - val_loss: 0.6932 - val_accuracy: 0.5169\n",
      "\n",
      "Epoch 00253: val_loss did not improve from 0.69003\n",
      "Epoch 254/300\n",
      "102/102 [==============================] - 0s 3ms/step - loss: 0.6808 - accuracy: 0.5495 - val_loss: 0.6933 - val_accuracy: 0.5151\n",
      "\n",
      "Epoch 00254: val_loss did not improve from 0.69003\n",
      "Epoch 255/300\n",
      "102/102 [==============================] - 0s 2ms/step - loss: 0.6784 - accuracy: 0.5604 - val_loss: 0.6936 - val_accuracy: 0.5167\n",
      "\n",
      "Epoch 00255: val_loss did not improve from 0.69003\n",
      "Epoch 256/300\n",
      "102/102 [==============================] - 0s 2ms/step - loss: 0.6802 - accuracy: 0.5569 - val_loss: 0.6936 - val_accuracy: 0.5132\n",
      "\n",
      "Epoch 00256: val_loss did not improve from 0.69003\n",
      "Epoch 257/300\n",
      "102/102 [==============================] - 0s 2ms/step - loss: 0.6803 - accuracy: 0.5512 - val_loss: 0.6932 - val_accuracy: 0.5157\n",
      "\n",
      "Epoch 00257: val_loss did not improve from 0.69003\n",
      "Epoch 258/300\n",
      "102/102 [==============================] - 0s 2ms/step - loss: 0.6800 - accuracy: 0.5535 - val_loss: 0.6933 - val_accuracy: 0.5185\n",
      "\n",
      "Epoch 00258: val_loss did not improve from 0.69003\n",
      "Epoch 259/300\n",
      "102/102 [==============================] - 0s 3ms/step - loss: 0.6792 - accuracy: 0.5532 - val_loss: 0.6932 - val_accuracy: 0.5171\n",
      "\n",
      "Epoch 00259: val_loss did not improve from 0.69003\n",
      "Epoch 260/300\n",
      "102/102 [==============================] - 0s 2ms/step - loss: 0.6814 - accuracy: 0.5427 - val_loss: 0.6933 - val_accuracy: 0.5148\n",
      "\n",
      "Epoch 00260: val_loss did not improve from 0.69003\n",
      "Epoch 261/300\n",
      "102/102 [==============================] - 0s 2ms/step - loss: 0.6806 - accuracy: 0.5490 - val_loss: 0.6932 - val_accuracy: 0.5167\n",
      "\n",
      "Epoch 00261: val_loss did not improve from 0.69003\n",
      "Epoch 262/300\n",
      "102/102 [==============================] - 0s 2ms/step - loss: 0.6798 - accuracy: 0.5537 - val_loss: 0.6932 - val_accuracy: 0.5178\n",
      "\n",
      "Epoch 00262: val_loss did not improve from 0.69003\n",
      "Epoch 263/300\n",
      "102/102 [==============================] - 0s 3ms/step - loss: 0.6789 - accuracy: 0.5531 - val_loss: 0.6933 - val_accuracy: 0.5157\n",
      "\n",
      "Epoch 00263: val_loss did not improve from 0.69003\n",
      "Epoch 264/300\n",
      "102/102 [==============================] - 0s 3ms/step - loss: 0.6801 - accuracy: 0.5531 - val_loss: 0.6933 - val_accuracy: 0.5157\n",
      "\n",
      "Epoch 00264: val_loss did not improve from 0.69003\n",
      "Epoch 265/300\n",
      "102/102 [==============================] - 0s 3ms/step - loss: 0.6797 - accuracy: 0.5517 - val_loss: 0.6932 - val_accuracy: 0.5210\n",
      "\n",
      "Epoch 00265: val_loss did not improve from 0.69003\n",
      "Epoch 266/300\n",
      "102/102 [==============================] - 0s 3ms/step - loss: 0.6778 - accuracy: 0.5576 - val_loss: 0.6932 - val_accuracy: 0.5180\n",
      "\n",
      "Epoch 00266: val_loss did not improve from 0.69003\n",
      "Epoch 267/300\n",
      "102/102 [==============================] - 0s 3ms/step - loss: 0.6802 - accuracy: 0.5512 - val_loss: 0.6930 - val_accuracy: 0.5206\n",
      "\n",
      "Epoch 00267: val_loss did not improve from 0.69003\n",
      "Epoch 268/300\n",
      "102/102 [==============================] - 0s 3ms/step - loss: 0.6804 - accuracy: 0.5491 - val_loss: 0.6933 - val_accuracy: 0.5206\n",
      "\n",
      "Epoch 00268: val_loss did not improve from 0.69003\n",
      "Epoch 269/300\n",
      "102/102 [==============================] - 0s 3ms/step - loss: 0.6796 - accuracy: 0.5535 - val_loss: 0.6930 - val_accuracy: 0.5213\n",
      "\n",
      "Epoch 00269: val_loss did not improve from 0.69003\n",
      "Epoch 270/300\n",
      "102/102 [==============================] - 0s 3ms/step - loss: 0.6815 - accuracy: 0.5559 - val_loss: 0.6932 - val_accuracy: 0.5180\n",
      "\n",
      "Epoch 00270: val_loss did not improve from 0.69003\n",
      "Epoch 271/300\n",
      "102/102 [==============================] - 0s 3ms/step - loss: 0.6808 - accuracy: 0.5506 - val_loss: 0.6932 - val_accuracy: 0.5176\n",
      "\n",
      "Epoch 00271: val_loss did not improve from 0.69003\n",
      "Epoch 272/300\n",
      "102/102 [==============================] - 0s 2ms/step - loss: 0.6791 - accuracy: 0.5551 - val_loss: 0.6932 - val_accuracy: 0.5192\n",
      "\n",
      "Epoch 00272: val_loss did not improve from 0.69003\n",
      "Epoch 273/300\n",
      "102/102 [==============================] - 0s 2ms/step - loss: 0.6808 - accuracy: 0.5557 - val_loss: 0.6931 - val_accuracy: 0.5213\n",
      "\n",
      "Epoch 00273: val_loss did not improve from 0.69003\n",
      "Epoch 274/300\n",
      "102/102 [==============================] - 0s 2ms/step - loss: 0.6800 - accuracy: 0.5509 - val_loss: 0.6935 - val_accuracy: 0.5167\n",
      "\n",
      "Epoch 00274: val_loss did not improve from 0.69003\n",
      "Epoch 275/300\n",
      "102/102 [==============================] - 0s 3ms/step - loss: 0.6799 - accuracy: 0.5534 - val_loss: 0.6937 - val_accuracy: 0.5134\n",
      "\n",
      "Epoch 00275: val_loss did not improve from 0.69003\n",
      "Epoch 276/300\n",
      "102/102 [==============================] - 0s 2ms/step - loss: 0.6819 - accuracy: 0.5503 - val_loss: 0.6933 - val_accuracy: 0.5187\n",
      "\n",
      "Epoch 00276: val_loss did not improve from 0.69003\n",
      "Epoch 277/300\n",
      "102/102 [==============================] - 0s 2ms/step - loss: 0.6799 - accuracy: 0.5551 - val_loss: 0.6933 - val_accuracy: 0.5164\n",
      "\n",
      "Epoch 00277: val_loss did not improve from 0.69003\n",
      "Epoch 278/300\n",
      "102/102 [==============================] - 0s 3ms/step - loss: 0.6812 - accuracy: 0.5503 - val_loss: 0.6933 - val_accuracy: 0.5141\n",
      "\n",
      "Epoch 00278: val_loss did not improve from 0.69003\n",
      "Epoch 279/300\n",
      "102/102 [==============================] - 0s 2ms/step - loss: 0.6790 - accuracy: 0.5570 - val_loss: 0.6932 - val_accuracy: 0.5146\n",
      "\n",
      "Epoch 00279: val_loss did not improve from 0.69003\n",
      "Epoch 280/300\n",
      "102/102 [==============================] - 0s 2ms/step - loss: 0.6800 - accuracy: 0.5493 - val_loss: 0.6932 - val_accuracy: 0.5148\n",
      "\n",
      "Epoch 00280: val_loss did not improve from 0.69003\n",
      "Epoch 281/300\n",
      "102/102 [==============================] - 0s 2ms/step - loss: 0.6802 - accuracy: 0.5551 - val_loss: 0.6932 - val_accuracy: 0.5160\n",
      "\n",
      "Epoch 00281: val_loss did not improve from 0.69003\n",
      "Epoch 282/300\n",
      "102/102 [==============================] - 0s 2ms/step - loss: 0.6803 - accuracy: 0.5476 - val_loss: 0.6933 - val_accuracy: 0.5169\n",
      "\n",
      "Epoch 00282: val_loss did not improve from 0.69003\n",
      "Epoch 283/300\n",
      "102/102 [==============================] - 0s 3ms/step - loss: 0.6791 - accuracy: 0.5578 - val_loss: 0.6936 - val_accuracy: 0.5130\n",
      "\n",
      "Epoch 00283: val_loss did not improve from 0.69003\n",
      "Epoch 284/300\n",
      "102/102 [==============================] - 0s 3ms/step - loss: 0.6810 - accuracy: 0.5531 - val_loss: 0.6934 - val_accuracy: 0.5169\n",
      "\n",
      "Epoch 00284: val_loss did not improve from 0.69003\n",
      "Epoch 285/300\n",
      "102/102 [==============================] - 0s 2ms/step - loss: 0.6800 - accuracy: 0.5527 - val_loss: 0.6932 - val_accuracy: 0.5151\n",
      "\n",
      "Epoch 00285: val_loss did not improve from 0.69003\n",
      "Epoch 286/300\n",
      "102/102 [==============================] - 0s 3ms/step - loss: 0.6801 - accuracy: 0.5565 - val_loss: 0.6932 - val_accuracy: 0.5148\n",
      "\n",
      "Epoch 00286: val_loss did not improve from 0.69003\n",
      "Epoch 287/300\n",
      "102/102 [==============================] - 0s 3ms/step - loss: 0.6803 - accuracy: 0.5533 - val_loss: 0.6935 - val_accuracy: 0.5167\n",
      "\n",
      "Epoch 00287: val_loss did not improve from 0.69003\n",
      "Epoch 288/300\n",
      "102/102 [==============================] - 0s 2ms/step - loss: 0.6790 - accuracy: 0.5531 - val_loss: 0.6934 - val_accuracy: 0.5169\n",
      "\n",
      "Epoch 00288: val_loss did not improve from 0.69003\n",
      "Epoch 289/300\n",
      "102/102 [==============================] - 0s 3ms/step - loss: 0.6811 - accuracy: 0.5557 - val_loss: 0.6929 - val_accuracy: 0.5203\n",
      "\n",
      "Epoch 00289: val_loss did not improve from 0.69003\n",
      "Epoch 290/300\n",
      "102/102 [==============================] - 0s 3ms/step - loss: 0.6795 - accuracy: 0.5579 - val_loss: 0.6932 - val_accuracy: 0.5139\n",
      "\n",
      "Epoch 00290: val_loss did not improve from 0.69003\n",
      "Epoch 291/300\n",
      "102/102 [==============================] - 0s 3ms/step - loss: 0.6796 - accuracy: 0.5522 - val_loss: 0.6930 - val_accuracy: 0.5164\n",
      "\n",
      "Epoch 00291: val_loss did not improve from 0.69003\n",
      "Epoch 292/300\n",
      "102/102 [==============================] - 0s 2ms/step - loss: 0.6804 - accuracy: 0.5535 - val_loss: 0.6931 - val_accuracy: 0.5178\n"
     ]
    },
    {
     "name": "stdout",
     "output_type": "stream",
     "text": [
      "\n",
      "Epoch 00292: val_loss did not improve from 0.69003\n",
      "Epoch 293/300\n",
      "102/102 [==============================] - 0s 3ms/step - loss: 0.6817 - accuracy: 0.5524 - val_loss: 0.6932 - val_accuracy: 0.5180\n",
      "\n",
      "Epoch 00293: val_loss did not improve from 0.69003\n",
      "Epoch 294/300\n",
      "102/102 [==============================] - 0s 3ms/step - loss: 0.6800 - accuracy: 0.5534 - val_loss: 0.6931 - val_accuracy: 0.5178\n",
      "\n",
      "Epoch 00294: val_loss did not improve from 0.69003\n",
      "Epoch 295/300\n",
      "102/102 [==============================] - 0s 3ms/step - loss: 0.6796 - accuracy: 0.5522 - val_loss: 0.6931 - val_accuracy: 0.5164\n",
      "\n",
      "Epoch 00295: val_loss did not improve from 0.69003\n",
      "Epoch 296/300\n",
      "102/102 [==============================] - 0s 3ms/step - loss: 0.6800 - accuracy: 0.5552 - val_loss: 0.6932 - val_accuracy: 0.5174\n",
      "\n",
      "Epoch 00296: val_loss did not improve from 0.69003\n",
      "Epoch 297/300\n",
      "102/102 [==============================] - 0s 3ms/step - loss: 0.6800 - accuracy: 0.5541 - val_loss: 0.6932 - val_accuracy: 0.5146\n",
      "\n",
      "Epoch 00297: val_loss did not improve from 0.69003\n",
      "Epoch 298/300\n",
      "102/102 [==============================] - 0s 2ms/step - loss: 0.6792 - accuracy: 0.5601 - val_loss: 0.6933 - val_accuracy: 0.5167\n",
      "\n",
      "Epoch 00298: val_loss did not improve from 0.69003\n",
      "Epoch 299/300\n",
      "102/102 [==============================] - 0s 3ms/step - loss: 0.6803 - accuracy: 0.5502 - val_loss: 0.6931 - val_accuracy: 0.5162\n",
      "\n",
      "Epoch 00299: val_loss did not improve from 0.69003\n",
      "Epoch 300/300\n",
      "102/102 [==============================] - 0s 3ms/step - loss: 0.6810 - accuracy: 0.5510 - val_loss: 0.6933 - val_accuracy: 0.5167\n",
      "\n",
      "Epoch 00300: val_loss did not improve from 0.69003\n"
     ]
    }
   ],
   "source": [
    "history = model.fit(X_train, Y_train, \n",
    "          epochs = 300, \n",
    "          batch_size = 128, \n",
    "          verbose=1, \n",
    "          validation_data=(X_test, Y_test),\n",
    "          callbacks=[reduce_lr, checkpointer],\n",
    "          )"
   ]
  },
  {
   "cell_type": "markdown",
   "metadata": {},
   "source": [
    "### Results"
   ]
  },
  {
   "cell_type": "code",
   "execution_count": 610,
   "metadata": {},
   "outputs": [
    {
     "data": {
      "image/png": "[encoded data removed]",
      "text/plain": [
       "<Figure size 432x288 with 1 Axes>"
      ]
     },
     "metadata": {},
     "output_type": "display_data"
    }
   ],
   "source": [
    "plt.figure()\n",
    "plt.plot(history.history['loss'])\n",
    "plt.plot(history.history['val_loss'])\n",
    "plt.title('model loss')\n",
    "plt.ylabel('loss')\n",
    "plt.xlabel('epoch')\n",
    "plt.legend(['train', 'test'], loc='best')\n",
    "plt.show()"
   ]
  },
  {
   "cell_type": "code",
   "execution_count": 611,
   "metadata": {},
   "outputs": [
    {
     "data": {
      "image/png": "[encoded data removed]",
      "text/plain": [
       "<Figure size 432x288 with 1 Axes>"
      ]
     },
     "metadata": {},
     "output_type": "display_data"
    }
   ],
   "source": [
    "plt.figure()\n",
    "plt.plot(history.history['accuracy'])\n",
    "plt.plot(history.history['val_accuracy'])\n",
    "plt.title('model accuracy')\n",
    "plt.ylabel('accuracy')\n",
    "plt.xlabel('epoch')\n",
    "plt.legend(['train', 'test'], loc='best')\n",
    "plt.show()"
   ]
  },
  {
   "cell_type": "code",
   "execution_count": 612,
   "metadata": {},
   "outputs": [
    {
     "name": "stdout",
     "output_type": "stream",
     "text": [
      "[ True  True False ...  True  True  True]\n"
     ]
    }
   ],
   "source": [
    "prediction = model.predict(X_test)\n",
    "(prediction).shape\n",
    "y_pred = (prediction > 0.5)\n",
    "y_test = (Y_test > 0.5)\n",
    "print(y_test)"
   ]
  },
  {
   "cell_type": "code",
   "execution_count": 613,
   "metadata": {},
   "outputs": [
    {
     "name": "stdout",
     "output_type": "stream",
     "text": [
      "Confusion matrix:\n",
      "[[1143  912]\n",
      " [1191 1105]]\n"
     ]
    }
   ],
   "source": [
    "confusion = confusion_matrix(y_test, y_pred)\n",
    "print(\"Confusion matrix:\\n{}\".format(confusion))"
   ]
  },
  {
   "cell_type": "code",
   "execution_count": 614,
   "metadata": {},
   "outputs": [
    {
     "data": {
      "text/plain": [
       "<AxesSubplot:>"
      ]
     },
     "execution_count": 614,
     "metadata": {},
     "output_type": "execute_result"
    },
    {
     "data": {
      "image/png": "[encoded data removed]",
      "text/plain": [
       "<Figure size 432x288 with 2 Axes>"
      ]
     },
     "metadata": {},
     "output_type": "display_data"
    }
   ],
   "source": [
    "\n",
    "sn.set(font_scale=1.4) # for label size\n",
    "#sn.heatmap(confusion, annot=True, annot_kws={\"size\": 16}) # font size\n",
    "sns.heatmap(confusion/np.sum(confusion), annot=True, \n",
    "            fmt='.2%', cmap='Blues')"
   ]
  },
  {
   "attachments": {
    "image.png": {
     "image/png": "[encoded data removed]"
    }
   },
   "cell_type": "markdown",
   "metadata": {},
   "source": [
    "![image.png](attachment:image.png)"
   ]
  },
  {
   "cell_type": "markdown",
   "metadata": {},
   "source": [
    "The confusion matrices for the return time series exhibit three different kinds of behaviour similar to the case of the raw time series except that percentages are not as large and small and close to the mid 20%s."
   ]
  },
  {
   "cell_type": "code",
   "execution_count": 615,
   "metadata": {},
   "outputs": [],
   "source": [
    "fpr_keras, tpr_keras, thresholds_keras = roc_curve(y_test, y_pred)\n",
    "auc_keras = auc(fpr_keras, tpr_keras)"
   ]
  },
  {
   "cell_type": "code",
   "execution_count": 616,
   "metadata": {},
   "outputs": [
    {
     "data": {
      "text/plain": [
       "<matplotlib.legend.Legend at 0x282133ff190>"
      ]
     },
     "execution_count": 616,
     "metadata": {},
     "output_type": "execute_result"
    },
    {
     "data": {
      "image/png": "[encoded data removed]",
      "text/plain": [
       "<Figure size 432x288 with 1 Axes>"
      ]
     },
     "metadata": {},
     "output_type": "display_data"
    }
   ],
   "source": [
    "\n",
    "plt.figure(1)\n",
    "plt.plot([0, 1], [0, 1], 'k--')\n",
    "plt.plot(fpr_keras, tpr_keras, label='Keras (area = {:.3f})'.format(auc_keras))\n",
    "#plt.plot(fpr_rf, tpr_rf, label='RF (area = {:.3f})'.format(auc_rf))\n",
    "plt.xlabel('False positive rate')\n",
    "plt.ylabel('True positive rate')\n",
    "plt.title('ROC curve')\n",
    "plt.legend(loc='best')"
   ]
  },
  {
   "cell_type": "code",
   "execution_count": 617,
   "metadata": {},
   "outputs": [
    {
     "name": "stdout",
     "output_type": "stream",
     "text": [
      "                 precision    recall  f1-score   support\n",
      "\n",
      " price increase       0.49      0.56      0.52      2055\n",
      " price decrease       0.55      0.48      0.51      2296\n",
      "\n",
      "       accuracy                           0.52      4351\n",
      "      macro avg       0.52      0.52      0.52      4351\n",
      "   weighted avg       0.52      0.52      0.52      4351\n",
      "\n"
     ]
    }
   ],
   "source": [
    "print(classification_report(y_test, y_pred,\n",
    "target_names=[\" price increase\", \"price decrease\"]))"
   ]
  },
  {
   "cell_type": "markdown",
   "metadata": {},
   "source": [
    "### Discussion"
   ]
  },
  {
   "cell_type": "markdown",
   "metadata": {},
   "source": [
    "The true negative rate with the time series of returns is quite good but the false negative rate is too high. Moreover, the accuracy is hardly better than chance. Therefore this framework cannot be the basis of a trading system. The use of fractionl differencing is one potential way of improving classification performance."
   ]
  },
  {
   "cell_type": "markdown",
   "metadata": {},
   "source": [
    "# Conclusion"
   ]
  },
  {
   "cell_type": "markdown",
   "metadata": {},
   "source": [
    "The neyral network classifier with either the raw Bitcoin time series of the time series of returns does not give a satisfactory performance. It could not, for instance, be the basis of an automated trading system."
   ]
  }
 ],
 "metadata": {
  "kernelspec": {
   "display_name": "Python 3",
   "language": "python",
   "name": "python3"
  },
  "language_info": {
   "codemirror_mode": {
    "name": "ipython",
    "version": 3
   },
   "file_extension": ".py",
   "mimetype": "text/x-python",
   "name": "python",
   "nbconvert_exporter": "python",
   "pygments_lexer": "ipython3",
   "version": "3.8.5"
  }
 },
 "nbformat": 4,
 "nbformat_minor": 2
}
